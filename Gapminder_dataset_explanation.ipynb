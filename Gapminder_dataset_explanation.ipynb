{
  "nbformat": 4,
  "nbformat_minor": 0,
  "metadata": {
    "colab": {
      "name": "Gapminder dataset explanation.ipynb",
      "provenance": [],
      "collapsed_sections": []
    },
    "kernelspec": {
      "name": "python3",
      "display_name": "Python 3"
    },
    "language_info": {
      "name": "python"
    }
  },
  "cells": [
    {
      "cell_type": "markdown",
      "source": [
        "#**Gapminder GDP project**\n",
        "## **Introduction**\n",
        "This Project is about GDP percapita of different countries. It contains data of different countries population & its life-expectancy at birth ,and gdp percapita of years from 1952 to 2007.<br>\n",
        "**Tool Used**: Google colab  <br>\n",
        "**programming language**: Python <br>\n",
        "**Variables in datasets**:<br>  \n",
        "* **population** means population of country.\n",
        "* **continent** means where country located.\n",
        "* **life_exp** means birth life expectancy.\n",
        "* **gdp_cap** means GDP percapita of country.\n",
        "*  **year** means in which year data collected.\n",
        "##**Dataset Explanation**\n",
        "Here we have two datasets named **Gapminder_key_1** and **Gapminder_key_2**. we collected datasets from week1 homework by downloading link.\n",
        "In **Gapminder_key_1** dataset we have columns named *country, year, population,continent*. It has 1704 rows and 4 columns.In **Gapminder_key_2** dataset we have columns named *country,year,life_exp,gdp_cap*.It has 1704 rows and 4 columns. these two datasets are related each other with country,year as common key. so if we merge both datasets we have 1704 rows and 6 columns. gdp_cap is the measure column.<br> **GDP** means Gross Domestic Product which measures National income/National Output and National expenditure.**GDP per capita** means GDP/population.<br>\n",
        "###**Data types of variable** <br>\n",
        "data type of different columns aand justification as follows<br>\n",
        "Identifaction of datatypes done by running code gapminder.info()<br>\n",
        "\n",
        "*   Country = object\n",
        "*   year= int64\n",
        "* populaton = int64\n",
        "* continent = object\n",
        "* life_exp = float64\n",
        "* gdp_cap = float64\n",
        "\n",
        "\n",
        "### Justification\n",
        "* **Country** means unique name, so its data type is **nominal** which is **object**.\n",
        "* **year** means **discrete** number,so its data type  is **int64**.\n",
        "* **population** means fixed **discrete** number so its data type is **int64**.\n",
        "* **continent** means unique name, so its data type is **nominal** , so it is **object**.\n",
        "* **life_exp** can be intermediate number which is **continuous** data type so it is **float64**.\n",
        "* **gdp_cap** can be intermediate numerical which is **continuous** data type, so it is **float64**. \n",
        "### Functions\n",
        "Here they used head(), tail(), Describe() functions. \n",
        "* **Head()**  <br>\n",
        "It is used to view data in dataframe of top 5 rows and all columns.\n",
        "By using head() function here gives Afghanistan data.\n",
        "* **tail()**<br>\n",
        "It is used to view data in dataframe of last 5 rows and all columns.\n",
        "By using tail() function here gives Zimbabve data.\n",
        "* **Describe()**<br>\n",
        "It is used to vies statistal data of dataframe, It means it shows count, maximun value,minimum value,average, standard deviation,mean,median,20%,50%,75% of data.to use describe function, first we have to group data.\n",
        "### Figures\n",
        "Figures means important points to consider in dataset such as lowest,highest etc.,\n",
        "* Here **swaziland** has **lowest life expectancy** in 2007 with **39.613** with population of 1133066.\n",
        "* Here **Norway** has **highest gdp per capita** in 2007 with **49357.19017** with population of 4627926.\n",
        "* Here **United state**s has **highest GDP** in 2007 with **1.293446e+13** with population of 301139947.\n",
        "\n"
      ],
      "metadata": {
        "id": "Y0CjVTra_JnH"
      }
    },
    {
      "cell_type": "markdown",
      "source": [
        ""
      ],
      "metadata": {
        "id": "LUKNdynfLzKX"
      }
    }
  ]
}