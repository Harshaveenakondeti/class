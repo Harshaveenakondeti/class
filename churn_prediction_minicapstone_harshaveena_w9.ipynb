{
 "cells": [
  {
   "cell_type": "markdown",
   "id": "aeb38abc",
   "metadata": {},
   "source": [
    "# Churn Prediction\n",
    "## California telco company in Q3 fiscal year\n",
    "## Introduction\n",
    "A fictional telco company that provided home phone and Internet services to 7043 customers in California in Quarter 3 of the fiscal year.We have 33 attributes. churn is defined as when a client cancels their subscription while using their service.we can do churn prediction by analysing telco company historical data.Here we have data of 7043 custumers for 33 variables. So by analysing these data we will find which customer leave and we can take decision to protect that custumer without leaving.services that each custumer signed up for phone service,miltiple lines,internet,online security,online backup,service etc.,.coustomer account information like how long they been using services,type of contract, payment methods,charges.Demographic information about them such as gender,partner,dependencies,lat-on,longitude.here each row represents a customer and their information.Typically it is less expensive to keep customers than acquire new ones, so the focus of this analysis is to predict the customers who will stay with the company.\n",
    "\n",
    "## Data Description\n",
    "\n",
    "7043 observations with 33 variables\n",
    "\n",
    "* **CustomerID**: A unique ID that identifies each customer.\n",
    "* **Count**: A value used in reporting/dashboarding to sum up the number of customers in a filtered set.\n",
    "* **Country**: The country of the customer’s primary residence.\n",
    "* **State**: The state of the customer’s primary residence.\n",
    "* **City**: The city of the customer’s primary residence.\n",
    "* **Zip Code**: The zip code of the customer’s primary residence.\n",
    "* **Lat Long**: The combined latitude and longitude of the customer’s primary residence.\n",
    "* **Latitude**: The latitude of the customer’s primary residence.\n",
    "* **Longitude**: The longitude of the customer’s primary residence.\n",
    "* **Gender**: The customer’s gender: Male, Female\n",
    "* **Senior Citizen**: Indicates if the customer is 65 or older: Yes, No\n",
    "* **Partner**: Indicate if the customer has a partner: Yes, No\n",
    "* **Dependents**: Indicates if the customer lives with any dependents: Yes, No. Dependents could be children, parents, grandparents, etc.\n",
    "* **Tenure Months**: Indicates the total amount of months that the customer has been with the company by the end of the quarter specified above.\n",
    "* **Phone Service**: Indicates if the customer subscribes to home phone service with the company: Yes, No\n",
    "* **Multiple Lines**: Indicates if the customer subscribes to multiple telephone lines with the company: Yes, No\n",
    "* **Internet Service**: Indicates if the customer subscribes to Internet service with the company: No, DSL, Fiber Optic, Cable.\n",
    "* **Online Security**: Indicates if the customer subscribes to an additional online security service provided by the company: Yes, No\n",
    "* **Online Backup**: Indicates if the customer subscribes to an additional online backup service provided by the company: Yes, No\n",
    "* **Device Protection**: Indicates if the customer subscribes to an additional device protection plan for their Internet equipment provided by the company: Yes, No\n",
    "* **Tech Support**: Indicates if the customer subscribes to an additional technical support plan from the company with reduced wait times: Yes, No\n",
    "* **Streaming TV**: Indicates if the customer uses their Internet service to stream television programming from a third party provider: Yes, No. The company does not charge an additional fee for this service.\n",
    "* **Streaming Movies**: Indicates if the customer uses their Internet service to stream movies from a third party provider: Yes, No. The company does not charge an additional fee for this service.\n",
    "* **Contract**: Indicates the customer’s current contract type: Month-to-Month, One Year, Two Year.\n",
    "* **Paperless Billing**: Indicates if the customer has chosen paperless billing: Yes, No\n",
    "* **Payment Method**: Indicates how the customer pays their bill: Bank Withdrawal, Credit Card, Mailed Check\n",
    "* **Monthly Charge**: Indicates the customer’s current total monthly charge for all their services from the company.\n",
    "* **Total Charges**: Indicates the customer’s total charges, calculated to the end of the quarter specified above.\n",
    "* **Churn Label**: Yes = the customer left the company this quarter. No = the customer remained with the company. Directly related to Churn Value.\n",
    "* **Churn Value**: 1 = the customer left the company this quarter. 0 = the customer remained with the company. Directly related to Churn Label.\n",
    "* **Churn Score**: A value from 0-100 that is calculated using the predictive tool IBM SPSS Modeler. The model incorporates multiple factors known to cause churn. The higher the score, the more likely the customer will churn.\n",
    "* **CLTV**: Customer Lifetime Value. A predicted CLTV is calculated using corporate formulas and existing data. The higher the value, the more valuable the customer. High value customers should be monitored for churn.\n",
    "* **Churn Reason**: A customer’s specific reason for leaving the company. Directly related to Churn Category.\n",
    "\n",
    "## Objective\n",
    " Afer completing this mini capstone project. we will be able to answer the following questions by analysing our data..\n",
    "\n",
    "## Attributes Analysis\n",
    "\n",
    "\n",
    "* Q1: Please read the file and explain data types statistically as well as how python is reading it. Please let us know if any data type is read wrong.\n",
    "\n",
    "* Q2: Please apply appropriate statistical measures using python based on data types.\n",
    "\n",
    "* Q3: What is the percentage of females and senior citizens in this data set? Please create appropriate plots and explain the plots.\n",
    "\n",
    "* Q4:  Please create an appropriate plot to examine the distribution of the tenure month column and explain the distribution. Based on distribution, perform appropriate statistical measures. Please also explain if the variable is symmetric or skewed. Please calculate it. Explain everything as asked.\n",
    "\n",
    "* Q5: Please convert all binary columns into 0 and 1 using appropriate programming constructs, not one by one.\n",
    "\n",
    "* Q6: Please examine the distribution of monthly charges between males and females using box plots. Please explain the results also. \n",
    "\n",
    "* Q7: Please find what is the minimum total charges for Los Angeles city. Please find which zip code has the maximum total charges.\n",
    "\n",
    "* Q8: Please find which payment method has the highest churn score and which has the lowest churn score.\n",
    "\n",
    "* Q9: Please create an appropriate plot to check the count of payment methods and explain it.\n",
    "\n",
    "* Q10: Please create an appropriate plot to see the relationship between monthly charges and total charges.\n",
    " "
   ]
  },
  {
   "cell_type": "markdown",
   "id": "8210449b",
   "metadata": {},
   "source": [
    "## Data Collection:\n",
    "Data was downloaded from odin school LMS portal and saved in local computer."
   ]
  },
  {
   "cell_type": "markdown",
   "id": "28b06883",
   "metadata": {},
   "source": [
    "### Q1: Please read the file and explain data types statistically as well as how python is reading it. Please let us know if any data type is read wrong?\n"
   ]
  },
  {
   "cell_type": "code",
   "execution_count": 1,
   "id": "01743579",
   "metadata": {},
   "outputs": [],
   "source": [
    "# importing necessary libraries\n",
    "import numpy as np  # mathematical calculations\n",
    "import pandas as pd  # reading dataframes\n",
    "import seaborn as sns  # visualization libraries\n",
    "import matplotlib.pyplot as plt"
   ]
  },
  {
   "cell_type": "code",
   "execution_count": 2,
   "id": "6f8b7626",
   "metadata": {},
   "outputs": [],
   "source": [
    "# reading xlsx file into pandas dataframe & store in churn daaframe\n",
    "churn=pd.read_excel('C:/Users/Hp/Documents/datasets/churnprediction/Telco_customer_churn.xlsx')\n",
    "pd.set_option('max_columns',None) # to display max columns"
   ]
  },
  {
   "cell_type": "code",
   "execution_count": 3,
   "id": "062f22ec",
   "metadata": {},
   "outputs": [
    {
     "data": {
      "text/html": [
       "<div>\n",
       "<style scoped>\n",
       "    .dataframe tbody tr th:only-of-type {\n",
       "        vertical-align: middle;\n",
       "    }\n",
       "\n",
       "    .dataframe tbody tr th {\n",
       "        vertical-align: top;\n",
       "    }\n",
       "\n",
       "    .dataframe thead th {\n",
       "        text-align: right;\n",
       "    }\n",
       "</style>\n",
       "<table border=\"1\" class=\"dataframe\">\n",
       "  <thead>\n",
       "    <tr style=\"text-align: right;\">\n",
       "      <th></th>\n",
       "      <th>CustomerID</th>\n",
       "      <th>Count</th>\n",
       "      <th>Country</th>\n",
       "      <th>State</th>\n",
       "      <th>City</th>\n",
       "      <th>Zip Code</th>\n",
       "      <th>Lat Long</th>\n",
       "      <th>Latitude</th>\n",
       "      <th>Longitude</th>\n",
       "      <th>Gender</th>\n",
       "      <th>Senior Citizen</th>\n",
       "      <th>Partner</th>\n",
       "      <th>Dependents</th>\n",
       "      <th>Tenure Months</th>\n",
       "      <th>Phone Service</th>\n",
       "      <th>Multiple Lines</th>\n",
       "      <th>Internet Service</th>\n",
       "      <th>Online Security</th>\n",
       "      <th>Online Backup</th>\n",
       "      <th>Device Protection</th>\n",
       "      <th>Tech Support</th>\n",
       "      <th>Streaming TV</th>\n",
       "      <th>Streaming Movies</th>\n",
       "      <th>Contract</th>\n",
       "      <th>Paperless Billing</th>\n",
       "      <th>Payment Method</th>\n",
       "      <th>Monthly Charges</th>\n",
       "      <th>Total Charges</th>\n",
       "      <th>Churn Label</th>\n",
       "      <th>Churn Value</th>\n",
       "      <th>Churn Score</th>\n",
       "      <th>CLTV</th>\n",
       "      <th>Churn Reason</th>\n",
       "    </tr>\n",
       "  </thead>\n",
       "  <tbody>\n",
       "    <tr>\n",
       "      <th>0</th>\n",
       "      <td>3668-QPYBK</td>\n",
       "      <td>1.0</td>\n",
       "      <td>United States</td>\n",
       "      <td>California</td>\n",
       "      <td>Los Angeles</td>\n",
       "      <td>90003.0</td>\n",
       "      <td>33.964131, -118.272783</td>\n",
       "      <td>33.964131</td>\n",
       "      <td>-118.272783</td>\n",
       "      <td>Male</td>\n",
       "      <td>No</td>\n",
       "      <td>No</td>\n",
       "      <td>No</td>\n",
       "      <td>2.0</td>\n",
       "      <td>Yes</td>\n",
       "      <td>No</td>\n",
       "      <td>DSL</td>\n",
       "      <td>Yes</td>\n",
       "      <td>Yes</td>\n",
       "      <td>No</td>\n",
       "      <td>No</td>\n",
       "      <td>No</td>\n",
       "      <td>No</td>\n",
       "      <td>Month-to-month</td>\n",
       "      <td>Yes</td>\n",
       "      <td>Mailed check</td>\n",
       "      <td>53.85</td>\n",
       "      <td>108.15</td>\n",
       "      <td>Yes</td>\n",
       "      <td>1.0</td>\n",
       "      <td>86.0</td>\n",
       "      <td>3239.0</td>\n",
       "      <td>Competitor made better offer</td>\n",
       "    </tr>\n",
       "    <tr>\n",
       "      <th>1</th>\n",
       "      <td>9237-HQITU</td>\n",
       "      <td>1.0</td>\n",
       "      <td>United States</td>\n",
       "      <td>California</td>\n",
       "      <td>Los Angeles</td>\n",
       "      <td>90005.0</td>\n",
       "      <td>34.059281, -118.30742</td>\n",
       "      <td>34.059281</td>\n",
       "      <td>-118.307420</td>\n",
       "      <td>Female</td>\n",
       "      <td>No</td>\n",
       "      <td>No</td>\n",
       "      <td>Yes</td>\n",
       "      <td>2.0</td>\n",
       "      <td>Yes</td>\n",
       "      <td>No</td>\n",
       "      <td>Fiber optic</td>\n",
       "      <td>No</td>\n",
       "      <td>No</td>\n",
       "      <td>No</td>\n",
       "      <td>No</td>\n",
       "      <td>No</td>\n",
       "      <td>No</td>\n",
       "      <td>Month-to-month</td>\n",
       "      <td>Yes</td>\n",
       "      <td>Electronic check</td>\n",
       "      <td>70.70</td>\n",
       "      <td>151.65</td>\n",
       "      <td>Yes</td>\n",
       "      <td>1.0</td>\n",
       "      <td>67.0</td>\n",
       "      <td>2701.0</td>\n",
       "      <td>Moved</td>\n",
       "    </tr>\n",
       "    <tr>\n",
       "      <th>2</th>\n",
       "      <td>9305-CDSKC</td>\n",
       "      <td>1.0</td>\n",
       "      <td>United States</td>\n",
       "      <td>California</td>\n",
       "      <td>Los Angeles</td>\n",
       "      <td>90006.0</td>\n",
       "      <td>34.048013, -118.293953</td>\n",
       "      <td>34.048013</td>\n",
       "      <td>-118.293953</td>\n",
       "      <td>Female</td>\n",
       "      <td>No</td>\n",
       "      <td>No</td>\n",
       "      <td>Yes</td>\n",
       "      <td>8.0</td>\n",
       "      <td>Yes</td>\n",
       "      <td>Yes</td>\n",
       "      <td>Fiber optic</td>\n",
       "      <td>No</td>\n",
       "      <td>No</td>\n",
       "      <td>Yes</td>\n",
       "      <td>No</td>\n",
       "      <td>Yes</td>\n",
       "      <td>Yes</td>\n",
       "      <td>Month-to-month</td>\n",
       "      <td>Yes</td>\n",
       "      <td>Electronic check</td>\n",
       "      <td>99.65</td>\n",
       "      <td>820.5</td>\n",
       "      <td>Yes</td>\n",
       "      <td>1.0</td>\n",
       "      <td>86.0</td>\n",
       "      <td>5372.0</td>\n",
       "      <td>Moved</td>\n",
       "    </tr>\n",
       "    <tr>\n",
       "      <th>3</th>\n",
       "      <td>7892-POOKP</td>\n",
       "      <td>1.0</td>\n",
       "      <td>United States</td>\n",
       "      <td>California</td>\n",
       "      <td>Los Angeles</td>\n",
       "      <td>90010.0</td>\n",
       "      <td>34.062125, -118.315709</td>\n",
       "      <td>34.062125</td>\n",
       "      <td>-118.315709</td>\n",
       "      <td>Female</td>\n",
       "      <td>No</td>\n",
       "      <td>Yes</td>\n",
       "      <td>Yes</td>\n",
       "      <td>28.0</td>\n",
       "      <td>Yes</td>\n",
       "      <td>Yes</td>\n",
       "      <td>Fiber optic</td>\n",
       "      <td>No</td>\n",
       "      <td>No</td>\n",
       "      <td>Yes</td>\n",
       "      <td>Yes</td>\n",
       "      <td>Yes</td>\n",
       "      <td>Yes</td>\n",
       "      <td>Month-to-month</td>\n",
       "      <td>Yes</td>\n",
       "      <td>Electronic check</td>\n",
       "      <td>104.80</td>\n",
       "      <td>3046.05</td>\n",
       "      <td>Yes</td>\n",
       "      <td>1.0</td>\n",
       "      <td>84.0</td>\n",
       "      <td>5003.0</td>\n",
       "      <td>Moved</td>\n",
       "    </tr>\n",
       "    <tr>\n",
       "      <th>4</th>\n",
       "      <td>0280-XJGEX</td>\n",
       "      <td>1.0</td>\n",
       "      <td>United States</td>\n",
       "      <td>California</td>\n",
       "      <td>Los Angeles</td>\n",
       "      <td>90015.0</td>\n",
       "      <td>34.039224, -118.266293</td>\n",
       "      <td>34.039224</td>\n",
       "      <td>-118.266293</td>\n",
       "      <td>Male</td>\n",
       "      <td>No</td>\n",
       "      <td>No</td>\n",
       "      <td>Yes</td>\n",
       "      <td>49.0</td>\n",
       "      <td>Yes</td>\n",
       "      <td>Yes</td>\n",
       "      <td>Fiber optic</td>\n",
       "      <td>No</td>\n",
       "      <td>Yes</td>\n",
       "      <td>Yes</td>\n",
       "      <td>No</td>\n",
       "      <td>Yes</td>\n",
       "      <td>Yes</td>\n",
       "      <td>Month-to-month</td>\n",
       "      <td>Yes</td>\n",
       "      <td>Bank transfer (automatic)</td>\n",
       "      <td>103.70</td>\n",
       "      <td>5036.3</td>\n",
       "      <td>Yes</td>\n",
       "      <td>1.0</td>\n",
       "      <td>89.0</td>\n",
       "      <td>5340.0</td>\n",
       "      <td>Competitor had better devices</td>\n",
       "    </tr>\n",
       "  </tbody>\n",
       "</table>\n",
       "</div>"
      ],
      "text/plain": [
       "   CustomerID  Count        Country       State         City  Zip Code  \\\n",
       "0  3668-QPYBK    1.0  United States  California  Los Angeles   90003.0   \n",
       "1  9237-HQITU    1.0  United States  California  Los Angeles   90005.0   \n",
       "2  9305-CDSKC    1.0  United States  California  Los Angeles   90006.0   \n",
       "3  7892-POOKP    1.0  United States  California  Los Angeles   90010.0   \n",
       "4  0280-XJGEX    1.0  United States  California  Los Angeles   90015.0   \n",
       "\n",
       "                 Lat Long   Latitude   Longitude  Gender Senior Citizen  \\\n",
       "0  33.964131, -118.272783  33.964131 -118.272783    Male             No   \n",
       "1   34.059281, -118.30742  34.059281 -118.307420  Female             No   \n",
       "2  34.048013, -118.293953  34.048013 -118.293953  Female             No   \n",
       "3  34.062125, -118.315709  34.062125 -118.315709  Female             No   \n",
       "4  34.039224, -118.266293  34.039224 -118.266293    Male             No   \n",
       "\n",
       "  Partner Dependents  Tenure Months Phone Service Multiple Lines  \\\n",
       "0      No         No            2.0           Yes             No   \n",
       "1      No        Yes            2.0           Yes             No   \n",
       "2      No        Yes            8.0           Yes            Yes   \n",
       "3     Yes        Yes           28.0           Yes            Yes   \n",
       "4      No        Yes           49.0           Yes            Yes   \n",
       "\n",
       "  Internet Service Online Security Online Backup Device Protection  \\\n",
       "0              DSL             Yes           Yes                No   \n",
       "1      Fiber optic              No            No                No   \n",
       "2      Fiber optic              No            No               Yes   \n",
       "3      Fiber optic              No            No               Yes   \n",
       "4      Fiber optic              No           Yes               Yes   \n",
       "\n",
       "  Tech Support Streaming TV Streaming Movies        Contract  \\\n",
       "0           No           No               No  Month-to-month   \n",
       "1           No           No               No  Month-to-month   \n",
       "2           No          Yes              Yes  Month-to-month   \n",
       "3          Yes          Yes              Yes  Month-to-month   \n",
       "4           No          Yes              Yes  Month-to-month   \n",
       "\n",
       "  Paperless Billing             Payment Method  Monthly Charges Total Charges  \\\n",
       "0               Yes               Mailed check            53.85        108.15   \n",
       "1               Yes           Electronic check            70.70        151.65   \n",
       "2               Yes           Electronic check            99.65         820.5   \n",
       "3               Yes           Electronic check           104.80       3046.05   \n",
       "4               Yes  Bank transfer (automatic)           103.70        5036.3   \n",
       "\n",
       "  Churn Label  Churn Value  Churn Score    CLTV                   Churn Reason  \n",
       "0         Yes          1.0         86.0  3239.0   Competitor made better offer  \n",
       "1         Yes          1.0         67.0  2701.0                          Moved  \n",
       "2         Yes          1.0         86.0  5372.0                          Moved  \n",
       "3         Yes          1.0         84.0  5003.0                          Moved  \n",
       "4         Yes          1.0         89.0  5340.0  Competitor had better devices  "
      ]
     },
     "execution_count": 3,
     "metadata": {},
     "output_type": "execute_result"
    }
   ],
   "source": [
    "# display 1st 5 rows using head function\n",
    "churn.head()"
   ]
  },
  {
   "cell_type": "code",
   "execution_count": 4,
   "id": "ecd7642f",
   "metadata": {},
   "outputs": [
    {
     "data": {
      "text/html": [
       "<div>\n",
       "<style scoped>\n",
       "    .dataframe tbody tr th:only-of-type {\n",
       "        vertical-align: middle;\n",
       "    }\n",
       "\n",
       "    .dataframe tbody tr th {\n",
       "        vertical-align: top;\n",
       "    }\n",
       "\n",
       "    .dataframe thead th {\n",
       "        text-align: right;\n",
       "    }\n",
       "</style>\n",
       "<table border=\"1\" class=\"dataframe\">\n",
       "  <thead>\n",
       "    <tr style=\"text-align: right;\">\n",
       "      <th></th>\n",
       "      <th>CustomerID</th>\n",
       "      <th>Count</th>\n",
       "      <th>Country</th>\n",
       "      <th>State</th>\n",
       "      <th>City</th>\n",
       "      <th>Zip Code</th>\n",
       "      <th>Lat Long</th>\n",
       "      <th>Latitude</th>\n",
       "      <th>Longitude</th>\n",
       "      <th>Gender</th>\n",
       "      <th>Senior Citizen</th>\n",
       "      <th>Partner</th>\n",
       "      <th>Dependents</th>\n",
       "      <th>Tenure Months</th>\n",
       "      <th>Phone Service</th>\n",
       "      <th>Multiple Lines</th>\n",
       "      <th>Internet Service</th>\n",
       "      <th>Online Security</th>\n",
       "      <th>Online Backup</th>\n",
       "      <th>Device Protection</th>\n",
       "      <th>Tech Support</th>\n",
       "      <th>Streaming TV</th>\n",
       "      <th>Streaming Movies</th>\n",
       "      <th>Contract</th>\n",
       "      <th>Paperless Billing</th>\n",
       "      <th>Payment Method</th>\n",
       "      <th>Monthly Charges</th>\n",
       "      <th>Total Charges</th>\n",
       "      <th>Churn Label</th>\n",
       "      <th>Churn Value</th>\n",
       "      <th>Churn Score</th>\n",
       "      <th>CLTV</th>\n",
       "      <th>Churn Reason</th>\n",
       "    </tr>\n",
       "  </thead>\n",
       "  <tbody>\n",
       "    <tr>\n",
       "      <th>7038</th>\n",
       "      <td>2569-WGERO</td>\n",
       "      <td>1.0</td>\n",
       "      <td>United States</td>\n",
       "      <td>California</td>\n",
       "      <td>Landers</td>\n",
       "      <td>92285.0</td>\n",
       "      <td>34.341737, -116.539416</td>\n",
       "      <td>34.341737</td>\n",
       "      <td>-116.539416</td>\n",
       "      <td>Female</td>\n",
       "      <td>No</td>\n",
       "      <td>No</td>\n",
       "      <td>No</td>\n",
       "      <td>72.0</td>\n",
       "      <td>Yes</td>\n",
       "      <td>No</td>\n",
       "      <td>No</td>\n",
       "      <td>No internet service</td>\n",
       "      <td>No internet service</td>\n",
       "      <td>No internet service</td>\n",
       "      <td>No internet service</td>\n",
       "      <td>No internet service</td>\n",
       "      <td>No internet service</td>\n",
       "      <td>Two year</td>\n",
       "      <td>Yes</td>\n",
       "      <td>Bank transfer (automatic)</td>\n",
       "      <td>21.15</td>\n",
       "      <td>1419.4</td>\n",
       "      <td>No</td>\n",
       "      <td>0.0</td>\n",
       "      <td>45.0</td>\n",
       "      <td>5306.0</td>\n",
       "      <td>NaN</td>\n",
       "    </tr>\n",
       "    <tr>\n",
       "      <th>7039</th>\n",
       "      <td>6840-RESVB</td>\n",
       "      <td>1.0</td>\n",
       "      <td>United States</td>\n",
       "      <td>California</td>\n",
       "      <td>Adelanto</td>\n",
       "      <td>92301.0</td>\n",
       "      <td>34.667815, -117.536183</td>\n",
       "      <td>34.667815</td>\n",
       "      <td>-117.536183</td>\n",
       "      <td>Male</td>\n",
       "      <td>No</td>\n",
       "      <td>Yes</td>\n",
       "      <td>Yes</td>\n",
       "      <td>24.0</td>\n",
       "      <td>Yes</td>\n",
       "      <td>Yes</td>\n",
       "      <td>DSL</td>\n",
       "      <td>Yes</td>\n",
       "      <td>No</td>\n",
       "      <td>Yes</td>\n",
       "      <td>Yes</td>\n",
       "      <td>Yes</td>\n",
       "      <td>Yes</td>\n",
       "      <td>One year</td>\n",
       "      <td>Yes</td>\n",
       "      <td>Mailed check</td>\n",
       "      <td>84.80</td>\n",
       "      <td>1990.5</td>\n",
       "      <td>No</td>\n",
       "      <td>0.0</td>\n",
       "      <td>59.0</td>\n",
       "      <td>2140.0</td>\n",
       "      <td>NaN</td>\n",
       "    </tr>\n",
       "    <tr>\n",
       "      <th>7040</th>\n",
       "      <td>2234-XADUH</td>\n",
       "      <td>1.0</td>\n",
       "      <td>United States</td>\n",
       "      <td>California</td>\n",
       "      <td>Amboy</td>\n",
       "      <td>92304.0</td>\n",
       "      <td>34.559882, -115.637164</td>\n",
       "      <td>34.559882</td>\n",
       "      <td>-115.637164</td>\n",
       "      <td>Female</td>\n",
       "      <td>No</td>\n",
       "      <td>Yes</td>\n",
       "      <td>Yes</td>\n",
       "      <td>72.0</td>\n",
       "      <td>Yes</td>\n",
       "      <td>Yes</td>\n",
       "      <td>Fiber optic</td>\n",
       "      <td>No</td>\n",
       "      <td>Yes</td>\n",
       "      <td>Yes</td>\n",
       "      <td>No</td>\n",
       "      <td>Yes</td>\n",
       "      <td>Yes</td>\n",
       "      <td>One year</td>\n",
       "      <td>Yes</td>\n",
       "      <td>Credit card (automatic)</td>\n",
       "      <td>103.20</td>\n",
       "      <td>7362.9</td>\n",
       "      <td>No</td>\n",
       "      <td>0.0</td>\n",
       "      <td>71.0</td>\n",
       "      <td>5560.0</td>\n",
       "      <td>NaN</td>\n",
       "    </tr>\n",
       "    <tr>\n",
       "      <th>7041</th>\n",
       "      <td>4801-JZAZL</td>\n",
       "      <td>1.0</td>\n",
       "      <td>United States</td>\n",
       "      <td>California</td>\n",
       "      <td>Angelus Oaks</td>\n",
       "      <td>92305.0</td>\n",
       "      <td>34.1678, -116.86433</td>\n",
       "      <td>34.167800</td>\n",
       "      <td>-116.864330</td>\n",
       "      <td>Female</td>\n",
       "      <td>No</td>\n",
       "      <td>Yes</td>\n",
       "      <td>Yes</td>\n",
       "      <td>11.0</td>\n",
       "      <td>No</td>\n",
       "      <td>No phone service</td>\n",
       "      <td>DSL</td>\n",
       "      <td>Yes</td>\n",
       "      <td>No</td>\n",
       "      <td>No</td>\n",
       "      <td>No</td>\n",
       "      <td>No</td>\n",
       "      <td>No</td>\n",
       "      <td>Month-to-month</td>\n",
       "      <td>Yes</td>\n",
       "      <td>Electronic check</td>\n",
       "      <td>29.60</td>\n",
       "      <td>346.45</td>\n",
       "      <td>No</td>\n",
       "      <td>0.0</td>\n",
       "      <td>59.0</td>\n",
       "      <td>2793.0</td>\n",
       "      <td>NaN</td>\n",
       "    </tr>\n",
       "    <tr>\n",
       "      <th>7042</th>\n",
       "      <td>3186-AJIEK</td>\n",
       "      <td>1.0</td>\n",
       "      <td>United States</td>\n",
       "      <td>California</td>\n",
       "      <td>Apple Valley</td>\n",
       "      <td>92308.0</td>\n",
       "      <td>34.424926, -117.184503</td>\n",
       "      <td>34.424926</td>\n",
       "      <td>-117.184503</td>\n",
       "      <td>Male</td>\n",
       "      <td>No</td>\n",
       "      <td>No</td>\n",
       "      <td>No</td>\n",
       "      <td>66.0</td>\n",
       "      <td>Yes</td>\n",
       "      <td>No</td>\n",
       "      <td>Fiber optic</td>\n",
       "      <td>Yes</td>\n",
       "      <td>No</td>\n",
       "      <td>Yes</td>\n",
       "      <td>Yes</td>\n",
       "      <td>Yes</td>\n",
       "      <td>Yes</td>\n",
       "      <td>Two year</td>\n",
       "      <td>Yes</td>\n",
       "      <td>Bank transfer (automatic)</td>\n",
       "      <td>105.65</td>\n",
       "      <td>6844.5</td>\n",
       "      <td>No</td>\n",
       "      <td>0.0</td>\n",
       "      <td>38.0</td>\n",
       "      <td>5097.0</td>\n",
       "      <td>NaN</td>\n",
       "    </tr>\n",
       "  </tbody>\n",
       "</table>\n",
       "</div>"
      ],
      "text/plain": [
       "      CustomerID  Count        Country       State          City  Zip Code  \\\n",
       "7038  2569-WGERO    1.0  United States  California       Landers   92285.0   \n",
       "7039  6840-RESVB    1.0  United States  California      Adelanto   92301.0   \n",
       "7040  2234-XADUH    1.0  United States  California         Amboy   92304.0   \n",
       "7041  4801-JZAZL    1.0  United States  California  Angelus Oaks   92305.0   \n",
       "7042  3186-AJIEK    1.0  United States  California  Apple Valley   92308.0   \n",
       "\n",
       "                    Lat Long   Latitude   Longitude  Gender Senior Citizen  \\\n",
       "7038  34.341737, -116.539416  34.341737 -116.539416  Female             No   \n",
       "7039  34.667815, -117.536183  34.667815 -117.536183    Male             No   \n",
       "7040  34.559882, -115.637164  34.559882 -115.637164  Female             No   \n",
       "7041     34.1678, -116.86433  34.167800 -116.864330  Female             No   \n",
       "7042  34.424926, -117.184503  34.424926 -117.184503    Male             No   \n",
       "\n",
       "     Partner Dependents  Tenure Months Phone Service    Multiple Lines  \\\n",
       "7038      No         No           72.0           Yes                No   \n",
       "7039     Yes        Yes           24.0           Yes               Yes   \n",
       "7040     Yes        Yes           72.0           Yes               Yes   \n",
       "7041     Yes        Yes           11.0            No  No phone service   \n",
       "7042      No         No           66.0           Yes                No   \n",
       "\n",
       "     Internet Service      Online Security        Online Backup  \\\n",
       "7038               No  No internet service  No internet service   \n",
       "7039              DSL                  Yes                   No   \n",
       "7040      Fiber optic                   No                  Yes   \n",
       "7041              DSL                  Yes                   No   \n",
       "7042      Fiber optic                  Yes                   No   \n",
       "\n",
       "        Device Protection         Tech Support         Streaming TV  \\\n",
       "7038  No internet service  No internet service  No internet service   \n",
       "7039                  Yes                  Yes                  Yes   \n",
       "7040                  Yes                   No                  Yes   \n",
       "7041                   No                   No                   No   \n",
       "7042                  Yes                  Yes                  Yes   \n",
       "\n",
       "         Streaming Movies        Contract Paperless Billing  \\\n",
       "7038  No internet service        Two year               Yes   \n",
       "7039                  Yes        One year               Yes   \n",
       "7040                  Yes        One year               Yes   \n",
       "7041                   No  Month-to-month               Yes   \n",
       "7042                  Yes        Two year               Yes   \n",
       "\n",
       "                 Payment Method  Monthly Charges Total Charges Churn Label  \\\n",
       "7038  Bank transfer (automatic)            21.15        1419.4          No   \n",
       "7039               Mailed check            84.80        1990.5          No   \n",
       "7040    Credit card (automatic)           103.20        7362.9          No   \n",
       "7041           Electronic check            29.60        346.45          No   \n",
       "7042  Bank transfer (automatic)           105.65        6844.5          No   \n",
       "\n",
       "      Churn Value  Churn Score    CLTV Churn Reason  \n",
       "7038          0.0         45.0  5306.0          NaN  \n",
       "7039          0.0         59.0  2140.0          NaN  \n",
       "7040          0.0         71.0  5560.0          NaN  \n",
       "7041          0.0         59.0  2793.0          NaN  \n",
       "7042          0.0         38.0  5097.0          NaN  "
      ]
     },
     "execution_count": 4,
     "metadata": {},
     "output_type": "execute_result"
    }
   ],
   "source": [
    "# diplay last 5 rows using tail function\n",
    "churn.tail()"
   ]
  },
  {
   "cell_type": "code",
   "execution_count": 5,
   "id": "990dda18",
   "metadata": {},
   "outputs": [
    {
     "data": {
      "text/plain": [
       "(7043, 33)"
      ]
     },
     "execution_count": 5,
     "metadata": {},
     "output_type": "execute_result"
    }
   ],
   "source": [
    "# calculating number of rows and columns\n",
    "churn.shape"
   ]
  },
  {
   "cell_type": "markdown",
   "id": "fe90c1b1",
   "metadata": {},
   "source": [
    "Here, we have 7043 rows and 33 columns."
   ]
  },
  {
   "cell_type": "code",
   "execution_count": 6,
   "id": "69070271",
   "metadata": {},
   "outputs": [
    {
     "data": {
      "text/plain": [
       "Index(['CustomerID', 'Count', 'Country', 'State', 'City', 'Zip Code',\n",
       "       'Lat Long', 'Latitude', 'Longitude', 'Gender', 'Senior Citizen',\n",
       "       'Partner', 'Dependents', 'Tenure Months', 'Phone Service',\n",
       "       'Multiple Lines', 'Internet Service', 'Online Security',\n",
       "       'Online Backup', 'Device Protection', 'Tech Support', 'Streaming TV',\n",
       "       'Streaming Movies', 'Contract', 'Paperless Billing', 'Payment Method',\n",
       "       'Monthly Charges', 'Total Charges', 'Churn Label', 'Churn Value',\n",
       "       'Churn Score', 'CLTV', 'Churn Reason'],\n",
       "      dtype='object')"
      ]
     },
     "execution_count": 6,
     "metadata": {},
     "output_type": "execute_result"
    }
   ],
   "source": [
    "# all column names\n",
    "churn.columns"
   ]
  },
  {
   "cell_type": "code",
   "execution_count": 7,
   "id": "21758f75",
   "metadata": {},
   "outputs": [
    {
     "name": "stdout",
     "output_type": "stream",
     "text": [
      "<class 'pandas.core.frame.DataFrame'>\n",
      "RangeIndex: 7043 entries, 0 to 7042\n",
      "Data columns (total 33 columns):\n",
      " #   Column             Non-Null Count  Dtype  \n",
      "---  ------             --------------  -----  \n",
      " 0   CustomerID         7043 non-null   object \n",
      " 1   Count              7043 non-null   float64\n",
      " 2   Country            7043 non-null   object \n",
      " 3   State              7043 non-null   object \n",
      " 4   City               7043 non-null   object \n",
      " 5   Zip Code           7043 non-null   float64\n",
      " 6   Lat Long           7043 non-null   object \n",
      " 7   Latitude           7043 non-null   float64\n",
      " 8   Longitude          7043 non-null   float64\n",
      " 9   Gender             7043 non-null   object \n",
      " 10  Senior Citizen     7043 non-null   object \n",
      " 11  Partner            7043 non-null   object \n",
      " 12  Dependents         7043 non-null   object \n",
      " 13  Tenure Months      7043 non-null   float64\n",
      " 14  Phone Service      7043 non-null   object \n",
      " 15  Multiple Lines     7043 non-null   object \n",
      " 16  Internet Service   7043 non-null   object \n",
      " 17  Online Security    7043 non-null   object \n",
      " 18  Online Backup      7043 non-null   object \n",
      " 19  Device Protection  7043 non-null   object \n",
      " 20  Tech Support       7043 non-null   object \n",
      " 21  Streaming TV       7043 non-null   object \n",
      " 22  Streaming Movies   7043 non-null   object \n",
      " 23  Contract           7043 non-null   object \n",
      " 24  Paperless Billing  7043 non-null   object \n",
      " 25  Payment Method     7043 non-null   object \n",
      " 26  Monthly Charges    7043 non-null   float64\n",
      " 27  Total Charges      7043 non-null   object \n",
      " 28  Churn Label        7043 non-null   object \n",
      " 29  Churn Value        7043 non-null   float64\n",
      " 30  Churn Score        7043 non-null   float64\n",
      " 31  CLTV               7043 non-null   float64\n",
      " 32  Churn Reason       1869 non-null   object \n",
      "dtypes: float64(9), object(24)\n",
      "memory usage: 1.8+ MB\n"
     ]
    }
   ],
   "source": [
    "# to check all datatypes\n",
    "churn.info()"
   ]
  },
  {
   "cell_type": "markdown",
   "id": "3e45c49d",
   "metadata": {},
   "source": [
    "### Data types:\n",
    "|column|Explanation, statistically data type| how python reading data|Did Python reads wrong|\n",
    "|---|------|---|---|\n",
    "|0   CustomerID      |  Unique number,nominal(no order)|    object |no\n",
    " 1   Count            | number of custumers,Discrete int|   float64|\n",
    " 2   Country       |     unique name,nominal, category|  object |yes\n",
    " 3   State    |          unique name, nominal,category|   object |yes\n",
    " 4   City      |         unique name,nominal,category|   object |yes\n",
    " 5   Zip Code   |        unique number can have continuous value|   float64|\n",
    " 6   Lat Long    |      combining lattitude & longitude,point(x,y)format  | object |yes \n",
    " 7   Latitude     |      Unique number as decimal format  |float64|\n",
    " 8   Longitude     |    Unique number as decimal format |  float64|\n",
    " 9   Gender         |   Unique ,nominal,category  | object |yes\n",
    " 10  Senior Citizen  |   yes/no different,nominal,category   |object |yes\n",
    " 11  Partner          |  yes/no,nominal,category |   object |yes\n",
    " 12  Dependents  |        yes/no,nominal,category  |  object |yes\n",
    " 13  Tenure Months|       no. of months can have continuous values also,float  | float64|\n",
    " 14  Phone Service |      yes/no,nominal,category    |object |yes\n",
    " 15  Multiple Lines |     yes/no,nominal,category   |object |yes\n",
    " 16  Internet Service|    4 different types,nominalcategory    |object |yes\n",
    " 17  Online Security  |  yes/no,nominal,category    |object |yes\n",
    " 18  Online Backup     |  yes/no,nominal,category   |object |yes\n",
    " 19  Device Protection|   yes/no,nominal,category    |object |yes\n",
    " 20  Tech Support   |     yes/no,nominal,category    |object |yes\n",
    " 21  Streaming TV    |    yes/no,nominal,category    |object |yes\n",
    " 22  Streaming Movies |  yes/no,nominal,category    |object |yes\n",
    " 23  Contract          |  which type,nominal,category   |object |yes\n",
    " 24  Paperless Billing |  yes/no,nominal,category   |object |yes\n",
    " 25  Payment Method   |   3 different types,nominal,category    |object |yes\n",
    " 26  Monthly Charges  |  price can be continuous ,float  |float64|\n",
    " 27  Total Charges    |  price have continuous value,float   |object |yes\n",
    " 28  Churn Label      |   yes/no,nominal,category    |object |yes\n",
    " 29  Churn Value      |  1/0,nominal,category    |float64|yes\n",
    " 30  Churn Score      |  0-100 may contain continuous,float   |float64|\n",
    " 31  CLTV              |measurable,continuous value possible,float  |float64|\n",
    " 32  Churn Reason      |  reason for leaving ,nominal,relate to category| object |yes"
   ]
  },
  {
   "cell_type": "markdown",
   "id": "e246b628",
   "metadata": {},
   "source": [
    "Here, python reading category columns as object columns,its better to convert into category as there are many repititions of values.,it saves memory & also good for plottng.for churn value it reads as float, it should be category.total charges reading as object beacuse of some string presents in column,it should convert to float.lat long should convert to point."
   ]
  },
  {
   "cell_type": "markdown",
   "id": "47927bca",
   "metadata": {},
   "source": [
    "## Data Wrangling\n",
    "It includes changing data types.dealing with missing values.statistical analysis"
   ]
  },
  {
   "cell_type": "code",
   "execution_count": 8,
   "id": "4c72a5d2",
   "metadata": {},
   "outputs": [
    {
     "data": {
      "text/plain": [
       "20.2      11\n",
       "          11\n",
       "19.75      9\n",
       "19.65      8\n",
       "20.05      8\n",
       "          ..\n",
       "444.75     1\n",
       "5459.2     1\n",
       "295.95     1\n",
       "394.1      1\n",
       "6844.5     1\n",
       "Name: Total Charges, Length: 6531, dtype: int64"
      ]
     },
     "execution_count": 8,
     "metadata": {},
     "output_type": "execute_result"
    }
   ],
   "source": [
    "churn['Total Charges'].value_counts()"
   ]
  },
  {
   "cell_type": "code",
   "execution_count": 9,
   "id": "531bd644",
   "metadata": {},
   "outputs": [
    {
     "data": {
      "text/plain": [
       "dtype('O')"
      ]
     },
     "execution_count": 9,
     "metadata": {},
     "output_type": "execute_result"
    }
   ],
   "source": [
    "churn['Total Charges'].dtype"
   ]
  },
  {
   "cell_type": "code",
   "execution_count": 10,
   "id": "890cf6ec",
   "metadata": {},
   "outputs": [
    {
     "data": {
      "text/plain": [
       "array([108.15, 151.65, 820.5, ..., 7362.9, 346.45, 6844.5], dtype=object)"
      ]
     },
     "execution_count": 10,
     "metadata": {},
     "output_type": "execute_result"
    }
   ],
   "source": [
    "churn['Total Charges'].values"
   ]
  },
  {
   "cell_type": "code",
   "execution_count": 22,
   "id": "be4a63be",
   "metadata": {},
   "outputs": [
    {
     "data": {
      "text/plain": [
       "CustomerID              0\n",
       "Count                   0\n",
       "Country                 0\n",
       "State                   0\n",
       "City                    0\n",
       "Zip Code                0\n",
       "Lat Long                0\n",
       "Latitude                0\n",
       "Longitude               0\n",
       "Gender                  0\n",
       "Senior Citizen          0\n",
       "Partner                 0\n",
       "Dependents              0\n",
       "Tenure Months           0\n",
       "Phone Service           0\n",
       "Multiple Lines          0\n",
       "Internet Service        0\n",
       "Online Security         0\n",
       "Online Backup           0\n",
       "Device Protection       0\n",
       "Tech Support            0\n",
       "Streaming TV            0\n",
       "Streaming Movies        0\n",
       "Contract                0\n",
       "Paperless Billing       0\n",
       "Payment Method          0\n",
       "Monthly Charges         0\n",
       "Total Charges           0\n",
       "Churn Label             0\n",
       "Churn Value             0\n",
       "Churn Score             0\n",
       "CLTV                    0\n",
       "Churn Reason         5174\n",
       "dtype: int64"
      ]
     },
     "execution_count": 22,
     "metadata": {},
     "output_type": "execute_result"
    }
   ],
   "source": [
    "churn.isnull().sum()"
   ]
  },
  {
   "cell_type": "markdown",
   "id": "44ad4c21",
   "metadata": {},
   "source": [
    "Here, only churn reason is having missing values.As we dont need this column in present project. we can deal it with necessary.As it is categorical column,missing values replace by mode."
   ]
  },
  {
   "cell_type": "code",
   "execution_count": 31,
   "id": "5b6f181d",
   "metadata": {},
   "outputs": [
    {
     "data": {
      "text/plain": [
       "Index(['Count', 'Country', 'State', 'City', 'Zip Code', 'Latitude',\n",
       "       'Longitude', 'Gender', 'Senior Citizen', 'Partner', 'Dependents',\n",
       "       'Tenure Months', 'Phone Service', 'Multiple Lines', 'Internet Service',\n",
       "       'Online Security', 'Online Backup', 'Device Protection', 'Tech Support',\n",
       "       'Streaming TV', 'Streaming Movies', 'Contract', 'Paperless Billing',\n",
       "       'Payment Method', 'Monthly Charges', 'Total Charges', 'Churn Label',\n",
       "       'Churn Value', 'Churn Score', 'CLTV', 'Churn Reason'],\n",
       "      dtype='object')"
      ]
     },
     "execution_count": 31,
     "metadata": {},
     "output_type": "execute_result"
    }
   ],
   "source": [
    "churn=churn.drop(columns=['CustomerID','Lat Long'],axis=1)\n",
    "churn.columns"
   ]
  },
  {
   "cell_type": "markdown",
   "id": "0cdc6a69",
   "metadata": {},
   "source": [
    "Here i removed 2 columns which we dont use in project,it doesn't effect dataset."
   ]
  },
  {
   "cell_type": "code",
   "execution_count": 11,
   "id": "1577deb8",
   "metadata": {},
   "outputs": [],
   "source": [
    "# Fill the blank values with the np.nan\n",
    "churn['Total Charges'] = churn['Total Charges'].replace(' ', np.nan)\n",
    "\n",
    "#Convert to float type\n",
    "churn['Total Charges'] =churn['Total Charges'].astype('float64')"
   ]
  },
  {
   "cell_type": "markdown",
   "id": "b33dfa8f",
   "metadata": {},
   "source": [
    "Here total charges column converted to float,first replaces spaces wih np.nan and converted"
   ]
  },
  {
   "cell_type": "code",
   "execution_count": 32,
   "id": "4e2e13ec",
   "metadata": {},
   "outputs": [],
   "source": [
    "for col in churn:  # we use loop for convert types at a time\n",
    "    if churn[col].dtype=='object':  # all object types it will check in dataframe\n",
    "        churn[col]=churn[col].astype('category')  # convert to catogory,i saves memory,good whie drawing plots"
   ]
  },
  {
   "cell_type": "markdown",
   "id": "bb534ee7",
   "metadata": {},
   "source": [
    "Here we converted neccesary columns to correc datatype.we wil check again their datatypes."
   ]
  },
  {
   "cell_type": "code",
   "execution_count": 33,
   "id": "394d1946",
   "metadata": {},
   "outputs": [
    {
     "name": "stdout",
     "output_type": "stream",
     "text": [
      "<class 'pandas.core.frame.DataFrame'>\n",
      "RangeIndex: 7043 entries, 0 to 7042\n",
      "Data columns (total 31 columns):\n",
      " #   Column             Non-Null Count  Dtype   \n",
      "---  ------             --------------  -----   \n",
      " 0   Count              7043 non-null   float64 \n",
      " 1   Country            7043 non-null   category\n",
      " 2   State              7043 non-null   category\n",
      " 3   City               7043 non-null   category\n",
      " 4   Zip Code           7043 non-null   float64 \n",
      " 5   Latitude           7043 non-null   float64 \n",
      " 6   Longitude          7043 non-null   float64 \n",
      " 7   Gender             7043 non-null   category\n",
      " 8   Senior Citizen     7043 non-null   category\n",
      " 9   Partner            7043 non-null   category\n",
      " 10  Dependents         7043 non-null   category\n",
      " 11  Tenure Months      7043 non-null   float64 \n",
      " 12  Phone Service      7043 non-null   category\n",
      " 13  Multiple Lines     7043 non-null   category\n",
      " 14  Internet Service   7043 non-null   category\n",
      " 15  Online Security    7043 non-null   category\n",
      " 16  Online Backup      7043 non-null   category\n",
      " 17  Device Protection  7043 non-null   category\n",
      " 18  Tech Support       7043 non-null   category\n",
      " 19  Streaming TV       7043 non-null   category\n",
      " 20  Streaming Movies   7043 non-null   category\n",
      " 21  Contract           7043 non-null   category\n",
      " 22  Paperless Billing  7043 non-null   category\n",
      " 23  Payment Method     7043 non-null   category\n",
      " 24  Monthly Charges    7043 non-null   float64 \n",
      " 25  Total Charges      7043 non-null   category\n",
      " 26  Churn Label        7043 non-null   category\n",
      " 27  Churn Value        7043 non-null   float64 \n",
      " 28  Churn Score        7043 non-null   float64 \n",
      " 29  CLTV               7043 non-null   float64 \n",
      " 30  Churn Reason       1869 non-null   category\n",
      "dtypes: category(22), float64(9)\n",
      "memory usage: 1013.7 KB\n"
     ]
    }
   ],
   "source": [
    "churn.info() # again checking datatypes,after type conversion"
   ]
  },
  {
   "cell_type": "markdown",
   "id": "37d84895",
   "metadata": {},
   "source": [
    "## Q2: Please apply appropriate statistical measures using python based on data types.\n",
    "* we have category and numerical data. \n",
    "* we can apply describe function for numerical data. for categorical data we use mode for calculating statistical measures.\n",
    "* statistical measures are measure of central tendency and measure of central dispersion.\n",
    "* measure of central tendency are mean ,median,mode.\n",
    "* measure of central dispersion are std,IQR,Variance,skewness.\n",
    "* For symmetrical data measure of central tendency is mean and measure of central dispersion is sd.\n",
    "* For Unsymmeric data, measure of central tandency is median,measure of central dispersion is IQR,because it is not affected by outliers.\n",
    "* For categorical data measure of central tendency is mode & measure of cenral dispersion is not there,because these are only few categories, we cant find spread of data."
   ]
  },
  {
   "cell_type": "code",
   "execution_count": 34,
   "id": "af2da658",
   "metadata": {
    "scrolled": false
   },
   "outputs": [
    {
     "data": {
      "text/html": [
       "<div>\n",
       "<style scoped>\n",
       "    .dataframe tbody tr th:only-of-type {\n",
       "        vertical-align: middle;\n",
       "    }\n",
       "\n",
       "    .dataframe tbody tr th {\n",
       "        vertical-align: top;\n",
       "    }\n",
       "\n",
       "    .dataframe thead th {\n",
       "        text-align: right;\n",
       "    }\n",
       "</style>\n",
       "<table border=\"1\" class=\"dataframe\">\n",
       "  <thead>\n",
       "    <tr style=\"text-align: right;\">\n",
       "      <th></th>\n",
       "      <th>Count</th>\n",
       "      <th>Zip Code</th>\n",
       "      <th>Latitude</th>\n",
       "      <th>Longitude</th>\n",
       "      <th>Tenure Months</th>\n",
       "      <th>Monthly Charges</th>\n",
       "      <th>Churn Value</th>\n",
       "      <th>Churn Score</th>\n",
       "      <th>CLTV</th>\n",
       "    </tr>\n",
       "  </thead>\n",
       "  <tbody>\n",
       "    <tr>\n",
       "      <th>count</th>\n",
       "      <td>7043.0</td>\n",
       "      <td>7043.000000</td>\n",
       "      <td>7043.000000</td>\n",
       "      <td>7043.000000</td>\n",
       "      <td>7043.000000</td>\n",
       "      <td>7043.000000</td>\n",
       "      <td>7043.000000</td>\n",
       "      <td>7043.000000</td>\n",
       "      <td>7043.000000</td>\n",
       "    </tr>\n",
       "    <tr>\n",
       "      <th>mean</th>\n",
       "      <td>1.0</td>\n",
       "      <td>93521.964646</td>\n",
       "      <td>36.282441</td>\n",
       "      <td>-119.798880</td>\n",
       "      <td>32.371149</td>\n",
       "      <td>64.761692</td>\n",
       "      <td>0.265370</td>\n",
       "      <td>58.699418</td>\n",
       "      <td>4400.295755</td>\n",
       "    </tr>\n",
       "    <tr>\n",
       "      <th>std</th>\n",
       "      <td>0.0</td>\n",
       "      <td>1865.794555</td>\n",
       "      <td>2.455723</td>\n",
       "      <td>2.157889</td>\n",
       "      <td>24.559481</td>\n",
       "      <td>30.090047</td>\n",
       "      <td>0.441561</td>\n",
       "      <td>21.525131</td>\n",
       "      <td>1183.057152</td>\n",
       "    </tr>\n",
       "    <tr>\n",
       "      <th>min</th>\n",
       "      <td>1.0</td>\n",
       "      <td>90001.000000</td>\n",
       "      <td>32.555828</td>\n",
       "      <td>-124.301372</td>\n",
       "      <td>0.000000</td>\n",
       "      <td>18.250000</td>\n",
       "      <td>0.000000</td>\n",
       "      <td>5.000000</td>\n",
       "      <td>2003.000000</td>\n",
       "    </tr>\n",
       "    <tr>\n",
       "      <th>25%</th>\n",
       "      <td>1.0</td>\n",
       "      <td>92102.000000</td>\n",
       "      <td>34.030915</td>\n",
       "      <td>-121.815412</td>\n",
       "      <td>9.000000</td>\n",
       "      <td>35.500000</td>\n",
       "      <td>0.000000</td>\n",
       "      <td>40.000000</td>\n",
       "      <td>3469.000000</td>\n",
       "    </tr>\n",
       "    <tr>\n",
       "      <th>50%</th>\n",
       "      <td>1.0</td>\n",
       "      <td>93552.000000</td>\n",
       "      <td>36.391777</td>\n",
       "      <td>-119.730885</td>\n",
       "      <td>29.000000</td>\n",
       "      <td>70.350000</td>\n",
       "      <td>0.000000</td>\n",
       "      <td>61.000000</td>\n",
       "      <td>4527.000000</td>\n",
       "    </tr>\n",
       "    <tr>\n",
       "      <th>75%</th>\n",
       "      <td>1.0</td>\n",
       "      <td>95351.000000</td>\n",
       "      <td>38.224869</td>\n",
       "      <td>-118.043237</td>\n",
       "      <td>55.000000</td>\n",
       "      <td>89.850000</td>\n",
       "      <td>1.000000</td>\n",
       "      <td>75.000000</td>\n",
       "      <td>5380.500000</td>\n",
       "    </tr>\n",
       "    <tr>\n",
       "      <th>max</th>\n",
       "      <td>1.0</td>\n",
       "      <td>96161.000000</td>\n",
       "      <td>41.962127</td>\n",
       "      <td>-114.192901</td>\n",
       "      <td>72.000000</td>\n",
       "      <td>118.750000</td>\n",
       "      <td>1.000000</td>\n",
       "      <td>100.000000</td>\n",
       "      <td>6500.000000</td>\n",
       "    </tr>\n",
       "  </tbody>\n",
       "</table>\n",
       "</div>"
      ],
      "text/plain": [
       "        Count      Zip Code     Latitude    Longitude  Tenure Months  \\\n",
       "count  7043.0   7043.000000  7043.000000  7043.000000    7043.000000   \n",
       "mean      1.0  93521.964646    36.282441  -119.798880      32.371149   \n",
       "std       0.0   1865.794555     2.455723     2.157889      24.559481   \n",
       "min       1.0  90001.000000    32.555828  -124.301372       0.000000   \n",
       "25%       1.0  92102.000000    34.030915  -121.815412       9.000000   \n",
       "50%       1.0  93552.000000    36.391777  -119.730885      29.000000   \n",
       "75%       1.0  95351.000000    38.224869  -118.043237      55.000000   \n",
       "max       1.0  96161.000000    41.962127  -114.192901      72.000000   \n",
       "\n",
       "       Monthly Charges  Churn Value  Churn Score         CLTV  \n",
       "count      7043.000000  7043.000000  7043.000000  7043.000000  \n",
       "mean         64.761692     0.265370    58.699418  4400.295755  \n",
       "std          30.090047     0.441561    21.525131  1183.057152  \n",
       "min          18.250000     0.000000     5.000000  2003.000000  \n",
       "25%          35.500000     0.000000    40.000000  3469.000000  \n",
       "50%          70.350000     0.000000    61.000000  4527.000000  \n",
       "75%          89.850000     1.000000    75.000000  5380.500000  \n",
       "max         118.750000     1.000000   100.000000  6500.000000  "
      ]
     },
     "execution_count": 34,
     "metadata": {},
     "output_type": "execute_result"
    }
   ],
   "source": [
    "# statistical measures for coninuous data\n",
    "churn.describe()"
   ]
  },
  {
   "cell_type": "code",
   "execution_count": 35,
   "id": "e7bd4030",
   "metadata": {},
   "outputs": [
    {
     "name": "stderr",
     "output_type": "stream",
     "text": [
      "C:\\Users\\Hp\\AppData\\Local\\Temp/ipykernel_14808/3199391880.py:3: FutureWarning: Dropping of nuisance columns in DataFrame reductions (with 'numeric_only=None') is deprecated; in a future version this will raise TypeError.  Select only valid columns before calling the reduction.\n",
      "  churn.mean()\n"
     ]
    },
    {
     "data": {
      "text/plain": [
       "Count                  1.000000\n",
       "Zip Code           93521.964646\n",
       "Latitude              36.282441\n",
       "Longitude           -119.798880\n",
       "Tenure Months         32.371149\n",
       "Monthly Charges       64.761692\n",
       "Churn Value            0.265370\n",
       "Churn Score           58.699418\n",
       "CLTV                4400.295755\n",
       "dtype: float64"
      ]
     },
     "execution_count": 35,
     "metadata": {},
     "output_type": "execute_result"
    }
   ],
   "source": [
    "# Measures of central tendency\n",
    "# mean,mode,median\n",
    "churn.mean()"
   ]
  },
  {
   "cell_type": "markdown",
   "id": "60bdcbf2",
   "metadata": {},
   "source": [
    "As mode can be used for both categorical and numerical data.it will calulate to all columns.measure of central tendency for numerical and categorical columns is here.this can be used to replace null values."
   ]
  },
  {
   "cell_type": "code",
   "execution_count": 36,
   "id": "6f982f42",
   "metadata": {},
   "outputs": [
    {
     "data": {
      "text/html": [
       "<div>\n",
       "<style scoped>\n",
       "    .dataframe tbody tr th:only-of-type {\n",
       "        vertical-align: middle;\n",
       "    }\n",
       "\n",
       "    .dataframe tbody tr th {\n",
       "        vertical-align: top;\n",
       "    }\n",
       "\n",
       "    .dataframe thead th {\n",
       "        text-align: right;\n",
       "    }\n",
       "</style>\n",
       "<table border=\"1\" class=\"dataframe\">\n",
       "  <thead>\n",
       "    <tr style=\"text-align: right;\">\n",
       "      <th></th>\n",
       "      <th>Count</th>\n",
       "      <th>Country</th>\n",
       "      <th>State</th>\n",
       "      <th>City</th>\n",
       "      <th>Zip Code</th>\n",
       "      <th>Latitude</th>\n",
       "      <th>Longitude</th>\n",
       "      <th>Gender</th>\n",
       "      <th>Senior Citizen</th>\n",
       "      <th>Partner</th>\n",
       "      <th>Dependents</th>\n",
       "      <th>Tenure Months</th>\n",
       "      <th>Phone Service</th>\n",
       "      <th>Multiple Lines</th>\n",
       "      <th>Internet Service</th>\n",
       "      <th>Online Security</th>\n",
       "      <th>Online Backup</th>\n",
       "      <th>Device Protection</th>\n",
       "      <th>Tech Support</th>\n",
       "      <th>Streaming TV</th>\n",
       "      <th>Streaming Movies</th>\n",
       "      <th>Contract</th>\n",
       "      <th>Paperless Billing</th>\n",
       "      <th>Payment Method</th>\n",
       "      <th>Monthly Charges</th>\n",
       "      <th>Total Charges</th>\n",
       "      <th>Churn Label</th>\n",
       "      <th>Churn Value</th>\n",
       "      <th>Churn Score</th>\n",
       "      <th>CLTV</th>\n",
       "      <th>Churn Reason</th>\n",
       "    </tr>\n",
       "  </thead>\n",
       "  <tbody>\n",
       "    <tr>\n",
       "      <th>0</th>\n",
       "      <td>1.0</td>\n",
       "      <td>United States</td>\n",
       "      <td>California</td>\n",
       "      <td>Los Angeles</td>\n",
       "      <td>90001.0</td>\n",
       "      <td>32.555828</td>\n",
       "      <td>-121.994813</td>\n",
       "      <td>Male</td>\n",
       "      <td>No</td>\n",
       "      <td>No</td>\n",
       "      <td>No</td>\n",
       "      <td>1.0</td>\n",
       "      <td>Yes</td>\n",
       "      <td>No</td>\n",
       "      <td>Fiber optic</td>\n",
       "      <td>No</td>\n",
       "      <td>No</td>\n",
       "      <td>No</td>\n",
       "      <td>No</td>\n",
       "      <td>No</td>\n",
       "      <td>No</td>\n",
       "      <td>Month-to-month</td>\n",
       "      <td>Yes</td>\n",
       "      <td>Electronic check</td>\n",
       "      <td>20.05</td>\n",
       "      <td>20.2</td>\n",
       "      <td>No</td>\n",
       "      <td>0.0</td>\n",
       "      <td>80.0</td>\n",
       "      <td>5546.0</td>\n",
       "      <td>Attitude of support person</td>\n",
       "    </tr>\n",
       "    <tr>\n",
       "      <th>1</th>\n",
       "      <td>NaN</td>\n",
       "      <td>NaN</td>\n",
       "      <td>NaN</td>\n",
       "      <td>NaN</td>\n",
       "      <td>90002.0</td>\n",
       "      <td>32.578103</td>\n",
       "      <td>NaN</td>\n",
       "      <td>NaN</td>\n",
       "      <td>NaN</td>\n",
       "      <td>NaN</td>\n",
       "      <td>NaN</td>\n",
       "      <td>NaN</td>\n",
       "      <td>NaN</td>\n",
       "      <td>NaN</td>\n",
       "      <td>NaN</td>\n",
       "      <td>NaN</td>\n",
       "      <td>NaN</td>\n",
       "      <td>NaN</td>\n",
       "      <td>NaN</td>\n",
       "      <td>NaN</td>\n",
       "      <td>NaN</td>\n",
       "      <td>NaN</td>\n",
       "      <td>NaN</td>\n",
       "      <td>NaN</td>\n",
       "      <td>NaN</td>\n",
       "      <td></td>\n",
       "      <td>NaN</td>\n",
       "      <td>NaN</td>\n",
       "      <td>NaN</td>\n",
       "      <td>NaN</td>\n",
       "      <td>NaN</td>\n",
       "    </tr>\n",
       "    <tr>\n",
       "      <th>2</th>\n",
       "      <td>NaN</td>\n",
       "      <td>NaN</td>\n",
       "      <td>NaN</td>\n",
       "      <td>NaN</td>\n",
       "      <td>90003.0</td>\n",
       "      <td>32.579134</td>\n",
       "      <td>NaN</td>\n",
       "      <td>NaN</td>\n",
       "      <td>NaN</td>\n",
       "      <td>NaN</td>\n",
       "      <td>NaN</td>\n",
       "      <td>NaN</td>\n",
       "      <td>NaN</td>\n",
       "      <td>NaN</td>\n",
       "      <td>NaN</td>\n",
       "      <td>NaN</td>\n",
       "      <td>NaN</td>\n",
       "      <td>NaN</td>\n",
       "      <td>NaN</td>\n",
       "      <td>NaN</td>\n",
       "      <td>NaN</td>\n",
       "      <td>NaN</td>\n",
       "      <td>NaN</td>\n",
       "      <td>NaN</td>\n",
       "      <td>NaN</td>\n",
       "      <td>NaN</td>\n",
       "      <td>NaN</td>\n",
       "      <td>NaN</td>\n",
       "      <td>NaN</td>\n",
       "      <td>NaN</td>\n",
       "      <td>NaN</td>\n",
       "    </tr>\n",
       "    <tr>\n",
       "      <th>3</th>\n",
       "      <td>NaN</td>\n",
       "      <td>NaN</td>\n",
       "      <td>NaN</td>\n",
       "      <td>NaN</td>\n",
       "      <td>90004.0</td>\n",
       "      <td>32.587557</td>\n",
       "      <td>NaN</td>\n",
       "      <td>NaN</td>\n",
       "      <td>NaN</td>\n",
       "      <td>NaN</td>\n",
       "      <td>NaN</td>\n",
       "      <td>NaN</td>\n",
       "      <td>NaN</td>\n",
       "      <td>NaN</td>\n",
       "      <td>NaN</td>\n",
       "      <td>NaN</td>\n",
       "      <td>NaN</td>\n",
       "      <td>NaN</td>\n",
       "      <td>NaN</td>\n",
       "      <td>NaN</td>\n",
       "      <td>NaN</td>\n",
       "      <td>NaN</td>\n",
       "      <td>NaN</td>\n",
       "      <td>NaN</td>\n",
       "      <td>NaN</td>\n",
       "      <td>NaN</td>\n",
       "      <td>NaN</td>\n",
       "      <td>NaN</td>\n",
       "      <td>NaN</td>\n",
       "      <td>NaN</td>\n",
       "      <td>NaN</td>\n",
       "    </tr>\n",
       "    <tr>\n",
       "      <th>4</th>\n",
       "      <td>NaN</td>\n",
       "      <td>NaN</td>\n",
       "      <td>NaN</td>\n",
       "      <td>NaN</td>\n",
       "      <td>90005.0</td>\n",
       "      <td>32.605012</td>\n",
       "      <td>NaN</td>\n",
       "      <td>NaN</td>\n",
       "      <td>NaN</td>\n",
       "      <td>NaN</td>\n",
       "      <td>NaN</td>\n",
       "      <td>NaN</td>\n",
       "      <td>NaN</td>\n",
       "      <td>NaN</td>\n",
       "      <td>NaN</td>\n",
       "      <td>NaN</td>\n",
       "      <td>NaN</td>\n",
       "      <td>NaN</td>\n",
       "      <td>NaN</td>\n",
       "      <td>NaN</td>\n",
       "      <td>NaN</td>\n",
       "      <td>NaN</td>\n",
       "      <td>NaN</td>\n",
       "      <td>NaN</td>\n",
       "      <td>NaN</td>\n",
       "      <td>NaN</td>\n",
       "      <td>NaN</td>\n",
       "      <td>NaN</td>\n",
       "      <td>NaN</td>\n",
       "      <td>NaN</td>\n",
       "      <td>NaN</td>\n",
       "    </tr>\n",
       "    <tr>\n",
       "      <th>...</th>\n",
       "      <td>...</td>\n",
       "      <td>...</td>\n",
       "      <td>...</td>\n",
       "      <td>...</td>\n",
       "      <td>...</td>\n",
       "      <td>...</td>\n",
       "      <td>...</td>\n",
       "      <td>...</td>\n",
       "      <td>...</td>\n",
       "      <td>...</td>\n",
       "      <td>...</td>\n",
       "      <td>...</td>\n",
       "      <td>...</td>\n",
       "      <td>...</td>\n",
       "      <td>...</td>\n",
       "      <td>...</td>\n",
       "      <td>...</td>\n",
       "      <td>...</td>\n",
       "      <td>...</td>\n",
       "      <td>...</td>\n",
       "      <td>...</td>\n",
       "      <td>...</td>\n",
       "      <td>...</td>\n",
       "      <td>...</td>\n",
       "      <td>...</td>\n",
       "      <td>...</td>\n",
       "      <td>...</td>\n",
       "      <td>...</td>\n",
       "      <td>...</td>\n",
       "      <td>...</td>\n",
       "      <td>...</td>\n",
       "    </tr>\n",
       "    <tr>\n",
       "      <th>430</th>\n",
       "      <td>NaN</td>\n",
       "      <td>NaN</td>\n",
       "      <td>NaN</td>\n",
       "      <td>NaN</td>\n",
       "      <td>92301.0</td>\n",
       "      <td>34.502432</td>\n",
       "      <td>NaN</td>\n",
       "      <td>NaN</td>\n",
       "      <td>NaN</td>\n",
       "      <td>NaN</td>\n",
       "      <td>NaN</td>\n",
       "      <td>NaN</td>\n",
       "      <td>NaN</td>\n",
       "      <td>NaN</td>\n",
       "      <td>NaN</td>\n",
       "      <td>NaN</td>\n",
       "      <td>NaN</td>\n",
       "      <td>NaN</td>\n",
       "      <td>NaN</td>\n",
       "      <td>NaN</td>\n",
       "      <td>NaN</td>\n",
       "      <td>NaN</td>\n",
       "      <td>NaN</td>\n",
       "      <td>NaN</td>\n",
       "      <td>NaN</td>\n",
       "      <td>NaN</td>\n",
       "      <td>NaN</td>\n",
       "      <td>NaN</td>\n",
       "      <td>NaN</td>\n",
       "      <td>NaN</td>\n",
       "      <td>NaN</td>\n",
       "    </tr>\n",
       "    <tr>\n",
       "      <th>431</th>\n",
       "      <td>NaN</td>\n",
       "      <td>NaN</td>\n",
       "      <td>NaN</td>\n",
       "      <td>NaN</td>\n",
       "      <td>92304.0</td>\n",
       "      <td>34.506627</td>\n",
       "      <td>NaN</td>\n",
       "      <td>NaN</td>\n",
       "      <td>NaN</td>\n",
       "      <td>NaN</td>\n",
       "      <td>NaN</td>\n",
       "      <td>NaN</td>\n",
       "      <td>NaN</td>\n",
       "      <td>NaN</td>\n",
       "      <td>NaN</td>\n",
       "      <td>NaN</td>\n",
       "      <td>NaN</td>\n",
       "      <td>NaN</td>\n",
       "      <td>NaN</td>\n",
       "      <td>NaN</td>\n",
       "      <td>NaN</td>\n",
       "      <td>NaN</td>\n",
       "      <td>NaN</td>\n",
       "      <td>NaN</td>\n",
       "      <td>NaN</td>\n",
       "      <td>NaN</td>\n",
       "      <td>NaN</td>\n",
       "      <td>NaN</td>\n",
       "      <td>NaN</td>\n",
       "      <td>NaN</td>\n",
       "      <td>NaN</td>\n",
       "    </tr>\n",
       "    <tr>\n",
       "      <th>432</th>\n",
       "      <td>NaN</td>\n",
       "      <td>NaN</td>\n",
       "      <td>NaN</td>\n",
       "      <td>NaN</td>\n",
       "      <td>92305.0</td>\n",
       "      <td>34.550820</td>\n",
       "      <td>NaN</td>\n",
       "      <td>NaN</td>\n",
       "      <td>NaN</td>\n",
       "      <td>NaN</td>\n",
       "      <td>NaN</td>\n",
       "      <td>NaN</td>\n",
       "      <td>NaN</td>\n",
       "      <td>NaN</td>\n",
       "      <td>NaN</td>\n",
       "      <td>NaN</td>\n",
       "      <td>NaN</td>\n",
       "      <td>NaN</td>\n",
       "      <td>NaN</td>\n",
       "      <td>NaN</td>\n",
       "      <td>NaN</td>\n",
       "      <td>NaN</td>\n",
       "      <td>NaN</td>\n",
       "      <td>NaN</td>\n",
       "      <td>NaN</td>\n",
       "      <td>NaN</td>\n",
       "      <td>NaN</td>\n",
       "      <td>NaN</td>\n",
       "      <td>NaN</td>\n",
       "      <td>NaN</td>\n",
       "      <td>NaN</td>\n",
       "    </tr>\n",
       "    <tr>\n",
       "      <th>433</th>\n",
       "      <td>NaN</td>\n",
       "      <td>NaN</td>\n",
       "      <td>NaN</td>\n",
       "      <td>NaN</td>\n",
       "      <td>92307.0</td>\n",
       "      <td>34.559882</td>\n",
       "      <td>NaN</td>\n",
       "      <td>NaN</td>\n",
       "      <td>NaN</td>\n",
       "      <td>NaN</td>\n",
       "      <td>NaN</td>\n",
       "      <td>NaN</td>\n",
       "      <td>NaN</td>\n",
       "      <td>NaN</td>\n",
       "      <td>NaN</td>\n",
       "      <td>NaN</td>\n",
       "      <td>NaN</td>\n",
       "      <td>NaN</td>\n",
       "      <td>NaN</td>\n",
       "      <td>NaN</td>\n",
       "      <td>NaN</td>\n",
       "      <td>NaN</td>\n",
       "      <td>NaN</td>\n",
       "      <td>NaN</td>\n",
       "      <td>NaN</td>\n",
       "      <td>NaN</td>\n",
       "      <td>NaN</td>\n",
       "      <td>NaN</td>\n",
       "      <td>NaN</td>\n",
       "      <td>NaN</td>\n",
       "      <td>NaN</td>\n",
       "    </tr>\n",
       "    <tr>\n",
       "      <th>434</th>\n",
       "      <td>NaN</td>\n",
       "      <td>NaN</td>\n",
       "      <td>NaN</td>\n",
       "      <td>NaN</td>\n",
       "      <td>92308.0</td>\n",
       "      <td>34.667815</td>\n",
       "      <td>NaN</td>\n",
       "      <td>NaN</td>\n",
       "      <td>NaN</td>\n",
       "      <td>NaN</td>\n",
       "      <td>NaN</td>\n",
       "      <td>NaN</td>\n",
       "      <td>NaN</td>\n",
       "      <td>NaN</td>\n",
       "      <td>NaN</td>\n",
       "      <td>NaN</td>\n",
       "      <td>NaN</td>\n",
       "      <td>NaN</td>\n",
       "      <td>NaN</td>\n",
       "      <td>NaN</td>\n",
       "      <td>NaN</td>\n",
       "      <td>NaN</td>\n",
       "      <td>NaN</td>\n",
       "      <td>NaN</td>\n",
       "      <td>NaN</td>\n",
       "      <td>NaN</td>\n",
       "      <td>NaN</td>\n",
       "      <td>NaN</td>\n",
       "      <td>NaN</td>\n",
       "      <td>NaN</td>\n",
       "      <td>NaN</td>\n",
       "    </tr>\n",
       "  </tbody>\n",
       "</table>\n",
       "<p>435 rows × 31 columns</p>\n",
       "</div>"
      ],
      "text/plain": [
       "     Count        Country       State         City  Zip Code   Latitude  \\\n",
       "0      1.0  United States  California  Los Angeles   90001.0  32.555828   \n",
       "1      NaN            NaN         NaN          NaN   90002.0  32.578103   \n",
       "2      NaN            NaN         NaN          NaN   90003.0  32.579134   \n",
       "3      NaN            NaN         NaN          NaN   90004.0  32.587557   \n",
       "4      NaN            NaN         NaN          NaN   90005.0  32.605012   \n",
       "..     ...            ...         ...          ...       ...        ...   \n",
       "430    NaN            NaN         NaN          NaN   92301.0  34.502432   \n",
       "431    NaN            NaN         NaN          NaN   92304.0  34.506627   \n",
       "432    NaN            NaN         NaN          NaN   92305.0  34.550820   \n",
       "433    NaN            NaN         NaN          NaN   92307.0  34.559882   \n",
       "434    NaN            NaN         NaN          NaN   92308.0  34.667815   \n",
       "\n",
       "      Longitude Gender Senior Citizen Partner Dependents  Tenure Months  \\\n",
       "0   -121.994813   Male             No      No         No            1.0   \n",
       "1           NaN    NaN            NaN     NaN        NaN            NaN   \n",
       "2           NaN    NaN            NaN     NaN        NaN            NaN   \n",
       "3           NaN    NaN            NaN     NaN        NaN            NaN   \n",
       "4           NaN    NaN            NaN     NaN        NaN            NaN   \n",
       "..          ...    ...            ...     ...        ...            ...   \n",
       "430         NaN    NaN            NaN     NaN        NaN            NaN   \n",
       "431         NaN    NaN            NaN     NaN        NaN            NaN   \n",
       "432         NaN    NaN            NaN     NaN        NaN            NaN   \n",
       "433         NaN    NaN            NaN     NaN        NaN            NaN   \n",
       "434         NaN    NaN            NaN     NaN        NaN            NaN   \n",
       "\n",
       "    Phone Service Multiple Lines Internet Service Online Security  \\\n",
       "0             Yes             No      Fiber optic              No   \n",
       "1             NaN            NaN              NaN             NaN   \n",
       "2             NaN            NaN              NaN             NaN   \n",
       "3             NaN            NaN              NaN             NaN   \n",
       "4             NaN            NaN              NaN             NaN   \n",
       "..            ...            ...              ...             ...   \n",
       "430           NaN            NaN              NaN             NaN   \n",
       "431           NaN            NaN              NaN             NaN   \n",
       "432           NaN            NaN              NaN             NaN   \n",
       "433           NaN            NaN              NaN             NaN   \n",
       "434           NaN            NaN              NaN             NaN   \n",
       "\n",
       "    Online Backup Device Protection Tech Support Streaming TV  \\\n",
       "0              No                No           No           No   \n",
       "1             NaN               NaN          NaN          NaN   \n",
       "2             NaN               NaN          NaN          NaN   \n",
       "3             NaN               NaN          NaN          NaN   \n",
       "4             NaN               NaN          NaN          NaN   \n",
       "..            ...               ...          ...          ...   \n",
       "430           NaN               NaN          NaN          NaN   \n",
       "431           NaN               NaN          NaN          NaN   \n",
       "432           NaN               NaN          NaN          NaN   \n",
       "433           NaN               NaN          NaN          NaN   \n",
       "434           NaN               NaN          NaN          NaN   \n",
       "\n",
       "    Streaming Movies        Contract Paperless Billing    Payment Method  \\\n",
       "0                 No  Month-to-month               Yes  Electronic check   \n",
       "1                NaN             NaN               NaN               NaN   \n",
       "2                NaN             NaN               NaN               NaN   \n",
       "3                NaN             NaN               NaN               NaN   \n",
       "4                NaN             NaN               NaN               NaN   \n",
       "..               ...             ...               ...               ...   \n",
       "430              NaN             NaN               NaN               NaN   \n",
       "431              NaN             NaN               NaN               NaN   \n",
       "432              NaN             NaN               NaN               NaN   \n",
       "433              NaN             NaN               NaN               NaN   \n",
       "434              NaN             NaN               NaN               NaN   \n",
       "\n",
       "     Monthly Charges Total Charges Churn Label  Churn Value  Churn Score  \\\n",
       "0              20.05          20.2          No          0.0         80.0   \n",
       "1                NaN                       NaN          NaN          NaN   \n",
       "2                NaN           NaN         NaN          NaN          NaN   \n",
       "3                NaN           NaN         NaN          NaN          NaN   \n",
       "4                NaN           NaN         NaN          NaN          NaN   \n",
       "..               ...           ...         ...          ...          ...   \n",
       "430              NaN           NaN         NaN          NaN          NaN   \n",
       "431              NaN           NaN         NaN          NaN          NaN   \n",
       "432              NaN           NaN         NaN          NaN          NaN   \n",
       "433              NaN           NaN         NaN          NaN          NaN   \n",
       "434              NaN           NaN         NaN          NaN          NaN   \n",
       "\n",
       "       CLTV                Churn Reason  \n",
       "0    5546.0  Attitude of support person  \n",
       "1       NaN                         NaN  \n",
       "2       NaN                         NaN  \n",
       "3       NaN                         NaN  \n",
       "4       NaN                         NaN  \n",
       "..      ...                         ...  \n",
       "430     NaN                         NaN  \n",
       "431     NaN                         NaN  \n",
       "432     NaN                         NaN  \n",
       "433     NaN                         NaN  \n",
       "434     NaN                         NaN  \n",
       "\n",
       "[435 rows x 31 columns]"
      ]
     },
     "execution_count": 36,
     "metadata": {},
     "output_type": "execute_result"
    }
   ],
   "source": [
    "churn.mode()"
   ]
  },
  {
   "cell_type": "markdown",
   "id": "1e060c6c",
   "metadata": {},
   "source": [
    "median is only for numerical values.so here it will calculate only for numerical data.For unsymmetric data, median is the measure of central tendency.if there is any null values , we will replace with median for uncymmetric data."
   ]
  },
  {
   "cell_type": "code",
   "execution_count": 37,
   "id": "b66b87c3",
   "metadata": {},
   "outputs": [
    {
     "name": "stderr",
     "output_type": "stream",
     "text": [
      "C:\\Users\\Hp\\AppData\\Local\\Temp/ipykernel_14808/2280297585.py:1: FutureWarning: Dropping of nuisance columns in DataFrame reductions (with 'numeric_only=None') is deprecated; in a future version this will raise TypeError.  Select only valid columns before calling the reduction.\n",
      "  churn.median()\n"
     ]
    },
    {
     "data": {
      "text/plain": [
       "Count                  1.000000\n",
       "Zip Code           93552.000000\n",
       "Latitude              36.391777\n",
       "Longitude           -119.730885\n",
       "Tenure Months         29.000000\n",
       "Monthly Charges       70.350000\n",
       "Churn Value            0.000000\n",
       "Churn Score           61.000000\n",
       "CLTV                4527.000000\n",
       "dtype: float64"
      ]
     },
     "execution_count": 37,
     "metadata": {},
     "output_type": "execute_result"
    }
   ],
   "source": [
    "churn.median()"
   ]
  },
  {
   "cell_type": "code",
   "execution_count": 38,
   "id": "df65e271",
   "metadata": {},
   "outputs": [
    {
     "name": "stderr",
     "output_type": "stream",
     "text": [
      "C:\\Users\\Hp\\AppData\\Local\\Temp/ipykernel_14808/2879432334.py:4: FutureWarning: Dropping of nuisance columns in DataFrame reductions (with 'numeric_only=None') is deprecated; in a future version this will raise TypeError.  Select only valid columns before calling the reduction.\n",
      "  churn.var()\n"
     ]
    },
    {
     "data": {
      "text/plain": [
       "Count              0.000000e+00\n",
       "Zip Code           3.481189e+06\n",
       "Latitude           6.030573e+00\n",
       "Longitude          4.656485e+00\n",
       "Tenure Months      6.031681e+02\n",
       "Monthly Charges    9.054109e+02\n",
       "Churn Value        1.949764e-01\n",
       "Churn Score        4.633313e+02\n",
       "CLTV               1.399624e+06\n",
       "dtype: float64"
      ]
     },
     "execution_count": 38,
     "metadata": {},
     "output_type": "execute_result"
    }
   ],
   "source": [
    "# measures of central dispersion\n",
    "# sd,variance,IQR,skewness\n",
    "#these are for analyzing spread of data.\n",
    "churn.var()"
   ]
  },
  {
   "cell_type": "markdown",
   "id": "bacc590a",
   "metadata": {},
   "source": [
    "IQR can be calculated by 75%-25%. for numerical columns we calcuted iqr.for unsymmetric data measure of central dispersion is IQR.if any null values are there, we will replace it by it."
   ]
  },
  {
   "cell_type": "code",
   "execution_count": 39,
   "id": "6725451e",
   "metadata": {},
   "outputs": [
    {
     "name": "stdout",
     "output_type": "stream",
     "text": [
      "Count iQR 0.0\n",
      "Zip Code iQR 3249.0\n",
      "Latitude iQR 4.193953999999998\n",
      "Longitude iQR 3.77217499999999\n",
      "Tenure Months iQR 46.0\n",
      "Monthly Charges iQR 54.349999999999994\n",
      "Churn Value iQR 1.0\n",
      "Churn Score iQR 35.0\n",
      "CLTV iQR 1911.5\n"
     ]
    }
   ],
   "source": [
    "# IQR=75%-25%\n",
    "iQR=[]\n",
    "for col in churn:\n",
    "    if churn[col].dtype == 'float64':\n",
    "        (q3,q1)=np.percentile(churn[col],[75,25])\n",
    "        print(col,'iQR',q3-q1)\n"
   ]
  },
  {
   "cell_type": "markdown",
   "id": "e8f9ae9d",
   "metadata": {},
   "source": [
    "std is standard deviation, whch is square root of variance. sd or std will have same unit with mean.for symmetric data measure of central dispersion is sd.if any missing values present , we will replace it with it.It is calcluted for numerical values. when we use describe function also. we get sd for numerical columns."
   ]
  },
  {
   "cell_type": "code",
   "execution_count": 40,
   "id": "d61a0408",
   "metadata": {},
   "outputs": [
    {
     "name": "stderr",
     "output_type": "stream",
     "text": [
      "C:\\Users\\Hp\\AppData\\Local\\Temp/ipykernel_14808/3190221948.py:1: FutureWarning: Dropping of nuisance columns in DataFrame reductions (with 'numeric_only=None') is deprecated; in a future version this will raise TypeError.  Select only valid columns before calling the reduction.\n",
      "  churn.std()\n"
     ]
    },
    {
     "data": {
      "text/plain": [
       "Count                 0.000000\n",
       "Zip Code           1865.794555\n",
       "Latitude              2.455723\n",
       "Longitude             2.157889\n",
       "Tenure Months        24.559481\n",
       "Monthly Charges      30.090047\n",
       "Churn Value           0.441561\n",
       "Churn Score          21.525131\n",
       "CLTV               1183.057152\n",
       "dtype: float64"
      ]
     },
     "execution_count": 40,
     "metadata": {},
     "output_type": "execute_result"
    }
   ],
   "source": [
    "churn.std()"
   ]
  },
  {
   "cell_type": "markdown",
   "id": "66f8fa76",
   "metadata": {},
   "source": [
    "skew function is for finding skewness value.it is usefull to differentiate data as symmetric & unsymmetric.If skewness value is in between 0.5 to -0.5 then it is considered as approximately symmetric data.If it is between +/- 0.5 to +/- 1 then it is moderately skewed data. if it is more than that it is fully skewed data. if values are +,then it is positively skewed/right skewed data.it values ae - ,then it is negatively skewed or left skewed data."
   ]
  },
  {
   "cell_type": "code",
   "execution_count": 41,
   "id": "7fafbcca",
   "metadata": {},
   "outputs": [
    {
     "name": "stderr",
     "output_type": "stream",
     "text": [
      "C:\\Users\\Hp\\AppData\\Local\\Temp/ipykernel_14808/2577693554.py:1: FutureWarning: Dropping of nuisance columns in DataFrame reductions (with 'numeric_only=None') is deprecated; in a future version this will raise TypeError.  Select only valid columns before calling the reduction.\n",
      "  churn.skew()\n"
     ]
    },
    {
     "data": {
      "text/plain": [
       "Count              0.000000\n",
       "Zip Code          -0.251463\n",
       "Latitude           0.303867\n",
       "Longitude         -0.040792\n",
       "Tenure Months      0.239540\n",
       "Monthly Charges   -0.220524\n",
       "Churn Value        1.063031\n",
       "Churn Score       -0.089840\n",
       "CLTV              -0.311602\n",
       "dtype: float64"
      ]
     },
     "execution_count": 41,
     "metadata": {},
     "output_type": "execute_result"
    }
   ],
   "source": [
    "churn.skew()"
   ]
  },
  {
   "cell_type": "markdown",
   "id": "7e30e8b8",
   "metadata": {},
   "source": [
    "Here churn value column skewness value is greater than 1, so it is fully skewed data.total charges is less than 1, so it is moderately skewed data.count is 0. so it is symmetric data.other columns are approximaely symmetric data.if there are missing values in columns, based on skewness value, we decide it is symmetric or not. if it is symmetric we will replace with mean,for unsymmetric, we replace with median.we calculate masure of central dispersion for symmetric with sd and unsymmetric with IQR which is not effect by outliers.so this is statistical analysis of this data. with this we can get information of distribution of data and unlikiness of data."
   ]
  },
  {
   "cell_type": "markdown",
   "id": "d68826f5",
   "metadata": {},
   "source": [
    "## Exploratory data analysis with code & plots"
   ]
  },
  {
   "cell_type": "markdown",
   "id": "f3948e5d",
   "metadata": {},
   "source": [
    "\n",
    "## Q3: What is the percentage of females and senior citizens in this data set? Please create appropriate plots and explain the plots\n",
    "To find females percentage and senior citizens percentage,we need data from 2 columns called gender and senior citizens. as both are categorical columns.to calculate percentage from categorical columns pie chart is best to use.so we plot 2 pie plots for gender and senior citizens.first calculate count of males and females in gender we use value_counts function.In senior citizen column caclutae count of yes or no using value_counts.here yes means how many senior citizens present in data.\n"
   ]
  },
  {
   "cell_type": "code",
   "execution_count": 29,
   "id": "9e1c0798",
   "metadata": {},
   "outputs": [
    {
     "data": {
      "image/png": "[encoded data removed]",
      "text/plain": [
       "<Figure size 432x288 with 1 Axes>"
      ]
     },
     "metadata": {},
     "output_type": "display_data"
    }
   ],
   "source": [
    "\n",
    "count=churn['Gender'].value_counts()# counting how many female & male\n",
    "plt.pie(count,labels=['Male','Female'],autopct='%1.1f%%') # pie chart syntax\n",
    "plt.title('percentage of males & females')# title name\n",
    "plt.show()"
   ]
  },
  {
   "cell_type": "markdown",
   "id": "4167dfd4",
   "metadata": {},
   "source": [
    "Here,orange color part is females,so 49.5% females are there in data."
   ]
  },
  {
   "cell_type": "code",
   "execution_count": 30,
   "id": "752e09df",
   "metadata": {},
   "outputs": [
    {
     "data": {
      "image/png": "[encoded data removed]",
      "text/plain": [
       "<Figure size 432x288 with 1 Axes>"
      ]
     },
     "metadata": {},
     "output_type": "display_data"
    }
   ],
   "source": [
    "count=churn['Senior Citizen'].value_counts() # count of senior citizen present \n",
    "plt.pie(count,labels=['no','yes'],autopct='%1.1f%%')# pie chart syntax\n",
    "plt.title('percentage of Senior Citizen')# title name\n",
    "plt.show()"
   ]
  },
  {
   "cell_type": "markdown",
   "id": "d2430b57",
   "metadata": {},
   "source": [
    "Here from above  plot,orange part(yes) is presence of senior citizens,so 16.2% senior citigens from percantage of senior citizen chart are present in this data."
   ]
  },
  {
   "cell_type": "markdown",
   "id": "8c5a94e1",
   "metadata": {},
   "source": [
    "## Q4:  Please create an appropriate plot to examine the distribution of the tenure month column and explain the distribution. Based on distribution, perform appropriate statistical measures. Please also explain if the variable is symmetric or skewed. Please calculate it. Explain everything as asked.\n",
    "As tenure month column numerical columns & to examine distribution for numerical we use hist plot to check symmetric or not,& also we will calculate skew value to confirm.If skewness value is in between 0.5 to -0.5 then it is considered as approximately symmetric data.If it is between +/- 0.5 to +/- 1 then it is moderately skewed data. if it is more than that it is fully skewed data. if values are +,then it is positively skewed/right skewed data.it values ae - ,then it is negatively skewed or left skewed data. If it is symmetric data, statistical measure are mean for measures of central tendency & sd for measures of central dispersion.It it is unsymmetric/skewed statistical measure are median for measures of central tendency & IQR for measures of central dispersion"
   ]
  },
  {
   "cell_type": "code",
   "execution_count": 36,
   "id": "02325eb2",
   "metadata": {},
   "outputs": [
    {
     "data": {
      "image/png": "[encoded data removed]",
      "text/plain": [
       "<Figure size 432x288 with 1 Axes>"
      ]
     },
     "metadata": {
      "needs_background": "light"
     },
     "output_type": "display_data"
    }
   ],
   "source": [
    "plt.hist(churn['Tenure Months']) # hist plot for distribution\n",
    "plt.title('distribution of tenure months')# title name\n",
    "plt.xlabel('tenure months')# x-axis name\n",
    "plt.ylabel('frequency')# y-axis name\n",
    "plt.show()"
   ]
  },
  {
   "cell_type": "markdown",
   "id": "8dd2a355",
   "metadata": {},
   "source": [
    "From the plot, we can see data is distributed more in betwen 5-65 months and almost evenly around 400-800 times means customers,only little data is uneven from 0-5 & 65-70 months are from 1600 customers and 1000 customers..so it is considered as approximaely symmetric data."
   ]
  },
  {
   "cell_type": "code",
   "execution_count": 37,
   "id": "b941c63e",
   "metadata": {},
   "outputs": [
    {
     "data": {
      "text/plain": [
       "0.2395397495619829"
      ]
     },
     "execution_count": 37,
     "metadata": {},
     "output_type": "execute_result"
    }
   ],
   "source": [
    "churn['Tenure Months'].skew()"
   ]
  },
  {
   "cell_type": "markdown",
   "id": "e4b0d633",
   "metadata": {},
   "source": [
    "From the plot, we can see data is distributed more in between 5-65 and almost evenly,only little data is uneven from 0-5 & 65-70.so i is considered as approximaely symmetric data.\n",
    "As it is less than 0.5 ,it is considered as almost symmetric data.so, we can find mean and std for measures of central tendency & dispersion."
   ]
  },
  {
   "cell_type": "code",
   "execution_count": 38,
   "id": "5ffd55c0",
   "metadata": {},
   "outputs": [
    {
     "data": {
      "text/plain": [
       "32.37114865824223"
      ]
     },
     "execution_count": 38,
     "metadata": {},
     "output_type": "execute_result"
    }
   ],
   "source": [
    "churn['Tenure Months'].mean()# measure of central tendency"
   ]
  },
  {
   "cell_type": "code",
   "execution_count": 39,
   "id": "cecec5a3",
   "metadata": {},
   "outputs": [
    {
     "data": {
      "text/plain": [
       "24.55948102309432"
      ]
     },
     "execution_count": 39,
     "metadata": {},
     "output_type": "execute_result"
    }
   ],
   "source": [
    "churn['Tenure Months'].std()# measure of central dispersion"
   ]
  },
  {
   "cell_type": "markdown",
   "id": "87685bb7",
   "metadata": {},
   "source": [
    "Here statistical measures of tenure months are mean with 32.37 & standard deviation with 24.55"
   ]
  },
  {
   "cell_type": "markdown",
   "id": "96902dd2",
   "metadata": {},
   "source": [
    "## Q5: Please convert all binary columns into 0 and 1 using appropriate programming constructs, not one by one.\n",
    "Here binary columns are categorical columns which values are only 2 either 0 or 1,yes/no or any thing which consists of only 2 values.we have to identify columns with 2 values from categorical columns using value_counts().sum().after we will replace their values into 0,1."
   ]
  },
  {
   "cell_type": "code",
   "execution_count": 66,
   "id": "e246ec35",
   "metadata": {},
   "outputs": [
    {
     "data": {
      "text/plain": [
       "['Gender',\n",
       " 'Senior Citizen',\n",
       " 'Partner',\n",
       " 'Dependents',\n",
       " 'Phone Service',\n",
       " 'Paperless Billing',\n",
       " 'Churn Label']"
      ]
     },
     "execution_count": 66,
     "metadata": {},
     "output_type": "execute_result"
    }
   ],
   "source": [
    "df=[]\n",
    "for col in churn:\n",
    "    if churn[col].dtype =='float64':\n",
    "        pass\n",
    "    else:\n",
    "        if len(churn[col].value_counts())==2:\n",
    "            df.append(col)\n",
    "df            "
   ]
  },
  {
   "cell_type": "markdown",
   "id": "de9d0a94",
   "metadata": {},
   "source": [
    "Now, we got the list of categorical columns having 2 values, which can be converted to binary format 0,1.By using for loop we replace for each column in df, we replace values with 0,1.we can use value_counts ,it will gives in dictionary format of values & its count.when we will select keys of value counts of each column in list df and replace it with 0,1. Here the values are columns will convert according to below table."
   ]
  },
  {
   "cell_type": "markdown",
   "id": "a8a13098",
   "metadata": {},
   "source": [
    "|column|value|binary|\n",
    "|---|---|---|\n",
    "|Gender|male,female|0,1|\n",
    "|Senior citizen|no,yes|0,1|\n",
    "|Partner|no,yes|0,1|\n",
    "|Dependents|no,yes|0,1|\n",
    "|phone service|yes,no|0,1|\n",
    "|paperless billing|no,yes|0,1\n",
    "|churn label|yes,no|0,1|"
   ]
  },
  {
   "cell_type": "code",
   "execution_count": 81,
   "id": "4cf1703e",
   "metadata": {},
   "outputs": [],
   "source": [
    "for i in df:\n",
    "    churn[i]=churn[i].replace(churn[i].value_counts().keys(),[0,1])\n",
    "    "
   ]
  },
  {
   "cell_type": "markdown",
   "id": "36548334",
   "metadata": {},
   "source": [
    "We will check,whether it changed o binary format or not using head and tail function."
   ]
  },
  {
   "cell_type": "code",
   "execution_count": 86,
   "id": "b65a3ed9",
   "metadata": {},
   "outputs": [
    {
     "data": {
      "text/html": [
       "<div>\n",
       "<style scoped>\n",
       "    .dataframe tbody tr th:only-of-type {\n",
       "        vertical-align: middle;\n",
       "    }\n",
       "\n",
       "    .dataframe tbody tr th {\n",
       "        vertical-align: top;\n",
       "    }\n",
       "\n",
       "    .dataframe thead th {\n",
       "        text-align: right;\n",
       "    }\n",
       "</style>\n",
       "<table border=\"1\" class=\"dataframe\">\n",
       "  <thead>\n",
       "    <tr style=\"text-align: right;\">\n",
       "      <th></th>\n",
       "      <th>CustomerID</th>\n",
       "      <th>Count</th>\n",
       "      <th>Country</th>\n",
       "      <th>State</th>\n",
       "      <th>City</th>\n",
       "      <th>Zip Code</th>\n",
       "      <th>Lat Long</th>\n",
       "      <th>Latitude</th>\n",
       "      <th>Longitude</th>\n",
       "      <th>Gender</th>\n",
       "      <th>Senior Citizen</th>\n",
       "      <th>Partner</th>\n",
       "      <th>Dependents</th>\n",
       "      <th>Tenure Months</th>\n",
       "      <th>Phone Service</th>\n",
       "      <th>Multiple Lines</th>\n",
       "      <th>Internet Service</th>\n",
       "      <th>Online Security</th>\n",
       "      <th>Online Backup</th>\n",
       "      <th>Device Protection</th>\n",
       "      <th>Tech Support</th>\n",
       "      <th>Streaming TV</th>\n",
       "      <th>Streaming Movies</th>\n",
       "      <th>Contract</th>\n",
       "      <th>Paperless Billing</th>\n",
       "      <th>Payment Method</th>\n",
       "      <th>Monthly Charges</th>\n",
       "      <th>Total Charges</th>\n",
       "      <th>Churn Label</th>\n",
       "      <th>Churn Value</th>\n",
       "      <th>Churn Score</th>\n",
       "      <th>CLTV</th>\n",
       "      <th>Churn Reason</th>\n",
       "    </tr>\n",
       "  </thead>\n",
       "  <tbody>\n",
       "    <tr>\n",
       "      <th>0</th>\n",
       "      <td>3668-QPYBK</td>\n",
       "      <td>1.0</td>\n",
       "      <td>United States</td>\n",
       "      <td>California</td>\n",
       "      <td>Los Angeles</td>\n",
       "      <td>90003.0</td>\n",
       "      <td>33.964131, -118.272783</td>\n",
       "      <td>33.964131</td>\n",
       "      <td>-118.272783</td>\n",
       "      <td>0</td>\n",
       "      <td>0</td>\n",
       "      <td>0</td>\n",
       "      <td>0</td>\n",
       "      <td>2.0</td>\n",
       "      <td>0</td>\n",
       "      <td>No</td>\n",
       "      <td>DSL</td>\n",
       "      <td>Yes</td>\n",
       "      <td>Yes</td>\n",
       "      <td>No</td>\n",
       "      <td>No</td>\n",
       "      <td>No</td>\n",
       "      <td>No</td>\n",
       "      <td>Month-to-month</td>\n",
       "      <td>0</td>\n",
       "      <td>Mailed check</td>\n",
       "      <td>53.85</td>\n",
       "      <td>108.15</td>\n",
       "      <td>1</td>\n",
       "      <td>1.0</td>\n",
       "      <td>86.0</td>\n",
       "      <td>3239.0</td>\n",
       "      <td>Competitor made better offer</td>\n",
       "    </tr>\n",
       "    <tr>\n",
       "      <th>1</th>\n",
       "      <td>9237-HQITU</td>\n",
       "      <td>1.0</td>\n",
       "      <td>United States</td>\n",
       "      <td>California</td>\n",
       "      <td>Los Angeles</td>\n",
       "      <td>90005.0</td>\n",
       "      <td>34.059281, -118.30742</td>\n",
       "      <td>34.059281</td>\n",
       "      <td>-118.307420</td>\n",
       "      <td>1</td>\n",
       "      <td>0</td>\n",
       "      <td>0</td>\n",
       "      <td>1</td>\n",
       "      <td>2.0</td>\n",
       "      <td>0</td>\n",
       "      <td>No</td>\n",
       "      <td>Fiber optic</td>\n",
       "      <td>No</td>\n",
       "      <td>No</td>\n",
       "      <td>No</td>\n",
       "      <td>No</td>\n",
       "      <td>No</td>\n",
       "      <td>No</td>\n",
       "      <td>Month-to-month</td>\n",
       "      <td>0</td>\n",
       "      <td>Electronic check</td>\n",
       "      <td>70.70</td>\n",
       "      <td>151.65</td>\n",
       "      <td>1</td>\n",
       "      <td>1.0</td>\n",
       "      <td>67.0</td>\n",
       "      <td>2701.0</td>\n",
       "      <td>Moved</td>\n",
       "    </tr>\n",
       "    <tr>\n",
       "      <th>2</th>\n",
       "      <td>9305-CDSKC</td>\n",
       "      <td>1.0</td>\n",
       "      <td>United States</td>\n",
       "      <td>California</td>\n",
       "      <td>Los Angeles</td>\n",
       "      <td>90006.0</td>\n",
       "      <td>34.048013, -118.293953</td>\n",
       "      <td>34.048013</td>\n",
       "      <td>-118.293953</td>\n",
       "      <td>1</td>\n",
       "      <td>0</td>\n",
       "      <td>0</td>\n",
       "      <td>1</td>\n",
       "      <td>8.0</td>\n",
       "      <td>0</td>\n",
       "      <td>Yes</td>\n",
       "      <td>Fiber optic</td>\n",
       "      <td>No</td>\n",
       "      <td>No</td>\n",
       "      <td>Yes</td>\n",
       "      <td>No</td>\n",
       "      <td>Yes</td>\n",
       "      <td>Yes</td>\n",
       "      <td>Month-to-month</td>\n",
       "      <td>0</td>\n",
       "      <td>Electronic check</td>\n",
       "      <td>99.65</td>\n",
       "      <td>820.50</td>\n",
       "      <td>1</td>\n",
       "      <td>1.0</td>\n",
       "      <td>86.0</td>\n",
       "      <td>5372.0</td>\n",
       "      <td>Moved</td>\n",
       "    </tr>\n",
       "    <tr>\n",
       "      <th>3</th>\n",
       "      <td>7892-POOKP</td>\n",
       "      <td>1.0</td>\n",
       "      <td>United States</td>\n",
       "      <td>California</td>\n",
       "      <td>Los Angeles</td>\n",
       "      <td>90010.0</td>\n",
       "      <td>34.062125, -118.315709</td>\n",
       "      <td>34.062125</td>\n",
       "      <td>-118.315709</td>\n",
       "      <td>1</td>\n",
       "      <td>0</td>\n",
       "      <td>1</td>\n",
       "      <td>1</td>\n",
       "      <td>28.0</td>\n",
       "      <td>0</td>\n",
       "      <td>Yes</td>\n",
       "      <td>Fiber optic</td>\n",
       "      <td>No</td>\n",
       "      <td>No</td>\n",
       "      <td>Yes</td>\n",
       "      <td>Yes</td>\n",
       "      <td>Yes</td>\n",
       "      <td>Yes</td>\n",
       "      <td>Month-to-month</td>\n",
       "      <td>0</td>\n",
       "      <td>Electronic check</td>\n",
       "      <td>104.80</td>\n",
       "      <td>3046.05</td>\n",
       "      <td>1</td>\n",
       "      <td>1.0</td>\n",
       "      <td>84.0</td>\n",
       "      <td>5003.0</td>\n",
       "      <td>Moved</td>\n",
       "    </tr>\n",
       "    <tr>\n",
       "      <th>4</th>\n",
       "      <td>0280-XJGEX</td>\n",
       "      <td>1.0</td>\n",
       "      <td>United States</td>\n",
       "      <td>California</td>\n",
       "      <td>Los Angeles</td>\n",
       "      <td>90015.0</td>\n",
       "      <td>34.039224, -118.266293</td>\n",
       "      <td>34.039224</td>\n",
       "      <td>-118.266293</td>\n",
       "      <td>0</td>\n",
       "      <td>0</td>\n",
       "      <td>0</td>\n",
       "      <td>1</td>\n",
       "      <td>49.0</td>\n",
       "      <td>0</td>\n",
       "      <td>Yes</td>\n",
       "      <td>Fiber optic</td>\n",
       "      <td>No</td>\n",
       "      <td>Yes</td>\n",
       "      <td>Yes</td>\n",
       "      <td>No</td>\n",
       "      <td>Yes</td>\n",
       "      <td>Yes</td>\n",
       "      <td>Month-to-month</td>\n",
       "      <td>0</td>\n",
       "      <td>Bank transfer (automatic)</td>\n",
       "      <td>103.70</td>\n",
       "      <td>5036.30</td>\n",
       "      <td>1</td>\n",
       "      <td>1.0</td>\n",
       "      <td>89.0</td>\n",
       "      <td>5340.0</td>\n",
       "      <td>Competitor had better devices</td>\n",
       "    </tr>\n",
       "  </tbody>\n",
       "</table>\n",
       "</div>"
      ],
      "text/plain": [
       "   CustomerID  Count        Country       State         City  Zip Code  \\\n",
       "0  3668-QPYBK    1.0  United States  California  Los Angeles   90003.0   \n",
       "1  9237-HQITU    1.0  United States  California  Los Angeles   90005.0   \n",
       "2  9305-CDSKC    1.0  United States  California  Los Angeles   90006.0   \n",
       "3  7892-POOKP    1.0  United States  California  Los Angeles   90010.0   \n",
       "4  0280-XJGEX    1.0  United States  California  Los Angeles   90015.0   \n",
       "\n",
       "                 Lat Long   Latitude   Longitude  Gender  Senior Citizen  \\\n",
       "0  33.964131, -118.272783  33.964131 -118.272783       0               0   \n",
       "1   34.059281, -118.30742  34.059281 -118.307420       1               0   \n",
       "2  34.048013, -118.293953  34.048013 -118.293953       1               0   \n",
       "3  34.062125, -118.315709  34.062125 -118.315709       1               0   \n",
       "4  34.039224, -118.266293  34.039224 -118.266293       0               0   \n",
       "\n",
       "   Partner  Dependents  Tenure Months  Phone Service Multiple Lines  \\\n",
       "0        0           0            2.0              0             No   \n",
       "1        0           1            2.0              0             No   \n",
       "2        0           1            8.0              0            Yes   \n",
       "3        1           1           28.0              0            Yes   \n",
       "4        0           1           49.0              0            Yes   \n",
       "\n",
       "  Internet Service Online Security Online Backup Device Protection  \\\n",
       "0              DSL             Yes           Yes                No   \n",
       "1      Fiber optic              No            No                No   \n",
       "2      Fiber optic              No            No               Yes   \n",
       "3      Fiber optic              No            No               Yes   \n",
       "4      Fiber optic              No           Yes               Yes   \n",
       "\n",
       "  Tech Support Streaming TV Streaming Movies        Contract  \\\n",
       "0           No           No               No  Month-to-month   \n",
       "1           No           No               No  Month-to-month   \n",
       "2           No          Yes              Yes  Month-to-month   \n",
       "3          Yes          Yes              Yes  Month-to-month   \n",
       "4           No          Yes              Yes  Month-to-month   \n",
       "\n",
       "   Paperless Billing             Payment Method  Monthly Charges  \\\n",
       "0                  0               Mailed check            53.85   \n",
       "1                  0           Electronic check            70.70   \n",
       "2                  0           Electronic check            99.65   \n",
       "3                  0           Electronic check           104.80   \n",
       "4                  0  Bank transfer (automatic)           103.70   \n",
       "\n",
       "   Total Charges  Churn Label  Churn Value  Churn Score    CLTV  \\\n",
       "0         108.15            1          1.0         86.0  3239.0   \n",
       "1         151.65            1          1.0         67.0  2701.0   \n",
       "2         820.50            1          1.0         86.0  5372.0   \n",
       "3        3046.05            1          1.0         84.0  5003.0   \n",
       "4        5036.30            1          1.0         89.0  5340.0   \n",
       "\n",
       "                    Churn Reason  \n",
       "0   Competitor made better offer  \n",
       "1                          Moved  \n",
       "2                          Moved  \n",
       "3                          Moved  \n",
       "4  Competitor had better devices  "
      ]
     },
     "execution_count": 86,
     "metadata": {},
     "output_type": "execute_result"
    }
   ],
   "source": [
    "churn.head()"
   ]
  },
  {
   "cell_type": "code",
   "execution_count": 87,
   "id": "a86e29d0",
   "metadata": {},
   "outputs": [
    {
     "data": {
      "text/html": [
       "<div>\n",
       "<style scoped>\n",
       "    .dataframe tbody tr th:only-of-type {\n",
       "        vertical-align: middle;\n",
       "    }\n",
       "\n",
       "    .dataframe tbody tr th {\n",
       "        vertical-align: top;\n",
       "    }\n",
       "\n",
       "    .dataframe thead th {\n",
       "        text-align: right;\n",
       "    }\n",
       "</style>\n",
       "<table border=\"1\" class=\"dataframe\">\n",
       "  <thead>\n",
       "    <tr style=\"text-align: right;\">\n",
       "      <th></th>\n",
       "      <th>CustomerID</th>\n",
       "      <th>Count</th>\n",
       "      <th>Country</th>\n",
       "      <th>State</th>\n",
       "      <th>City</th>\n",
       "      <th>Zip Code</th>\n",
       "      <th>Lat Long</th>\n",
       "      <th>Latitude</th>\n",
       "      <th>Longitude</th>\n",
       "      <th>Gender</th>\n",
       "      <th>Senior Citizen</th>\n",
       "      <th>Partner</th>\n",
       "      <th>Dependents</th>\n",
       "      <th>Tenure Months</th>\n",
       "      <th>Phone Service</th>\n",
       "      <th>Multiple Lines</th>\n",
       "      <th>Internet Service</th>\n",
       "      <th>Online Security</th>\n",
       "      <th>Online Backup</th>\n",
       "      <th>Device Protection</th>\n",
       "      <th>Tech Support</th>\n",
       "      <th>Streaming TV</th>\n",
       "      <th>Streaming Movies</th>\n",
       "      <th>Contract</th>\n",
       "      <th>Paperless Billing</th>\n",
       "      <th>Payment Method</th>\n",
       "      <th>Monthly Charges</th>\n",
       "      <th>Total Charges</th>\n",
       "      <th>Churn Label</th>\n",
       "      <th>Churn Value</th>\n",
       "      <th>Churn Score</th>\n",
       "      <th>CLTV</th>\n",
       "      <th>Churn Reason</th>\n",
       "    </tr>\n",
       "  </thead>\n",
       "  <tbody>\n",
       "    <tr>\n",
       "      <th>7038</th>\n",
       "      <td>2569-WGERO</td>\n",
       "      <td>1.0</td>\n",
       "      <td>United States</td>\n",
       "      <td>California</td>\n",
       "      <td>Landers</td>\n",
       "      <td>92285.0</td>\n",
       "      <td>34.341737, -116.539416</td>\n",
       "      <td>34.341737</td>\n",
       "      <td>-116.539416</td>\n",
       "      <td>1</td>\n",
       "      <td>0</td>\n",
       "      <td>0</td>\n",
       "      <td>0</td>\n",
       "      <td>72.0</td>\n",
       "      <td>0</td>\n",
       "      <td>No</td>\n",
       "      <td>No</td>\n",
       "      <td>No internet service</td>\n",
       "      <td>No internet service</td>\n",
       "      <td>No internet service</td>\n",
       "      <td>No internet service</td>\n",
       "      <td>No internet service</td>\n",
       "      <td>No internet service</td>\n",
       "      <td>Two year</td>\n",
       "      <td>0</td>\n",
       "      <td>Bank transfer (automatic)</td>\n",
       "      <td>21.15</td>\n",
       "      <td>1419.40</td>\n",
       "      <td>0</td>\n",
       "      <td>0.0</td>\n",
       "      <td>45.0</td>\n",
       "      <td>5306.0</td>\n",
       "      <td>NaN</td>\n",
       "    </tr>\n",
       "    <tr>\n",
       "      <th>7039</th>\n",
       "      <td>6840-RESVB</td>\n",
       "      <td>1.0</td>\n",
       "      <td>United States</td>\n",
       "      <td>California</td>\n",
       "      <td>Adelanto</td>\n",
       "      <td>92301.0</td>\n",
       "      <td>34.667815, -117.536183</td>\n",
       "      <td>34.667815</td>\n",
       "      <td>-117.536183</td>\n",
       "      <td>0</td>\n",
       "      <td>0</td>\n",
       "      <td>1</td>\n",
       "      <td>1</td>\n",
       "      <td>24.0</td>\n",
       "      <td>0</td>\n",
       "      <td>Yes</td>\n",
       "      <td>DSL</td>\n",
       "      <td>Yes</td>\n",
       "      <td>No</td>\n",
       "      <td>Yes</td>\n",
       "      <td>Yes</td>\n",
       "      <td>Yes</td>\n",
       "      <td>Yes</td>\n",
       "      <td>One year</td>\n",
       "      <td>0</td>\n",
       "      <td>Mailed check</td>\n",
       "      <td>84.80</td>\n",
       "      <td>1990.50</td>\n",
       "      <td>0</td>\n",
       "      <td>0.0</td>\n",
       "      <td>59.0</td>\n",
       "      <td>2140.0</td>\n",
       "      <td>NaN</td>\n",
       "    </tr>\n",
       "    <tr>\n",
       "      <th>7040</th>\n",
       "      <td>2234-XADUH</td>\n",
       "      <td>1.0</td>\n",
       "      <td>United States</td>\n",
       "      <td>California</td>\n",
       "      <td>Amboy</td>\n",
       "      <td>92304.0</td>\n",
       "      <td>34.559882, -115.637164</td>\n",
       "      <td>34.559882</td>\n",
       "      <td>-115.637164</td>\n",
       "      <td>1</td>\n",
       "      <td>0</td>\n",
       "      <td>1</td>\n",
       "      <td>1</td>\n",
       "      <td>72.0</td>\n",
       "      <td>0</td>\n",
       "      <td>Yes</td>\n",
       "      <td>Fiber optic</td>\n",
       "      <td>No</td>\n",
       "      <td>Yes</td>\n",
       "      <td>Yes</td>\n",
       "      <td>No</td>\n",
       "      <td>Yes</td>\n",
       "      <td>Yes</td>\n",
       "      <td>One year</td>\n",
       "      <td>0</td>\n",
       "      <td>Credit card (automatic)</td>\n",
       "      <td>103.20</td>\n",
       "      <td>7362.90</td>\n",
       "      <td>0</td>\n",
       "      <td>0.0</td>\n",
       "      <td>71.0</td>\n",
       "      <td>5560.0</td>\n",
       "      <td>NaN</td>\n",
       "    </tr>\n",
       "    <tr>\n",
       "      <th>7041</th>\n",
       "      <td>4801-JZAZL</td>\n",
       "      <td>1.0</td>\n",
       "      <td>United States</td>\n",
       "      <td>California</td>\n",
       "      <td>Angelus Oaks</td>\n",
       "      <td>92305.0</td>\n",
       "      <td>34.1678, -116.86433</td>\n",
       "      <td>34.167800</td>\n",
       "      <td>-116.864330</td>\n",
       "      <td>1</td>\n",
       "      <td>0</td>\n",
       "      <td>1</td>\n",
       "      <td>1</td>\n",
       "      <td>11.0</td>\n",
       "      <td>1</td>\n",
       "      <td>No phone service</td>\n",
       "      <td>DSL</td>\n",
       "      <td>Yes</td>\n",
       "      <td>No</td>\n",
       "      <td>No</td>\n",
       "      <td>No</td>\n",
       "      <td>No</td>\n",
       "      <td>No</td>\n",
       "      <td>Month-to-month</td>\n",
       "      <td>0</td>\n",
       "      <td>Electronic check</td>\n",
       "      <td>29.60</td>\n",
       "      <td>346.45</td>\n",
       "      <td>0</td>\n",
       "      <td>0.0</td>\n",
       "      <td>59.0</td>\n",
       "      <td>2793.0</td>\n",
       "      <td>NaN</td>\n",
       "    </tr>\n",
       "    <tr>\n",
       "      <th>7042</th>\n",
       "      <td>3186-AJIEK</td>\n",
       "      <td>1.0</td>\n",
       "      <td>United States</td>\n",
       "      <td>California</td>\n",
       "      <td>Apple Valley</td>\n",
       "      <td>92308.0</td>\n",
       "      <td>34.424926, -117.184503</td>\n",
       "      <td>34.424926</td>\n",
       "      <td>-117.184503</td>\n",
       "      <td>0</td>\n",
       "      <td>0</td>\n",
       "      <td>0</td>\n",
       "      <td>0</td>\n",
       "      <td>66.0</td>\n",
       "      <td>0</td>\n",
       "      <td>No</td>\n",
       "      <td>Fiber optic</td>\n",
       "      <td>Yes</td>\n",
       "      <td>No</td>\n",
       "      <td>Yes</td>\n",
       "      <td>Yes</td>\n",
       "      <td>Yes</td>\n",
       "      <td>Yes</td>\n",
       "      <td>Two year</td>\n",
       "      <td>0</td>\n",
       "      <td>Bank transfer (automatic)</td>\n",
       "      <td>105.65</td>\n",
       "      <td>6844.50</td>\n",
       "      <td>0</td>\n",
       "      <td>0.0</td>\n",
       "      <td>38.0</td>\n",
       "      <td>5097.0</td>\n",
       "      <td>NaN</td>\n",
       "    </tr>\n",
       "  </tbody>\n",
       "</table>\n",
       "</div>"
      ],
      "text/plain": [
       "      CustomerID  Count        Country       State          City  Zip Code  \\\n",
       "7038  2569-WGERO    1.0  United States  California       Landers   92285.0   \n",
       "7039  6840-RESVB    1.0  United States  California      Adelanto   92301.0   \n",
       "7040  2234-XADUH    1.0  United States  California         Amboy   92304.0   \n",
       "7041  4801-JZAZL    1.0  United States  California  Angelus Oaks   92305.0   \n",
       "7042  3186-AJIEK    1.0  United States  California  Apple Valley   92308.0   \n",
       "\n",
       "                    Lat Long   Latitude   Longitude  Gender  Senior Citizen  \\\n",
       "7038  34.341737, -116.539416  34.341737 -116.539416       1               0   \n",
       "7039  34.667815, -117.536183  34.667815 -117.536183       0               0   \n",
       "7040  34.559882, -115.637164  34.559882 -115.637164       1               0   \n",
       "7041     34.1678, -116.86433  34.167800 -116.864330       1               0   \n",
       "7042  34.424926, -117.184503  34.424926 -117.184503       0               0   \n",
       "\n",
       "      Partner  Dependents  Tenure Months  Phone Service    Multiple Lines  \\\n",
       "7038        0           0           72.0              0                No   \n",
       "7039        1           1           24.0              0               Yes   \n",
       "7040        1           1           72.0              0               Yes   \n",
       "7041        1           1           11.0              1  No phone service   \n",
       "7042        0           0           66.0              0                No   \n",
       "\n",
       "     Internet Service      Online Security        Online Backup  \\\n",
       "7038               No  No internet service  No internet service   \n",
       "7039              DSL                  Yes                   No   \n",
       "7040      Fiber optic                   No                  Yes   \n",
       "7041              DSL                  Yes                   No   \n",
       "7042      Fiber optic                  Yes                   No   \n",
       "\n",
       "        Device Protection         Tech Support         Streaming TV  \\\n",
       "7038  No internet service  No internet service  No internet service   \n",
       "7039                  Yes                  Yes                  Yes   \n",
       "7040                  Yes                   No                  Yes   \n",
       "7041                   No                   No                   No   \n",
       "7042                  Yes                  Yes                  Yes   \n",
       "\n",
       "         Streaming Movies        Contract  Paperless Billing  \\\n",
       "7038  No internet service        Two year                  0   \n",
       "7039                  Yes        One year                  0   \n",
       "7040                  Yes        One year                  0   \n",
       "7041                   No  Month-to-month                  0   \n",
       "7042                  Yes        Two year                  0   \n",
       "\n",
       "                 Payment Method  Monthly Charges  Total Charges  Churn Label  \\\n",
       "7038  Bank transfer (automatic)            21.15        1419.40            0   \n",
       "7039               Mailed check            84.80        1990.50            0   \n",
       "7040    Credit card (automatic)           103.20        7362.90            0   \n",
       "7041           Electronic check            29.60         346.45            0   \n",
       "7042  Bank transfer (automatic)           105.65        6844.50            0   \n",
       "\n",
       "      Churn Value  Churn Score    CLTV Churn Reason  \n",
       "7038          0.0         45.0  5306.0          NaN  \n",
       "7039          0.0         59.0  2140.0          NaN  \n",
       "7040          0.0         71.0  5560.0          NaN  \n",
       "7041          0.0         59.0  2793.0          NaN  \n",
       "7042          0.0         38.0  5097.0          NaN  "
      ]
     },
     "execution_count": 87,
     "metadata": {},
     "output_type": "execute_result"
    }
   ],
   "source": [
    "churn.tail()"
   ]
  },
  {
   "cell_type": "markdown",
   "id": "ebf9097f",
   "metadata": {},
   "source": [
    "## Q6: Please examine the distribution of monthly charges between males and females using box plots. Please explain the results also.\n",
    "Here we have examine distribution monthly charges of males and females. both are categories of column called gender.so we plot boxplot for monthly charges on gender column categories.we will get 2 box plots for 2 categories of gender.0 for male,1 for female.Box plot can be used for category vs numeric variables. here category is gender and numeric is monthly charges.here we take categorical value on x-axis & numerical value on y-axis."
   ]
  },
  {
   "cell_type": "code",
   "execution_count": 95,
   "id": "dd128d0e",
   "metadata": {},
   "outputs": [
    {
     "data": {
      "text/plain": [
       "[Text(0.5, 1.0, 'Monthly charges of males as 0 and females as 1')]"
      ]
     },
     "execution_count": 95,
     "metadata": {},
     "output_type": "execute_result"
    },
    {
     "data": {
      "image/png": "[encoded data removed]",
      "text/plain": [
       "<Figure size 432x288 with 1 Axes>"
      ]
     },
     "metadata": {
      "needs_background": "light"
     },
     "output_type": "display_data"
    }
   ],
   "source": [
    "sns.boxplot(y=churn['Monthly Charges'],x=churn['Gender']).set(title='Monthly charges of males as 0 and females as 1')"
   ]
  },
  {
   "cell_type": "markdown",
   "id": "f075881d",
   "metadata": {},
   "source": [
    "Here 0 with blue colur boxplot is males.1 with orange color plot os for females.we dont have outliers for both males & females.here both data looks similarly distributed. both male & female median is around 70. both max value is around 120.both min value around 10-20.both data q1 at <40.both data q3 at nearly 90.as both medians are going upwards,it is moderately left skewed data."
   ]
  },
  {
   "cell_type": "markdown",
   "id": "ddb22975",
   "metadata": {},
   "source": [
    "## Q7: Please find what is the minimum total charges for Los Angeles city. Please find which zip code has the maximum total charges.\n",
    "### Please find what is the minimum total charges for Los Angeles city\n",
    "\n",
    "For this, we need o find los angeles in city column ,and for that we need to find minimum total charges."
   ]
  },
  {
   "cell_type": "code",
   "execution_count": 97,
   "id": "be3366cb",
   "metadata": {},
   "outputs": [
    {
     "data": {
      "text/plain": [
       "18.8"
      ]
     },
     "execution_count": 97,
     "metadata": {},
     "output_type": "execute_result"
    }
   ],
   "source": [
    "churn['Total Charges'][churn['City']=='Los Angeles'].min()"
   ]
  },
  {
   "cell_type": "markdown",
   "id": "665ca22a",
   "metadata": {},
   "source": [
    "[churn['city']=='Los Angeles'] will gives los angeles details and churn['total charges'] of los angeles details give complete los angeles total chrges. when we use min() function gives minimum total charges of los angeles city.Here 18.8 is the minimum total charges for los angeles city ."
   ]
  },
  {
   "cell_type": "markdown",
   "id": "fc483798",
   "metadata": {},
   "source": [
    "### Please find which zip code has the maximum total charges.¶\n",
    "For this first we have to find max total charges and keep it in indexing of zipcode, we can get answer."
   ]
  },
  {
   "cell_type": "code",
   "execution_count": 99,
   "id": "079f2ace",
   "metadata": {},
   "outputs": [
    {
     "data": {
      "text/plain": [
       "1206    95519.0\n",
       "Name: Zip Code, dtype: float64"
      ]
     },
     "execution_count": 99,
     "metadata": {},
     "output_type": "execute_result"
    }
   ],
   "source": [
    "churn['Zip Code'][churn['Total Charges']==churn['Total Charges'].max()]"
   ]
  },
  {
   "cell_type": "markdown",
   "id": "3beaf86b",
   "metadata": {},
   "source": [
    "Here for 1206 zipcode we got 95519.0 as maximum total charges."
   ]
  },
  {
   "cell_type": "markdown",
   "id": "1c127bfe",
   "metadata": {},
   "source": [
    "## Q8: Please find which payment method has the highest churn score and which has the lowest churn score.\n",
    "we group churn score column by payment method and save in one dataframe.then we can find max & min values of 4 payment methods."
   ]
  },
  {
   "cell_type": "code",
   "execution_count": 115,
   "id": "941ca816",
   "metadata": {},
   "outputs": [],
   "source": [
    "cc_grp=churn['Churn Score'].groupby(churn['Payment Method'])"
   ]
  },
  {
   "cell_type": "code",
   "execution_count": 116,
   "id": "5d18a232",
   "metadata": {},
   "outputs": [
    {
     "data": {
      "text/plain": [
       "Payment Method\n",
       "Bank transfer (automatic)    100.0\n",
       "Credit card (automatic)      100.0\n",
       "Electronic check             100.0\n",
       "Mailed check                 100.0\n",
       "Name: Churn Score, dtype: float64"
      ]
     },
     "execution_count": 116,
     "metadata": {},
     "output_type": "execute_result"
    }
   ],
   "source": [
    "cc_grp.max()"
   ]
  },
  {
   "cell_type": "markdown",
   "id": "16190402",
   "metadata": {},
   "source": [
    "Here all 4 payment methods have hoghest churn score of 100."
   ]
  },
  {
   "cell_type": "code",
   "execution_count": 117,
   "id": "60f1108f",
   "metadata": {},
   "outputs": [
    {
     "data": {
      "text/plain": [
       "Payment Method\n",
       "Bank transfer (automatic)    8.0\n",
       "Credit card (automatic)      5.0\n",
       "Electronic check             7.0\n",
       "Mailed check                 9.0\n",
       "Name: Churn Score, dtype: float64"
      ]
     },
     "execution_count": 117,
     "metadata": {},
     "output_type": "execute_result"
    }
   ],
   "source": [
    "cc_grp.min()"
   ]
  },
  {
   "cell_type": "markdown",
   "id": "e2fed021",
   "metadata": {},
   "source": [
    "Here credit card(aotumatic) has lowest churn score with value os 5."
   ]
  },
  {
   "cell_type": "markdown",
   "id": "bccb3d41",
   "metadata": {},
   "source": [
    "To further verify highest & lowest scores of churn score are as follows."
   ]
  },
  {
   "cell_type": "code",
   "execution_count": 118,
   "id": "c32df4c2",
   "metadata": {},
   "outputs": [
    {
     "data": {
      "text/plain": [
       "100.0"
      ]
     },
     "execution_count": 118,
     "metadata": {},
     "output_type": "execute_result"
    }
   ],
   "source": [
    "churn['Churn Score'].max()"
   ]
  },
  {
   "cell_type": "code",
   "execution_count": 119,
   "id": "9e990771",
   "metadata": {},
   "outputs": [
    {
     "data": {
      "text/plain": [
       "5.0"
      ]
     },
     "execution_count": 119,
     "metadata": {},
     "output_type": "execute_result"
    }
   ],
   "source": [
    "churn['Churn Score'].min()"
   ]
  },
  {
   "cell_type": "markdown",
   "id": "bf9c4804",
   "metadata": {},
   "source": [
    "## Q9: Please create an appropriate plot to check the count of payment methods and explain it.\n",
    "Here we have to find count of payment methods using plot. count plot is best for categorical columns count display."
   ]
  },
  {
   "cell_type": "code",
   "execution_count": 127,
   "id": "07670d5f",
   "metadata": {},
   "outputs": [
    {
     "data": {
      "text/plain": [
       "Text(0.5, 1.0, 'count of payment methods')"
      ]
     },
     "execution_count": 127,
     "metadata": {},
     "output_type": "execute_result"
    },
    {
     "data": {
      "image/png": "[encoded data removed]",
      "text/plain": [
       "<Figure size 720x360 with 1 Axes>"
      ]
     },
     "metadata": {
      "needs_background": "light"
     },
     "output_type": "display_data"
    }
   ],
   "source": [
    "plt.figure(figsize=(10,5))  # for bigger size of plot\n",
    "sns.countplot(churn['Payment Method']) # syntax for count plot\n",
    "plt.title('count of payment methods')"
   ]
  },
  {
   "cell_type": "markdown",
   "id": "c29e48c0",
   "metadata": {},
   "source": [
    "* Electronic check is having more than 2000 counts & it is the more frequent payment method..\n",
    "* Mailed check have >1500 counts.\n",
    "* Bank tranfer and credit card shows almost same around 1500 & least used payment methods.."
   ]
  },
  {
   "cell_type": "code",
   "execution_count": 128,
   "id": "fb4a5e9d",
   "metadata": {},
   "outputs": [
    {
     "data": {
      "text/plain": [
       "Electronic check             2365\n",
       "Mailed check                 1612\n",
       "Bank transfer (automatic)    1544\n",
       "Credit card (automatic)      1522\n",
       "Name: Payment Method, dtype: int64"
      ]
     },
     "execution_count": 128,
     "metadata": {},
     "output_type": "execute_result"
    }
   ],
   "source": [
    "churn['Payment Method'].value_counts()  # for counts of different categories"
   ]
  },
  {
   "cell_type": "markdown",
   "id": "567dad2a",
   "metadata": {},
   "source": [
    "we can confirm with above function value_counts(), Here it shows Electronic check is highly used payment method with 2365. mailed check is > 1500 means 1612.Bank transfer & credit card are around 1500 from graph & from function it shows values of 1544 & 1522 which is least used."
   ]
  },
  {
   "cell_type": "markdown",
   "id": "da3fb37f",
   "metadata": {},
   "source": [
    "## Q10: Please create an appropriate plot to see the relationship between monthly charges and total charges.\n",
    "To check relationship between numerical variables through plot , we use scatter plot.here monthly charges & total charges both are numerical variables.so we plot scatter plot for both."
   ]
  },
  {
   "cell_type": "code",
   "execution_count": 131,
   "id": "e1bb1ded",
   "metadata": {},
   "outputs": [
    {
     "data": {
      "image/png": "[encoded data removed]",
      "text/plain": [
       "<Figure size 720x360 with 1 Axes>"
      ]
     },
     "metadata": {
      "needs_background": "light"
     },
     "output_type": "display_data"
    }
   ],
   "source": [
    "plt.figure(figsize=(10,5)) # for bigger size of plot\n",
    "plt.scatter(x=churn['Monthly Charges'],y=churn['Total Charges'])\n",
    "plt.title('Relationship between monthly & Total charges')\n",
    "plt.xlabel('Monthly Charges')\n",
    "plt.ylabel('Total Charges')\n",
    "plt.show()"
   ]
  },
  {
   "cell_type": "markdown",
   "id": "a675d449",
   "metadata": {},
   "source": [
    "Here relation between monthly & total charges is positive but with more variance.suppose for 80-100 monthly charges,total charges is (0-5000),(0-7000).for same interval total charges are changing in bigger range."
   ]
  },
  {
   "cell_type": "markdown",
   "id": "e4c6c0ac",
   "metadata": {},
   "source": [
    "## Conclusion\n",
    "First we read data & stored in dataframe called churn, we did some exploration of data like finding datatype changing data types.we find statistical measures such as measures of central tendency & dispersion.we created dist plot for examine disstribution of tenure income & distribution of monthly charges for male & female by boxplot. we converted binary columns into 0,1.we examine relationship between monthly & total charges.we group churn score with payment method and find max & min values.we examine count of payment mehods by count plot.we plotted pie charts for gender & senior citizen for examine the percentage of females & senior citizens."
   ]
  },
  {
   "cell_type": "markdown",
   "id": "7959ddc9",
   "metadata": {},
   "source": [
    "|1|2|\n",
    "|---|---|\n",
    "|created by| Harsha Veena|\n",
    "|created on|23-05-2022|\n",
    "|IDE| Jupyter Notebook(Anaconda)|\n",
    "|purpose|mini capstone project|"
   ]
  },
  {
   "cell_type": "code",
   "execution_count": null,
   "id": "db47526b",
   "metadata": {},
   "outputs": [],
   "source": []
  }
 ],
 "metadata": {
  "kernelspec": {
   "display_name": "Python 3 (ipykernel)",
   "language": "python",
   "name": "python3"
  },
  "language_info": {
   "codemirror_mode": {
    "name": "ipython",
    "version": 3
   },
   "file_extension": ".py",
   "mimetype": "text/x-python",
   "name": "python",
   "nbconvert_exporter": "python",
   "pygments_lexer": "ipython3",
   "version": "3.9.7"
  }
 },
 "nbformat": 4,
 "nbformat_minor": 5
}
