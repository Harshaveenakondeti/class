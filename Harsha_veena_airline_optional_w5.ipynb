{
 "cells": [
  {
   "cell_type": "markdown",
   "id": "7e68d7a0",
   "metadata": {},
   "source": [
    "# Passenger satisfaction dataset for descriptive statistics\n",
    "## Introduction:\n",
    "The current datasets contain passenger satisfaction surveys. There are two datasets (train and test) which you have to use for you for the current project. In this project, we are interested to find factors affecting the satisfaction/dissatisfaction level of passengers. However, before moving ahead we must have to do some descriptive analysis. Understanding data is foremost for any project.    \n",
    "\n",
    "**Columns of the dataset**\n",
    "\n",
    "**Gender**: If the passenger is male or female\n",
    "\n",
    "**Customer Type**: Loyalty of customer (Loyal customer, disloyal customer)\n",
    "\n",
    "**Age**: Current age of passenger during the flight \n",
    "\n",
    "**Type of Travel**: Purpose of the flight (Personal Travel, Business Travel)\n",
    "\n",
    "**Class**: Travel class (Business, Eco, Eco Plus)\n",
    "\n",
    "**Flight distance**: The flight distance of this journey\n",
    "\n",
    "**Inflight wifi service**: Satisfaction level of the inflight wifi service (0:Not Applicable;1-5)\n",
    "\n",
    "**Departure/Arrival time convenient**: Satisfaction level of Departure/Arrival time convenient\n",
    "\n",
    "**Ease of Online booking**: Satisfaction level of online booking\n",
    "\n",
    "**Gate location**: Satisfaction level of Gate location\n",
    "\n",
    "**Food and drink**: Satisfaction level of Food and drink\n",
    "\n",
    "**Online boarding**: Satisfaction level of online boarding\n",
    "\n",
    "**Seat comfort**: Satisfaction level of Seat comfort\n",
    "\n",
    "**Inflight entertainment**: Satisfaction level of inflight entertainment\n",
    "\n",
    "**On-board service**: Satisfaction level of On-board service\n",
    "\n",
    "**Leg room service**: Satisfaction level of Leg room service\n",
    "\n",
    "**Baggage handling**: Satisfaction level of baggage handling\n",
    "\n",
    "**Check-in service**: Satisfaction level of Check-in service\n",
    "\n",
    "**Inflight service**: Satisfaction level of inflight service\n",
    "\n",
    "**Cleanliness**: Satisfaction level of Cleanliness\n",
    "\n",
    "**Departure Delay in Minutes**: How many minutes flight delayed before departure\n",
    "\n",
    "**Arrival Delay in Minutes**: How many minutes flight delayed before arrival\n",
    "\n",
    "**Satisfaction**: Airline satisfaction level (Satisfaction, neutral, or dissatisfaction)\n",
    "\n"
   ]
  },
  {
   "cell_type": "markdown",
   "id": "d091afbc",
   "metadata": {},
   "source": [
    "## Aim:\n",
    "To do descriptive statistics analysis of data"
   ]
  },
  {
   "cell_type": "markdown",
   "id": "675594c3",
   "metadata": {},
   "source": [
    "**Todo.**\n",
    "1. Please merge both files together.\n",
    "2. Please tell the total number of columns and rows after merging both datasets.\n",
    "3. Please examine all variables and tell their data types (based on statistics not based on python?\n",
    "4. Please provide basic exploration of the data.\n",
    "5. Please deal with missing values appropriately, if required.\n",
    "6. Please create appropriate plots to see the frequency distribution of all online boarding, satisfaction, inflight wifi service, Age, and type of travel. Please explain all distributions.\n",
    "7. Please create plots with percentages of type of travel, class and satisfaction variables.\n",
    "8. Please create appropriate plots and name variables having outliers in the dataset.\n",
    "9. Please calculate appropriate measures of central tendency and measures of dispersion for all variables based on datatypes and distribution?\n",
    "10. Please examine the distribution of numerical data and explain which variables are distributed and which variables seem to be skewed. Please also tell the direction of skewness.\n",
    "11. Please create an appropriate plot to examine the relationship/difference between gender and satisfaction and age and satisfaction.\n",
    "12. Please perform appropriate transformation, if any variables is skewed."
   ]
  },
  {
   "cell_type": "markdown",
   "id": "317dec5d",
   "metadata": {},
   "source": [
    "## Data collection"
   ]
  },
  {
   "cell_type": "code",
   "execution_count": 2,
   "id": "a473dc3f",
   "metadata": {},
   "outputs": [],
   "source": [
    "#import libraries\n",
    "import numpy as np   # for numerical calculation\n",
    "import pandas as pd   # read dataset\n",
    "import matplotlib.pyplot as plt  # for visualization\n",
    "import seaborn as sns"
   ]
  },
  {
   "cell_type": "code",
   "execution_count": 3,
   "id": "434ef457",
   "metadata": {},
   "outputs": [],
   "source": [
    "test=pd.read_csv(\"C:/Users/Hp/Documents/datasets/Air_line_test.csv\")\n",
    "train=pd.read_csv(\"C:/Users/Hp/Documents/datasets/Air_line_train.csv\")"
   ]
  },
  {
   "cell_type": "markdown",
   "id": "a01dc88d",
   "metadata": {},
   "source": [
    "### Basic exploration of data"
   ]
  },
  {
   "cell_type": "code",
   "execution_count": 4,
   "id": "0d3a791a",
   "metadata": {},
   "outputs": [
    {
     "data": {
      "text/html": [
       "<div>\n",
       "<style scoped>\n",
       "    .dataframe tbody tr th:only-of-type {\n",
       "        vertical-align: middle;\n",
       "    }\n",
       "\n",
       "    .dataframe tbody tr th {\n",
       "        vertical-align: top;\n",
       "    }\n",
       "\n",
       "    .dataframe thead th {\n",
       "        text-align: right;\n",
       "    }\n",
       "</style>\n",
       "<table border=\"1\" class=\"dataframe\">\n",
       "  <thead>\n",
       "    <tr style=\"text-align: right;\">\n",
       "      <th></th>\n",
       "      <th>Unnamed: 0</th>\n",
       "      <th>id</th>\n",
       "      <th>Gender</th>\n",
       "      <th>Customer Type</th>\n",
       "      <th>Age</th>\n",
       "      <th>Type of Travel</th>\n",
       "      <th>Class</th>\n",
       "      <th>Flight Distance</th>\n",
       "      <th>Inflight wifi service</th>\n",
       "      <th>Departure/Arrival time convenient</th>\n",
       "      <th>...</th>\n",
       "      <th>Inflight entertainment</th>\n",
       "      <th>On-board service</th>\n",
       "      <th>Leg room service</th>\n",
       "      <th>Baggage handling</th>\n",
       "      <th>Checkin service</th>\n",
       "      <th>Inflight service</th>\n",
       "      <th>Cleanliness</th>\n",
       "      <th>Departure Delay in Minutes</th>\n",
       "      <th>Arrival Delay in Minutes</th>\n",
       "      <th>satisfaction</th>\n",
       "    </tr>\n",
       "  </thead>\n",
       "  <tbody>\n",
       "    <tr>\n",
       "      <th>0</th>\n",
       "      <td>0</td>\n",
       "      <td>19556</td>\n",
       "      <td>Female</td>\n",
       "      <td>Loyal Customer</td>\n",
       "      <td>52</td>\n",
       "      <td>Business travel</td>\n",
       "      <td>Eco</td>\n",
       "      <td>160</td>\n",
       "      <td>5</td>\n",
       "      <td>4</td>\n",
       "      <td>...</td>\n",
       "      <td>5</td>\n",
       "      <td>5</td>\n",
       "      <td>5</td>\n",
       "      <td>5</td>\n",
       "      <td>2</td>\n",
       "      <td>5</td>\n",
       "      <td>5</td>\n",
       "      <td>50</td>\n",
       "      <td>44.0</td>\n",
       "      <td>satisfied</td>\n",
       "    </tr>\n",
       "    <tr>\n",
       "      <th>1</th>\n",
       "      <td>1</td>\n",
       "      <td>90035</td>\n",
       "      <td>Female</td>\n",
       "      <td>Loyal Customer</td>\n",
       "      <td>36</td>\n",
       "      <td>Business travel</td>\n",
       "      <td>Business</td>\n",
       "      <td>2863</td>\n",
       "      <td>1</td>\n",
       "      <td>1</td>\n",
       "      <td>...</td>\n",
       "      <td>4</td>\n",
       "      <td>4</td>\n",
       "      <td>4</td>\n",
       "      <td>4</td>\n",
       "      <td>3</td>\n",
       "      <td>4</td>\n",
       "      <td>5</td>\n",
       "      <td>0</td>\n",
       "      <td>0.0</td>\n",
       "      <td>satisfied</td>\n",
       "    </tr>\n",
       "    <tr>\n",
       "      <th>2</th>\n",
       "      <td>2</td>\n",
       "      <td>12360</td>\n",
       "      <td>Male</td>\n",
       "      <td>disloyal Customer</td>\n",
       "      <td>20</td>\n",
       "      <td>Business travel</td>\n",
       "      <td>Eco</td>\n",
       "      <td>192</td>\n",
       "      <td>2</td>\n",
       "      <td>0</td>\n",
       "      <td>...</td>\n",
       "      <td>2</td>\n",
       "      <td>4</td>\n",
       "      <td>1</td>\n",
       "      <td>3</td>\n",
       "      <td>2</td>\n",
       "      <td>2</td>\n",
       "      <td>2</td>\n",
       "      <td>0</td>\n",
       "      <td>0.0</td>\n",
       "      <td>neutral or dissatisfied</td>\n",
       "    </tr>\n",
       "    <tr>\n",
       "      <th>3</th>\n",
       "      <td>3</td>\n",
       "      <td>77959</td>\n",
       "      <td>Male</td>\n",
       "      <td>Loyal Customer</td>\n",
       "      <td>44</td>\n",
       "      <td>Business travel</td>\n",
       "      <td>Business</td>\n",
       "      <td>3377</td>\n",
       "      <td>0</td>\n",
       "      <td>0</td>\n",
       "      <td>...</td>\n",
       "      <td>1</td>\n",
       "      <td>1</td>\n",
       "      <td>1</td>\n",
       "      <td>1</td>\n",
       "      <td>3</td>\n",
       "      <td>1</td>\n",
       "      <td>4</td>\n",
       "      <td>0</td>\n",
       "      <td>6.0</td>\n",
       "      <td>satisfied</td>\n",
       "    </tr>\n",
       "    <tr>\n",
       "      <th>4</th>\n",
       "      <td>4</td>\n",
       "      <td>36875</td>\n",
       "      <td>Female</td>\n",
       "      <td>Loyal Customer</td>\n",
       "      <td>49</td>\n",
       "      <td>Business travel</td>\n",
       "      <td>Eco</td>\n",
       "      <td>1182</td>\n",
       "      <td>2</td>\n",
       "      <td>3</td>\n",
       "      <td>...</td>\n",
       "      <td>2</td>\n",
       "      <td>2</td>\n",
       "      <td>2</td>\n",
       "      <td>2</td>\n",
       "      <td>4</td>\n",
       "      <td>2</td>\n",
       "      <td>4</td>\n",
       "      <td>0</td>\n",
       "      <td>20.0</td>\n",
       "      <td>satisfied</td>\n",
       "    </tr>\n",
       "  </tbody>\n",
       "</table>\n",
       "<p>5 rows × 25 columns</p>\n",
       "</div>"
      ],
      "text/plain": [
       "   Unnamed: 0     id  Gender      Customer Type  Age   Type of Travel  \\\n",
       "0           0  19556  Female     Loyal Customer   52  Business travel   \n",
       "1           1  90035  Female     Loyal Customer   36  Business travel   \n",
       "2           2  12360    Male  disloyal Customer   20  Business travel   \n",
       "3           3  77959    Male     Loyal Customer   44  Business travel   \n",
       "4           4  36875  Female     Loyal Customer   49  Business travel   \n",
       "\n",
       "      Class  Flight Distance  Inflight wifi service  \\\n",
       "0       Eco              160                      5   \n",
       "1  Business             2863                      1   \n",
       "2       Eco              192                      2   \n",
       "3  Business             3377                      0   \n",
       "4       Eco             1182                      2   \n",
       "\n",
       "   Departure/Arrival time convenient  ...  Inflight entertainment  \\\n",
       "0                                  4  ...                       5   \n",
       "1                                  1  ...                       4   \n",
       "2                                  0  ...                       2   \n",
       "3                                  0  ...                       1   \n",
       "4                                  3  ...                       2   \n",
       "\n",
       "   On-board service  Leg room service  Baggage handling  Checkin service  \\\n",
       "0                 5                 5                 5                2   \n",
       "1                 4                 4                 4                3   \n",
       "2                 4                 1                 3                2   \n",
       "3                 1                 1                 1                3   \n",
       "4                 2                 2                 2                4   \n",
       "\n",
       "   Inflight service  Cleanliness  Departure Delay in Minutes  \\\n",
       "0                 5            5                          50   \n",
       "1                 4            5                           0   \n",
       "2                 2            2                           0   \n",
       "3                 1            4                           0   \n",
       "4                 2            4                           0   \n",
       "\n",
       "   Arrival Delay in Minutes             satisfaction  \n",
       "0                      44.0                satisfied  \n",
       "1                       0.0                satisfied  \n",
       "2                       0.0  neutral or dissatisfied  \n",
       "3                       6.0                satisfied  \n",
       "4                      20.0                satisfied  \n",
       "\n",
       "[5 rows x 25 columns]"
      ]
     },
     "execution_count": 4,
     "metadata": {},
     "output_type": "execute_result"
    }
   ],
   "source": [
    "test.head()"
   ]
  },
  {
   "cell_type": "code",
   "execution_count": 5,
   "id": "cb5b1562",
   "metadata": {},
   "outputs": [
    {
     "data": {
      "text/html": [
       "<div>\n",
       "<style scoped>\n",
       "    .dataframe tbody tr th:only-of-type {\n",
       "        vertical-align: middle;\n",
       "    }\n",
       "\n",
       "    .dataframe tbody tr th {\n",
       "        vertical-align: top;\n",
       "    }\n",
       "\n",
       "    .dataframe thead th {\n",
       "        text-align: right;\n",
       "    }\n",
       "</style>\n",
       "<table border=\"1\" class=\"dataframe\">\n",
       "  <thead>\n",
       "    <tr style=\"text-align: right;\">\n",
       "      <th></th>\n",
       "      <th>Unnamed: 0</th>\n",
       "      <th>id</th>\n",
       "      <th>Gender</th>\n",
       "      <th>Customer Type</th>\n",
       "      <th>Age</th>\n",
       "      <th>Type of Travel</th>\n",
       "      <th>Class</th>\n",
       "      <th>Flight Distance</th>\n",
       "      <th>Inflight wifi service</th>\n",
       "      <th>Departure/Arrival time convenient</th>\n",
       "      <th>...</th>\n",
       "      <th>Inflight entertainment</th>\n",
       "      <th>On-board service</th>\n",
       "      <th>Leg room service</th>\n",
       "      <th>Baggage handling</th>\n",
       "      <th>Checkin service</th>\n",
       "      <th>Inflight service</th>\n",
       "      <th>Cleanliness</th>\n",
       "      <th>Departure Delay in Minutes</th>\n",
       "      <th>Arrival Delay in Minutes</th>\n",
       "      <th>satisfaction</th>\n",
       "    </tr>\n",
       "  </thead>\n",
       "  <tbody>\n",
       "    <tr>\n",
       "      <th>0</th>\n",
       "      <td>0</td>\n",
       "      <td>70172</td>\n",
       "      <td>Male</td>\n",
       "      <td>Loyal Customer</td>\n",
       "      <td>13</td>\n",
       "      <td>Personal Travel</td>\n",
       "      <td>Eco Plus</td>\n",
       "      <td>460</td>\n",
       "      <td>3</td>\n",
       "      <td>4</td>\n",
       "      <td>...</td>\n",
       "      <td>5</td>\n",
       "      <td>4</td>\n",
       "      <td>3</td>\n",
       "      <td>4</td>\n",
       "      <td>4</td>\n",
       "      <td>5</td>\n",
       "      <td>5</td>\n",
       "      <td>25</td>\n",
       "      <td>18.0</td>\n",
       "      <td>neutral or dissatisfied</td>\n",
       "    </tr>\n",
       "    <tr>\n",
       "      <th>1</th>\n",
       "      <td>1</td>\n",
       "      <td>5047</td>\n",
       "      <td>Male</td>\n",
       "      <td>disloyal Customer</td>\n",
       "      <td>25</td>\n",
       "      <td>Business travel</td>\n",
       "      <td>Business</td>\n",
       "      <td>235</td>\n",
       "      <td>3</td>\n",
       "      <td>2</td>\n",
       "      <td>...</td>\n",
       "      <td>1</td>\n",
       "      <td>1</td>\n",
       "      <td>5</td>\n",
       "      <td>3</td>\n",
       "      <td>1</td>\n",
       "      <td>4</td>\n",
       "      <td>1</td>\n",
       "      <td>1</td>\n",
       "      <td>6.0</td>\n",
       "      <td>neutral or dissatisfied</td>\n",
       "    </tr>\n",
       "    <tr>\n",
       "      <th>2</th>\n",
       "      <td>2</td>\n",
       "      <td>110028</td>\n",
       "      <td>Female</td>\n",
       "      <td>Loyal Customer</td>\n",
       "      <td>26</td>\n",
       "      <td>Business travel</td>\n",
       "      <td>Business</td>\n",
       "      <td>1142</td>\n",
       "      <td>2</td>\n",
       "      <td>2</td>\n",
       "      <td>...</td>\n",
       "      <td>5</td>\n",
       "      <td>4</td>\n",
       "      <td>3</td>\n",
       "      <td>4</td>\n",
       "      <td>4</td>\n",
       "      <td>4</td>\n",
       "      <td>5</td>\n",
       "      <td>0</td>\n",
       "      <td>0.0</td>\n",
       "      <td>satisfied</td>\n",
       "    </tr>\n",
       "    <tr>\n",
       "      <th>3</th>\n",
       "      <td>3</td>\n",
       "      <td>24026</td>\n",
       "      <td>Female</td>\n",
       "      <td>Loyal Customer</td>\n",
       "      <td>25</td>\n",
       "      <td>Business travel</td>\n",
       "      <td>Business</td>\n",
       "      <td>562</td>\n",
       "      <td>2</td>\n",
       "      <td>5</td>\n",
       "      <td>...</td>\n",
       "      <td>2</td>\n",
       "      <td>2</td>\n",
       "      <td>5</td>\n",
       "      <td>3</td>\n",
       "      <td>1</td>\n",
       "      <td>4</td>\n",
       "      <td>2</td>\n",
       "      <td>11</td>\n",
       "      <td>9.0</td>\n",
       "      <td>neutral or dissatisfied</td>\n",
       "    </tr>\n",
       "    <tr>\n",
       "      <th>4</th>\n",
       "      <td>4</td>\n",
       "      <td>119299</td>\n",
       "      <td>Male</td>\n",
       "      <td>Loyal Customer</td>\n",
       "      <td>61</td>\n",
       "      <td>Business travel</td>\n",
       "      <td>Business</td>\n",
       "      <td>214</td>\n",
       "      <td>3</td>\n",
       "      <td>3</td>\n",
       "      <td>...</td>\n",
       "      <td>3</td>\n",
       "      <td>3</td>\n",
       "      <td>4</td>\n",
       "      <td>4</td>\n",
       "      <td>3</td>\n",
       "      <td>3</td>\n",
       "      <td>3</td>\n",
       "      <td>0</td>\n",
       "      <td>0.0</td>\n",
       "      <td>satisfied</td>\n",
       "    </tr>\n",
       "  </tbody>\n",
       "</table>\n",
       "<p>5 rows × 25 columns</p>\n",
       "</div>"
      ],
      "text/plain": [
       "   Unnamed: 0      id  Gender      Customer Type  Age   Type of Travel  \\\n",
       "0           0   70172    Male     Loyal Customer   13  Personal Travel   \n",
       "1           1    5047    Male  disloyal Customer   25  Business travel   \n",
       "2           2  110028  Female     Loyal Customer   26  Business travel   \n",
       "3           3   24026  Female     Loyal Customer   25  Business travel   \n",
       "4           4  119299    Male     Loyal Customer   61  Business travel   \n",
       "\n",
       "      Class  Flight Distance  Inflight wifi service  \\\n",
       "0  Eco Plus              460                      3   \n",
       "1  Business              235                      3   \n",
       "2  Business             1142                      2   \n",
       "3  Business              562                      2   \n",
       "4  Business              214                      3   \n",
       "\n",
       "   Departure/Arrival time convenient  ...  Inflight entertainment  \\\n",
       "0                                  4  ...                       5   \n",
       "1                                  2  ...                       1   \n",
       "2                                  2  ...                       5   \n",
       "3                                  5  ...                       2   \n",
       "4                                  3  ...                       3   \n",
       "\n",
       "   On-board service  Leg room service  Baggage handling  Checkin service  \\\n",
       "0                 4                 3                 4                4   \n",
       "1                 1                 5                 3                1   \n",
       "2                 4                 3                 4                4   \n",
       "3                 2                 5                 3                1   \n",
       "4                 3                 4                 4                3   \n",
       "\n",
       "   Inflight service  Cleanliness  Departure Delay in Minutes  \\\n",
       "0                 5            5                          25   \n",
       "1                 4            1                           1   \n",
       "2                 4            5                           0   \n",
       "3                 4            2                          11   \n",
       "4                 3            3                           0   \n",
       "\n",
       "   Arrival Delay in Minutes             satisfaction  \n",
       "0                      18.0  neutral or dissatisfied  \n",
       "1                       6.0  neutral or dissatisfied  \n",
       "2                       0.0                satisfied  \n",
       "3                       9.0  neutral or dissatisfied  \n",
       "4                       0.0                satisfied  \n",
       "\n",
       "[5 rows x 25 columns]"
      ]
     },
     "execution_count": 5,
     "metadata": {},
     "output_type": "execute_result"
    }
   ],
   "source": [
    "train.head()"
   ]
  },
  {
   "cell_type": "code",
   "execution_count": 6,
   "id": "7a33b984",
   "metadata": {},
   "outputs": [
    {
     "data": {
      "text/plain": [
       "(25976, 25)"
      ]
     },
     "execution_count": 6,
     "metadata": {},
     "output_type": "execute_result"
    }
   ],
   "source": [
    "test.shape# number of columns and rows in test data"
   ]
  },
  {
   "cell_type": "code",
   "execution_count": 7,
   "id": "47110edb",
   "metadata": {},
   "outputs": [
    {
     "data": {
      "text/plain": [
       "(103904, 25)"
      ]
     },
     "execution_count": 7,
     "metadata": {},
     "output_type": "execute_result"
    }
   ],
   "source": [
    "\n",
    "train.shape"
   ]
  },
  {
   "cell_type": "code",
   "execution_count": 8,
   "id": "2ba95c1f",
   "metadata": {},
   "outputs": [
    {
     "data": {
      "text/plain": [
       "Index(['Unnamed: 0', 'id', 'Gender', 'Customer Type', 'Age', 'Type of Travel',\n",
       "       'Class', 'Flight Distance', 'Inflight wifi service',\n",
       "       'Departure/Arrival time convenient', 'Ease of Online booking',\n",
       "       'Gate location', 'Food and drink', 'Online boarding', 'Seat comfort',\n",
       "       'Inflight entertainment', 'On-board service', 'Leg room service',\n",
       "       'Baggage handling', 'Checkin service', 'Inflight service',\n",
       "       'Cleanliness', 'Departure Delay in Minutes', 'Arrival Delay in Minutes',\n",
       "       'satisfaction'],\n",
       "      dtype='object')"
      ]
     },
     "execution_count": 8,
     "metadata": {},
     "output_type": "execute_result"
    }
   ],
   "source": [
    "train.columns"
   ]
  },
  {
   "cell_type": "code",
   "execution_count": 9,
   "id": "26042db2",
   "metadata": {},
   "outputs": [
    {
     "data": {
      "text/plain": [
       "Index(['Unnamed: 0', 'id', 'Gender', 'Customer Type', 'Age', 'Type of Travel',\n",
       "       'Class', 'Flight Distance', 'Inflight wifi service',\n",
       "       'Departure/Arrival time convenient', 'Ease of Online booking',\n",
       "       'Gate location', 'Food and drink', 'Online boarding', 'Seat comfort',\n",
       "       'Inflight entertainment', 'On-board service', 'Leg room service',\n",
       "       'Baggage handling', 'Checkin service', 'Inflight service',\n",
       "       'Cleanliness', 'Departure Delay in Minutes', 'Arrival Delay in Minutes',\n",
       "       'satisfaction'],\n",
       "      dtype='object')"
      ]
     },
     "execution_count": 9,
     "metadata": {},
     "output_type": "execute_result"
    }
   ],
   "source": [
    "test.columns  # column names"
   ]
  },
  {
   "cell_type": "markdown",
   "id": "eb0643af",
   "metadata": {},
   "source": [
    "### 1.Please merge both files"
   ]
  },
  {
   "cell_type": "markdown",
   "id": "eac11d9c",
   "metadata": {},
   "source": [
    "As both test and train data have same columns we can merge it by id ino 1 dataframe called airline"
   ]
  },
  {
   "cell_type": "code",
   "execution_count": 10,
   "id": "72bc031b",
   "metadata": {},
   "outputs": [
    {
     "data": {
      "text/plain": [
       "(129880, 25)"
      ]
     },
     "execution_count": 10,
     "metadata": {},
     "output_type": "execute_result"
    }
   ],
   "source": [
    "# We are using outer function from pd.merge to join both tables, as we need all information. \n",
    "# outer function uses union of keys from both frames\n",
    "airline = pd.merge(test,train,how='outer')\n",
    "airline.shape"
   ]
  },
  {
   "cell_type": "markdown",
   "id": "ede2c167",
   "metadata": {},
   "source": [
    "### 2. Please tell the total number of columns and rows after merging both datasets.\n",
    "Total number of rows are 1,29,880 and 25 columns"
   ]
  },
  {
   "cell_type": "code",
   "execution_count": 11,
   "id": "60cab6ba",
   "metadata": {},
   "outputs": [
    {
     "data": {
      "text/html": [
       "<div>\n",
       "<style scoped>\n",
       "    .dataframe tbody tr th:only-of-type {\n",
       "        vertical-align: middle;\n",
       "    }\n",
       "\n",
       "    .dataframe tbody tr th {\n",
       "        vertical-align: top;\n",
       "    }\n",
       "\n",
       "    .dataframe thead th {\n",
       "        text-align: right;\n",
       "    }\n",
       "</style>\n",
       "<table border=\"1\" class=\"dataframe\">\n",
       "  <thead>\n",
       "    <tr style=\"text-align: right;\">\n",
       "      <th></th>\n",
       "      <th>Unnamed: 0</th>\n",
       "      <th>id</th>\n",
       "      <th>Gender</th>\n",
       "      <th>Customer Type</th>\n",
       "      <th>Age</th>\n",
       "      <th>Type of Travel</th>\n",
       "      <th>Class</th>\n",
       "      <th>Flight Distance</th>\n",
       "      <th>Inflight wifi service</th>\n",
       "      <th>Departure/Arrival time convenient</th>\n",
       "      <th>...</th>\n",
       "      <th>Inflight entertainment</th>\n",
       "      <th>On-board service</th>\n",
       "      <th>Leg room service</th>\n",
       "      <th>Baggage handling</th>\n",
       "      <th>Checkin service</th>\n",
       "      <th>Inflight service</th>\n",
       "      <th>Cleanliness</th>\n",
       "      <th>Departure Delay in Minutes</th>\n",
       "      <th>Arrival Delay in Minutes</th>\n",
       "      <th>satisfaction</th>\n",
       "    </tr>\n",
       "  </thead>\n",
       "  <tbody>\n",
       "    <tr>\n",
       "      <th>0</th>\n",
       "      <td>0</td>\n",
       "      <td>19556</td>\n",
       "      <td>Female</td>\n",
       "      <td>Loyal Customer</td>\n",
       "      <td>52</td>\n",
       "      <td>Business travel</td>\n",
       "      <td>Eco</td>\n",
       "      <td>160</td>\n",
       "      <td>5</td>\n",
       "      <td>4</td>\n",
       "      <td>...</td>\n",
       "      <td>5</td>\n",
       "      <td>5</td>\n",
       "      <td>5</td>\n",
       "      <td>5</td>\n",
       "      <td>2</td>\n",
       "      <td>5</td>\n",
       "      <td>5</td>\n",
       "      <td>50</td>\n",
       "      <td>44.0</td>\n",
       "      <td>satisfied</td>\n",
       "    </tr>\n",
       "    <tr>\n",
       "      <th>1</th>\n",
       "      <td>1</td>\n",
       "      <td>90035</td>\n",
       "      <td>Female</td>\n",
       "      <td>Loyal Customer</td>\n",
       "      <td>36</td>\n",
       "      <td>Business travel</td>\n",
       "      <td>Business</td>\n",
       "      <td>2863</td>\n",
       "      <td>1</td>\n",
       "      <td>1</td>\n",
       "      <td>...</td>\n",
       "      <td>4</td>\n",
       "      <td>4</td>\n",
       "      <td>4</td>\n",
       "      <td>4</td>\n",
       "      <td>3</td>\n",
       "      <td>4</td>\n",
       "      <td>5</td>\n",
       "      <td>0</td>\n",
       "      <td>0.0</td>\n",
       "      <td>satisfied</td>\n",
       "    </tr>\n",
       "    <tr>\n",
       "      <th>2</th>\n",
       "      <td>2</td>\n",
       "      <td>12360</td>\n",
       "      <td>Male</td>\n",
       "      <td>disloyal Customer</td>\n",
       "      <td>20</td>\n",
       "      <td>Business travel</td>\n",
       "      <td>Eco</td>\n",
       "      <td>192</td>\n",
       "      <td>2</td>\n",
       "      <td>0</td>\n",
       "      <td>...</td>\n",
       "      <td>2</td>\n",
       "      <td>4</td>\n",
       "      <td>1</td>\n",
       "      <td>3</td>\n",
       "      <td>2</td>\n",
       "      <td>2</td>\n",
       "      <td>2</td>\n",
       "      <td>0</td>\n",
       "      <td>0.0</td>\n",
       "      <td>neutral or dissatisfied</td>\n",
       "    </tr>\n",
       "    <tr>\n",
       "      <th>3</th>\n",
       "      <td>3</td>\n",
       "      <td>77959</td>\n",
       "      <td>Male</td>\n",
       "      <td>Loyal Customer</td>\n",
       "      <td>44</td>\n",
       "      <td>Business travel</td>\n",
       "      <td>Business</td>\n",
       "      <td>3377</td>\n",
       "      <td>0</td>\n",
       "      <td>0</td>\n",
       "      <td>...</td>\n",
       "      <td>1</td>\n",
       "      <td>1</td>\n",
       "      <td>1</td>\n",
       "      <td>1</td>\n",
       "      <td>3</td>\n",
       "      <td>1</td>\n",
       "      <td>4</td>\n",
       "      <td>0</td>\n",
       "      <td>6.0</td>\n",
       "      <td>satisfied</td>\n",
       "    </tr>\n",
       "    <tr>\n",
       "      <th>4</th>\n",
       "      <td>4</td>\n",
       "      <td>36875</td>\n",
       "      <td>Female</td>\n",
       "      <td>Loyal Customer</td>\n",
       "      <td>49</td>\n",
       "      <td>Business travel</td>\n",
       "      <td>Eco</td>\n",
       "      <td>1182</td>\n",
       "      <td>2</td>\n",
       "      <td>3</td>\n",
       "      <td>...</td>\n",
       "      <td>2</td>\n",
       "      <td>2</td>\n",
       "      <td>2</td>\n",
       "      <td>2</td>\n",
       "      <td>4</td>\n",
       "      <td>2</td>\n",
       "      <td>4</td>\n",
       "      <td>0</td>\n",
       "      <td>20.0</td>\n",
       "      <td>satisfied</td>\n",
       "    </tr>\n",
       "  </tbody>\n",
       "</table>\n",
       "<p>5 rows × 25 columns</p>\n",
       "</div>"
      ],
      "text/plain": [
       "   Unnamed: 0     id  Gender      Customer Type  Age   Type of Travel  \\\n",
       "0           0  19556  Female     Loyal Customer   52  Business travel   \n",
       "1           1  90035  Female     Loyal Customer   36  Business travel   \n",
       "2           2  12360    Male  disloyal Customer   20  Business travel   \n",
       "3           3  77959    Male     Loyal Customer   44  Business travel   \n",
       "4           4  36875  Female     Loyal Customer   49  Business travel   \n",
       "\n",
       "      Class  Flight Distance  Inflight wifi service  \\\n",
       "0       Eco              160                      5   \n",
       "1  Business             2863                      1   \n",
       "2       Eco              192                      2   \n",
       "3  Business             3377                      0   \n",
       "4       Eco             1182                      2   \n",
       "\n",
       "   Departure/Arrival time convenient  ...  Inflight entertainment  \\\n",
       "0                                  4  ...                       5   \n",
       "1                                  1  ...                       4   \n",
       "2                                  0  ...                       2   \n",
       "3                                  0  ...                       1   \n",
       "4                                  3  ...                       2   \n",
       "\n",
       "   On-board service  Leg room service  Baggage handling  Checkin service  \\\n",
       "0                 5                 5                 5                2   \n",
       "1                 4                 4                 4                3   \n",
       "2                 4                 1                 3                2   \n",
       "3                 1                 1                 1                3   \n",
       "4                 2                 2                 2                4   \n",
       "\n",
       "   Inflight service  Cleanliness  Departure Delay in Minutes  \\\n",
       "0                 5            5                          50   \n",
       "1                 4            5                           0   \n",
       "2                 2            2                           0   \n",
       "3                 1            4                           0   \n",
       "4                 2            4                           0   \n",
       "\n",
       "   Arrival Delay in Minutes             satisfaction  \n",
       "0                      44.0                satisfied  \n",
       "1                       0.0                satisfied  \n",
       "2                       0.0  neutral or dissatisfied  \n",
       "3                       6.0                satisfied  \n",
       "4                      20.0                satisfied  \n",
       "\n",
       "[5 rows x 25 columns]"
      ]
     },
     "execution_count": 11,
     "metadata": {},
     "output_type": "execute_result"
    }
   ],
   "source": [
    "airline.head()"
   ]
  },
  {
   "cell_type": "markdown",
   "id": "56037adc",
   "metadata": {},
   "source": [
    "### 3.Please examine all variables and tell their data types (based on statistics not based on python?\n",
    "1. unnamed is a row number,it is nominal datatype.\n",
    "2. id is category and no order, so it is nominal datatype.\n",
    "3. Gender is category and string,si it is nominal datatype.\n",
    "4. customer is categury type,but no order, so nominal datatype.\n",
    "5. age is numerical data type, it is discrete here,but it can be float also.\n",
    "6. Type of travel is categorical datatype.so nominal\n",
    "7. class is categorical ,so nominal datatype.\n",
    "8. Flight distance is numerical and coninuous data type.\n",
    "9. Infligt wifi service is numerical and can be continuous data type.\n",
    "10. Departure/Arrival time convenient is satisfaction level ,it can be ordinal or likert scale.\n",
    "11. Ease of Online booking is satisfaction level ,it can be ordinal or likert scale.\n",
    "12. gate location is satisfaction level ,it can be ordinal or likert scale.\n",
    "13. food & drink is satisfaction level ,it can be ordinal or likert scale.\n",
    "14. online boarding is satisfaction level ,it can be ordinal or likert scale.\n",
    "15. seat comfort is satisfaction level ,it can be ordinal or likert scale.\n",
    "16. inflight entertainment is satisfaction level ,it can be ordinal or likert scale.\n",
    "17. on-board service is satisfaction level ,it can be ordinal or likert scale.\n",
    "18. leg room service is satisfaction level ,it can be ordinal or likert scale.\n",
    "19. baggage handling is satisfaction level ,it can be ordinal or likert scale.\n",
    "20. check-in service \n",
    "21. Inflight service is satisfaction level ,it can be ordinal or likert scale.\n",
    "22. cleanliness is satisfaction level ,it can be ordinal or likert scale.\n",
    "23. satisfaction is  ordinal category .\n",
    "24. departure delay in minutes , it is in minutes which is continuous\n",
    "25. arrival delay in minutes, it is in minutes, which is continuous"
   ]
  },
  {
   "cell_type": "markdown",
   "id": "b33b7597",
   "metadata": {},
   "source": [
    "### 4.Please provide basic exploration of the data.\n",
    "it can be done by calculating mean,min value,max value, standard deviation, count,25%,75%."
   ]
  },
  {
   "cell_type": "code",
   "execution_count": 12,
   "id": "088e279d",
   "metadata": {},
   "outputs": [
    {
     "name": "stdout",
     "output_type": "stream",
     "text": [
      "<class 'pandas.core.frame.DataFrame'>\n",
      "Int64Index: 129880 entries, 0 to 129879\n",
      "Data columns (total 25 columns):\n",
      " #   Column                             Non-Null Count   Dtype  \n",
      "---  ------                             --------------   -----  \n",
      " 0   Unnamed: 0                         129880 non-null  int64  \n",
      " 1   id                                 129880 non-null  int64  \n",
      " 2   Gender                             129880 non-null  object \n",
      " 3   Customer Type                      129880 non-null  object \n",
      " 4   Age                                129880 non-null  int64  \n",
      " 5   Type of Travel                     129880 non-null  object \n",
      " 6   Class                              129880 non-null  object \n",
      " 7   Flight Distance                    129880 non-null  int64  \n",
      " 8   Inflight wifi service              129880 non-null  int64  \n",
      " 9   Departure/Arrival time convenient  129880 non-null  int64  \n",
      " 10  Ease of Online booking             129880 non-null  int64  \n",
      " 11  Gate location                      129880 non-null  int64  \n",
      " 12  Food and drink                     129880 non-null  int64  \n",
      " 13  Online boarding                    129880 non-null  int64  \n",
      " 14  Seat comfort                       129880 non-null  int64  \n",
      " 15  Inflight entertainment             129880 non-null  int64  \n",
      " 16  On-board service                   129880 non-null  int64  \n",
      " 17  Leg room service                   129880 non-null  int64  \n",
      " 18  Baggage handling                   129880 non-null  int64  \n",
      " 19  Checkin service                    129880 non-null  int64  \n",
      " 20  Inflight service                   129880 non-null  int64  \n",
      " 21  Cleanliness                        129880 non-null  int64  \n",
      " 22  Departure Delay in Minutes         129880 non-null  int64  \n",
      " 23  Arrival Delay in Minutes           129487 non-null  float64\n",
      " 24  satisfaction                       129880 non-null  object \n",
      "dtypes: float64(1), int64(19), object(5)\n",
      "memory usage: 25.8+ MB\n"
     ]
    }
   ],
   "source": [
    "airline.info()  # data types of columns"
   ]
  },
  {
   "cell_type": "markdown",
   "id": "4d69bc5d",
   "metadata": {},
   "source": [
    "we have to change datatypes"
   ]
  },
  {
   "cell_type": "code",
   "execution_count": 13,
   "id": "274a4b15",
   "metadata": {},
   "outputs": [
    {
     "name": "stdout",
     "output_type": "stream",
     "text": [
      "<class 'pandas.core.frame.DataFrame'>\n",
      "Int64Index: 129880 entries, 0 to 129879\n",
      "Data columns (total 25 columns):\n",
      " #   Column                             Non-Null Count   Dtype   \n",
      "---  ------                             --------------   -----   \n",
      " 0   Unnamed: 0                         129880 non-null  category\n",
      " 1   id                                 129880 non-null  category\n",
      " 2   Gender                             129880 non-null  category\n",
      " 3   Customer Type                      129880 non-null  category\n",
      " 4   Age                                129880 non-null  int64   \n",
      " 5   Type of Travel                     129880 non-null  category\n",
      " 6   Class                              129880 non-null  category\n",
      " 7   Flight Distance                    129880 non-null  int64   \n",
      " 8   Inflight wifi service              129880 non-null  int64   \n",
      " 9   Departure/Arrival time convenient  129880 non-null  int64   \n",
      " 10  Ease of Online booking             129880 non-null  int64   \n",
      " 11  Gate location                      129880 non-null  int64   \n",
      " 12  Food and drink                     129880 non-null  int64   \n",
      " 13  Online boarding                    129880 non-null  int64   \n",
      " 14  Seat comfort                       129880 non-null  int64   \n",
      " 15  Inflight entertainment             129880 non-null  int64   \n",
      " 16  On-board service                   129880 non-null  int64   \n",
      " 17  Leg room service                   129880 non-null  int64   \n",
      " 18  Baggage handling                   129880 non-null  int64   \n",
      " 19  Checkin service                    129880 non-null  int64   \n",
      " 20  Inflight service                   129880 non-null  int64   \n",
      " 21  Cleanliness                        129880 non-null  int64   \n",
      " 22  Departure Delay in Minutes         129880 non-null  int64   \n",
      " 23  Arrival Delay in Minutes           129487 non-null  float64 \n",
      " 24  satisfaction                       129880 non-null  category\n",
      "dtypes: category(7), float64(1), int64(17)\n",
      "memory usage: 30.3 MB\n"
     ]
    }
   ],
   "source": [
    "a=['Unnamed: 0','id','Gender','Customer Type','Type of Travel','Class','satisfaction']\n",
    "for col in airline[a]:\n",
    "    airline[col]=airline[col].astype('category')\n",
    "airline.info()"
   ]
  },
  {
   "cell_type": "code",
   "execution_count": null,
   "id": "3a9ef79d",
   "metadata": {},
   "outputs": [],
   "source": []
  },
  {
   "cell_type": "code",
   "execution_count": null,
   "id": "ef6c8ddd",
   "metadata": {},
   "outputs": [],
   "source": []
  },
  {
   "cell_type": "code",
   "execution_count": 14,
   "id": "1aa3733e",
   "metadata": {},
   "outputs": [
    {
     "data": {
      "text/html": [
       "<div>\n",
       "<style scoped>\n",
       "    .dataframe tbody tr th:only-of-type {\n",
       "        vertical-align: middle;\n",
       "    }\n",
       "\n",
       "    .dataframe tbody tr th {\n",
       "        vertical-align: top;\n",
       "    }\n",
       "\n",
       "    .dataframe thead th {\n",
       "        text-align: right;\n",
       "    }\n",
       "</style>\n",
       "<table border=\"1\" class=\"dataframe\">\n",
       "  <thead>\n",
       "    <tr style=\"text-align: right;\">\n",
       "      <th></th>\n",
       "      <th>Age</th>\n",
       "      <th>Flight Distance</th>\n",
       "      <th>Inflight wifi service</th>\n",
       "      <th>Departure/Arrival time convenient</th>\n",
       "      <th>Ease of Online booking</th>\n",
       "      <th>Gate location</th>\n",
       "      <th>Food and drink</th>\n",
       "      <th>Online boarding</th>\n",
       "      <th>Seat comfort</th>\n",
       "      <th>Inflight entertainment</th>\n",
       "      <th>On-board service</th>\n",
       "      <th>Leg room service</th>\n",
       "      <th>Baggage handling</th>\n",
       "      <th>Checkin service</th>\n",
       "      <th>Inflight service</th>\n",
       "      <th>Cleanliness</th>\n",
       "      <th>Departure Delay in Minutes</th>\n",
       "      <th>Arrival Delay in Minutes</th>\n",
       "    </tr>\n",
       "  </thead>\n",
       "  <tbody>\n",
       "    <tr>\n",
       "      <th>count</th>\n",
       "      <td>129880.000000</td>\n",
       "      <td>129880.000000</td>\n",
       "      <td>129880.000000</td>\n",
       "      <td>129880.000000</td>\n",
       "      <td>129880.000000</td>\n",
       "      <td>129880.000000</td>\n",
       "      <td>129880.000000</td>\n",
       "      <td>129880.000000</td>\n",
       "      <td>129880.000000</td>\n",
       "      <td>129880.000000</td>\n",
       "      <td>129880.000000</td>\n",
       "      <td>129880.000000</td>\n",
       "      <td>129880.000000</td>\n",
       "      <td>129880.000000</td>\n",
       "      <td>129880.000000</td>\n",
       "      <td>129880.000000</td>\n",
       "      <td>129880.000000</td>\n",
       "      <td>129487.000000</td>\n",
       "    </tr>\n",
       "    <tr>\n",
       "      <th>mean</th>\n",
       "      <td>39.427957</td>\n",
       "      <td>1190.316392</td>\n",
       "      <td>2.728696</td>\n",
       "      <td>3.057599</td>\n",
       "      <td>2.756876</td>\n",
       "      <td>2.976925</td>\n",
       "      <td>3.204774</td>\n",
       "      <td>3.252633</td>\n",
       "      <td>3.441361</td>\n",
       "      <td>3.358077</td>\n",
       "      <td>3.383023</td>\n",
       "      <td>3.350878</td>\n",
       "      <td>3.632114</td>\n",
       "      <td>3.306267</td>\n",
       "      <td>3.642193</td>\n",
       "      <td>3.286326</td>\n",
       "      <td>14.713713</td>\n",
       "      <td>15.091129</td>\n",
       "    </tr>\n",
       "    <tr>\n",
       "      <th>std</th>\n",
       "      <td>15.119360</td>\n",
       "      <td>997.452477</td>\n",
       "      <td>1.329340</td>\n",
       "      <td>1.526741</td>\n",
       "      <td>1.401740</td>\n",
       "      <td>1.278520</td>\n",
       "      <td>1.329933</td>\n",
       "      <td>1.350719</td>\n",
       "      <td>1.319289</td>\n",
       "      <td>1.334049</td>\n",
       "      <td>1.287099</td>\n",
       "      <td>1.316252</td>\n",
       "      <td>1.180025</td>\n",
       "      <td>1.266185</td>\n",
       "      <td>1.176669</td>\n",
       "      <td>1.313682</td>\n",
       "      <td>38.071126</td>\n",
       "      <td>38.465650</td>\n",
       "    </tr>\n",
       "    <tr>\n",
       "      <th>min</th>\n",
       "      <td>7.000000</td>\n",
       "      <td>31.000000</td>\n",
       "      <td>0.000000</td>\n",
       "      <td>0.000000</td>\n",
       "      <td>0.000000</td>\n",
       "      <td>0.000000</td>\n",
       "      <td>0.000000</td>\n",
       "      <td>0.000000</td>\n",
       "      <td>0.000000</td>\n",
       "      <td>0.000000</td>\n",
       "      <td>0.000000</td>\n",
       "      <td>0.000000</td>\n",
       "      <td>1.000000</td>\n",
       "      <td>0.000000</td>\n",
       "      <td>0.000000</td>\n",
       "      <td>0.000000</td>\n",
       "      <td>0.000000</td>\n",
       "      <td>0.000000</td>\n",
       "    </tr>\n",
       "    <tr>\n",
       "      <th>25%</th>\n",
       "      <td>27.000000</td>\n",
       "      <td>414.000000</td>\n",
       "      <td>2.000000</td>\n",
       "      <td>2.000000</td>\n",
       "      <td>2.000000</td>\n",
       "      <td>2.000000</td>\n",
       "      <td>2.000000</td>\n",
       "      <td>2.000000</td>\n",
       "      <td>2.000000</td>\n",
       "      <td>2.000000</td>\n",
       "      <td>2.000000</td>\n",
       "      <td>2.000000</td>\n",
       "      <td>3.000000</td>\n",
       "      <td>3.000000</td>\n",
       "      <td>3.000000</td>\n",
       "      <td>2.000000</td>\n",
       "      <td>0.000000</td>\n",
       "      <td>0.000000</td>\n",
       "    </tr>\n",
       "    <tr>\n",
       "      <th>50%</th>\n",
       "      <td>40.000000</td>\n",
       "      <td>844.000000</td>\n",
       "      <td>3.000000</td>\n",
       "      <td>3.000000</td>\n",
       "      <td>3.000000</td>\n",
       "      <td>3.000000</td>\n",
       "      <td>3.000000</td>\n",
       "      <td>3.000000</td>\n",
       "      <td>4.000000</td>\n",
       "      <td>4.000000</td>\n",
       "      <td>4.000000</td>\n",
       "      <td>4.000000</td>\n",
       "      <td>4.000000</td>\n",
       "      <td>3.000000</td>\n",
       "      <td>4.000000</td>\n",
       "      <td>3.000000</td>\n",
       "      <td>0.000000</td>\n",
       "      <td>0.000000</td>\n",
       "    </tr>\n",
       "    <tr>\n",
       "      <th>75%</th>\n",
       "      <td>51.000000</td>\n",
       "      <td>1744.000000</td>\n",
       "      <td>4.000000</td>\n",
       "      <td>4.000000</td>\n",
       "      <td>4.000000</td>\n",
       "      <td>4.000000</td>\n",
       "      <td>4.000000</td>\n",
       "      <td>4.000000</td>\n",
       "      <td>5.000000</td>\n",
       "      <td>4.000000</td>\n",
       "      <td>4.000000</td>\n",
       "      <td>4.000000</td>\n",
       "      <td>5.000000</td>\n",
       "      <td>4.000000</td>\n",
       "      <td>5.000000</td>\n",
       "      <td>4.000000</td>\n",
       "      <td>12.000000</td>\n",
       "      <td>13.000000</td>\n",
       "    </tr>\n",
       "    <tr>\n",
       "      <th>max</th>\n",
       "      <td>85.000000</td>\n",
       "      <td>4983.000000</td>\n",
       "      <td>5.000000</td>\n",
       "      <td>5.000000</td>\n",
       "      <td>5.000000</td>\n",
       "      <td>5.000000</td>\n",
       "      <td>5.000000</td>\n",
       "      <td>5.000000</td>\n",
       "      <td>5.000000</td>\n",
       "      <td>5.000000</td>\n",
       "      <td>5.000000</td>\n",
       "      <td>5.000000</td>\n",
       "      <td>5.000000</td>\n",
       "      <td>5.000000</td>\n",
       "      <td>5.000000</td>\n",
       "      <td>5.000000</td>\n",
       "      <td>1592.000000</td>\n",
       "      <td>1584.000000</td>\n",
       "    </tr>\n",
       "  </tbody>\n",
       "</table>\n",
       "</div>"
      ],
      "text/plain": [
       "                 Age  Flight Distance  Inflight wifi service  \\\n",
       "count  129880.000000    129880.000000          129880.000000   \n",
       "mean       39.427957      1190.316392               2.728696   \n",
       "std        15.119360       997.452477               1.329340   \n",
       "min         7.000000        31.000000               0.000000   \n",
       "25%        27.000000       414.000000               2.000000   \n",
       "50%        40.000000       844.000000               3.000000   \n",
       "75%        51.000000      1744.000000               4.000000   \n",
       "max        85.000000      4983.000000               5.000000   \n",
       "\n",
       "       Departure/Arrival time convenient  Ease of Online booking  \\\n",
       "count                      129880.000000           129880.000000   \n",
       "mean                            3.057599                2.756876   \n",
       "std                             1.526741                1.401740   \n",
       "min                             0.000000                0.000000   \n",
       "25%                             2.000000                2.000000   \n",
       "50%                             3.000000                3.000000   \n",
       "75%                             4.000000                4.000000   \n",
       "max                             5.000000                5.000000   \n",
       "\n",
       "       Gate location  Food and drink  Online boarding   Seat comfort  \\\n",
       "count  129880.000000   129880.000000    129880.000000  129880.000000   \n",
       "mean        2.976925        3.204774         3.252633       3.441361   \n",
       "std         1.278520        1.329933         1.350719       1.319289   \n",
       "min         0.000000        0.000000         0.000000       0.000000   \n",
       "25%         2.000000        2.000000         2.000000       2.000000   \n",
       "50%         3.000000        3.000000         3.000000       4.000000   \n",
       "75%         4.000000        4.000000         4.000000       5.000000   \n",
       "max         5.000000        5.000000         5.000000       5.000000   \n",
       "\n",
       "       Inflight entertainment  On-board service  Leg room service  \\\n",
       "count           129880.000000     129880.000000     129880.000000   \n",
       "mean                 3.358077          3.383023          3.350878   \n",
       "std                  1.334049          1.287099          1.316252   \n",
       "min                  0.000000          0.000000          0.000000   \n",
       "25%                  2.000000          2.000000          2.000000   \n",
       "50%                  4.000000          4.000000          4.000000   \n",
       "75%                  4.000000          4.000000          4.000000   \n",
       "max                  5.000000          5.000000          5.000000   \n",
       "\n",
       "       Baggage handling  Checkin service  Inflight service    Cleanliness  \\\n",
       "count     129880.000000    129880.000000     129880.000000  129880.000000   \n",
       "mean           3.632114         3.306267          3.642193       3.286326   \n",
       "std            1.180025         1.266185          1.176669       1.313682   \n",
       "min            1.000000         0.000000          0.000000       0.000000   \n",
       "25%            3.000000         3.000000          3.000000       2.000000   \n",
       "50%            4.000000         3.000000          4.000000       3.000000   \n",
       "75%            5.000000         4.000000          5.000000       4.000000   \n",
       "max            5.000000         5.000000          5.000000       5.000000   \n",
       "\n",
       "       Departure Delay in Minutes  Arrival Delay in Minutes  \n",
       "count               129880.000000             129487.000000  \n",
       "mean                    14.713713                 15.091129  \n",
       "std                     38.071126                 38.465650  \n",
       "min                      0.000000                  0.000000  \n",
       "25%                      0.000000                  0.000000  \n",
       "50%                      0.000000                  0.000000  \n",
       "75%                     12.000000                 13.000000  \n",
       "max                   1592.000000               1584.000000  "
      ]
     },
     "execution_count": 14,
     "metadata": {},
     "output_type": "execute_result"
    }
   ],
   "source": [
    "airline.describe()  # data summary for exploration of data"
   ]
  },
  {
   "cell_type": "markdown",
   "id": "7e2aa73a",
   "metadata": {},
   "source": [
    "### 5.Please deal with missing values appropriately, if required."
   ]
  },
  {
   "cell_type": "code",
   "execution_count": 15,
   "id": "5b2f01ca",
   "metadata": {},
   "outputs": [
    {
     "data": {
      "text/plain": [
       "Unnamed: 0                             0\n",
       "id                                     0\n",
       "Gender                                 0\n",
       "Customer Type                          0\n",
       "Age                                    0\n",
       "Type of Travel                         0\n",
       "Class                                  0\n",
       "Flight Distance                        0\n",
       "Inflight wifi service                  0\n",
       "Departure/Arrival time convenient      0\n",
       "Ease of Online booking                 0\n",
       "Gate location                          0\n",
       "Food and drink                         0\n",
       "Online boarding                        0\n",
       "Seat comfort                           0\n",
       "Inflight entertainment                 0\n",
       "On-board service                       0\n",
       "Leg room service                       0\n",
       "Baggage handling                       0\n",
       "Checkin service                        0\n",
       "Inflight service                       0\n",
       "Cleanliness                            0\n",
       "Departure Delay in Minutes             0\n",
       "Arrival Delay in Minutes             393\n",
       "satisfaction                           0\n",
       "dtype: int64"
      ]
     },
     "execution_count": 15,
     "metadata": {},
     "output_type": "execute_result"
    }
   ],
   "source": [
    "airline.isnull().sum() # it will give null value count in all columns"
   ]
  },
  {
   "cell_type": "markdown",
   "id": "2b036970",
   "metadata": {},
   "source": [
    "only one column has missing values. as there are more rows we have to replace its values.first we have to check its distribution,if it is normally disctributed, we eplace wit mean oherwise, relace with median."
   ]
  },
  {
   "cell_type": "code",
   "execution_count": 16,
   "id": "301ffe5c",
   "metadata": {},
   "outputs": [
    {
     "data": {
      "text/plain": [
       "0.0      72753\n",
       "1.0       2747\n",
       "2.0       2587\n",
       "3.0       2442\n",
       "4.0       2373\n",
       "         ...  \n",
       "436.0        1\n",
       "454.0        1\n",
       "315.0        1\n",
       "418.0        1\n",
       "369.0        1\n",
       "Name: Arrival Delay in Minutes, Length: 472, dtype: int64"
      ]
     },
     "execution_count": 16,
     "metadata": {},
     "output_type": "execute_result"
    }
   ],
   "source": [
    "airline['Arrival Delay in Minutes'].value_counts() # gives count of all values"
   ]
  },
  {
   "cell_type": "code",
   "execution_count": 16,
   "id": "bde43ffb",
   "metadata": {
    "collapsed": true
   },
   "outputs": [
    {
     "data": {
      "text/plain": [
       "array([4.400e+01, 0.000e+00, 6.000e+00, 2.000e+01, 6.500e+01, 1.400e+01,\n",
       "       1.900e+01, 7.000e+00, 1.130e+02, 2.000e+00, 4.900e+01, 1.300e+01,\n",
       "       6.800e+01, 1.000e+00, 7.000e+01, 1.200e+01, 1.000e+01, 4.000e+00,\n",
       "       1.770e+02, 3.000e+00, 5.500e+01, 9.000e+01, 3.200e+01, 4.600e+01,\n",
       "       5.700e+01, 4.700e+01, 4.000e+01, 2.400e+01, 2.700e+01, 5.200e+01,\n",
       "       1.700e+01, 1.100e+01, 3.400e+01, 9.500e+01, 6.600e+01, 8.000e+00,\n",
       "       8.600e+01, 8.800e+01, 1.780e+02, 7.800e+01, 1.800e+01, 7.200e+01,\n",
       "       4.100e+01, 9.100e+01, 3.500e+01, 1.600e+01, 2.500e+01, 7.700e+01,\n",
       "       9.400e+01, 1.630e+02, 1.020e+02, 4.200e+01, 1.500e+01, 9.000e+00,\n",
       "       8.500e+01, 2.300e+01, 2.800e+01, 3.000e+01, 7.100e+01, 5.000e+00,\n",
       "       7.900e+01, 2.510e+02, 1.510e+02, 3.800e+01, 6.200e+01, 2.100e+01,\n",
       "       2.900e+01, 9.300e+01, 2.320e+02, 1.560e+02, 1.170e+02, 2.600e+01,\n",
       "       5.100e+01, 9.900e+01, 1.210e+02, 7.500e+01, 6.300e+01, 9.200e+01,\n",
       "       4.500e+01, 1.230e+02, 1.290e+02, 8.400e+01,       nan, 2.100e+02,\n",
       "       1.000e+02, 2.200e+01, 5.800e+01, 1.470e+02, 6.100e+01, 2.750e+02,\n",
       "       1.190e+02, 4.850e+02, 6.000e+01, 3.100e+01, 3.360e+02, 1.280e+02,\n",
       "       4.800e+01, 9.700e+01, 6.900e+01, 5.900e+01, 5.000e+01, 4.070e+02,\n",
       "       5.400e+01, 4.300e+01, 1.010e+02, 3.700e+01, 9.600e+01, 1.050e+02,\n",
       "       8.200e+01, 1.140e+02, 1.380e+02, 1.910e+02, 3.300e+01, 2.860e+02,\n",
       "       1.220e+02, 1.030e+02, 8.000e+01, 5.300e+01, 6.400e+01, 7.300e+01,\n",
       "       1.710e+02, 1.240e+02, 1.090e+02, 5.600e+01, 1.150e+02, 8.700e+01,\n",
       "       3.600e+01, 2.210e+02, 1.600e+02, 2.400e+02, 2.480e+02, 1.390e+02,\n",
       "       1.970e+02, 1.040e+02, 1.550e+02, 2.470e+02, 7.600e+01, 6.700e+01,\n",
       "       3.900e+01, 2.070e+02, 9.400e+02, 8.300e+01, 1.810e+02, 2.050e+02,\n",
       "       2.010e+02, 2.620e+02, 9.800e+01, 1.620e+02, 1.110e+02, 2.850e+02,\n",
       "       1.940e+02, 1.400e+02, 2.990e+02, 2.960e+02, 1.250e+02, 1.490e+02,\n",
       "       1.480e+02, 1.330e+02, 1.350e+02, 1.060e+02, 1.310e+02, 2.110e+02,\n",
       "       1.430e+02, 1.420e+02, 1.070e+02, 2.030e+02, 7.400e+01, 1.790e+02,\n",
       "       8.100e+01, 3.470e+02, 2.000e+02, 2.040e+02, 1.880e+02, 1.760e+02,\n",
       "       1.410e+02, 3.440e+02, 8.900e+01, 1.340e+02, 1.840e+02, 1.360e+02,\n",
       "       1.100e+02, 1.200e+02, 1.580e+02, 1.740e+02, 2.360e+02, 1.440e+02,\n",
       "       1.850e+02, 1.720e+02, 1.180e+02, 1.500e+02, 3.740e+02, 1.080e+02,\n",
       "       1.270e+02, 1.640e+02, 1.160e+02, 2.430e+02, 1.370e+02, 1.730e+02,\n",
       "       2.530e+02, 1.120e+02, 3.060e+02, 2.920e+02, 1.670e+02, 3.120e+02,\n",
       "       2.250e+02, 3.810e+02, 2.090e+02, 2.170e+02, 2.240e+02, 1.260e+02,\n",
       "       1.650e+02, 1.860e+02, 1.820e+02, 2.230e+02, 4.010e+02, 1.590e+02,\n",
       "       2.800e+02, 2.610e+02, 2.350e+02, 4.910e+02, 1.660e+02, 4.130e+02,\n",
       "       1.830e+02, 1.980e+02, 2.650e+02, 1.690e+02, 1.890e+02, 4.380e+02,\n",
       "       2.780e+02, 1.990e+02, 3.880e+02, 2.310e+02, 2.220e+02, 1.320e+02,\n",
       "       2.710e+02, 3.250e+02, 1.900e+02, 2.810e+02, 1.610e+02, 2.590e+02,\n",
       "       3.030e+02, 1.540e+02, 2.120e+02, 1.570e+02, 2.390e+02, 7.950e+02,\n",
       "       2.080e+02, 2.180e+02, 1.530e+02, 1.680e+02, 1.450e+02, 2.130e+02,\n",
       "       1.520e+02, 3.070e+02, 4.020e+02, 3.040e+02, 1.300e+02, 1.870e+02,\n",
       "       2.440e+02, 2.150e+02, 6.080e+02, 3.130e+02, 1.800e+02, 4.000e+02,\n",
       "       3.580e+02, 2.450e+02, 3.010e+02, 4.030e+02, 2.270e+02, 3.680e+02,\n",
       "       4.930e+02, 2.890e+02, 4.730e+02, 3.490e+02, 2.370e+02, 3.170e+02,\n",
       "       1.920e+02, 3.160e+02, 1.115e+03, 1.960e+02, 1.700e+02, 2.410e+02,\n",
       "       2.020e+02, 2.380e+02, 3.200e+02, 2.140e+02, 8.220e+02, 1.750e+02,\n",
       "       4.100e+02, 5.800e+02, 3.570e+02, 2.910e+02, 6.150e+02, 1.930e+02,\n",
       "       1.460e+02, 3.500e+02, 2.290e+02, 2.540e+02, 3.720e+02, 2.420e+02,\n",
       "       5.430e+02, 2.550e+02, 2.190e+02, 2.760e+02, 7.480e+02, 5.860e+02,\n",
       "       2.730e+02, 3.330e+02, 2.720e+02, 2.520e+02, 3.300e+02, 2.790e+02,\n",
       "       2.200e+02, 3.190e+02, 3.050e+02, 2.500e+02, 2.770e+02, 2.460e+02,\n",
       "       2.330e+02, 3.110e+02, 2.880e+02, 2.260e+02, 2.600e+02, 4.590e+02,\n",
       "       3.540e+02, 4.700e+02, 2.640e+02, 2.160e+02, 3.230e+02, 2.840e+02,\n",
       "       3.310e+02, 3.240e+02, 2.570e+02, 4.710e+02, 3.480e+02, 4.460e+02,\n",
       "       3.100e+02, 3.210e+02, 4.330e+02, 1.280e+03, 2.060e+02, 6.380e+02,\n",
       "       2.340e+02, 2.670e+02, 2.280e+02, 6.910e+02, 3.290e+02, 1.950e+02,\n",
       "       4.860e+02, 2.700e+02, 3.830e+02, 3.020e+02, 6.000e+02, 2.660e+02,\n",
       "       2.870e+02, 2.300e+02, 2.980e+02, 3.630e+02, 2.950e+02, 2.830e+02,\n",
       "       5.240e+02, 3.270e+02, 2.900e+02, 3.140e+02, 3.860e+02, 3.220e+02,\n",
       "       4.600e+02, 4.180e+02, 2.560e+02, 2.490e+02, 3.150e+02, 3.710e+02,\n",
       "       3.910e+02, 4.540e+02, 4.450e+02, 2.680e+02, 3.370e+02, 2.970e+02,\n",
       "       4.360e+02, 3.000e+02, 4.040e+02, 3.410e+02, 8.600e+02, 2.580e+02,\n",
       "       7.020e+02, 3.600e+02, 4.270e+02, 3.350e+02, 5.160e+02, 5.550e+02,\n",
       "       3.920e+02, 3.820e+02, 2.930e+02, 3.620e+02, 7.290e+02, 3.260e+02,\n",
       "       4.580e+02, 3.340e+02, 3.800e+02, 3.590e+02, 3.460e+02, 6.240e+02,\n",
       "       3.770e+02, 4.290e+02, 5.890e+02, 5.020e+02, 4.570e+02, 4.400e+02,\n",
       "       2.740e+02, 6.040e+02, 7.170e+02, 3.560e+02, 4.090e+02, 8.230e+02,\n",
       "       2.940e+02, 4.310e+02, 4.320e+02, 3.180e+02, 5.030e+02, 3.380e+02,\n",
       "       3.640e+02, 3.080e+02, 4.350e+02, 2.630e+02, 4.170e+02, 4.160e+02,\n",
       "       5.610e+02, 3.510e+02, 9.520e+02, 1.011e+03, 9.240e+02, 4.240e+02,\n",
       "       4.430e+02, 5.180e+02, 4.440e+02, 3.970e+02, 5.930e+02, 3.930e+02,\n",
       "       7.200e+02, 3.660e+02, 4.550e+02, 2.690e+02, 4.340e+02, 9.700e+02,\n",
       "       3.090e+02, 3.780e+02, 3.790e+02, 3.950e+02, 3.700e+02, 4.480e+02,\n",
       "       9.200e+02, 3.890e+02, 3.550e+02, 3.420e+02, 1.584e+03, 5.000e+02,\n",
       "       4.060e+02, 4.840e+02, 4.120e+02, 5.670e+02, 4.200e+02, 3.990e+02,\n",
       "       3.450e+02, 3.530e+02, 4.220e+02, 2.820e+02, 5.070e+02, 4.250e+02,\n",
       "       3.390e+02, 3.520e+02, 3.850e+02, 7.050e+02, 3.690e+02])"
      ]
     },
     "execution_count": 16,
     "metadata": {},
     "output_type": "execute_result"
    }
   ],
   "source": [
    "airline['Arrival Delay in Minutes'].unique()"
   ]
  },
  {
   "cell_type": "code",
   "execution_count": 17,
   "id": "f49c5a94",
   "metadata": {},
   "outputs": [
    {
     "name": "stderr",
     "output_type": "stream",
     "text": [
      "C:\\Users\\Hp\\anaconda3\\lib\\site-packages\\seaborn\\_decorators.py:36: FutureWarning: Pass the following variable as a keyword arg: x. From version 0.12, the only valid positional argument will be `data`, and passing other arguments without an explicit keyword will result in an error or misinterpretation.\n",
      "  warnings.warn(\n"
     ]
    },
    {
     "data": {
      "image/png": "[encoded data removed]",
      "text/plain": [
       "<Figure size 432x288 with 1 Axes>"
      ]
     },
     "metadata": {
      "needs_background": "light"
     },
     "output_type": "display_data"
    }
   ],
   "source": [
    "sns.boxplot(airline['Arrival Delay in Minutes']) # to see distribution\n",
    "plt.show()"
   ]
  },
  {
   "cell_type": "code",
   "execution_count": 18,
   "id": "f5370fd5",
   "metadata": {},
   "outputs": [
    {
     "data": {
      "text/plain": [
       "(array([1.27673e+05, 1.55000e+03, 2.14000e+02, 2.90000e+01, 8.00000e+00,\n",
       "        7.00000e+00, 3.00000e+00, 1.00000e+00, 1.00000e+00, 1.00000e+00]),\n",
       " array([   0. ,  158.4,  316.8,  475.2,  633.6,  792. ,  950.4, 1108.8,\n",
       "        1267.2, 1425.6, 1584. ]),\n",
       " <BarContainer object of 10 artists>)"
      ]
     },
     "execution_count": 18,
     "metadata": {},
     "output_type": "execute_result"
    },
    {
     "data": {
      "image/png": "[encoded data removed]",
      "text/plain": [
       "<Figure size 432x288 with 1 Axes>"
      ]
     },
     "metadata": {
      "needs_background": "light"
     },
     "output_type": "display_data"
    }
   ],
   "source": [
    "plt.hist(airline['Arrival Delay in Minutes'])# to check disibution of data"
   ]
  },
  {
   "cell_type": "markdown",
   "id": "d595e23b",
   "metadata": {},
   "source": [
    "As, distributon didn't look like normal.it is right skewed data. so we replace missing values with median"
   ]
  },
  {
   "cell_type": "code",
   "execution_count": 19,
   "id": "0b99fea1",
   "metadata": {},
   "outputs": [
    {
     "data": {
      "text/plain": [
       "0         44.0\n",
       "1          0.0\n",
       "2          0.0\n",
       "3          6.0\n",
       "4         20.0\n",
       "          ... \n",
       "129875     0.0\n",
       "129876     0.0\n",
       "129877    14.0\n",
       "129878     0.0\n",
       "129879     0.0\n",
       "Name: Arrival Delay in Minutes, Length: 129880, dtype: float64"
      ]
     },
     "execution_count": 19,
     "metadata": {},
     "output_type": "execute_result"
    }
   ],
   "source": [
    "airline['Arrival Delay in Minutes'].replace('Nan',airline['Arrival Delay in Minutes'].median())"
   ]
  },
  {
   "cell_type": "code",
   "execution_count": 20,
   "id": "1c1ca780",
   "metadata": {},
   "outputs": [],
   "source": [
    "airline['Arrival Delay in Minutes']=airline['Arrival Delay in Minutes'].isnull().sum()  # to check missing values ot this column"
   ]
  },
  {
   "cell_type": "code",
   "execution_count": 21,
   "id": "19d9fe6f",
   "metadata": {},
   "outputs": [
    {
     "data": {
      "text/plain": [
       "0"
      ]
     },
     "execution_count": 21,
     "metadata": {},
     "output_type": "execute_result"
    }
   ],
   "source": [
    "airline['Arrival Delay in Minutes'].isnull().sum()"
   ]
  },
  {
   "cell_type": "markdown",
   "id": "43fab537",
   "metadata": {},
   "source": [
    "### 6. Please create appropriate plots to see the frequency distribution of all online boarding, satisfaction, inflight wifi service, Age, and type of travel. Please explain all distributions.\n"
   ]
  },
  {
   "cell_type": "code",
   "execution_count": 30,
   "id": "6a8d6e96",
   "metadata": {},
   "outputs": [
    {
     "data": {
      "text/html": [
       "<div>\n",
       "<style scoped>\n",
       "    .dataframe tbody tr th:only-of-type {\n",
       "        vertical-align: middle;\n",
       "    }\n",
       "\n",
       "    .dataframe tbody tr th {\n",
       "        vertical-align: top;\n",
       "    }\n",
       "\n",
       "    .dataframe thead th {\n",
       "        text-align: right;\n",
       "    }\n",
       "</style>\n",
       "<table border=\"1\" class=\"dataframe\">\n",
       "  <thead>\n",
       "    <tr style=\"text-align: right;\">\n",
       "      <th></th>\n",
       "      <th>Online boarding</th>\n",
       "      <th>satisfaction</th>\n",
       "      <th>Inflight wifi service</th>\n",
       "      <th>Age</th>\n",
       "      <th>Type of Travel</th>\n",
       "    </tr>\n",
       "  </thead>\n",
       "  <tbody>\n",
       "    <tr>\n",
       "      <th>0</th>\n",
       "      <td>4</td>\n",
       "      <td>satisfied</td>\n",
       "      <td>5</td>\n",
       "      <td>52</td>\n",
       "      <td>Business travel</td>\n",
       "    </tr>\n",
       "    <tr>\n",
       "      <th>1</th>\n",
       "      <td>4</td>\n",
       "      <td>satisfied</td>\n",
       "      <td>1</td>\n",
       "      <td>36</td>\n",
       "      <td>Business travel</td>\n",
       "    </tr>\n",
       "    <tr>\n",
       "      <th>2</th>\n",
       "      <td>2</td>\n",
       "      <td>neutral or dissatisfied</td>\n",
       "      <td>2</td>\n",
       "      <td>20</td>\n",
       "      <td>Business travel</td>\n",
       "    </tr>\n",
       "    <tr>\n",
       "      <th>3</th>\n",
       "      <td>4</td>\n",
       "      <td>satisfied</td>\n",
       "      <td>0</td>\n",
       "      <td>44</td>\n",
       "      <td>Business travel</td>\n",
       "    </tr>\n",
       "    <tr>\n",
       "      <th>4</th>\n",
       "      <td>1</td>\n",
       "      <td>satisfied</td>\n",
       "      <td>2</td>\n",
       "      <td>49</td>\n",
       "      <td>Business travel</td>\n",
       "    </tr>\n",
       "  </tbody>\n",
       "</table>\n",
       "</div>"
      ],
      "text/plain": [
       "   Online boarding             satisfaction  Inflight wifi service  Age  \\\n",
       "0                4                satisfied                      5   52   \n",
       "1                4                satisfied                      1   36   \n",
       "2                2  neutral or dissatisfied                      2   20   \n",
       "3                4                satisfied                      0   44   \n",
       "4                1                satisfied                      2   49   \n",
       "\n",
       "    Type of Travel  \n",
       "0  Business travel  \n",
       "1  Business travel  \n",
       "2  Business travel  \n",
       "3  Business travel  \n",
       "4  Business travel  "
      ]
     },
     "execution_count": 30,
     "metadata": {},
     "output_type": "execute_result"
    }
   ],
   "source": [
    "df1=airline[['Online boarding','satisfaction','Inflight wifi service','Age','Type of Travel']]\n",
    "df1.head()"
   ]
  },
  {
   "cell_type": "code",
   "execution_count": 38,
   "id": "d5a69361",
   "metadata": {},
   "outputs": [
    {
     "data": {
      "image/png": "[encoded data removed]",
      "text/plain": [
       "<Figure size 432x288 with 1 Axes>"
      ]
     },
     "metadata": {
      "needs_background": "light"
     },
     "output_type": "display_data"
    },
    {
     "data": {
      "image/png": "[encoded data removed]",
      "text/plain": [
       "<Figure size 432x288 with 1 Axes>"
      ]
     },
     "metadata": {
      "needs_background": "light"
     },
     "output_type": "display_data"
    },
    {
     "data": {
      "image/png": "[encoded data removed]",
      "text/plain": [
       "<Figure size 432x288 with 1 Axes>"
      ]
     },
     "metadata": {
      "needs_background": "light"
     },
     "output_type": "display_data"
    }
   ],
   "source": [
    "df2=df1.select_dtypes(exclude=['category'])  # remove object column\n",
    "for column in df2:                             # use for loop for all columns\n",
    "    plt.figure()\n",
    "    df2.boxplot([column]) \n"
   ]
  },
  {
   "cell_type": "markdown",
   "id": "86292113",
   "metadata": {},
   "source": [
    "Here, Age is left skewed data , lies in range of frequency of 28-51,median is at 40. inflight wifi service and online boarding are normally distributed data.Inflight wifi service is at range of frequency of 2-4,median is at 3.Online boarding is at range of frequency of 2-4,median is at 3. no outliers present for age,inflight wifi service,online boarding."
   ]
  },
  {
   "cell_type": "code",
   "execution_count": 57,
   "id": "6e10136e",
   "metadata": {},
   "outputs": [
    {
     "name": "stderr",
     "output_type": "stream",
     "text": [
      "C:\\Users\\Hp\\anaconda3\\lib\\site-packages\\seaborn\\_decorators.py:36: FutureWarning: Pass the following variables as keyword args: x, y. From version 0.12, the only valid positional argument will be `data`, and passing other arguments without an explicit keyword will result in an error or misinterpretation.\n",
      "  warnings.warn(\n"
     ]
    },
    {
     "data": {
      "text/plain": [
       "<AxesSubplot:xlabel='Type of Travel', ylabel='Age'>"
      ]
     },
     "execution_count": 57,
     "metadata": {},
     "output_type": "execute_result"
    },
    {
     "data": {
      "image/png": "[encoded data removed]",
      "text/plain": [
       "<Figure size 432x288 with 1 Axes>"
      ]
     },
     "metadata": {
      "needs_background": "light"
     },
     "output_type": "display_data"
    }
   ],
   "source": [
    "sns.boxplot(airline['Type of Travel'],airline['Age'])"
   ]
  },
  {
   "cell_type": "markdown",
   "id": "ab7dfa9f",
   "metadata": {},
   "source": [
    "Here, we type of travel is category, so we plot boxplot alon with numerical column age.here there are 2 categories are there. Buisiness travel is left skewed data,lies in range of 30-50,median is at 40 and outlier is present. Personal travel looks like normal distribution data ,lies in range of 25-55,median is at 40,no outlier."
   ]
  },
  {
   "cell_type": "code",
   "execution_count": 56,
   "id": "0334975b",
   "metadata": {},
   "outputs": [
    {
     "name": "stderr",
     "output_type": "stream",
     "text": [
      "C:\\Users\\Hp\\anaconda3\\lib\\site-packages\\seaborn\\_decorators.py:36: FutureWarning: Pass the following variables as keyword args: x, y. From version 0.12, the only valid positional argument will be `data`, and passing other arguments without an explicit keyword will result in an error or misinterpretation.\n",
      "  warnings.warn(\n"
     ]
    },
    {
     "data": {
      "text/plain": [
       "<AxesSubplot:xlabel='satisfaction', ylabel='Age'>"
      ]
     },
     "execution_count": 56,
     "metadata": {},
     "output_type": "execute_result"
    },
    {
     "data": {
      "image/png": "[encoded data removed]",
      "text/plain": [
       "<Figure size 432x288 with 1 Axes>"
      ]
     },
     "metadata": {
      "needs_background": "light"
     },
     "output_type": "display_data"
    }
   ],
   "source": [
    "sns.boxplot(airline['satisfaction'],airline['Age'])"
   ]
  },
  {
   "cell_type": "markdown",
   "id": "11f8abde",
   "metadata": {},
   "source": [
    "Here, satisfaction is category, so we plot along with numerical column age,here 2 categories are there. neutral or dissatisfied is normally distributed data and lies between range of age 25-50 and median is between 35-40. satisfied is left skewed data & lies in range of 30-50 age & median is between 40-50 & also outliers are present."
   ]
  },
  {
   "cell_type": "markdown",
   "id": "e3f5f1d8",
   "metadata": {},
   "source": [
    "### 7. Please create plots with percentages of type of travel, class and satisfaction variables\n",
    "As type of travel,class,satisfaction variables are categorical. to fing percentage of distribution , we can plot pie chart."
   ]
  },
  {
   "cell_type": "code",
   "execution_count": 58,
   "id": "013b8a9d",
   "metadata": {},
   "outputs": [
    {
     "data": {
      "image/png": "[encoded data removed]",
      "text/plain": [
       "<Figure size 720x504 with 1 Axes>"
      ]
     },
     "metadata": {},
     "output_type": "display_data"
    }
   ],
   "source": [
    "# pie chart for cat only\n",
    "# Counting total numbers in each category\n",
    "count = airline['Type of Travel'].value_counts()\n",
    "# Checking the numbers\n",
    "count\n",
    "# Creating categories based on numbers\n",
    "AM = ['Personal Travel', 'Buisiness Travel']\n",
    "# Creating plot\n",
    "fig = plt.figure(figsize =(10, 7))\n",
    "# Show plot\n",
    "plt.pie(count, labels = AM,autopct='%1.1f%%',shadow=True, startangle=90)\n",
    "plt.title(\"Pie Chart\")\n",
    "plt.show()"
   ]
  },
  {
   "cell_type": "markdown",
   "id": "5519b0d2",
   "metadata": {},
   "source": [
    "30.9% are tralleing on Buisiness purposes and 69.1% are using for personal puroses. here personal type travel are majority"
   ]
  },
  {
   "cell_type": "code",
   "execution_count": 60,
   "id": "5df587b3",
   "metadata": {},
   "outputs": [
    {
     "data": {
      "text/plain": [
       "Business    62160\n",
       "Eco         58309\n",
       "Eco Plus     9411\n",
       "Name: Class, dtype: int64"
      ]
     },
     "execution_count": 60,
     "metadata": {},
     "output_type": "execute_result"
    }
   ],
   "source": [
    "count = airline['Class'].value_counts()\n",
    "# Checking the numbers\n",
    "count"
   ]
  },
  {
   "cell_type": "code",
   "execution_count": 61,
   "id": "2d017da6",
   "metadata": {},
   "outputs": [
    {
     "data": {
      "text/plain": [
       "0         Eco\n",
       "1    Business\n",
       "2         Eco\n",
       "3    Business\n",
       "4         Eco\n",
       "Name: Class, dtype: category\n",
       "Categories (3, object): ['Business', 'Eco', 'Eco Plus']"
      ]
     },
     "execution_count": 61,
     "metadata": {},
     "output_type": "execute_result"
    }
   ],
   "source": [
    "airline['Class'].head()"
   ]
  },
  {
   "cell_type": "code",
   "execution_count": 63,
   "id": "574262fb",
   "metadata": {},
   "outputs": [
    {
     "data": {
      "image/png": "[encoded data removed]",
      "text/plain": [
       "<Figure size 720x504 with 1 Axes>"
      ]
     },
     "metadata": {},
     "output_type": "display_data"
    }
   ],
   "source": [
    "# pie chart for cat only\n",
    "# Counting total numbers in each category\n",
    "count = airline['Class'].value_counts()\n",
    "# Checking the numbers\n",
    "count\n",
    "# Creating categories based on numbers\n",
    "AM = ['Eco', 'Business','Eco plus']\n",
    "# Creating plot\n",
    "fig = plt.figure(figsize =(10, 7))\n",
    "# Show plot\n",
    "plt.pie(count, labels = AM,autopct='%1.1f%%',shadow=True, startangle=90)\n",
    "plt.title(\"Pie Chart\")\n",
    "plt.show()"
   ]
  },
  {
   "cell_type": "markdown",
   "id": "96832f1b",
   "metadata": {},
   "source": [
    "47.9% are using Eco class,7.2% are using Eco plus,44.9% are using Business class."
   ]
  },
  {
   "cell_type": "code",
   "execution_count": 64,
   "id": "8c2123d4",
   "metadata": {},
   "outputs": [
    {
     "data": {
      "image/png": "[encoded data removed]",
      "text/plain": [
       "<Figure size 720x504 with 1 Axes>"
      ]
     },
     "metadata": {},
     "output_type": "display_data"
    }
   ],
   "source": [
    "# pie chart for cat only\n",
    "# Counting total numbers in each category\n",
    "count = airline['satisfaction'].value_counts()\n",
    "# Checking the numbers\n",
    "count\n",
    "# Creating categories based on numbers\n",
    "AM = ['neutral|dissatisfied', 'satisfied']\n",
    "# Creating plot\n",
    "fig = plt.figure(figsize =(10, 7))\n",
    "# Show plot\n",
    "plt.pie(count, labels = AM,autopct='%1.1f%%',shadow=True, startangle=90)\n",
    "plt.title(\"Pie Chart\")\n",
    "plt.show()"
   ]
  },
  {
   "cell_type": "markdown",
   "id": "9f90c1ec",
   "metadata": {},
   "source": [
    "43.4 % of population are satisied and 56.6% population are neutral or dissatisfied.here majority are not satisfied."
   ]
  },
  {
   "cell_type": "markdown",
   "id": "976df76f",
   "metadata": {},
   "source": [
    "### 8. Please create appropriate plots and name variables having outliers in the dataset."
   ]
  },
  {
   "cell_type": "code",
   "execution_count": 65,
   "id": "20358e08",
   "metadata": {
    "scrolled": false
   },
   "outputs": [
    {
     "data": {
      "image/png": "[encoded data removed]",
      "text/plain": [
       "<Figure size 432x288 with 1 Axes>"
      ]
     },
     "metadata": {
      "needs_background": "light"
     },
     "output_type": "display_data"
    },
    {
     "data": {
      "image/png": "[encoded data removed]",
      "text/plain": [
       "<Figure size 432x288 with 1 Axes>"
      ]
     },
     "metadata": {
      "needs_background": "light"
     },
     "output_type": "display_data"
    },
    {
     "data": {
      "image/png": "[encoded data removed]",
      "text/plain": [
       "<Figure size 432x288 with 1 Axes>"
      ]
     },
     "metadata": {
      "needs_background": "light"
     },
     "output_type": "display_data"
    },
    {
     "data": {
      "image/png": "[encoded data removed]",
      "text/plain": [
       "<Figure size 432x288 with 1 Axes>"
      ]
     },
     "metadata": {
      "needs_background": "light"
     },
     "output_type": "display_data"
    },
    {
     "data": {
      "image/png": "[encoded data removed]",
      "text/plain": [
       "<Figure size 432x288 with 1 Axes>"
      ]
     },
     "metadata": {
      "needs_background": "light"
     },
     "output_type": "display_data"
    },
    {
     "data": {
      "image/png": "[encoded data removed]",
      "text/plain": [
       "<Figure size 432x288 with 1 Axes>"
      ]
     },
     "metadata": {
      "needs_background": "light"
     },
     "output_type": "display_data"
    },
    {
     "data": {
      "image/png": "[encoded data removed]",
      "text/plain": [
       "<Figure size 432x288 with 1 Axes>"
      ]
     },
     "metadata": {
      "needs_background": "light"
     },
     "output_type": "display_data"
    },
    {
     "data": {
      "image/png": "[encoded data removed]",
      "text/plain": [
       "<Figure size 432x288 with 1 Axes>"
      ]
     },
     "metadata": {
      "needs_background": "light"
     },
     "output_type": "display_data"
    },
    {
     "data": {
      "image/png": "[encoded data removed]",
      "text/plain": [
       "<Figure size 432x288 with 1 Axes>"
      ]
     },
     "metadata": {
      "needs_background": "light"
     },
     "output_type": "display_data"
    },
    {
     "data": {
      "image/png": "[encoded data removed]",
      "text/plain": [
       "<Figure size 432x288 with 1 Axes>"
      ]
     },
     "metadata": {
      "needs_background": "light"
     },
     "output_type": "display_data"
    },
    {
     "data": {
      "image/png": "[encoded data removed]",
      "text/plain": [
       "<Figure size 432x288 with 1 Axes>"
      ]
     },
     "metadata": {
      "needs_background": "light"
     },
     "output_type": "display_data"
    },
    {
     "data": {
      "image/png": "[encoded data removed]",
      "text/plain": [
       "<Figure size 432x288 with 1 Axes>"
      ]
     },
     "metadata": {
      "needs_background": "light"
     },
     "output_type": "display_data"
    },
    {
     "data": {
      "image/png": "[encoded data removed]",
      "text/plain": [
       "<Figure size 432x288 with 1 Axes>"
      ]
     },
     "metadata": {
      "needs_background": "light"
     },
     "output_type": "display_data"
    },
    {
     "data": {
      "image/png": "[encoded data removed]",
      "text/plain": [
       "<Figure size 432x288 with 1 Axes>"
      ]
     },
     "metadata": {
      "needs_background": "light"
     },
     "output_type": "display_data"
    },
    {
     "data": {
      "image/png": "[encoded data removed]",
      "text/plain": [
       "<Figure size 432x288 with 1 Axes>"
      ]
     },
     "metadata": {
      "needs_background": "light"
     },
     "output_type": "display_data"
    },
    {
     "data": {
      "image/png": "[encoded data removed]",
      "text/plain": [
       "<Figure size 432x288 with 1 Axes>"
      ]
     },
     "metadata": {
      "needs_background": "light"
     },
     "output_type": "display_data"
    },
    {
     "data": {
      "image/png": "[encoded data removed]",
      "text/plain": [
       "<Figure size 432x288 with 1 Axes>"
      ]
     },
     "metadata": {
      "needs_background": "light"
     },
     "output_type": "display_data"
    },
    {
     "data": {
      "image/png": "[encoded data removed]",
      "text/plain": [
       "<Figure size 432x288 with 1 Axes>"
      ]
     },
     "metadata": {
      "needs_background": "light"
     },
     "output_type": "display_data"
    },
    {
     "data": {
      "image/png": "[encoded data removed]",
      "text/plain": [
       "<Figure size 432x288 with 1 Axes>"
      ]
     },
     "metadata": {
      "needs_background": "light"
     },
     "output_type": "display_data"
    }
   ],
   "source": [
    "df3=airline.select_dtypes(exclude=['category'])  # remove category column\n",
    "for column in df3:                             # use for loop for all columns\n",
    "    plt.figure()\n",
    "    df3.boxplot([column]) "
   ]
  },
  {
   "cell_type": "markdown",
   "id": "25beb5ea",
   "metadata": {},
   "source": [
    "variables having Outliers\n",
    "---\n",
    "* Flight distance\n",
    "* check-in service\n",
    "* departure delay in minutes"
   ]
  },
  {
   "cell_type": "code",
   "execution_count": 72,
   "id": "9777779a",
   "metadata": {},
   "outputs": [
    {
     "name": "stderr",
     "output_type": "stream",
     "text": [
      "C:\\Users\\Hp\\anaconda3\\lib\\site-packages\\seaborn\\_decorators.py:36: FutureWarning: Pass the following variables as keyword args: x, y. From version 0.12, the only valid positional argument will be `data`, and passing other arguments without an explicit keyword will result in an error or misinterpretation.\n",
      "  warnings.warn(\n"
     ]
    },
    {
     "data": {
      "image/png": "[encoded data removed]",
      "text/plain": [
       "<Figure size 432x288 with 1 Axes>"
      ]
     },
     "metadata": {
      "needs_background": "light"
     },
     "output_type": "display_data"
    },
    {
     "name": "stderr",
     "output_type": "stream",
     "text": [
      "C:\\Users\\Hp\\anaconda3\\lib\\site-packages\\seaborn\\_decorators.py:36: FutureWarning: Pass the following variables as keyword args: x, y. From version 0.12, the only valid positional argument will be `data`, and passing other arguments without an explicit keyword will result in an error or misinterpretation.\n",
      "  warnings.warn(\n"
     ]
    },
    {
     "data": {
      "image/png": "[encoded data removed]",
      "text/plain": [
       "<Figure size 432x288 with 1 Axes>"
      ]
     },
     "metadata": {
      "needs_background": "light"
     },
     "output_type": "display_data"
    },
    {
     "name": "stderr",
     "output_type": "stream",
     "text": [
      "C:\\Users\\Hp\\anaconda3\\lib\\site-packages\\seaborn\\_decorators.py:36: FutureWarning: Pass the following variables as keyword args: x, y. From version 0.12, the only valid positional argument will be `data`, and passing other arguments without an explicit keyword will result in an error or misinterpretation.\n",
      "  warnings.warn(\n"
     ]
    },
    {
     "data": {
      "image/png": "[encoded data removed]",
      "text/plain": [
       "<Figure size 432x288 with 1 Axes>"
      ]
     },
     "metadata": {
      "needs_background": "light"
     },
     "output_type": "display_data"
    },
    {
     "name": "stderr",
     "output_type": "stream",
     "text": [
      "C:\\Users\\Hp\\anaconda3\\lib\\site-packages\\seaborn\\_decorators.py:36: FutureWarning: Pass the following variables as keyword args: x, y. From version 0.12, the only valid positional argument will be `data`, and passing other arguments without an explicit keyword will result in an error or misinterpretation.\n",
      "  warnings.warn(\n"
     ]
    },
    {
     "data": {
      "image/png": "[encoded data removed]",
      "text/plain": [
       "<Figure size 432x288 with 1 Axes>"
      ]
     },
     "metadata": {
      "needs_background": "light"
     },
     "output_type": "display_data"
    },
    {
     "name": "stderr",
     "output_type": "stream",
     "text": [
      "C:\\Users\\Hp\\anaconda3\\lib\\site-packages\\seaborn\\_decorators.py:36: FutureWarning: Pass the following variables as keyword args: x, y. From version 0.12, the only valid positional argument will be `data`, and passing other arguments without an explicit keyword will result in an error or misinterpretation.\n",
      "  warnings.warn(\n"
     ]
    },
    {
     "data": {
      "image/png": "[encoded data removed]",
      "text/plain": [
       "<Figure size 432x288 with 1 Axes>"
      ]
     },
     "metadata": {
      "needs_background": "light"
     },
     "output_type": "display_data"
    }
   ],
   "source": [
    "df4=airline.select_dtypes(exclude=['int','float'])# remove int,float data type column\n",
    "df4=df4.drop(columns=['Unnamed: 0','id'])# these 2 columns doesnt effect our data, so we can drop\n",
    "df4.head()\n",
    "for column in df4:                             # use for loop for all columns\n",
    "    plt.figure()\n",
    "    sns.boxplot(df4[column],airline['Age'])# boxplot for categorical variables along with numerical variable age\n",
    "    plt.show()"
   ]
  },
  {
   "cell_type": "markdown",
   "id": "33b2a35b",
   "metadata": {},
   "source": [
    "* Gender don't have otliers.\n",
    "* For custumer type,disloyal customer has outliers.\n",
    "* For type of travel,Buisiness type have outlier.\n",
    "* For class, buisiness class has outlier.\n",
    "* For satisfaction, satisfied groupn has outlier."
   ]
  },
  {
   "cell_type": "markdown",
   "id": "e440f8c5",
   "metadata": {},
   "source": [
    "### 9. Please calculate appropriate measures of central tendency and measures of dispersion for all variables based on datatypes and distribution?"
   ]
  },
  {
   "cell_type": "code",
   "execution_count": 31,
   "id": "78765aac",
   "metadata": {},
   "outputs": [
    {
     "name": "stderr",
     "output_type": "stream",
     "text": [
      "C:\\Users\\Hp\\AppData\\Local\\Temp/ipykernel_11760/2195729971.py:1: FutureWarning: Dropping of nuisance columns in DataFrame reductions (with 'numeric_only=None') is deprecated; in a future version this will raise TypeError.  Select only valid columns before calling the reduction.\n",
      "  airline.skew()  # to find skewness value for checking distribution\n"
     ]
    },
    {
     "data": {
      "text/plain": [
       "Age                                 -0.003606\n",
       "Flight Distance                      1.108142\n",
       "Inflight wifi service                0.040465\n",
       "Departure/Arrival time convenient   -0.332469\n",
       "Ease of Online booking              -0.018779\n",
       "Gate location                       -0.058265\n",
       "Food and drink                      -0.155063\n",
       "Online boarding                     -0.456911\n",
       "Seat comfort                        -0.485818\n",
       "Inflight entertainment              -0.366385\n",
       "On-board service                    -0.421320\n",
       "Leg room service                    -0.348414\n",
       "Baggage handling                    -0.677400\n",
       "Checkin service                     -0.366569\n",
       "Inflight service                    -0.691580\n",
       "Cleanliness                         -0.300926\n",
       "Departure Delay in Minutes           6.821980\n",
       "Arrival Delay in Minutes             0.000000\n",
       "dtype: float64"
      ]
     },
     "execution_count": 31,
     "metadata": {},
     "output_type": "execute_result"
    }
   ],
   "source": [
    "airline.skew()  # to find skewness value for checking distribution"
   ]
  },
  {
   "cell_type": "markdown",
   "id": "67073104",
   "metadata": {},
   "source": [
    "variables|skewness value| skewed or normal distribution of data|\n",
    "---| ----|---|\n",
    "Age                               |  -0.003606| Normal\n",
    "Flight Distance                    |  1.108142|skewed\n",
    "Inflight wifi service               | 0.040465|normal\n",
    "Departure/Arrival time convenient |  -0.332469|skewed\n",
    "Ease of Online booking             | -0.018779|normal\n",
    "Gate location                       -0.058265|normal\n",
    "Food and drink                |      -0.155063| skewed\n",
    "Online boarding                |     -0.456911|skewed\n",
    "Seat comfort                    |    -0.485818|skewed\n",
    "Inflight entertainment           |   -0.366385|skewed\n",
    "On-board service                  |  -0.421320|skewed\n",
    "Leg room service                   | -0.348414|skewed\n",
    "Baggage handling                    |-0.677400|skewed\n",
    "Checkin service               |      -0.366569|skewed\n",
    "Inflight service               |     -0.691580|skewed\n",
    "Cleanliness                     |    -0.300926|skewed\n",
    "Departure Delay in Minutes       |   6.821980|skewed\n",
    "Arrival Delay in Minutes          |   0.000000|normal\n"
   ]
  },
  {
   "cell_type": "markdown",
   "id": "c1af77e9",
   "metadata": {},
   "source": [
    "**Measures of cenral tendency**:\n",
    "for normal distribution, it can be calculated by mean.\n",
    "for skewed , it can be calculated by median.\n",
    "\n",
    "**Measures of central dispersion**:\n",
    "for normal distribution, it can be calculated by SD.\n",
    "for skewed , it can be calculated by  IQR"
   ]
  },
  {
   "cell_type": "code",
   "execution_count": 39,
   "id": "ca56b6cc",
   "metadata": {},
   "outputs": [
    {
     "data": {
      "text/plain": [
       "Arrival Delay in Minutes    393.000000\n",
       "Ease of Online booking        2.756876\n",
       "Inflight wifi service         2.728696\n",
       "Age                          39.427957\n",
       "Gate location                 2.976925\n",
       "dtype: float64"
      ]
     },
     "execution_count": 39,
     "metadata": {},
     "output_type": "execute_result"
    }
   ],
   "source": [
    "# measures of central tendency\n",
    "# normal distribution\n",
    "df_normal= airline[['Arrival Delay in Minutes','Ease of Online booking','Inflight wifi service','Age','Gate location']]\n",
    "df_normal.mean()"
   ]
  },
  {
   "cell_type": "code",
   "execution_count": 40,
   "id": "d497f356",
   "metadata": {},
   "outputs": [
    {
     "data": {
      "text/plain": [
       "Arrival Delay in Minutes     0.00000\n",
       "Ease of Online booking       1.40174\n",
       "Inflight wifi service        1.32934\n",
       "Age                         15.11936\n",
       "Gate location                1.27852\n",
       "dtype: float64"
      ]
     },
     "execution_count": 40,
     "metadata": {},
     "output_type": "execute_result"
    }
   ],
   "source": [
    "## measures of central tendency\n",
    "# normal distribution\n",
    "df_normal.std() "
   ]
  },
  {
   "cell_type": "code",
   "execution_count": 43,
   "id": "10a93980",
   "metadata": {},
   "outputs": [
    {
     "data": {
      "text/html": [
       "<div>\n",
       "<style scoped>\n",
       "    .dataframe tbody tr th:only-of-type {\n",
       "        vertical-align: middle;\n",
       "    }\n",
       "\n",
       "    .dataframe tbody tr th {\n",
       "        vertical-align: top;\n",
       "    }\n",
       "\n",
       "    .dataframe thead th {\n",
       "        text-align: right;\n",
       "    }\n",
       "</style>\n",
       "<table border=\"1\" class=\"dataframe\">\n",
       "  <thead>\n",
       "    <tr style=\"text-align: right;\">\n",
       "      <th></th>\n",
       "      <th>Flight Distance</th>\n",
       "      <th>Departure/Arrival time convenient</th>\n",
       "      <th>Food and drink</th>\n",
       "      <th>Online boarding</th>\n",
       "      <th>Seat comfort</th>\n",
       "      <th>Inflight entertainment</th>\n",
       "      <th>On-board service</th>\n",
       "      <th>Leg room service</th>\n",
       "      <th>Baggage handling</th>\n",
       "      <th>Checkin service</th>\n",
       "      <th>Inflight service</th>\n",
       "      <th>Cleanliness</th>\n",
       "      <th>Departure Delay in Minutes</th>\n",
       "    </tr>\n",
       "  </thead>\n",
       "  <tbody>\n",
       "    <tr>\n",
       "      <th>0</th>\n",
       "      <td>160</td>\n",
       "      <td>4</td>\n",
       "      <td>3</td>\n",
       "      <td>4</td>\n",
       "      <td>3</td>\n",
       "      <td>5</td>\n",
       "      <td>5</td>\n",
       "      <td>5</td>\n",
       "      <td>5</td>\n",
       "      <td>2</td>\n",
       "      <td>5</td>\n",
       "      <td>5</td>\n",
       "      <td>50</td>\n",
       "    </tr>\n",
       "    <tr>\n",
       "      <th>1</th>\n",
       "      <td>2863</td>\n",
       "      <td>1</td>\n",
       "      <td>5</td>\n",
       "      <td>4</td>\n",
       "      <td>5</td>\n",
       "      <td>4</td>\n",
       "      <td>4</td>\n",
       "      <td>4</td>\n",
       "      <td>4</td>\n",
       "      <td>3</td>\n",
       "      <td>4</td>\n",
       "      <td>5</td>\n",
       "      <td>0</td>\n",
       "    </tr>\n",
       "    <tr>\n",
       "      <th>2</th>\n",
       "      <td>192</td>\n",
       "      <td>0</td>\n",
       "      <td>2</td>\n",
       "      <td>2</td>\n",
       "      <td>2</td>\n",
       "      <td>2</td>\n",
       "      <td>4</td>\n",
       "      <td>1</td>\n",
       "      <td>3</td>\n",
       "      <td>2</td>\n",
       "      <td>2</td>\n",
       "      <td>2</td>\n",
       "      <td>0</td>\n",
       "    </tr>\n",
       "    <tr>\n",
       "      <th>3</th>\n",
       "      <td>3377</td>\n",
       "      <td>0</td>\n",
       "      <td>3</td>\n",
       "      <td>4</td>\n",
       "      <td>4</td>\n",
       "      <td>1</td>\n",
       "      <td>1</td>\n",
       "      <td>1</td>\n",
       "      <td>1</td>\n",
       "      <td>3</td>\n",
       "      <td>1</td>\n",
       "      <td>4</td>\n",
       "      <td>0</td>\n",
       "    </tr>\n",
       "    <tr>\n",
       "      <th>4</th>\n",
       "      <td>1182</td>\n",
       "      <td>3</td>\n",
       "      <td>4</td>\n",
       "      <td>1</td>\n",
       "      <td>2</td>\n",
       "      <td>2</td>\n",
       "      <td>2</td>\n",
       "      <td>2</td>\n",
       "      <td>2</td>\n",
       "      <td>4</td>\n",
       "      <td>2</td>\n",
       "      <td>4</td>\n",
       "      <td>0</td>\n",
       "    </tr>\n",
       "  </tbody>\n",
       "</table>\n",
       "</div>"
      ],
      "text/plain": [
       "   Flight Distance  Departure/Arrival time convenient  Food and drink  \\\n",
       "0              160                                  4               3   \n",
       "1             2863                                  1               5   \n",
       "2              192                                  0               2   \n",
       "3             3377                                  0               3   \n",
       "4             1182                                  3               4   \n",
       "\n",
       "   Online boarding  Seat comfort  Inflight entertainment  On-board service  \\\n",
       "0                4             3                       5                 5   \n",
       "1                4             5                       4                 4   \n",
       "2                2             2                       2                 4   \n",
       "3                4             4                       1                 1   \n",
       "4                1             2                       2                 2   \n",
       "\n",
       "   Leg room service  Baggage handling  Checkin service  Inflight service  \\\n",
       "0                 5                 5                2                 5   \n",
       "1                 4                 4                3                 4   \n",
       "2                 1                 3                2                 2   \n",
       "3                 1                 1                3                 1   \n",
       "4                 2                 2                4                 2   \n",
       "\n",
       "   Cleanliness  Departure Delay in Minutes  \n",
       "0            5                          50  \n",
       "1            5                           0  \n",
       "2            2                           0  \n",
       "3            4                           0  \n",
       "4            4                           0  "
      ]
     },
     "execution_count": 43,
     "metadata": {},
     "output_type": "execute_result"
    }
   ],
   "source": [
    "# skewed data frame\n",
    "df_skewed= airline[['Flight Distance','Departure/Arrival time convenient','Food and drink','Online boarding','Seat comfort','Inflight entertainment','On-board service',\n",
    "'Leg room service','Baggage handling','Checkin service','Inflight service','Cleanliness','Departure Delay in Minutes']]\n",
    "df_skewed.head()"
   ]
  },
  {
   "cell_type": "code",
   "execution_count": 46,
   "id": "69943131",
   "metadata": {},
   "outputs": [
    {
     "data": {
      "text/plain": [
       "Flight Distance                      844.0\n",
       "Departure/Arrival time convenient      3.0\n",
       "Food and drink                         3.0\n",
       "Online boarding                        3.0\n",
       "Seat comfort                           4.0\n",
       "Inflight entertainment                 4.0\n",
       "On-board service                       4.0\n",
       "Leg room service                       4.0\n",
       "Baggage handling                       4.0\n",
       "Checkin service                        3.0\n",
       "Inflight service                       4.0\n",
       "Cleanliness                            3.0\n",
       "Departure Delay in Minutes             0.0\n",
       "dtype: float64"
      ]
     },
     "execution_count": 46,
     "metadata": {},
     "output_type": "execute_result"
    }
   ],
   "source": [
    "# measures of central tendency\n",
    "# skewed distribution\n",
    "df_skewed.median()"
   ]
  },
  {
   "cell_type": "code",
   "execution_count": 47,
   "id": "6f094ef4",
   "metadata": {},
   "outputs": [
    {
     "data": {
      "text/plain": [
       "3.0"
      ]
     },
     "execution_count": 47,
     "metadata": {},
     "output_type": "execute_result"
    }
   ],
   "source": [
    "q3, q1 = np.percentile(df_skewed, [75 ,25]) # quartiles for skewed population\n",
    "iqr = q3 - q1                         # finding iqr\n",
    "iqr"
   ]
  },
  {
   "cell_type": "code",
   "execution_count": 45,
   "id": "f88dc393",
   "metadata": {},
   "outputs": [
    {
     "data": {
      "text/plain": [
       "Flight Distance                      997.452477\n",
       "Departure/Arrival time convenient      1.526741\n",
       "Food and drink                         1.329933\n",
       "Online boarding                        1.350719\n",
       "Seat comfort                           1.319289\n",
       "Inflight entertainment                 1.334049\n",
       "On-board service                       1.287099\n",
       "Leg room service                       1.316252\n",
       "Baggage handling                       1.180025\n",
       "Checkin service                        1.266185\n",
       "Inflight service                       1.176669\n",
       "Cleanliness                            1.313682\n",
       "Departure Delay in Minutes            38.071126\n",
       "dtype: float64"
      ]
     },
     "execution_count": 45,
     "metadata": {},
     "output_type": "execute_result"
    }
   ],
   "source": [
    "# measures of central dispersion\n",
    "# skewed distribution\n",
    "df_skewed.std()"
   ]
  },
  {
   "cell_type": "markdown",
   "id": "6d0351cd",
   "metadata": {},
   "source": [
    "### 10. Please examine the distribution of numerical data and explain which variables are distributed and which variables seem to be skewed. Please also tell the direction of skewness.\n",
    "Based on skewness value calulated above, we can tell, which variables are distributed and direction of skewness.positive skewness ir right side skewed distribution. negative skew value means left skewed ."
   ]
  },
  {
   "cell_type": "markdown",
   "id": "e360c8ae",
   "metadata": {},
   "source": [
    "variables|skewness value| skewed or normal distribution of data|direction of skewness\n",
    "---| ----|---|---|\n",
    "Age                               |  -0.003606| Normal|\n",
    "Flight Distance                    |  1.108142|skewed|right\n",
    "Inflight wifi service               | 0.040465|normal|right\n",
    "Departure/Arrival time convenient |  -0.332469|skewed|left\n",
    "Ease of Online booking             | -0.018779|normal|\n",
    "Gate location             |          -0.058265|normal|\n",
    "Food and drink                |      -0.155063| skewed|left\n",
    "Online boarding                |     -0.456911|skewed|left\n",
    "Seat comfort                    |    -0.485818|skewed|left\n",
    "Inflight entertainment           |   -0.366385|skewed|left\n",
    "On-board service                  |  -0.421320|skewed|left\n",
    "Leg room service                   | -0.348414|skewed|left\n",
    "Baggage handling                    |-0.677400|skewed|left\n",
    "Checkin service               |      -0.366569|skewed|left\n",
    "Inflight service               |     -0.691580|skewed|left\n",
    "Cleanliness                     |    -0.300926|skewed|left\n",
    "Departure Delay in Minutes       |   6.821980|skewed|right\n",
    "Arrival Delay in Minutes          |   0.000000|normal|"
   ]
  },
  {
   "cell_type": "markdown",
   "id": "30966698",
   "metadata": {},
   "source": [
    "here,age,gatelocation.arrival delay in minutes,ease of online booking,inflight wifi service are 0 & alomost 0. so we considered them as  approximately normal distributed.others are skewed. we can see direction of skewness from above table"
   ]
  },
  {
   "cell_type": "code",
   "execution_count": null,
   "id": "6fc8f538",
   "metadata": {},
   "outputs": [],
   "source": []
  },
  {
   "cell_type": "markdown",
   "id": "cfba52ee",
   "metadata": {},
   "source": [
    "### 11. Please create an appropriate plot to examine the relationship/difference between gender and satisfaction and age and satisfaction.\n",
    "To examine relationship, we need scatter plot between 2 numerical variables.here we want to plot between geder,satisfaction,age. here age is numerical and other 2 are categorical column.so we cant plot scatter plot here. \n",
    "to check difference between 2 categories and 1 numerical , bar plot is appropiate. so we drap plot for age vs 2 categories\n",
    "## Gender & satisfaction Vs age."
   ]
  },
  {
   "cell_type": "code",
   "execution_count": 57,
   "id": "3e6908eb",
   "metadata": {},
   "outputs": [
    {
     "data": {
      "text/plain": [
       "<AxesSubplot:xlabel='Age', ylabel='satisfaction'>"
      ]
     },
     "execution_count": 57,
     "metadata": {},
     "output_type": "execute_result"
    },
    {
     "data": {
      "image/png": "[encoded data removed]",
      "text/plain": [
       "<Figure size 432x288 with 1 Axes>"
      ]
     },
     "metadata": {
      "needs_background": "light"
     },
     "output_type": "display_data"
    }
   ],
   "source": [
    "sns.barplot(hue=airline['Gender'],y=airline['satisfaction'],x=airline['Age'])"
   ]
  },
  {
   "cell_type": "markdown",
   "id": "702f0b60",
   "metadata": {},
   "source": [
    "For females amd males,satisfied passengers are more than neutral or dissatisfied."
   ]
  },
  {
   "cell_type": "code",
   "execution_count": null,
   "id": "cd31d1cc",
   "metadata": {},
   "outputs": [],
   "source": []
  },
  {
   "cell_type": "markdown",
   "id": "358c5836",
   "metadata": {},
   "source": [
    "### 12. Please perform appropriate transformation, if any variables is skewed\n",
    "All skewed variables are stored in data frame df_skewed. we have to tranform data.using z-score."
   ]
  },
  {
   "cell_type": "code",
   "execution_count": 60,
   "id": "35fa29fb",
   "metadata": {},
   "outputs": [
    {
     "name": "stderr",
     "output_type": "stream",
     "text": [
      "C:\\Users\\Hp\\AppData\\Local\\Temp/ipykernel_11760/4052814390.py:2: SettingWithCopyWarning: \n",
      "A value is trying to be set on a copy of a slice from a DataFrame.\n",
      "Try using .loc[row_indexer,col_indexer] = value instead\n",
      "\n",
      "See the caveats in the documentation: https://pandas.pydata.org/pandas-docs/stable/user_guide/indexing.html#returning-a-view-versus-a-copy\n",
      "  df_skewed[col]=(df_skewed[col]-df_skewed[col].mean())/df_skewed[col].std()\n"
     ]
    },
    {
     "data": {
      "text/html": [
       "<div>\n",
       "<style scoped>\n",
       "    .dataframe tbody tr th:only-of-type {\n",
       "        vertical-align: middle;\n",
       "    }\n",
       "\n",
       "    .dataframe tbody tr th {\n",
       "        vertical-align: top;\n",
       "    }\n",
       "\n",
       "    .dataframe thead th {\n",
       "        text-align: right;\n",
       "    }\n",
       "</style>\n",
       "<table border=\"1\" class=\"dataframe\">\n",
       "  <thead>\n",
       "    <tr style=\"text-align: right;\">\n",
       "      <th></th>\n",
       "      <th>Flight Distance</th>\n",
       "      <th>Departure/Arrival time convenient</th>\n",
       "      <th>Food and drink</th>\n",
       "      <th>Online boarding</th>\n",
       "      <th>Seat comfort</th>\n",
       "      <th>Inflight entertainment</th>\n",
       "      <th>On-board service</th>\n",
       "      <th>Leg room service</th>\n",
       "      <th>Baggage handling</th>\n",
       "      <th>Checkin service</th>\n",
       "      <th>Inflight service</th>\n",
       "      <th>Cleanliness</th>\n",
       "      <th>Departure Delay in Minutes</th>\n",
       "    </tr>\n",
       "  </thead>\n",
       "  <tbody>\n",
       "    <tr>\n",
       "      <th>0</th>\n",
       "      <td>-1.032948</td>\n",
       "      <td>0.617263</td>\n",
       "      <td>-0.153973</td>\n",
       "      <td>0.553310</td>\n",
       "      <td>-0.334545</td>\n",
       "      <td>1.230782</td>\n",
       "      <td>1.256296</td>\n",
       "      <td>1.252893</td>\n",
       "      <td>1.159201</td>\n",
       "      <td>-1.031656</td>\n",
       "      <td>1.153941</td>\n",
       "      <td>1.304481</td>\n",
       "      <td>0.926852</td>\n",
       "    </tr>\n",
       "    <tr>\n",
       "      <th>1</th>\n",
       "      <td>1.676956</td>\n",
       "      <td>-1.347706</td>\n",
       "      <td>1.349862</td>\n",
       "      <td>0.553310</td>\n",
       "      <td>1.181423</td>\n",
       "      <td>0.481184</td>\n",
       "      <td>0.479355</td>\n",
       "      <td>0.493160</td>\n",
       "      <td>0.311761</td>\n",
       "      <td>-0.241882</td>\n",
       "      <td>0.304085</td>\n",
       "      <td>1.304481</td>\n",
       "      <td>-0.386480</td>\n",
       "    </tr>\n",
       "    <tr>\n",
       "      <th>2</th>\n",
       "      <td>-1.000866</td>\n",
       "      <td>-2.002696</td>\n",
       "      <td>-0.905890</td>\n",
       "      <td>-0.927383</td>\n",
       "      <td>-1.092529</td>\n",
       "      <td>-1.018011</td>\n",
       "      <td>0.479355</td>\n",
       "      <td>-1.786040</td>\n",
       "      <td>-0.535679</td>\n",
       "      <td>-1.031656</td>\n",
       "      <td>-1.395628</td>\n",
       "      <td>-0.979176</td>\n",
       "      <td>-0.386480</td>\n",
       "    </tr>\n",
       "    <tr>\n",
       "      <th>3</th>\n",
       "      <td>2.192268</td>\n",
       "      <td>-2.002696</td>\n",
       "      <td>-0.153973</td>\n",
       "      <td>0.553310</td>\n",
       "      <td>0.423439</td>\n",
       "      <td>-1.767609</td>\n",
       "      <td>-1.851468</td>\n",
       "      <td>-1.786040</td>\n",
       "      <td>-2.230559</td>\n",
       "      <td>-0.241882</td>\n",
       "      <td>-2.245485</td>\n",
       "      <td>0.543262</td>\n",
       "      <td>-0.386480</td>\n",
       "    </tr>\n",
       "    <tr>\n",
       "      <th>4</th>\n",
       "      <td>-0.008338</td>\n",
       "      <td>-0.037727</td>\n",
       "      <td>0.597945</td>\n",
       "      <td>-1.667729</td>\n",
       "      <td>-1.092529</td>\n",
       "      <td>-1.018011</td>\n",
       "      <td>-1.074527</td>\n",
       "      <td>-1.026306</td>\n",
       "      <td>-1.383119</td>\n",
       "      <td>0.547892</td>\n",
       "      <td>-1.395628</td>\n",
       "      <td>0.543262</td>\n",
       "      <td>-0.386480</td>\n",
       "    </tr>\n",
       "  </tbody>\n",
       "</table>\n",
       "</div>"
      ],
      "text/plain": [
       "   Flight Distance  Departure/Arrival time convenient  Food and drink  \\\n",
       "0        -1.032948                           0.617263       -0.153973   \n",
       "1         1.676956                          -1.347706        1.349862   \n",
       "2        -1.000866                          -2.002696       -0.905890   \n",
       "3         2.192268                          -2.002696       -0.153973   \n",
       "4        -0.008338                          -0.037727        0.597945   \n",
       "\n",
       "   Online boarding  Seat comfort  Inflight entertainment  On-board service  \\\n",
       "0         0.553310     -0.334545                1.230782          1.256296   \n",
       "1         0.553310      1.181423                0.481184          0.479355   \n",
       "2        -0.927383     -1.092529               -1.018011          0.479355   \n",
       "3         0.553310      0.423439               -1.767609         -1.851468   \n",
       "4        -1.667729     -1.092529               -1.018011         -1.074527   \n",
       "\n",
       "   Leg room service  Baggage handling  Checkin service  Inflight service  \\\n",
       "0          1.252893          1.159201        -1.031656          1.153941   \n",
       "1          0.493160          0.311761        -0.241882          0.304085   \n",
       "2         -1.786040         -0.535679        -1.031656         -1.395628   \n",
       "3         -1.786040         -2.230559        -0.241882         -2.245485   \n",
       "4         -1.026306         -1.383119         0.547892         -1.395628   \n",
       "\n",
       "   Cleanliness  Departure Delay in Minutes  \n",
       "0     1.304481                    0.926852  \n",
       "1     1.304481                   -0.386480  \n",
       "2    -0.979176                   -0.386480  \n",
       "3     0.543262                   -0.386480  \n",
       "4     0.543262                   -0.386480  "
      ]
     },
     "execution_count": 60,
     "metadata": {},
     "output_type": "execute_result"
    }
   ],
   "source": [
    "for col in df_skewed:\n",
    "    df_skewed[col]=(df_skewed[col]-df_skewed[col].mean())/df_skewed[col].std()\n",
    "df_skewed.head()"
   ]
  },
  {
   "cell_type": "code",
   "execution_count": 62,
   "id": "db4aa52a",
   "metadata": {},
   "outputs": [
    {
     "data": {
      "text/html": [
       "<div>\n",
       "<style scoped>\n",
       "    .dataframe tbody tr th:only-of-type {\n",
       "        vertical-align: middle;\n",
       "    }\n",
       "\n",
       "    .dataframe tbody tr th {\n",
       "        vertical-align: top;\n",
       "    }\n",
       "\n",
       "    .dataframe thead th {\n",
       "        text-align: right;\n",
       "    }\n",
       "</style>\n",
       "<table border=\"1\" class=\"dataframe\">\n",
       "  <thead>\n",
       "    <tr style=\"text-align: right;\">\n",
       "      <th></th>\n",
       "      <th>Unnamed: 0</th>\n",
       "      <th>id</th>\n",
       "      <th>Gender</th>\n",
       "      <th>Customer Type</th>\n",
       "      <th>Age</th>\n",
       "      <th>Type of Travel</th>\n",
       "      <th>Class</th>\n",
       "      <th>Flight Distance</th>\n",
       "      <th>Inflight wifi service</th>\n",
       "      <th>Departure/Arrival time convenient</th>\n",
       "      <th>...</th>\n",
       "      <th>Inflight entertainment</th>\n",
       "      <th>On-board service</th>\n",
       "      <th>Leg room service</th>\n",
       "      <th>Baggage handling</th>\n",
       "      <th>Checkin service</th>\n",
       "      <th>Inflight service</th>\n",
       "      <th>Cleanliness</th>\n",
       "      <th>Departure Delay in Minutes</th>\n",
       "      <th>Arrival Delay in Minutes</th>\n",
       "      <th>satisfaction</th>\n",
       "    </tr>\n",
       "  </thead>\n",
       "  <tbody>\n",
       "    <tr>\n",
       "      <th>0</th>\n",
       "      <td>0</td>\n",
       "      <td>19556</td>\n",
       "      <td>Female</td>\n",
       "      <td>Loyal Customer</td>\n",
       "      <td>52</td>\n",
       "      <td>Business travel</td>\n",
       "      <td>Eco</td>\n",
       "      <td>-1.032948</td>\n",
       "      <td>5</td>\n",
       "      <td>0.617263</td>\n",
       "      <td>...</td>\n",
       "      <td>1.230782</td>\n",
       "      <td>1.256296</td>\n",
       "      <td>1.252893</td>\n",
       "      <td>1.159201</td>\n",
       "      <td>-1.031656</td>\n",
       "      <td>1.153941</td>\n",
       "      <td>1.304481</td>\n",
       "      <td>0.926852</td>\n",
       "      <td>393</td>\n",
       "      <td>satisfied</td>\n",
       "    </tr>\n",
       "    <tr>\n",
       "      <th>1</th>\n",
       "      <td>1</td>\n",
       "      <td>90035</td>\n",
       "      <td>Female</td>\n",
       "      <td>Loyal Customer</td>\n",
       "      <td>36</td>\n",
       "      <td>Business travel</td>\n",
       "      <td>Business</td>\n",
       "      <td>1.676956</td>\n",
       "      <td>1</td>\n",
       "      <td>-1.347706</td>\n",
       "      <td>...</td>\n",
       "      <td>0.481184</td>\n",
       "      <td>0.479355</td>\n",
       "      <td>0.493160</td>\n",
       "      <td>0.311761</td>\n",
       "      <td>-0.241882</td>\n",
       "      <td>0.304085</td>\n",
       "      <td>1.304481</td>\n",
       "      <td>-0.386480</td>\n",
       "      <td>393</td>\n",
       "      <td>satisfied</td>\n",
       "    </tr>\n",
       "    <tr>\n",
       "      <th>2</th>\n",
       "      <td>2</td>\n",
       "      <td>12360</td>\n",
       "      <td>Male</td>\n",
       "      <td>disloyal Customer</td>\n",
       "      <td>20</td>\n",
       "      <td>Business travel</td>\n",
       "      <td>Eco</td>\n",
       "      <td>-1.000866</td>\n",
       "      <td>2</td>\n",
       "      <td>-2.002696</td>\n",
       "      <td>...</td>\n",
       "      <td>-1.018011</td>\n",
       "      <td>0.479355</td>\n",
       "      <td>-1.786040</td>\n",
       "      <td>-0.535679</td>\n",
       "      <td>-1.031656</td>\n",
       "      <td>-1.395628</td>\n",
       "      <td>-0.979176</td>\n",
       "      <td>-0.386480</td>\n",
       "      <td>393</td>\n",
       "      <td>neutral or dissatisfied</td>\n",
       "    </tr>\n",
       "    <tr>\n",
       "      <th>3</th>\n",
       "      <td>3</td>\n",
       "      <td>77959</td>\n",
       "      <td>Male</td>\n",
       "      <td>Loyal Customer</td>\n",
       "      <td>44</td>\n",
       "      <td>Business travel</td>\n",
       "      <td>Business</td>\n",
       "      <td>2.192268</td>\n",
       "      <td>0</td>\n",
       "      <td>-2.002696</td>\n",
       "      <td>...</td>\n",
       "      <td>-1.767609</td>\n",
       "      <td>-1.851468</td>\n",
       "      <td>-1.786040</td>\n",
       "      <td>-2.230559</td>\n",
       "      <td>-0.241882</td>\n",
       "      <td>-2.245485</td>\n",
       "      <td>0.543262</td>\n",
       "      <td>-0.386480</td>\n",
       "      <td>393</td>\n",
       "      <td>satisfied</td>\n",
       "    </tr>\n",
       "    <tr>\n",
       "      <th>4</th>\n",
       "      <td>4</td>\n",
       "      <td>36875</td>\n",
       "      <td>Female</td>\n",
       "      <td>Loyal Customer</td>\n",
       "      <td>49</td>\n",
       "      <td>Business travel</td>\n",
       "      <td>Eco</td>\n",
       "      <td>-0.008338</td>\n",
       "      <td>2</td>\n",
       "      <td>-0.037727</td>\n",
       "      <td>...</td>\n",
       "      <td>-1.018011</td>\n",
       "      <td>-1.074527</td>\n",
       "      <td>-1.026306</td>\n",
       "      <td>-1.383119</td>\n",
       "      <td>0.547892</td>\n",
       "      <td>-1.395628</td>\n",
       "      <td>0.543262</td>\n",
       "      <td>-0.386480</td>\n",
       "      <td>393</td>\n",
       "      <td>satisfied</td>\n",
       "    </tr>\n",
       "  </tbody>\n",
       "</table>\n",
       "<p>5 rows × 25 columns</p>\n",
       "</div>"
      ],
      "text/plain": [
       "  Unnamed: 0     id  Gender      Customer Type  Age   Type of Travel  \\\n",
       "0          0  19556  Female     Loyal Customer   52  Business travel   \n",
       "1          1  90035  Female     Loyal Customer   36  Business travel   \n",
       "2          2  12360    Male  disloyal Customer   20  Business travel   \n",
       "3          3  77959    Male     Loyal Customer   44  Business travel   \n",
       "4          4  36875  Female     Loyal Customer   49  Business travel   \n",
       "\n",
       "      Class  Flight Distance  Inflight wifi service  \\\n",
       "0       Eco        -1.032948                      5   \n",
       "1  Business         1.676956                      1   \n",
       "2       Eco        -1.000866                      2   \n",
       "3  Business         2.192268                      0   \n",
       "4       Eco        -0.008338                      2   \n",
       "\n",
       "   Departure/Arrival time convenient  ...  Inflight entertainment  \\\n",
       "0                           0.617263  ...                1.230782   \n",
       "1                          -1.347706  ...                0.481184   \n",
       "2                          -2.002696  ...               -1.018011   \n",
       "3                          -2.002696  ...               -1.767609   \n",
       "4                          -0.037727  ...               -1.018011   \n",
       "\n",
       "   On-board service  Leg room service  Baggage handling  Checkin service  \\\n",
       "0          1.256296          1.252893          1.159201        -1.031656   \n",
       "1          0.479355          0.493160          0.311761        -0.241882   \n",
       "2          0.479355         -1.786040         -0.535679        -1.031656   \n",
       "3         -1.851468         -1.786040         -2.230559        -0.241882   \n",
       "4         -1.074527         -1.026306         -1.383119         0.547892   \n",
       "\n",
       "   Inflight service  Cleanliness  Departure Delay in Minutes  \\\n",
       "0          1.153941     1.304481                    0.926852   \n",
       "1          0.304085     1.304481                   -0.386480   \n",
       "2         -1.395628    -0.979176                   -0.386480   \n",
       "3         -2.245485     0.543262                   -0.386480   \n",
       "4         -1.395628     0.543262                   -0.386480   \n",
       "\n",
       "   Arrival Delay in Minutes             satisfaction  \n",
       "0                       393                satisfied  \n",
       "1                       393                satisfied  \n",
       "2                       393  neutral or dissatisfied  \n",
       "3                       393                satisfied  \n",
       "4                       393                satisfied  \n",
       "\n",
       "[5 rows x 25 columns]"
      ]
     },
     "execution_count": 62,
     "metadata": {},
     "output_type": "execute_result"
    }
   ],
   "source": [
    "for col in df_skewed:\n",
    "    airline[col]=(df_skewed[col]-df_skewed[col].mean())/df_skewed[col].std()\n",
    "airline.head()"
   ]
  },
  {
   "cell_type": "markdown",
   "id": "d630197a",
   "metadata": {},
   "source": [
    "This is transformed data of airline passengers daatset."
   ]
  },
  {
   "cell_type": "code",
   "execution_count": 64,
   "id": "95f613ec",
   "metadata": {},
   "outputs": [],
   "source": [
    "airline.to_csv('airline.csv',index=False,header=True)"
   ]
  },
  {
   "cell_type": "markdown",
   "id": "c488cb78",
   "metadata": {},
   "source": [
    "## Summary\n",
    "we read 2 daatsets into pandas daatframe, we merged both daats into one daatset called airline. we explore data, converted data types, replace missing values,plotted box plots to see distribution of data, skewness value, direction od skewed data. we checked relationshi of age,gender,satisfaction,we transformed daat for skewed values using z-score & saved it to airline csv."
   ]
  },
  {
   "cell_type": "markdown",
   "id": "2f8c7c76",
   "metadata": {},
   "source": [
    "## Author\n",
    "Harsha Veena\n",
    "26:4:2022"
   ]
  }
 ],
 "metadata": {
  "kernelspec": {
   "display_name": "Python 3 (ipykernel)",
   "language": "python",
   "name": "python3"
  },
  "language_info": {
   "codemirror_mode": {
    "name": "ipython",
    "version": 3
   },
   "file_extension": ".py",
   "mimetype": "text/x-python",
   "name": "python",
   "nbconvert_exporter": "python",
   "pygments_lexer": "ipython3",
   "version": "3.9.7"
  }
 },
 "nbformat": 4,
 "nbformat_minor": 5
}
