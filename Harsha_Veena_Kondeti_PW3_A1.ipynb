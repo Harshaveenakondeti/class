{
  "cells": [
    {
      "cell_type": "markdown",
      "metadata": {
        "nbgrader": {
          "grade": false,
          "grade_id": "cell-0a1cd97d29171e27",
          "locked": true,
          "schema_version": 3,
          "solution": false,
          "task": false
        },
        "id": "MBOoV0Fh_vEy"
      },
      "source": [
        "# Rules:\n",
        "    1. Follow the given instructions strictly as the assignment will be automatically rejected if not done so.\n",
        "    2. After you are done answering the questions, save the notebook in .ipynb format and rename it as so;\n",
        "        \n",
        "        <<Your name as visible on 'My Courses' page as shown below>>_PW3-A1.ipynb\n",
        "        \n",
        "    3. After renaming the file as above submit onto the platform."
      ]
    },
    {
      "cell_type": "markdown",
      "metadata": {
        "nbgrader": {
          "grade": false,
          "grade_id": "cell-39806162dd625703",
          "locked": true,
          "schema_version": 3,
          "solution": false,
          "task": false
        },
        "id": "M0DfKMpx_vE6"
      },
      "source": [
        "# Python W3 - Assignment 01"
      ]
    },
    {
      "cell_type": "markdown",
      "metadata": {
        "nbgrader": {
          "grade": false,
          "grade_id": "Q1",
          "locked": true,
          "schema_version": 3,
          "solution": false,
          "task": false
        },
        "id": "uGyPjy_p_vE9"
      },
      "source": [
        "\n",
        "## 1. What does average represent at the end of the execution ?\n"
      ]
    },
    {
      "cell_type": "code",
      "execution_count": null,
      "metadata": {
        "nbgrader": {
          "grade": false,
          "grade_id": "cell-bdbb11386adf6c13",
          "locked": true,
          "schema_version": 3,
          "solution": false,
          "task": false
        },
        "id": "obQMKVYJ_vE-"
      },
      "outputs": [],
      "source": [
        "total,count= 0,0\n",
        "\n",
        "for i in range(1000):\n",
        "    if i%2 != 0 and count <= 50:\n",
        "        total = total + i\n",
        "        count = count + 1\n",
        "average = total / count\n",
        "print(average)"
      ]
    },
    {
      "cell_type": "markdown",
      "metadata": {
        "id": "T87NemKc_vFB"
      },
      "source": [
        "| Options |\n",
        "| --- |\n",
        "| (a) average of 1 to 1000 numbers |\n",
        "| (b) average of first 1000 odd numbers |\n",
        "| (c) average of first 50 odd numbers |\n",
        "| (d) average of first 51 odd numbers |"
      ]
    },
    {
      "cell_type": "markdown",
      "metadata": {
        "nbgrader": {
          "grade": true,
          "grade_id": "A1",
          "locked": false,
          "points": 2,
          "schema_version": 3,
          "solution": true,
          "task": false
        },
        "id": "ncOARAVD_vFC"
      },
      "source": [
        "#YOUR ANSWER HERE\n",
        "(c) average of first 50 odd numbers. because i%2 !=0 means they are checking for not even, which means odd numbers and count<=50 means upto 50 only. above 2 conditions must true then only total and count updates."
      ]
    },
    {
      "cell_type": "markdown",
      "metadata": {
        "nbgrader": {
          "grade": false,
          "grade_id": "cell-a13189a026c3771d",
          "locked": true,
          "schema_version": 3,
          "solution": false,
          "task": false
        },
        "id": "SxK0OgOT_vFD"
      },
      "source": [
        "## 2. How many asterisks does the following code print ?"
      ]
    },
    {
      "cell_type": "code",
      "execution_count": null,
      "metadata": {
        "id": "X5e3AlMC_vFE"
      },
      "outputs": [],
      "source": [
        "i = -3\n",
        "while (i<=13):\n",
        "    print('**')\n",
        "    print('*')\n",
        "    i = i+1"
      ]
    },
    {
      "cell_type": "markdown",
      "metadata": {
        "id": "-P8Yhpdu_vFG"
      },
      "source": [
        "| Options |\n",
        "| --- |\n",
        "| (a) 51 |\n",
        "| (b) 25 |\n",
        "| (c) 39 |\n",
        "| (d) 48 |"
      ]
    },
    {
      "cell_type": "markdown",
      "metadata": {
        "nbgrader": {
          "grade": true,
          "grade_id": "cell-5b0ec5b5f53b7705",
          "locked": false,
          "points": 2,
          "schema_version": 3,
          "solution": true,
          "task": false
        },
        "id": "X3IpFMAa_vFI"
      },
      "source": [
        "#YOUR ANSWER HERE\n",
        "(a) 51 times * will print.it executes -3 to 13 and after that it stops. so total pf 17 times it executes *** so 17X3 is 51."
      ]
    },
    {
      "cell_type": "markdown",
      "metadata": {
        "nbgrader": {
          "grade": false,
          "grade_id": "Q2",
          "locked": true,
          "schema_version": 3,
          "solution": false,
          "task": false
        },
        "id": "OHsqRD5V_vFJ"
      },
      "source": [
        "## Question 3\n",
        "\n",
        "P is a non empty list of distinct integers that has already been defined. Which of the following statements are true at the end of execution of the code given below ? More than one option can be correct.\n"
      ]
    },
    {
      "cell_type": "code",
      "execution_count": null,
      "metadata": {
        "id": "qp6aUpZM_vFK"
      },
      "outputs": [],
      "source": [
        "Q,R = [], []\n",
        "\n",
        "for x in P:\n",
        "    Q.append(-x)\n",
        "Q.sort()\n",
        "for x in Q:\n",
        "    R.append(-x)"
      ]
    },
    {
      "cell_type": "markdown",
      "metadata": {
        "nbgrader": {
          "grade": true,
          "grade_id": "A2",
          "locked": false,
          "points": 2,
          "schema_version": 3,
          "solution": true,
          "task": false
        },
        "id": "5H8LA5wl_vFL"
      },
      "source": [
        "| Options |\n",
        "| --- |\n",
        "| (a) P is always equal to R , i.e., P == R returns the value True |\n",
        "| (b) Every element in P is present in R , but not necessarily in the same sequence |\n",
        "| (c) R is a list of integers sorted in descending order |\n",
        "| (d) R is a list of integers sorted in ascending order |"
      ]
    },
    {
      "cell_type": "markdown",
      "metadata": {
        "nbgrader": {
          "grade": false,
          "grade_id": "cell-c583dcd635f03dab",
          "locked": true,
          "schema_version": 3,
          "solution": false,
          "task": false
        },
        "id": "pi7n9gIp_vFM"
      },
      "source": [
        "#YOUR ANSWERE HERE\n",
        "if p=[1,2,3,4]\n",
        "Q becomes[-1,-2,-3,-4] and q.sort() becomes [-4,-3,-2,-1] hen R becomes[4,3,2,1]\n",
        "as list is ordered it compares with indexes p!=R,R is a list soreted in descending order not in ascending order.Every element in P is present in R, but not necessarily in the same sequence.\n",
        "\n",
        "* correct answers are (b) and (C)"
      ]
    },
    {
      "cell_type": "markdown",
      "metadata": {
        "nbgrader": {
          "grade": false,
          "grade_id": "Q3",
          "locked": true,
          "schema_version": 3,
          "solution": false,
          "task": false
        },
        "id": "AdISeoGu_vFM"
      },
      "source": [
        "## Question 4\n",
        "\n",
        "Which of the following statements are CORRECT ?\n"
      ]
    },
    {
      "cell_type": "markdown",
      "metadata": {
        "nbgrader": {
          "grade": true,
          "grade_id": "A3",
          "locked": false,
          "points": 2,
          "schema_version": 3,
          "solution": true,
          "task": false
        },
        "id": "i-nrj1s2_vFN"
      },
      "source": [
        "| Options |\n",
        "| --- |\n",
        "| (a) If the return statement is not used inside the function, the function will return 0. |\n",
        "| (b) In order to change the value of the global variable inside the function, keyword global is used. |\n",
        "| (c) Default argument can be defined before keyword argument in the function. |\n",
        "| (d) Functions are an effective way to reuse program codes. |\n",
        "| (e) Function can be passed as an argument in another function.|\n",
        "| (f) The scope of the local variable is limited to the function where it is defined. |\n",
        "\n"
      ]
    },
    {
      "cell_type": "markdown",
      "metadata": {
        "nbgrader": {
          "grade": false,
          "grade_id": "cell-f0e0b9c35862e705",
          "locked": true,
          "schema_version": 3,
          "solution": false,
          "task": false
        },
        "id": "S1xSSOtP_vFO"
      },
      "source": [
        "#YOUR ANSWER HERE\n",
        "(b) ,(d),(e),(f)\n",
        " \n",
        "**Justification**\n",
        "* (b) : when we want to change variable in function, we use global keyword.\n",
        "* (d) : because, it will save time and we dont need to write multiple times.\n",
        "* (e): yes, it can pass, we can have nested functions.\n",
        "* (f): yes local variable is limited to function only , we cant call outside function. only global variables have scope outside of function."
      ]
    },
    {
      "cell_type": "markdown",
      "metadata": {
        "nbgrader": {
          "grade": false,
          "grade_id": "Q4",
          "locked": true,
          "schema_version": 3,
          "solution": false,
          "task": false
        },
        "id": "xWExNn6d_vFO"
      },
      "source": [
        "## 5. Check Function\n",
        "\n",
        "Given the following function description\n",
        "Returns True if it is possible to add two of the arguments to get the remaining one and False otherwise.\n",
        "\n",
        "Example:-\n",
        "Check(1, 2, 3) returns True\n",
        "\n",
        "Check(3, 1, 2) returns True\n",
        "\n",
        "Check(3, 2, 2) returns False\n",
        "\n",
        " \n",
        "Which of the following function definitions produces the desired effect?\n",
        "\n",
        "More than one option can be correct"
      ]
    },
    {
      "cell_type": "code",
      "execution_count": null,
      "metadata": {
        "id": "9spZ3O0R_vFP"
      },
      "outputs": [],
      "source": [
        "#OPTION A\n",
        "\n",
        "def Check(a,b,c):\n",
        "    l = [a,b,c]\n",
        "    l.sort()\n",
        "    return min(l) + min(l[1:]) == max(a,b,c)\n",
        "\n",
        "\n",
        "#===================================================#\n",
        "# OPTION B\n",
        "\n",
        "def Check(a,b,c):\n",
        "    if((a + b == c) and (a + c == b) and (b + c == a)):\n",
        "        return True\n",
        "    return False\n",
        "\n",
        "#===================================================#\n",
        "# OPTION C\n",
        "\n",
        "def Check(a,b,c):\n",
        "    if (a + b == c):\n",
        "        return True\n",
        "    elif (a + c == b) or (b + c == a):\n",
        "        return True\n",
        "    return False\n",
        "\n",
        "#===================================================#\n",
        "# OPTION D\n",
        "\n",
        "def Check(a,b,c):\n",
        "    if (a + b != c):\n",
        "        return False\n",
        "    elif (a + c != b):\n",
        "        return False\n",
        "    elif (b + c != a):\n",
        "        return False\n",
        "    return True\n",
        "\n",
        "#===================================================#\n",
        "# OPTION E\n",
        "\n",
        "def Check(a,b,c):\n",
        "    l = [a,b,c]\n",
        "    l.sort()\n",
        "    return l[0] + l[1] == l[2]"
      ]
    },
    {
      "cell_type": "markdown",
      "metadata": {
        "nbgrader": {
          "grade": true,
          "grade_id": "A4",
          "locked": false,
          "points": 2,
          "schema_version": 3,
          "solution": true,
          "task": false
        },
        "id": "bXWqKYkw_vFQ"
      },
      "source": [
        "#YOUR ANSWER HERE\n",
        "If we take number as (3,1,2) or (1,2,1)\n",
        "then check conditions then (c),(a),(d),(e) are satisfied with satisfying condiitons of adding any 2 numbers equal to onother will True and othercases false"
      ]
    },
    {
      "cell_type": "markdown",
      "metadata": {
        "id": "fWRS6kkT_vFQ"
      },
      "source": [
        "## 6. File Handling\n",
        "\n",
        "After successful execution of the below code cell, how many lines will be present in \"file.txt\" file ?"
      ]
    },
    {
      "cell_type": "code",
      "execution_count": null,
      "metadata": {
        "nbgrader": {
          "grade": false,
          "grade_id": "cell-6975b5c3cd3b6be9",
          "locked": true,
          "schema_version": 3,
          "solution": false,
          "task": false
        },
        "id": "UCfl_gNn_vFR"
      },
      "outputs": [],
      "source": [
        "f= open('file.txt','w')\n",
        "f.write('list')\n",
        "f.write('tuple')\n",
        "f.write('set')\n",
        "f.write('dictionary')\n",
        "f.close()\n",
        "\n",
        "f= open('file.txt','r')\n",
        "l= f.readline()+'\\n'\n",
        "f.close()\n",
        "\n",
        "f= open('file.txt','a')\n",
        "for i in range(10):\n",
        "    f.write(l)\n",
        "f.close()"
      ]
    },
    {
      "cell_type": "markdown",
      "metadata": {
        "id": "aA4U_Ox2_vFR"
      },
      "source": [
        "| Options |\n",
        "| --- |\n",
        "| (a) 14 |\n",
        "| (b) 15 |\n",
        "| (c) 10 |\n",
        "| (d) 11 |"
      ]
    },
    {
      "cell_type": "markdown",
      "metadata": {
        "id": "GK_HRIi2_vFR"
      },
      "source": [
        "#YOUR ANSWER HERE\n",
        "(a) 14 lines will present.\n",
        "forst i will write list,tuple,set,dictionary in seperate lines after it closes. again open with read mode but u cannot add here and closed file. after opened with append mode append output of loop which are numbers in range of 10 . it gives 10 lines. so total 10+4 =14 lines will be there in f file."
      ]
    },
    {
      "cell_type": "markdown",
      "metadata": {
        "id": "GZ32vE3c_vFS"
      },
      "source": [
        "## 7. Regular Expressions\n",
        "\n",
        "Which of the following will be the regex pattern for the following conditions ?\n",
        "\n",
        "1. S must be of length: 6\n",
        "2. First character: 1, 2 or 3\n",
        "3. Second character: 1, 2 or 0\n",
        "4. Third character: x, s or 0\n",
        "5. Fourth character: 3, 0, A or a\n",
        "6. Fifth character: x, s or u\n",
        "7. Sixth character:  . or,"
      ]
    },
    {
      "cell_type": "markdown",
      "metadata": {
        "id": "uLcmrIVG_vFS"
      },
      "source": [
        "| Options |\n",
        "| --- |\n",
        "| (a) ^([1-3][0-2][xs0][30Aa][xsu][.,])$ |\n",
        "| (b) ([1-3][0-2][xs0][30Aa][xsu][.,]) |\n",
        "| (c) ([1-3][0-2][xs0][30Aa][xsu][.,]){6} |\n",
        "| (d) ^([1-3][0-2][x,s,0][3,0,A,a][x,s,u][\\.\\,])$ |"
      ]
    },
    {
      "cell_type": "markdown",
      "metadata": {
        "id": "qdQ2GhJ8_vFS"
      },
      "source": [
        "#YOUR ANSWER HERE\n",
        "* (b) ([1-3][0-2][xs0][30Aa][xsu][.,]) \n",
        "* (a) ^([1-3][0-2][xs0][30Aa][xsu][.,])$ \n",
        "------ \n",
        "* both are same , because (^) means starts with and $ means ends with. so for both options output remains same."
      ]
    },
    {
      "cell_type": "markdown",
      "metadata": {
        "id": "K27Ba1L7_vFS"
      },
      "source": [
        "## Programming Questions\n",
        "\n",
        "Instructions:\n",
        "- Enter your solution in the cell block below only. Double click to edit.\n",
        "- Do not edit anything else apart from 'YOUR ANSWER HERE' for your solution"
      ]
    },
    {
      "cell_type": "markdown",
      "metadata": {
        "id": "kwtPFTG9_vFS"
      },
      "source": [
        "### 8. Palindrome\n",
        "\n",
        "Write a program that accepts a string as input and determines whether it is a palindrome or not. A palindrome is a word which is spelled the same way in both the directions i.e., regardless of whether you read it from left to right or right to left it is the same word. \n",
        "\n",
        "Example:\n",
        "    Madam, Racecar\n",
        "\n"
      ]
    },
    {
      "cell_type": "code",
      "execution_count": 13,
      "metadata": {
        "colab": {
          "base_uri": "https://localhost:8080/"
        },
        "id": "lEyBSPU0_vFT",
        "outputId": "5f792019-2690-40df-92df-45f5badc752b"
      },
      "outputs": [
        {
          "output_type": "stream",
          "name": "stdout",
          "text": [
            "enter a string: Madam\n",
            "palindrome\n"
          ]
        }
      ],
      "source": [
        "#YOUR ANSWER \n",
        "r= input('enter a string: ')  # enter string\n",
        "s=r.lower()                  # change all letters into lowercase, because python is case sensitive\n",
        "t=s[::-1]                    # reverse string will store in t\n",
        "if s==t:                     # compare lowercase of string & reversed string\n",
        "  print('palindrome')        # if same print palindrome\n",
        "else:                        # if not matching strings\n",
        "  print('not palindrome')    # not palindrome\n",
        "      "
      ]
    },
    {
      "cell_type": "markdown",
      "metadata": {
        "id": "cTjezDJx_vFT"
      },
      "source": [
        "### 9. List Rotation\n",
        "\n",
        "A clockwise rotation of a list consists of taking the last element and moving it to the beginning of the list. For instance, if we rotate the list [1,2,3,4.5, we get [5,1,2,3,4]. If we rotate it again, we get [4,5,1,2,3].\n",
        "\n",
        "Write a program to accept a non-empty sequence of numbers separated by space and a positive integer k and print the list elements in same line separated by space after k rotations. For example:\n",
        "\n"
      ]
    },
    {
      "cell_type": "markdown",
      "metadata": {
        "id": "OoZzHOSD_vFT"
      },
      "source": [
        "\n",
        "Input\n",
        "\n",
        "1 2 3 4 5\n",
        "\n",
        "3\n",
        "\n",
        "Output\n",
        "\n",
        "3 4 5 1 2"
      ]
    },
    {
      "cell_type": "code",
      "execution_count": 98,
      "metadata": {
        "colab": {
          "base_uri": "https://localhost:8080/"
        },
        "id": "FepGAaZ2_vFT",
        "outputId": "4993d1e3-bab0-4ee4-94b2-8b7784bee6f5"
      },
      "outputs": [
        {
          "output_type": "stream",
          "name": "stdout",
          "text": [
            "enter numbers with space: 1 2 3 4 5\n",
            "['1', '2', '3', '4', '5']\n",
            "how many iterations: 3\n",
            "['3', '4', '5', '1', '2']\n",
            "3 4 5 1 2\n"
          ]
        }
      ],
      "source": [
        "#YOUR ANSWER HERE\n",
        "n=input('enter numbers with space: ')  # give input with space\n",
        "n=n.split(' ')   # split by removing space\n",
        "print(n)         # check numbers,because it will convert to list\n",
        "k=int(input('how many iterations: '))               # how many iterations we want\n",
        "l=n[len(n)-k:len(n)]+n[:len(n)-k]    # by slicing of list , we can rotate\n",
        "print(l)   # it will give output in list\n",
        "print(*l,sep=\" \")    # print as input with space\n"
      ]
    },
    {
      "cell_type": "markdown",
      "metadata": {
        "id": "K1_A_j2__vFU"
      },
      "source": [
        "\n",
        "### 10. User Score\n",
        "\n",
        "You are a forum admin. You wish to find out the total score of each user using the scoring logic given below. If the user scores more than 50, then the user is given a Leader badge, otherwise a Basic badge is given."
      ]
    },
    {
      "cell_type": "markdown",
      "metadata": {
        "id": "My0k1N_L_vFU"
      },
      "source": [
        "| Action | Points |\n",
        "| --- | --- |\n",
        "| read a post | 1 |\n",
        "| replied to a post | 3 |\n",
        "| created a new post | 5 |"
      ]
    },
    {
      "cell_type": "markdown",
      "metadata": {
        "id": "C8J-bmeu_vFU"
      },
      "source": [
        "Implement the body of the function `user_score`. The function accepts 3 integer arguments- `read_count, reply_count, new_post_count`. It calculates the score based on the input counts and returns `Leader` or `Basic`."
      ]
    },
    {
      "cell_type": "code",
      "execution_count": 50,
      "metadata": {
        "id": "YDt8IMHp_vFV",
        "colab": {
          "base_uri": "https://localhost:8080/"
        },
        "outputId": "29130326-3b06-4969-8d0a-1f55f9c75d70"
      },
      "outputs": [
        {
          "output_type": "stream",
          "name": "stdout",
          "text": [
            "Leader\n"
          ]
        }
      ],
      "source": [
        "def user_score(read_count, reply_count, new_post_count):\n",
        "\n",
        "    #Write Function Body\n",
        "    #YOUR ANSWER HERE\n",
        "    x=1   # points for read-count\n",
        "    y=3   # points for reply_count\n",
        "    z=5   # poins for new_post_count\n",
        "    if read_count*x +reply_count*y +new_post_count*z>50:   # multiplies given sores with points\n",
        "      print('Leader')                                     # score creosses 50 means give leader tag\n",
        "    else:                                                # if score didint crsses 50 means give basic tag\n",
        "      print('Basic')\n",
        "user_score(10,2,30)                                      # call fun with scores"
      ]
    }
  ],
  "metadata": {
    "celltoolbar": "Create Assignment",
    "kernelspec": {
      "display_name": "Python 3 (ipykernel)",
      "language": "python",
      "name": "python3"
    },
    "language_info": {
      "codemirror_mode": {
        "name": "ipython",
        "version": 3
      },
      "file_extension": ".py",
      "mimetype": "text/x-python",
      "name": "python",
      "nbconvert_exporter": "python",
      "pygments_lexer": "ipython3",
      "version": "3.9.1"
    },
    "toc": {
      "base_numbering": 1,
      "nav_menu": {},
      "number_sections": true,
      "sideBar": true,
      "skip_h1_title": false,
      "title_cell": "Table of Contents",
      "title_sidebar": "Contents",
      "toc_cell": false,
      "toc_position": {},
      "toc_section_display": true,
      "toc_window_display": false
    },
    "varInspector": {
      "cols": {
        "lenName": 16,
        "lenType": 16,
        "lenVar": 40
      },
      "kernels_config": {
        "python": {
          "delete_cmd_postfix": "",
          "delete_cmd_prefix": "del ",
          "library": "var_list.py",
          "varRefreshCmd": "print(var_dic_list())"
        },
        "r": {
          "delete_cmd_postfix": ") ",
          "delete_cmd_prefix": "rm(",
          "library": "var_list.r",
          "varRefreshCmd": "cat(var_dic_list()) "
        }
      },
      "types_to_exclude": [
        "module",
        "function",
        "builtin_function_or_method",
        "instance",
        "_Feature"
      ],
      "window_display": false
    },
    "colab": {
      "name": "Harsha Veena Kondeti_PW3-A1.ipynb",
      "provenance": [],
      "collapsed_sections": []
    }
  },
  "nbformat": 4,
  "nbformat_minor": 0
}