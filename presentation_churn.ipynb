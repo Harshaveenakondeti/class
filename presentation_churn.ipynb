{
 "cells": [
  {
   "cell_type": "markdown",
   "id": "1c700b23",
   "metadata": {},
   "source": [
    "# Project presentation\n",
    "## California telco company in Q3 fiscal year¶"
   ]
  },
  {
   "cell_type": "markdown",
   "id": "3114914e",
   "metadata": {},
   "source": [
    "### Introduction\n",
    "* This is dataset of telco fictional company in california for Q3 fiscal year to find its churn.\n",
    "* **Churn** means when a **client cancels their subscription while using their service** it is known as churn.\n",
    "* Here we have  data of **7043** customers along with their **33** attributes.\n",
    "* Here we have various kinds of information of customers, such as personal,location,services,payments,churn related information.\n",
    "* **all kinds of information of customers are in folliwing table**\n",
    "\n",
    "|personal|location|services|payments|churn|\n",
    "---|---|---|---|---|\n",
    "Gender|Country|Streaming movies|Monthly chrges|CLTV(customer lifetime value)\n",
    "Dependents|State|Sreaming Tv|Total charges|Churn score\n",
    "partner|City|Technical Support|Payment method|churn\n",
    "Senior citizen|Zip Code|Device Protection|Paperless billing|Churn Reason\n",
    "Customer_id|Lat Long|Online Backup|Contract|\n",
    "|Lattitude|Online Security|Tenure months|\n",
    "|Longitude|Internet service|Count|\n",
    "||muliple lines|\n",
    "||Phone service|"
   ]
  },
  {
   "cell_type": "markdown",
   "id": "8d965042",
   "metadata": {},
   "source": [
    "### Aim:\n",
    "We have to analyze these 33 attributes of 7043 custumers by Exploring Data,using statistical measures,& visualization to get insights of data.while analyzing, we need to answer follong questions"
   ]
  },
  {
   "cell_type": "markdown",
   "id": "145b1872",
   "metadata": {},
   "source": [
    "### Q1: Please read the file and explain data types statistically as well as how python is reading it. Please let us know if any data type is read wrong?"
   ]
  },
  {
   "cell_type": "code",
   "execution_count": null,
   "id": "aaae584c",
   "metadata": {},
   "outputs": [],
   "source": [
    "# importing necessary libraries\n",
    "import numpy as np  # mathematical calculations\n",
    "import pandas as pd  # reading dataframes\n",
    "import seaborn as sns  # visualization libraries\n",
    "import matplotlib.pyplot as plt"
   ]
  },
  {
   "cell_type": "code",
   "execution_count": null,
   "id": "d7f25953",
   "metadata": {},
   "outputs": [],
   "source": [
    "# reading xlsx file into pandas dataframe & store in churn daaframe\n",
    "churn=pd.read_excel('C:/Users/Hp/Documents/datasets/churnprediction/Telco_customer_churn.xlsx')\n",
    "pd.set_option('max_columns',None) # to display max columns"
   ]
  },
  {
   "cell_type": "code",
   "execution_count": null,
   "id": "34b2e302",
   "metadata": {},
   "outputs": [],
   "source": [
    "# to check all datatypes\n",
    "churn.info()# how python reads data"
   ]
  },
  {
   "cell_type": "markdown",
   "id": "3525e1d5",
   "metadata": {},
   "source": [
    "### Data types:\n",
    "|column|Explanation, statistically data type| how python reading data|Did Python reads wrong|\n",
    "|---|------|---|---|\n",
    "|0   CustomerID      |  Unique number,nominal(no order)|    object |no\n",
    " 1   Count            | number of custumers,Discrete int|   float64|\n",
    " 2   Country       |     unique name,nominal, category|  object |yes\n",
    " 3   State    |          unique name, nominal,category|   object |yes\n",
    " 4   City      |         unique name,nominal,category|   object |yes\n",
    " 5   Zip Code   |        unique number can have continuous value|   float64|\n",
    " 6   Lat Long    |      combining lattitude & longitude,point(x,y)format  | object |yes \n",
    " 7   Latitude     |      Unique number as decimal format  |float64|\n",
    " 8   Longitude     |    Unique number as decimal format |  float64|\n",
    " 9   Gender         |   Unique ,nominal,category  | object |yes\n",
    " 10  Senior Citizen  |   yes/no different,nominal,category   |object |yes\n",
    " 11  Partner          |  yes/no,nominal,category |   object |yes\n",
    " 12  Dependents  |        yes/no,nominal,category  |  object |yes\n",
    " 13  Tenure Months|       no. of months can have continuous values also,float  | float64|\n",
    " 14  Phone Service |      yes/no,nominal,category    |object |yes\n",
    " 15  Multiple Lines |     yes/no,nominal,category   |object |yes\n",
    " 16  Internet Service|    4 different types,nominalcategory    |object |yes\n",
    " 17  Online Security  |  yes/no,nominal,category    |object |yes\n",
    " 18  Online Backup     |  yes/no,nominal,category   |object |yes\n",
    " 19  Device Protection|   yes/no,nominal,category    |object |yes\n",
    " 20  Tech Support   |     yes/no,nominal,category    |object |yes\n",
    " 21  Streaming TV    |    yes/no,nominal,category    |object |yes\n",
    " 22  Streaming Movies |  yes/no,nominal,category    |object |yes\n",
    " 23  Contract          |  which type,nominal,category   |object |yes\n",
    " 24  Paperless Billing |  yes/no,nominal,category   |object |yes\n",
    " 25  Payment Method   |   3 different types,nominal,category    |object |yes\n",
    " 26  Monthly Charges  |  price can be continuous ,float  |float64|\n",
    " 27  Total Charges    |  price have continuous value,float   |object |yes\n",
    " 28  Churn Label      |   yes/no,nominal,category    |object |yes\n",
    " 29  Churn Value      |  1/0,nominal,category    |float64|yes\n",
    " 30  Churn Score      |  0-100 may contain continuous,float   |float64|\n",
    " 31  CLTV              |measurable,continuous value possible,float  |float64|\n",
    " 32  Churn Reason      |  reason for leaving ,nominal,relate to category| object |yes"
   ]
  },
  {
   "cell_type": "markdown",
   "id": "8311fe82",
   "metadata": {},
   "source": [
    "Here, python reading category columns as object columns,its better to convert into category as there are many repititions of values.,it saves memory & also good for plottng.for churn value it reads as float, it should be category.total charges reading as object beacuse of some string presents in column,it should convert to float.lat long should convert to point as it is geo data type.."
   ]
  },
  {
   "cell_type": "markdown",
   "id": "141dfca1",
   "metadata": {},
   "source": [
    "### Q2: Please apply appropriate statistical measures using python based on data types.?\n",
    "* we have category and numerical data.\n",
    "* we can apply describe function for numerical data. for categorical data we use mode for calculating statistical measures.\n",
    "* **statistical measures** are measure of central tendency and measure of central dispersion.\n",
    "* **measure of central tendency** are mean ,median,mode.\n",
    "* **measure of central dispersion** are std,IQR,Variance,skewness.\n",
    "* For **symmetrical** data **measure of central tendency** is **mean** and **measure of central dispersion** is **sd**.\n",
    "* For **Unsymmeric** data, **measure of central tandency** is **median**,**measure of central dispersion** is **IQR**,because it is not affected by outliers.\n",
    "* For **categorical** data **measure of central tendency** is **mode** & measure of cenral dispersion is not there,because these are only few categories, we cant find spread of data."
   ]
  },
  {
   "cell_type": "code",
   "execution_count": null,
   "id": "96a65590",
   "metadata": {},
   "outputs": [],
   "source": [
    "# for numerical data\n",
    "# measures of central tendency are mean median\n",
    "churn.mean()\n",
    "churn.median()"
   ]
  },
  {
   "cell_type": "markdown",
   "id": "984c3621",
   "metadata": {},
   "source": [
    "columns|mean|median|\n",
    "---|---|---|\n",
    "Count        |          1.000000| 1.000000|\n",
    "Zip Code      |     93521.964646|93552.000000|\n",
    "Latitude       |       36.282441|36.391777|\n",
    "Longitude       |    -119.798880|-119.730885|\n",
    "Tenure Months    |     32.371149|29.000000|\n",
    "Monthly Charges   |    64.761692|70.350000|\n",
    "Churn Score         |  58.699418|61.000000|\n",
    "CLTV                |4400.295755|4527.000000|"
   ]
  },
  {
   "cell_type": "code",
   "execution_count": null,
   "id": "16908dfd",
   "metadata": {},
   "outputs": [],
   "source": [
    "# measures of central dispersion\n",
    "# std,variance,IQR\n",
    "chrn.var()\n",
    "# IQR=75%-25%\n",
    "iQR=[]\n",
    "for col in churn:# taking loop for calculating all numerical columns.\n",
    "    if churn[col].dtype == 'float64':  # if it is numerical column only\n",
    "        (q3,q1)=np.percentile(churn[col],[75,25])# 75%,25% using numpy\n",
    "        print(col,'iQR',q3-q1)# 75%-25%\n",
    "# standard deviation \n",
    "churn.std()"
   ]
  },
  {
   "cell_type": "markdown",
   "id": "4795ae27",
   "metadata": {},
   "source": [
    "Columns|IQR|std|variance|skewness value| distribution\n",
    "---|---|---|---|---|---|\n",
    "Count |iQR 0.0|0.000000|0.000000e+00|0.000000| symmetric\n",
    "Zip Code |iQR 3249.0|1865.794555|3.481189e+06|-0.251463|approx symmetric\n",
    "Latitude| iQR 4.193953999999998|2.455723|6.030573e+00|0.303867|aprox symmetric\n",
    "Longitude |iQR 3.77217499999999|2.157889|4.656485e+00|-0.040792|symmetric\n",
    "Tenure Months |iQR 46.0|24.559481|6.031681e+02|0.239540|symmetric|\n",
    "Monthly Charges| iQR 54.349999999999994|30.090047|9.054109e+02|-0.220524| approx symmetric\n",
    "Churn Score |iQR 35.0|21.525131|4.633313e+02|-0.089840|symmetric\n",
    "CLTV |iQR 1911.5|1183.057152|1.399624e+06|-0.311602|approx symmetric"
   ]
  },
  {
   "cell_type": "markdown",
   "id": "392de560",
   "metadata": {},
   "source": [
    "Distribution| measure of central tendency|Measures of central dispersion\n",
    "---|---|---|\n",
    "Symmetric|Mean|std\n",
    "Unsymmetric|Median|IQR\n"
   ]
  },
  {
   "cell_type": "markdown",
   "id": "30b0d51c",
   "metadata": {},
   "source": [
    "* As median is only for numerical values.so here it will calculate only for numerical data.For unsymmetric data, median is the measure of central tendency.if there is any null values , we will replace with median for uncymmetric data.\n",
    "* IQR can be calculated by 75%-25%. for numerical columns we calcuted iqr.for unsymmetric data measure of central dispersion is IQR.if any null values are there, we will replace it by it.\n",
    "* std is standard deviation, whch is square root of variance. sd or std will have same unit with mean.for symmetric data measure of central dispersion is sd.if any missing values present , we will replace it with it.It is calcluted for numerical values. when we use describe function also. we get sd for numerical columns\n",
    "* skew function is for finding skewness value.it is usefull to differentiate data as symmetric & unsymmetric.If skewness value is in between 0.5 to -0.5 then it is considered as approximately symmetric data.If it is between +/- 0.5 to +/- 1 then it is moderately skewed data. if it is more than that it is fully skewed data. if values are +,then it is positively skewed/right skewed data.it values ae - ,then it is negatively skewed or left skewed data.\n",
    "* As mode can be used for both categorical and numerical data.it will calulate to all columns.measure of central tendency for numerical and categorical columns is here.this can be used to replace null values."
   ]
  },
  {
   "cell_type": "code",
   "execution_count": null,
   "id": "065d00f8",
   "metadata": {},
   "outputs": [],
   "source": [
    "# for categorical column \n",
    "# measures of cenral tendancy is mode\n",
    "churn.mode()\n"
   ]
  },
  {
   "attachments": {},
   "cell_type": "markdown",
   "id": "e894a533",
   "metadata": {},
   "source": [
    "### Q3: What is the percentage of females and senior citizens in this data set? Please create appropriate plots and explain the plots\n"
   ]
  },
  {
   "cell_type": "code",
   "execution_count": null,
   "id": "1bd7420a",
   "metadata": {},
   "outputs": [],
   "source": [
    "count=churn['Gender'].value_counts()# counting how many female & male\n",
    "plt.pie(count,labels=['Male','Female'],autopct='%1.1f%%') # pie chart syntax\n",
    "plt.title('percentage of males & females')# title name\n",
    "plt.show()"
   ]
  },
  {
   "cell_type": "code",
   "execution_count": null,
   "id": "139839fd",
   "metadata": {},
   "outputs": [],
   "source": []
  },
  {
   "cell_type": "markdown",
   "id": "b5295942",
   "metadata": {},
   "source": [
    "Here,orange color part is females,so 49.5% females are there in data."
   ]
  },
  {
   "cell_type": "code",
   "execution_count": null,
   "id": "d852e207",
   "metadata": {},
   "outputs": [],
   "source": [
    "count=churn['Senior Citizen'].value_counts() # count of senior citizen present \n",
    "plt.pie(count,labels=['no','yes'],autopct='%1.1f%%')# pie chart syntax\n",
    "plt.title('percentage of Senior Citizen')# title name\n",
    "plt.show()"
   ]
  },
  {
   "cell_type": "markdown",
   "id": "6fb2f015",
   "metadata": {},
   "source": [
    "Here from above plot,orange part(yes) is presence of senior citizens,so 16.2% senior citigens from percantage of senior citizen chart are present in this data"
   ]
  },
  {
   "cell_type": "markdown",
   "id": "0a21a615",
   "metadata": {},
   "source": [
    "### Q4: Please create an appropriate plot to examine the distribution of the tenure month column and explain the distribution. Based on distribution, perform appropriate statistical measures. Please also explain if the variable is symmetric or skewed. Please calculate it. Explain everything as asked."
   ]
  },
  {
   "cell_type": "code",
   "execution_count": null,
   "id": "0fb01400",
   "metadata": {},
   "outputs": [],
   "source": [
    "plt.hist(churn['Tenure Months']) # hist plot for distribution\n",
    "plt.title('distribution of tenure months')# title name\n",
    "plt.xlabel('tenure months')# x-axis name\n",
    "plt.ylabel('frequency')# y-axis name\n",
    "plt.show()"
   ]
  },
  {
   "cell_type": "markdown",
   "id": "ecbde65b",
   "metadata": {},
   "source": [
    "From the plot, we can see data is distributed more in between 5-65 and almost evenly,only little data is uneven from 0-5 & 65-70.so i is considered as approximaely symmetric data. As it is less than 0.5 ,it is considered as almost symmetric data.so, we can find mean and std for measures of central tendency & dispersion."
   ]
  },
  {
   "cell_type": "code",
   "execution_count": null,
   "id": "6315dc1d",
   "metadata": {},
   "outputs": [],
   "source": [
    "churn['Tenure Months'].mean()# measure of central tendency"
   ]
  },
  {
   "cell_type": "code",
   "execution_count": null,
   "id": "971ba7ec",
   "metadata": {},
   "outputs": [],
   "source": [
    "churn['Tenure Months'].std()# measure of central dispersion"
   ]
  },
  {
   "cell_type": "markdown",
   "id": "8edf4a4d",
   "metadata": {},
   "source": [
    "Here statistical measures of tenure months are mean with 32.37 & standard deviation with 24.55"
   ]
  },
  {
   "cell_type": "markdown",
   "id": "12fcc073",
   "metadata": {},
   "source": [
    "### Q5: Please convert all binary columns into 0 and 1 using appropriate programming constructs, not one by one."
   ]
  },
  {
   "cell_type": "code",
   "execution_count": null,
   "id": "3fbcc0a8",
   "metadata": {},
   "outputs": [],
   "source": [
    "df=[]\n",
    "for col in churn:\n",
    "    if churn[col].dtype =='float64':\n",
    "        pass\n",
    "    else:\n",
    "        if len(churn[col].value_counts())==2:\n",
    "            df.append(col)\n",
    "df     "
   ]
  },
  {
   "cell_type": "markdown",
   "id": "1c1505a9",
   "metadata": {},
   "source": [
    "Now, we got the list of categorical columns having 2 values, which can be converted to binary format 0,1.By using for loop we replace for each column in df, we replace values with 0,1.we can use value_counts ,it will gives in dictionary format of values & its count.when we will select keys of value counts of each column in list df and replace it with 0,1. Here the values are columns will convert according to below table.\n",
    "\n",
    "|column|value|binary|\n",
    "|---|---|---|\n",
    "|Gender|male,female|0,1|\n",
    "|Senior citizen|no,yes|0,1|\n",
    "|Partner|no,yes|0,1|\n",
    "|Dependents|no,yes|0,1|\n",
    "|phone service|yes,no|0,1|\n",
    "|paperless billing|no,yes|0,1\n",
    "|churn label|yes,no|0,1|\n"
   ]
  },
  {
   "cell_type": "code",
   "execution_count": null,
   "id": "86e9feb3",
   "metadata": {},
   "outputs": [],
   "source": [
    "for i in df:\n",
    "    churn[i]=churn[i].replace(churn[i].value_counts().keys(),[0,1])"
   ]
  },
  {
   "cell_type": "markdown",
   "id": "7fb3ed47",
   "metadata": {},
   "source": [
    "### Q6: Please examine the distribution of monthly charges between males and females using box plots. Please explain the results also."
   ]
  },
  {
   "cell_type": "code",
   "execution_count": null,
   "id": "c4998e16",
   "metadata": {},
   "outputs": [],
   "source": [
    "sns.boxplot(y=churn['Monthly Charges'],x=churn['Gender']).set(title='Monthly charges of males as 0 and females as 1')"
   ]
  },
  {
   "cell_type": "markdown",
   "id": "6863377a",
   "metadata": {},
   "source": [
    "Here 0 with blue colur boxplot is males.1 with orange color plot os for females.we dont have outliers for both males & females.here both data looks similarly distributed. both male & female median is around 70. both max value is around 120.both min value around 10-20.both data q1 at <40.both data q3 at nearly 90.as both medians are going upwards,it is moderately left skewed data."
   ]
  },
  {
   "cell_type": "markdown",
   "id": "37f5b660",
   "metadata": {},
   "source": [
    "### Q7: Please find what is the minimum total charges for Los Angeles city. Please find which zip code has the maximum total charges."
   ]
  },
  {
   "cell_type": "code",
   "execution_count": null,
   "id": "2860f0d7",
   "metadata": {},
   "outputs": [],
   "source": [
    "churn['Total Charges'][churn['City']=='Los Angeles'].min()"
   ]
  },
  {
   "cell_type": "markdown",
   "id": "971c88eb",
   "metadata": {},
   "source": [
    "Here 18.8 is the minimum total charges for los angeles city ."
   ]
  },
  {
   "cell_type": "code",
   "execution_count": null,
   "id": "a8b84fef",
   "metadata": {},
   "outputs": [],
   "source": [
    "churn['Zip Code'][churn['Total Charges']==churn['Total Charges'].max()]"
   ]
  },
  {
   "cell_type": "markdown",
   "id": "87d9636e",
   "metadata": {},
   "source": [
    "Here for 1206 zipcode we got 95519.0 as maximum total charges."
   ]
  },
  {
   "cell_type": "markdown",
   "id": "81cc7ff2",
   "metadata": {},
   "source": [
    "### Q8: Please find which payment method has the highest churn score and which has the lowest churn score."
   ]
  },
  {
   "cell_type": "code",
   "execution_count": null,
   "id": "c8477523",
   "metadata": {},
   "outputs": [],
   "source": [
    "cc_grp=churn['Churn Score'].groupby(churn['Payment Method'])"
   ]
  },
  {
   "cell_type": "code",
   "execution_count": null,
   "id": "ff60fc38",
   "metadata": {},
   "outputs": [],
   "source": [
    "cc_grp.max()"
   ]
  },
  {
   "cell_type": "code",
   "execution_count": null,
   "id": "87f6c7ff",
   "metadata": {},
   "outputs": [],
   "source": [
    "cc_grp.min()"
   ]
  },
  {
   "cell_type": "markdown",
   "id": "1c1d6e87",
   "metadata": {},
   "source": [
    "Payment Method |Churn Score(max)|min\n",
    "---|---|---|\n",
    "Bank transfer (automatic)  |  100.0|8\n",
    "Credit card (automatic)    |  100.0|5\n",
    "Electronic check           |  100.0|7\n",
    "Mailed check                | 100.0|9\n",
    "\n",
    "Here all 4 payment methods have hoghest churn score of 100.Here credit card(aotumatic) has lowest churn score with value os 5."
   ]
  },
  {
   "cell_type": "markdown",
   "id": "cc4be45c",
   "metadata": {},
   "source": [
    "### Q9: Please create an appropriate plot to check the count of payment methods and explain it.¶"
   ]
  },
  {
   "cell_type": "code",
   "execution_count": null,
   "id": "a9ba4a13",
   "metadata": {},
   "outputs": [],
   "source": [
    "plt.figure(figsize=(10,5))  # for bigger size of plot\n",
    "sns.countplot(churn['Payment Method']) # syntax for count plot\n",
    "plt.title('count of payment methods')"
   ]
  },
  {
   "cell_type": "markdown",
   "id": "b848e4b7",
   "metadata": {},
   "source": [
    "Electronic check is having more than 2000 counts & it is the more frequent payment method..\n",
    "Mailed check have >1500 counts.\n",
    "Bank tranfer and credit card shows almost same around 1500 & least used payment methods.."
   ]
  },
  {
   "cell_type": "markdown",
   "id": "d483e5a1",
   "metadata": {},
   "source": [
    "### Q10: Please create an appropriate plot to see the relationship between monthly charges and total charges."
   ]
  },
  {
   "cell_type": "code",
   "execution_count": null,
   "id": "98f0477d",
   "metadata": {},
   "outputs": [],
   "source": [
    "plt.figure(figsize=(10,5)) # for bigger size of plot\n",
    "plt.scatter(x=churn['Monthly Charges'],y=churn['Total Charges'])\n",
    "plt.title('Relationship between monthly & Total charges')\n",
    "plt.xlabel('Monthly Charges')\n",
    "plt.ylabel('Total Charges')\n",
    "plt.show()"
   ]
  },
  {
   "cell_type": "markdown",
   "id": "db0db8f6",
   "metadata": {},
   "source": [
    "Here relation between monthly & total charges is positive but with more variance.suppose for 80-100 monthly charges,total charges is (0-5000),(0-7000).for same interval total charges are changing in bigger range."
   ]
  },
  {
   "cell_type": "markdown",
   "id": "1a1ee1e4",
   "metadata": {},
   "source": [
    "### Conclusion\n",
    "First we read data & stored in dataframe called churn, we did some exploration of data like finding datatype changing data types.we find statistical measures such as measures of central tendency & dispersion.we created dist plot for examine disstribution of tenure income & distribution of monthly charges for male & female by boxplot. we converted binary columns into 0,1.we examine relationship between monthly & total charges.we group churn score with payment method and find max & min values.we examine count of payment mehods by count plot.we plotted pie charts for gender & senior citizen for examine the percentage of females & senior citizens."
   ]
  },
  {
   "cell_type": "code",
   "execution_count": null,
   "id": "296e1717",
   "metadata": {},
   "outputs": [],
   "source": []
  }
 ],
 "metadata": {
  "kernelspec": {
   "display_name": "Python 3 (ipykernel)",
   "language": "python",
   "name": "python3"
  },
  "language_info": {
   "codemirror_mode": {
    "name": "ipython",
    "version": 3
   },
   "file_extension": ".py",
   "mimetype": "text/x-python",
   "name": "python",
   "nbconvert_exporter": "python",
   "pygments_lexer": "ipython3",
   "version": "3.9.7"
  }
 },
 "nbformat": 4,
 "nbformat_minor": 5
}
