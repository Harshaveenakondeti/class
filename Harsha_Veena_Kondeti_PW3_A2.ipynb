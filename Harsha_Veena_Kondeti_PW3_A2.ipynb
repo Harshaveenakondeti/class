{
  "cells": [
    {
      "cell_type": "markdown",
      "metadata": {
        "nbgrader": {
          "grade": false,
          "grade_id": "cell-0a1cd97d29171e27",
          "locked": true,
          "schema_version": 3,
          "solution": false,
          "task": false
        },
        "id": "jU5jiT8gjay3"
      },
      "source": [
        "# Rules:\n",
        "    1. Follow the given instructions strictly as the assignment will be automatically rejected if not done so.\n",
        "    2. After you are done answering the questions, save the notebook in .ipynb format and rename it as so;\n",
        "        \n",
        "        <<Your name as visible on 'My Courses' page as shown below>>_PW3-A2.ipynb\n",
        "        \n",
        "    3. After renaming the file as above submit onto the platform."
      ]
    },
    {
      "cell_type": "markdown",
      "metadata": {
        "nbgrader": {
          "grade": false,
          "grade_id": "cell-39806162dd625703",
          "locked": true,
          "schema_version": 3,
          "solution": false,
          "task": false
        },
        "id": "OWInKq1vjay7"
      },
      "source": [
        "# Python W3 - Assignment 02"
      ]
    },
    {
      "cell_type": "markdown",
      "metadata": {
        "nbgrader": {
          "grade": false,
          "grade_id": "Q1",
          "locked": true,
          "schema_version": 3,
          "solution": false,
          "task": false
        },
        "id": "yPTC06dXjay9"
      },
      "source": [
        "## Question 1\n",
        "\n",
        "Observe the following definitions for the function named display_sum . The purpose of this function is to display the sum of the numbers passed as arguments to it."
      ]
    },
    {
      "cell_type": "markdown",
      "metadata": {
        "nbgrader": {
          "grade": false,
          "grade_id": "cell-bdbb11386adf6c13",
          "locked": true,
          "schema_version": 3,
          "solution": false,
          "task": false
        },
        "id": "VtmJZ6X0jay-"
      },
      "source": [
        "#OPTION A\n",
        "\n",
        "def display_sum(a=0,b=0,c=0):\n",
        "    print(a+b+c)\n",
        "\n",
        "#=================================#\n",
        "\n",
        "#OPTION B\n",
        "\n",
        "def display_sum(a,b=0,c=0):\n",
        "    print(a+b+c)\n",
        "\n",
        "#=================================#\n",
        "\n",
        "#OPTION C\n",
        "\n",
        "def display_sum(a=0,b,c=0):\n",
        "    print(a+b+c)\n",
        "\n",
        "#=================================#\n",
        "\n",
        "#OPTION D\n",
        "\n",
        "def display_sum(a=0,b=0,c):\n",
        "    print(a+b+c)\n",
        "\n",
        "#=================================#\n",
        "\n",
        "#OPTION E\n",
        "\n",
        "def display_sum(a,b,c=0):\n",
        "    print(a+b+c)\n",
        "\n",
        "#=================================#"
      ]
    },
    {
      "cell_type": "markdown",
      "metadata": {
        "nbgrader": {
          "grade": true,
          "grade_id": "A1",
          "locked": false,
          "points": 2,
          "schema_version": 3,
          "solution": true,
          "task": false
        },
        "id": "Zcy-v3LLjazA"
      },
      "source": [
        "#YOUR ANSWER HERE\n",
        "option A, because arguents have values already"
      ]
    },
    {
      "cell_type": "markdown",
      "metadata": {
        "nbgrader": {
          "grade": false,
          "grade_id": "cell-a13189a026c3771d",
          "locked": true,
          "schema_version": 3,
          "solution": false,
          "task": false
        },
        "id": "fBBXrg5vjazC"
      },
      "source": [
        "## Question 2\n",
        "\n",
        "Cosider the following function. `L` is a list of numbers and `x` is some number "
      ]
    },
    {
      "cell_type": "code",
      "execution_count": null,
      "metadata": {
        "id": "yyBEwGMpjazC"
      },
      "outputs": [],
      "source": [
        "def member(L,x):\n",
        "    for y in L:\n",
        "        if y==x:\n",
        "            return True\n",
        "    return False"
      ]
    },
    {
      "cell_type": "markdown",
      "metadata": {
        "id": "px9vsMBrjazG"
      },
      "source": [
        "P is a list of numbers and q is some number. Which of the following statements are true ? Multiple options can be correct."
      ]
    },
    {
      "cell_type": "markdown",
      "metadata": {
        "id": "QiA7lgsyjazI"
      },
      "source": [
        "| Options |\n",
        "| --- |\n",
        "| (a) If q is an element of P, member(P, q) returns the value True. |\n",
        "| (b) If q is an element of P, member(q, P) returns the value True. |\n",
        "| (c) The following expression always evaluates to True: member(P, q) == (q in P) |\n",
        "| (d) When member([1, 2, 3, 4, 5], 10) is called, line-3 is executed 5 times |"
      ]
    },
    {
      "cell_type": "markdown",
      "metadata": {
        "nbgrader": {
          "grade": true,
          "grade_id": "cell-5b0ec5b5f53b7705",
          "locked": false,
          "points": 2,
          "schema_version": 3,
          "solution": true,
          "task": false
        },
        "id": "vEx-JmftjazI"
      },
      "source": [
        "#YOUR ANSWER HERE\n",
        "(a) and (c) are true.\n",
        "if p=[1,2,3,4] and q=3 ,then it will give true for y=3 ,if q is element of P, it will give true."
      ]
    },
    {
      "cell_type": "markdown",
      "metadata": {
        "id": "G4ALPpJnjazJ"
      },
      "source": [
        "# Instructions for below questions:\n",
        "- Enter your solution in the cell block below only. Double click to edit.\n",
        "- Do not edit anything else apart from 'YOUR ANSWER HERE' for your solution"
      ]
    },
    {
      "cell_type": "markdown",
      "metadata": {
        "nbgrader": {
          "grade": false,
          "grade_id": "Q2",
          "locked": true,
          "schema_version": 3,
          "solution": false,
          "task": false
        },
        "id": "DH6DT6VljazJ"
      },
      "source": [
        "## Question 3\n",
        "\n",
        "Write a code to accept the name of a person as input and print the initials as output. Assume that the name will be of this form: `<first name> <last name>` . Also assume that the first name and last name will be a single word, and there will be exactly one space between the two names. For example, if the input is Rohit Sharma, the output should be RS.\n"
      ]
    },
    {
      "cell_type": "code",
      "execution_count": 6,
      "metadata": {
        "nbgrader": {
          "grade": false,
          "grade_id": "cell-c583dcd635f03dab",
          "locked": true,
          "schema_version": 3,
          "solution": false,
          "task": false
        },
        "vscode": {
          "languageId": "plaintext"
        },
        "colab": {
          "base_uri": "https://localhost:8080/"
        },
        "id": "7qXLud2-jazK",
        "outputId": "2761634e-73a4-43e5-f33a-3aa2b85269fb"
      },
      "outputs": [
        {
          "output_type": "stream",
          "name": "stdout",
          "text": [
            "enter firstname and lastname with one space: Rohit Sharma\n",
            "RS\n"
          ]
        }
      ],
      "source": [
        "#YOUR ANSWERE HERE\n",
        "import re\n",
        "name=input('enter firstname and lastname with one space: ')\n",
        "n=name.split()\n",
        "p=re.findall(\"[A-Z]\",name)\n",
        "print(*p,sep='')"
      ]
    },
    {
      "cell_type": "markdown",
      "metadata": {
        "nbgrader": {
          "grade": false,
          "grade_id": "Q3",
          "locked": true,
          "schema_version": 3,
          "solution": false,
          "task": false
        },
        "id": "QWBFXPKxjazL"
      },
      "source": [
        "## Question 4\n",
        "\n",
        "Write a program for the harmonic mean of first n numbers. Accept n as an input from the user. Round off the answer to 2 decimal numbers.\n",
        "\n",
        "For example , the harmonic mean for the first 5 numbers can be calculated as;\n",
        "\n",
        "$$\n",
        "Harmonic \\ mean = \n",
        "\n",
        "\\frac{5}{(\\frac{1}{1}+\\frac{1}{2}+\\frac{1}{3}+\\frac{1}{4}+\\frac{1}{5})}\n",
        "$$\n",
        "\n"
      ]
    },
    {
      "cell_type": "code",
      "source": [
        "# YOUR ANSWER HERE\n",
        "p=int(input('enter number for how many first n numbers to calculate'))\n",
        "n=list(range(1,p+1))   # create list of n numbers\n",
        "print(n)\n",
        "def frac():     # define frac function\n",
        "  f=0\n",
        "  for i in range(len(n)):   # loop for total n number of times\n",
        "    f=f+(1/n[i])            # calculate reciprocal of number and sumn of it    \n",
        "    h=len(n)/f              # calculate harmonic mean as total numbers divided by sum of reciprocals\n",
        "  return(round(h,2))        # round of decimal value to 2 decimals and return\n",
        "frac()"
      ],
      "metadata": {
        "colab": {
          "base_uri": "https://localhost:8080/"
        },
        "id": "bC0hjtbanWIn",
        "outputId": "d97cec3d-2bc0-4098-9187-9a1e24c9549f"
      },
      "execution_count": 36,
      "outputs": [
        {
          "output_type": "stream",
          "name": "stdout",
          "text": [
            "enter number for how many first n numbers to calculate5\n",
            "[1, 2, 3, 4, 5]\n"
          ]
        },
        {
          "output_type": "execute_result",
          "data": {
            "text/plain": [
              "2.19"
            ]
          },
          "metadata": {},
          "execution_count": 36
        }
      ]
    },
    {
      "cell_type": "markdown",
      "metadata": {
        "id": "E8vUk0aEjazM"
      },
      "source": [
        "### 5. IP Address\n",
        "\n",
        "An Internet Protocol address (IP address) is a numerical label assigned to each device connected to a computer network that uses the Internet Protocol for communication.\n",
        "\n"
      ]
    },
    {
      "cell_type": "markdown",
      "metadata": {
        "id": "RdnA2A6yjazN"
      },
      "source": [
        "Classification of IPv4\n",
        "\n",
        "|CLASS|From\t|To |\n",
        "|----|-----|----|\n",
        "|A|\t0.0.0.0| 127.255.255.255|\n",
        "|B|\t128.0.0.0|\t191.255.255.255|\n",
        "|C|\t192.0.0.0|\t223.255.255.255|\n",
        "|D|\t224.0.0.0|\t239.255.255.255|\n",
        "|E|\t240.0.0.0|\t255.255.255.255|\n"
      ]
    },
    {
      "cell_type": "markdown",
      "metadata": {
        "id": "SJJ7KOgijazO"
      },
      "source": [
        "Write a program to read all IP addresses(IN BINARY FORMAT) before termination line END from “ipaddress.txt” file and after converting into decimal format , print the output in following format.\n"
      ]
    },
    {
      "cell_type": "markdown",
      "metadata": {
        "id": "-3dTI7H3jazP"
      },
      "source": [
        "|Output|\n",
        "|----|\n",
        "|A = count of ip that belongs to class A|\n",
        "|B = count of ip that belongs to class B|\n",
        "|C = count of ip that belongs to class C|\n",
        "|D = count of ip that belongs to class D|\n",
        "|E = count of ip that belongs to class E|\n"
      ]
    },
    {
      "cell_type": "markdown",
      "metadata": {
        "id": "8F5NvkHtjazQ"
      },
      "source": [
        " \n",
        "|Sample Input file|\n",
        "|---|\n",
        "|11111111.10101010.01010101.11001100|\n",
        "|11110000.00000000.11111111.00000001|\n",
        "|10001000.01010101.10100000.10101000|\n",
        "|11000000.11111111.11111111.11111111|\n",
        "|11100000.10101010.00000000.11111111|\n",
        "|01000000.10101000.01010101.10000000|\n"
      ]
    },
    {
      "cell_type": "markdown",
      "metadata": {
        "id": "Vfo4jugxjazR"
      },
      "source": [
        "\n",
        "|Sample Output|\n",
        "|----|\n",
        "|A = 1|\n",
        "|B = 1|\n",
        "|C = 1|\n",
        "|D = 1|\n",
        "|E = 2|\n"
      ]
    },
    {
      "cell_type": "markdown",
      "metadata": {
        "id": "kjo22dCvjazR"
      },
      "source": [
        "Note: Create your own file “ipaddress.txt” with the Sample Input file lines above.\n",
        "\n",
        "\n"
      ]
    },
    {
      "cell_type": "code",
      "execution_count": null,
      "metadata": {
        "id": "Kr7ODJ4RjazS"
      },
      "outputs": [],
      "source": [
        "#YOUR ANSWER HERE\n"
      ]
    },
    {
      "cell_type": "markdown",
      "metadata": {
        "id": "BA082IQnjazS"
      },
      "source": [
        "### 6. Nested Loop\n",
        "\n",
        "Write a python program to print all the combinations that satisfies the following equation;\n",
        "\n",
        "$$ \n",
        "x^4 + y^3 = z^2\n",
        "$$\n",
        "\n",
        "where,\n",
        "\n",
        "1. `x`,`y` and `z` should be distinct, positive and less than `n` which is obtained from the user\n",
        "2. `x<y<z`\n",
        "3. The output should be printed in the ascending order of `x`\n",
        "\n",
        "Hint: Use nested loop\n"
      ]
    },
    {
      "cell_type": "code",
      "execution_count": 39,
      "metadata": {
        "colab": {
          "base_uri": "https://localhost:8080/"
        },
        "id": "Rm9N6bA5jazT",
        "outputId": "bd1e4ead-311d-4504-d5f3-2eda1ad7aa99"
      },
      "outputs": [
        {
          "output_type": "stream",
          "name": "stdout",
          "text": [
            "1 4 1\n"
          ]
        }
      ],
      "source": [
        "#YOUR ANSWER HERE\n",
        "\n",
        "n=5\n",
        "import random\n",
        "x,y,z=[random.randrange(1,n) for i in range(3)]\n",
        "print(x,y,z)\n",
        "\n",
        "\n",
        "if x<y<z and z<n:\n",
        "  if x**2 +y**2 ==z**2:\n",
        "    print (x,y,z)\n",
        "\n"
      ]
    },
    {
      "cell_type": "markdown",
      "metadata": {
        "id": "mXdHLJzKjazT"
      },
      "source": [
        "### 7. Hatrick\n",
        "\n",
        "You are given the results of a sequence of matches played by India in ODIs. A win is represented by 'W' and a loss is represented by 'L'. A winning streak is a string of consecutive wins.\n",
        "\n",
        "For example, if India has played five matches with the following results \n",
        "\n",
        "`'WLWWWL'` - then it has a three-match streak. Write a code to accept the result-sequence as input and find the longest streak in it."
      ]
    },
    {
      "cell_type": "code",
      "execution_count": 55,
      "metadata": {
        "colab": {
          "base_uri": "https://localhost:8080/"
        },
        "id": "dKvlR3-gjazU",
        "outputId": "858627cb-e3f3-4777-e114-3f5a324664ce"
      },
      "outputs": [
        {
          "output_type": "stream",
          "name": "stdout",
          "text": [
            "longest streak ['WWW', 'WWWWWWWW', 'WWW', 'WWWW']\n"
          ]
        }
      ],
      "source": [
        "#YOUR ANSWER HERE\n",
        "m='WLWWWLWWWWWWWWLLWWLWWWLWWWWLWLWL'\n",
        "import re\n",
        "l=re.findall('WWW+',m)\n",
        "print('longest streak',l)"
      ]
    },
    {
      "cell_type": "markdown",
      "metadata": {
        "id": "sdYtV82HjazV"
      },
      "source": [
        "## 8. Guess Number\n",
        "\n",
        "Write a program to number guessing games using loops. The program arbitrarily choses a number in the range 1 to 100 (inclusive) and asks the user to enter a guessed number. The program repeatedly asks the user to guess the number 5 times. For each guess, the program\n",
        "says `TOO HIGH` or `TOO LOW` or `GOOD` based on the below table.\n"
      ]
    },
    {
      "cell_type": "markdown",
      "metadata": {
        "id": "s4yjlKXGjazV"
      },
      "source": [
        "|Difference between actual number and guess number|Output|\n",
        "|----|-----|\n",
        "|is 0|EXCELLENT|\n",
        "|between 10 and -10 both inclusive|GOOD|\n",
        "|greater than 10|TOO HIGH|\n",
        "|Lesser than -10|TOO LOW|"
      ]
    },
    {
      "cell_type": "code",
      "source": [
        "# YOUR ANSWER HERE\n",
        "n=random.randint(1,101)\n",
        "\n",
        "\n",
        "for i in range(5):\n",
        "  num=int(input('enter number: '))\n",
        "  if num>n:\n",
        "    print('greater')\n",
        "    if n>10:\n",
        "       print('TOO HIGH')\n",
        "  elif num<n:\n",
        "    print('lesser')\n",
        "    if n<-10:\n",
        "      print('too low')\n",
        "    elif -10<=n and n<=10:\n",
        "      print('good')\n",
        "    elif n==0:\n",
        "      print('excellent')\n",
        "  else:\n",
        "    print('match')\n",
        "    break\n",
        "\n",
        "\n",
        "\n",
        "\n"
      ],
      "metadata": {
        "colab": {
          "base_uri": "https://localhost:8080/"
        },
        "id": "X4gqcFr51-gL",
        "outputId": "bd394a8f-6245-4b52-8e72-fed2701577f7"
      },
      "execution_count": 87,
      "outputs": [
        {
          "output_type": "stream",
          "name": "stdout",
          "text": [
            "enter number: 11\n",
            "lesser\n",
            "enter number: 20\n",
            "greater\n",
            "TOO HIGH\n",
            "enter number: 15\n",
            "greater\n",
            "TOO HIGH\n",
            "enter number: 13\n",
            "lesser\n",
            "enter number: 14\n",
            "match\n"
          ]
        }
      ]
    },
    {
      "cell_type": "markdown",
      "metadata": {
        "id": "LmkIbf-zjazW"
      },
      "source": [
        "#YOUR ANSWER HERE"
      ]
    }
  ],
  "metadata": {
    "celltoolbar": "Create Assignment",
    "kernelspec": {
      "display_name": "Python 3 (ipykernel)",
      "language": "python",
      "name": "python3"
    },
    "language_info": {
      "codemirror_mode": {
        "name": "ipython",
        "version": 3
      },
      "file_extension": ".py",
      "mimetype": "text/x-python",
      "name": "python",
      "nbconvert_exporter": "python",
      "pygments_lexer": "ipython3",
      "version": "3.9.1"
    },
    "toc": {
      "base_numbering": 1,
      "nav_menu": {},
      "number_sections": true,
      "sideBar": true,
      "skip_h1_title": false,
      "title_cell": "Table of Contents",
      "title_sidebar": "Contents",
      "toc_cell": false,
      "toc_position": {},
      "toc_section_display": true,
      "toc_window_display": false
    },
    "varInspector": {
      "cols": {
        "lenName": 16,
        "lenType": 16,
        "lenVar": 40
      },
      "kernels_config": {
        "python": {
          "delete_cmd_postfix": "",
          "delete_cmd_prefix": "del ",
          "library": "var_list.py",
          "varRefreshCmd": "print(var_dic_list())"
        },
        "r": {
          "delete_cmd_postfix": ") ",
          "delete_cmd_prefix": "rm(",
          "library": "var_list.r",
          "varRefreshCmd": "cat(var_dic_list()) "
        }
      },
      "types_to_exclude": [
        "module",
        "function",
        "builtin_function_or_method",
        "instance",
        "_Feature"
      ],
      "window_display": false
    },
    "colab": {
      "name": "Harsha Veena Kondeti_PW3-A2.ipynb",
      "provenance": [],
      "collapsed_sections": []
    }
  },
  "nbformat": 4,
  "nbformat_minor": 0
}