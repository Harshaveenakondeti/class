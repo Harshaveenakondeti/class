{
  "nbformat": 4,
  "nbformat_minor": 0,
  "metadata": {
    "colab": {
      "name": "Harsha_veena_diabetes_w5.ipynb",
      "provenance": [],
      "collapsed_sections": [],
      "toc_visible": true
    },
    "kernelspec": {
      "name": "python3",
      "display_name": "Python 3"
    },
    "language_info": {
      "name": "python"
    }
  },
  "cells": [
    {
      "cell_type": "markdown",
      "source": [
        "#Pima Indians Diabetes Database Descriptive Statistics Project"
      ],
      "metadata": {
        "id": "BKh3YOqN4rRx"
      }
    },
    {
      "cell_type": "markdown",
      "source": [
        "# Introduction\n",
        "Pima Indians Diabetes Database Descriptive Statistics Project\n",
        "Predict the onset of diabetes based on diagnostic measures. This dataset is originally from the National Institute of Diabetes and Digestive and Kidney Diseases. The objective of the dataset is to diagnostically predict whether a patient has diabetes, based on certain diagnostic measurements included in the dataset.\n",
        "\n",
        "**Columns of the dataset**\n",
        "\n",
        "**Pregnancies**: Number of times pregnant \n",
        "\n",
        "**Glucose**: Plasma glucose concentration 2 hours in an oral glucose tolerance test\n",
        "\n",
        "**Blood Pressure**: Diastolic blood pressure (mm Hg)\n",
        "\n",
        "**Skin Thickness**: Triceps skin fold thickness (mm\n",
        "\n",
        "**Insulin**: 2-Hour serum insulin (mu U/ml)\n",
        "\n",
        "**BMI**: Body mass index (weight in kg/(height in m)^2) \n",
        "\n",
        "**Diabetes Pedigree Function**: Diabetes pedigree function\n",
        "\n",
        "**Age**: Age (years)\n",
        "\n",
        "**Outcome**: Class variable (0 or 1) 0 mean non-diabetic and 1 means diabetic\n"
      ],
      "metadata": {
        "id": "YvMl4k__FirX"
      }
    },
    {
      "cell_type": "markdown",
      "source": [
        "## Objective\n",
        "to done descriptive statistical analysis on diabetes dataset"
      ],
      "metadata": {
        "id": "gXfC7h-0426i"
      }
    },
    {
      "cell_type": "markdown",
      "source": [
        "## Analysis\n",
        "1. Please do the basic exploration of data and explain all datatypes (nominal, ordinal, discrete or continuous).\n",
        "2. Calculate appropriate measures of central tendency for Glucose and outcome column variable only? Do not give all results.\n",
        "3. Please provide 5 points data summaries for required columns?\n",
        "4. Please create an appropriate plot to see the distribution of Outcome variable?\n",
        "5. Is there a difference in glucose level between diabetic and non-diabetic? Similarly for insulin and diabetic vs nondiabetic.\n",
        "6. Please examine the relationship between insulin and glucose level using appropriate plot.\n",
        "7. Please examine the distribution of numerical data and explain which variables normally distributed and which variables are seem to be skewed. Please also tell the direction of skewness.\n",
        "8. Please calculate the skewness value and divide variables into symmetrical, moderately skewed and highly skewed.\n",
        "9. Please create appropriate plot to examine the outliers of these variables. Please name the variables which have outliers. \n",
        "10. What should be the measures of central tendency and dispersion for skewed data?  \n",
        "11. If there are missing values, please try to fill those missing values and give appropriate reasons.\n",
        "12. If skewness is present, try to perform transformation and explain the results.\n"
      ],
      "metadata": {
        "id": "DPjw3hYWFiU1"
      }
    },
    {
      "cell_type": "markdown",
      "source": [
        "## Data collection"
      ],
      "metadata": {
        "id": "cqJZVCT95IWS"
      }
    },
    {
      "cell_type": "markdown",
      "source": [
        "### Import libraries"
      ],
      "metadata": {
        "id": "6Pf_dXOBHh1S"
      }
    },
    {
      "cell_type": "code",
      "execution_count": 1,
      "metadata": {
        "id": "iJy2IkHvFc51"
      },
      "outputs": [],
      "source": [
        "import pandas as pd # read into dataframes\n",
        "import numpy as np # mathematical calculations\n",
        "import matplotlib.pyplot as plt  # visualization libraries\n",
        "import seaborn as sns"
      ]
    },
    {
      "cell_type": "markdown",
      "source": [
        "### Read dataset into pandas dataframe"
      ],
      "metadata": {
        "id": "5Qxzej4yH8d0"
      }
    },
    {
      "cell_type": "code",
      "source": [
        "df= pd.read_csv('mandatory_diabetes.csv')  # reading dataset\n",
        "df.head()  # check 1st 5 rows"
      ],
      "metadata": {
        "colab": {
          "base_uri": "https://localhost:8080/",
          "height": 206
        },
        "id": "ENEO6E-yHYwB",
        "outputId": "24b56e19-4785-4f40-90da-7d652b470815"
      },
      "execution_count": 2,
      "outputs": [
        {
          "output_type": "execute_result",
          "data": {
            "text/plain": [
              "   Pregnancies  Glucose  BloodPressure  SkinThickness  Insulin   BMI  \\\n",
              "0            6      148             72             35        0  33.6   \n",
              "1            1       85             66             29        0  26.6   \n",
              "2            8      183             64              0        0  23.3   \n",
              "3            1       89             66             23       94  28.1   \n",
              "4            0      137             40             35      168  43.1   \n",
              "\n",
              "   DiabetesPedigreeFunction  Age  Outcome  \n",
              "0                     0.627   50        1  \n",
              "1                     0.351   31        0  \n",
              "2                     0.672   32        1  \n",
              "3                     0.167   21        0  \n",
              "4                     2.288   33        1  "
            ],
            "text/html": [
              "\n",
              "  <div id=\"df-08c7d7a1-e1ac-4c1c-b159-db10b6e741b1\">\n",
              "    <div class=\"colab-df-container\">\n",
              "      <div>\n",
              "<style scoped>\n",
              "    .dataframe tbody tr th:only-of-type {\n",
              "        vertical-align: middle;\n",
              "    }\n",
              "\n",
              "    .dataframe tbody tr th {\n",
              "        vertical-align: top;\n",
              "    }\n",
              "\n",
              "    .dataframe thead th {\n",
              "        text-align: right;\n",
              "    }\n",
              "</style>\n",
              "<table border=\"1\" class=\"dataframe\">\n",
              "  <thead>\n",
              "    <tr style=\"text-align: right;\">\n",
              "      <th></th>\n",
              "      <th>Pregnancies</th>\n",
              "      <th>Glucose</th>\n",
              "      <th>BloodPressure</th>\n",
              "      <th>SkinThickness</th>\n",
              "      <th>Insulin</th>\n",
              "      <th>BMI</th>\n",
              "      <th>DiabetesPedigreeFunction</th>\n",
              "      <th>Age</th>\n",
              "      <th>Outcome</th>\n",
              "    </tr>\n",
              "  </thead>\n",
              "  <tbody>\n",
              "    <tr>\n",
              "      <th>0</th>\n",
              "      <td>6</td>\n",
              "      <td>148</td>\n",
              "      <td>72</td>\n",
              "      <td>35</td>\n",
              "      <td>0</td>\n",
              "      <td>33.6</td>\n",
              "      <td>0.627</td>\n",
              "      <td>50</td>\n",
              "      <td>1</td>\n",
              "    </tr>\n",
              "    <tr>\n",
              "      <th>1</th>\n",
              "      <td>1</td>\n",
              "      <td>85</td>\n",
              "      <td>66</td>\n",
              "      <td>29</td>\n",
              "      <td>0</td>\n",
              "      <td>26.6</td>\n",
              "      <td>0.351</td>\n",
              "      <td>31</td>\n",
              "      <td>0</td>\n",
              "    </tr>\n",
              "    <tr>\n",
              "      <th>2</th>\n",
              "      <td>8</td>\n",
              "      <td>183</td>\n",
              "      <td>64</td>\n",
              "      <td>0</td>\n",
              "      <td>0</td>\n",
              "      <td>23.3</td>\n",
              "      <td>0.672</td>\n",
              "      <td>32</td>\n",
              "      <td>1</td>\n",
              "    </tr>\n",
              "    <tr>\n",
              "      <th>3</th>\n",
              "      <td>1</td>\n",
              "      <td>89</td>\n",
              "      <td>66</td>\n",
              "      <td>23</td>\n",
              "      <td>94</td>\n",
              "      <td>28.1</td>\n",
              "      <td>0.167</td>\n",
              "      <td>21</td>\n",
              "      <td>0</td>\n",
              "    </tr>\n",
              "    <tr>\n",
              "      <th>4</th>\n",
              "      <td>0</td>\n",
              "      <td>137</td>\n",
              "      <td>40</td>\n",
              "      <td>35</td>\n",
              "      <td>168</td>\n",
              "      <td>43.1</td>\n",
              "      <td>2.288</td>\n",
              "      <td>33</td>\n",
              "      <td>1</td>\n",
              "    </tr>\n",
              "  </tbody>\n",
              "</table>\n",
              "</div>\n",
              "      <button class=\"colab-df-convert\" onclick=\"convertToInteractive('df-08c7d7a1-e1ac-4c1c-b159-db10b6e741b1')\"\n",
              "              title=\"Convert this dataframe to an interactive table.\"\n",
              "              style=\"display:none;\">\n",
              "        \n",
              "  <svg xmlns=\"http://www.w3.org/2000/svg\" height=\"24px\"viewBox=\"0 0 24 24\"\n",
              "       width=\"24px\">\n",
              "    <path d=\"M0 0h24v24H0V0z\" fill=\"none\"/>\n",
              "    <path d=\"M18.56 5.44l.94 2.06.94-2.06 2.06-.94-2.06-.94-.94-2.06-.94 2.06-2.06.94zm-11 1L8.5 8.5l.94-2.06 2.06-.94-2.06-.94L8.5 2.5l-.94 2.06-2.06.94zm10 10l.94 2.06.94-2.06 2.06-.94-2.06-.94-.94-2.06-.94 2.06-2.06.94z\"/><path d=\"M17.41 7.96l-1.37-1.37c-.4-.4-.92-.59-1.43-.59-.52 0-1.04.2-1.43.59L10.3 9.45l-7.72 7.72c-.78.78-.78 2.05 0 2.83L4 21.41c.39.39.9.59 1.41.59.51 0 1.02-.2 1.41-.59l7.78-7.78 2.81-2.81c.8-.78.8-2.07 0-2.86zM5.41 20L4 18.59l7.72-7.72 1.47 1.35L5.41 20z\"/>\n",
              "  </svg>\n",
              "      </button>\n",
              "      \n",
              "  <style>\n",
              "    .colab-df-container {\n",
              "      display:flex;\n",
              "      flex-wrap:wrap;\n",
              "      gap: 12px;\n",
              "    }\n",
              "\n",
              "    .colab-df-convert {\n",
              "      background-color: #E8F0FE;\n",
              "      border: none;\n",
              "      border-radius: 50%;\n",
              "      cursor: pointer;\n",
              "      display: none;\n",
              "      fill: #1967D2;\n",
              "      height: 32px;\n",
              "      padding: 0 0 0 0;\n",
              "      width: 32px;\n",
              "    }\n",
              "\n",
              "    .colab-df-convert:hover {\n",
              "      background-color: #E2EBFA;\n",
              "      box-shadow: 0px 1px 2px rgba(60, 64, 67, 0.3), 0px 1px 3px 1px rgba(60, 64, 67, 0.15);\n",
              "      fill: #174EA6;\n",
              "    }\n",
              "\n",
              "    [theme=dark] .colab-df-convert {\n",
              "      background-color: #3B4455;\n",
              "      fill: #D2E3FC;\n",
              "    }\n",
              "\n",
              "    [theme=dark] .colab-df-convert:hover {\n",
              "      background-color: #434B5C;\n",
              "      box-shadow: 0px 1px 3px 1px rgba(0, 0, 0, 0.15);\n",
              "      filter: drop-shadow(0px 1px 2px rgba(0, 0, 0, 0.3));\n",
              "      fill: #FFFFFF;\n",
              "    }\n",
              "  </style>\n",
              "\n",
              "      <script>\n",
              "        const buttonEl =\n",
              "          document.querySelector('#df-08c7d7a1-e1ac-4c1c-b159-db10b6e741b1 button.colab-df-convert');\n",
              "        buttonEl.style.display =\n",
              "          google.colab.kernel.accessAllowed ? 'block' : 'none';\n",
              "\n",
              "        async function convertToInteractive(key) {\n",
              "          const element = document.querySelector('#df-08c7d7a1-e1ac-4c1c-b159-db10b6e741b1');\n",
              "          const dataTable =\n",
              "            await google.colab.kernel.invokeFunction('convertToInteractive',\n",
              "                                                     [key], {});\n",
              "          if (!dataTable) return;\n",
              "\n",
              "          const docLinkHtml = 'Like what you see? Visit the ' +\n",
              "            '<a target=\"_blank\" href=https://colab.research.google.com/notebooks/data_table.ipynb>data table notebook</a>'\n",
              "            + ' to learn more about interactive tables.';\n",
              "          element.innerHTML = '';\n",
              "          dataTable['output_type'] = 'display_data';\n",
              "          await google.colab.output.renderOutput(dataTable, element);\n",
              "          const docLink = document.createElement('div');\n",
              "          docLink.innerHTML = docLinkHtml;\n",
              "          element.appendChild(docLink);\n",
              "        }\n",
              "      </script>\n",
              "    </div>\n",
              "  </div>\n",
              "  "
            ]
          },
          "metadata": {},
          "execution_count": 2
        }
      ]
    },
    {
      "cell_type": "markdown",
      "source": [
        "## 1.Please do the basic exploration of data and explain all datatypes (nominal, ordinal, discrete or continuous)"
      ],
      "metadata": {
        "id": "aAT9jfby5Sp7"
      }
    },
    {
      "cell_type": "markdown",
      "source": [
        "# Basic exploration of data"
      ],
      "metadata": {
        "id": "1FfWGBkOIfHL"
      }
    },
    {
      "cell_type": "code",
      "source": [
        "df.shape  # no. of rows and columns"
      ],
      "metadata": {
        "colab": {
          "base_uri": "https://localhost:8080/"
        },
        "id": "_prZJwuuIWfS",
        "outputId": "e7c1f02b-4b84-4084-e1c7-90c81b1b06d2"
      },
      "execution_count": 3,
      "outputs": [
        {
          "output_type": "execute_result",
          "data": {
            "text/plain": [
              "(768, 9)"
            ]
          },
          "metadata": {},
          "execution_count": 3
        }
      ]
    },
    {
      "cell_type": "code",
      "source": [
        "df.columns # all names of columns"
      ],
      "metadata": {
        "colab": {
          "base_uri": "https://localhost:8080/"
        },
        "id": "s4x_VZa_Ip8v",
        "outputId": "84ab27a4-08ad-48de-813b-4c87220123a2"
      },
      "execution_count": 4,
      "outputs": [
        {
          "output_type": "execute_result",
          "data": {
            "text/plain": [
              "Index(['Pregnancies', 'Glucose', 'BloodPressure', 'SkinThickness', 'Insulin',\n",
              "       'BMI', 'DiabetesPedigreeFunction', 'Age', 'Outcome'],\n",
              "      dtype='object')"
            ]
          },
          "metadata": {},
          "execution_count": 4
        }
      ]
    },
    {
      "cell_type": "code",
      "source": [
        "df.info()"
      ],
      "metadata": {
        "colab": {
          "base_uri": "https://localhost:8080/"
        },
        "id": "B56jPMt8IuYL",
        "outputId": "78844cd4-8fcd-4b13-b6f3-2628e2cbbe65"
      },
      "execution_count": 5,
      "outputs": [
        {
          "output_type": "stream",
          "name": "stdout",
          "text": [
            "<class 'pandas.core.frame.DataFrame'>\n",
            "RangeIndex: 768 entries, 0 to 767\n",
            "Data columns (total 9 columns):\n",
            " #   Column                    Non-Null Count  Dtype  \n",
            "---  ------                    --------------  -----  \n",
            " 0   Pregnancies               768 non-null    int64  \n",
            " 1   Glucose                   768 non-null    int64  \n",
            " 2   BloodPressure             768 non-null    int64  \n",
            " 3   SkinThickness             768 non-null    int64  \n",
            " 4   Insulin                   768 non-null    int64  \n",
            " 5   BMI                       768 non-null    float64\n",
            " 6   DiabetesPedigreeFunction  768 non-null    float64\n",
            " 7   Age                       768 non-null    int64  \n",
            " 8   Outcome                   768 non-null    int64  \n",
            "dtypes: float64(2), int64(7)\n",
            "memory usage: 54.1 KB\n"
          ]
        }
      ]
    },
    {
      "cell_type": "markdown",
      "source": [
        "### Explaining data types\n",
        "Here from above function, there are 2 types of datatypes.float and integer.all columns are numerical.\n",
        "\n",
        "0. pregnencies can count, so its datatype is discrete int64.\n",
        "1. glucose value can have continuous value, so its data type is floatt64.\n",
        "2. Blood pressure can have continuous value, so it is continuous,convert to float64.\n",
        "3. Skin thickness is can be continuous, beacuse we measure it , so its data type is float64.\n",
        "4. Insulin can be continuous, so its data type is float64.\n",
        "5. BMI has continuous value, so its datatype is float.\n",
        "6.Diabetes pedigree function is also continuous value, so its data type is float.\n",
        "7. Age can be continous ,so float64.\n",
        "8. outcome is nominal,it should be category as diabetic or non diabetic. so we have to convert its datatype."
      ],
      "metadata": {
        "id": "pUsX1FoEI6uJ"
      }
    },
    {
      "cell_type": "markdown",
      "source": [
        "#### Converting datatype of outcome"
      ],
      "metadata": {
        "id": "aM4fB_TdJml8"
      }
    },
    {
      "cell_type": "code",
      "source": [
        "d=df[['Age','Glucose','BloodPressure','SkinThickness','Insulin']]\n",
        "for col in d:\n",
        "  df[col]=df[col].astype('float')\n"
      ],
      "metadata": {
        "id": "tJ3721f8nIdm"
      },
      "execution_count": 7,
      "outputs": []
    },
    {
      "cell_type": "code",
      "source": [
        "df['Outcome']=df['Outcome'].astype('category') # converting ino category\n",
        "df.info()  # again check data types "
      ],
      "metadata": {
        "colab": {
          "base_uri": "https://localhost:8080/"
        },
        "id": "dTzKli0EIxWd",
        "outputId": "c473f5e8-839d-40f1-af7d-f199bbe29b0a"
      },
      "execution_count": 8,
      "outputs": [
        {
          "output_type": "stream",
          "name": "stdout",
          "text": [
            "<class 'pandas.core.frame.DataFrame'>\n",
            "RangeIndex: 768 entries, 0 to 767\n",
            "Data columns (total 9 columns):\n",
            " #   Column                    Non-Null Count  Dtype   \n",
            "---  ------                    --------------  -----   \n",
            " 0   Pregnancies               768 non-null    int64   \n",
            " 1   Glucose                   768 non-null    float64 \n",
            " 2   BloodPressure             768 non-null    float64 \n",
            " 3   SkinThickness             768 non-null    float64 \n",
            " 4   Insulin                   768 non-null    float64 \n",
            " 5   BMI                       768 non-null    float64 \n",
            " 6   DiabetesPedigreeFunction  768 non-null    float64 \n",
            " 7   Age                       768 non-null    float64 \n",
            " 8   Outcome                   768 non-null    category\n",
            "dtypes: category(1), float64(7), int64(1)\n",
            "memory usage: 49.0 KB\n"
          ]
        }
      ]
    },
    {
      "cell_type": "code",
      "source": [
        "df.isnull().count()  # checking null values"
      ],
      "metadata": {
        "colab": {
          "base_uri": "https://localhost:8080/"
        },
        "id": "zxKwh1qiJ-Dw",
        "outputId": "4a324e17-5495-44be-c8df-3b3def8d945a"
      },
      "execution_count": 9,
      "outputs": [
        {
          "output_type": "execute_result",
          "data": {
            "text/plain": [
              "Pregnancies                 768\n",
              "Glucose                     768\n",
              "BloodPressure               768\n",
              "SkinThickness               768\n",
              "Insulin                     768\n",
              "BMI                         768\n",
              "DiabetesPedigreeFunction    768\n",
              "Age                         768\n",
              "Outcome                     768\n",
              "dtype: int64"
            ]
          },
          "metadata": {},
          "execution_count": 9
        }
      ]
    },
    {
      "cell_type": "markdown",
      "source": [
        "## 2. Calculate appropriate measures of central tendency for Glucose and outcome column variable only? Do not give all results\n",
        "Measures of central tendency for glucose and outcome:\n",
        "* mean\n",
        "* median\n",
        "* mode\n",
        "* as outcome is category datatype variable,we dont calculate measure of central tendency to it.it is calculated only for numerical columns.But we can calculate central tendency when outcome is 1 and outcome is 0.For this we need to split data for diabetic and non diabetic.\n",
        "For symmetric data, we calculate measure of central tendency for mean.\n",
        "For unsymmetric data, we calculate measure of central tendency for median."
      ],
      "metadata": {
        "id": "UDwt-PQNNYD3"
      }
    },
    {
      "cell_type": "markdown",
      "source": [
        "## splitting dataset into diabetic and non diabetic"
      ],
      "metadata": {
        "id": "6Jj4_zJiO8RL"
      }
    },
    {
      "cell_type": "code",
      "source": [
        "df_d= df[df['Outcome']==1]   # 1 means diabetic,all outcome 1 values store in df_d\n",
        "df_d.head()  # check 1st 5 rows"
      ],
      "metadata": {
        "colab": {
          "base_uri": "https://localhost:8080/",
          "height": 206
        },
        "id": "LZ5Wm_BmPECE",
        "outputId": "66601e76-2cbc-44ea-c246-d660684cfbd7"
      },
      "execution_count": 10,
      "outputs": [
        {
          "output_type": "execute_result",
          "data": {
            "text/plain": [
              "   Pregnancies  Glucose  BloodPressure  SkinThickness  Insulin   BMI  \\\n",
              "0            6    148.0           72.0           35.0      0.0  33.6   \n",
              "2            8    183.0           64.0            0.0      0.0  23.3   \n",
              "4            0    137.0           40.0           35.0    168.0  43.1   \n",
              "6            3     78.0           50.0           32.0     88.0  31.0   \n",
              "8            2    197.0           70.0           45.0    543.0  30.5   \n",
              "\n",
              "   DiabetesPedigreeFunction   Age Outcome  \n",
              "0                     0.627  50.0       1  \n",
              "2                     0.672  32.0       1  \n",
              "4                     2.288  33.0       1  \n",
              "6                     0.248  26.0       1  \n",
              "8                     0.158  53.0       1  "
            ],
            "text/html": [
              "\n",
              "  <div id=\"df-fcab8b4f-5722-4fba-a149-dd053816f07c\">\n",
              "    <div class=\"colab-df-container\">\n",
              "      <div>\n",
              "<style scoped>\n",
              "    .dataframe tbody tr th:only-of-type {\n",
              "        vertical-align: middle;\n",
              "    }\n",
              "\n",
              "    .dataframe tbody tr th {\n",
              "        vertical-align: top;\n",
              "    }\n",
              "\n",
              "    .dataframe thead th {\n",
              "        text-align: right;\n",
              "    }\n",
              "</style>\n",
              "<table border=\"1\" class=\"dataframe\">\n",
              "  <thead>\n",
              "    <tr style=\"text-align: right;\">\n",
              "      <th></th>\n",
              "      <th>Pregnancies</th>\n",
              "      <th>Glucose</th>\n",
              "      <th>BloodPressure</th>\n",
              "      <th>SkinThickness</th>\n",
              "      <th>Insulin</th>\n",
              "      <th>BMI</th>\n",
              "      <th>DiabetesPedigreeFunction</th>\n",
              "      <th>Age</th>\n",
              "      <th>Outcome</th>\n",
              "    </tr>\n",
              "  </thead>\n",
              "  <tbody>\n",
              "    <tr>\n",
              "      <th>0</th>\n",
              "      <td>6</td>\n",
              "      <td>148.0</td>\n",
              "      <td>72.0</td>\n",
              "      <td>35.0</td>\n",
              "      <td>0.0</td>\n",
              "      <td>33.6</td>\n",
              "      <td>0.627</td>\n",
              "      <td>50.0</td>\n",
              "      <td>1</td>\n",
              "    </tr>\n",
              "    <tr>\n",
              "      <th>2</th>\n",
              "      <td>8</td>\n",
              "      <td>183.0</td>\n",
              "      <td>64.0</td>\n",
              "      <td>0.0</td>\n",
              "      <td>0.0</td>\n",
              "      <td>23.3</td>\n",
              "      <td>0.672</td>\n",
              "      <td>32.0</td>\n",
              "      <td>1</td>\n",
              "    </tr>\n",
              "    <tr>\n",
              "      <th>4</th>\n",
              "      <td>0</td>\n",
              "      <td>137.0</td>\n",
              "      <td>40.0</td>\n",
              "      <td>35.0</td>\n",
              "      <td>168.0</td>\n",
              "      <td>43.1</td>\n",
              "      <td>2.288</td>\n",
              "      <td>33.0</td>\n",
              "      <td>1</td>\n",
              "    </tr>\n",
              "    <tr>\n",
              "      <th>6</th>\n",
              "      <td>3</td>\n",
              "      <td>78.0</td>\n",
              "      <td>50.0</td>\n",
              "      <td>32.0</td>\n",
              "      <td>88.0</td>\n",
              "      <td>31.0</td>\n",
              "      <td>0.248</td>\n",
              "      <td>26.0</td>\n",
              "      <td>1</td>\n",
              "    </tr>\n",
              "    <tr>\n",
              "      <th>8</th>\n",
              "      <td>2</td>\n",
              "      <td>197.0</td>\n",
              "      <td>70.0</td>\n",
              "      <td>45.0</td>\n",
              "      <td>543.0</td>\n",
              "      <td>30.5</td>\n",
              "      <td>0.158</td>\n",
              "      <td>53.0</td>\n",
              "      <td>1</td>\n",
              "    </tr>\n",
              "  </tbody>\n",
              "</table>\n",
              "</div>\n",
              "      <button class=\"colab-df-convert\" onclick=\"convertToInteractive('df-fcab8b4f-5722-4fba-a149-dd053816f07c')\"\n",
              "              title=\"Convert this dataframe to an interactive table.\"\n",
              "              style=\"display:none;\">\n",
              "        \n",
              "  <svg xmlns=\"http://www.w3.org/2000/svg\" height=\"24px\"viewBox=\"0 0 24 24\"\n",
              "       width=\"24px\">\n",
              "    <path d=\"M0 0h24v24H0V0z\" fill=\"none\"/>\n",
              "    <path d=\"M18.56 5.44l.94 2.06.94-2.06 2.06-.94-2.06-.94-.94-2.06-.94 2.06-2.06.94zm-11 1L8.5 8.5l.94-2.06 2.06-.94-2.06-.94L8.5 2.5l-.94 2.06-2.06.94zm10 10l.94 2.06.94-2.06 2.06-.94-2.06-.94-.94-2.06-.94 2.06-2.06.94z\"/><path d=\"M17.41 7.96l-1.37-1.37c-.4-.4-.92-.59-1.43-.59-.52 0-1.04.2-1.43.59L10.3 9.45l-7.72 7.72c-.78.78-.78 2.05 0 2.83L4 21.41c.39.39.9.59 1.41.59.51 0 1.02-.2 1.41-.59l7.78-7.78 2.81-2.81c.8-.78.8-2.07 0-2.86zM5.41 20L4 18.59l7.72-7.72 1.47 1.35L5.41 20z\"/>\n",
              "  </svg>\n",
              "      </button>\n",
              "      \n",
              "  <style>\n",
              "    .colab-df-container {\n",
              "      display:flex;\n",
              "      flex-wrap:wrap;\n",
              "      gap: 12px;\n",
              "    }\n",
              "\n",
              "    .colab-df-convert {\n",
              "      background-color: #E8F0FE;\n",
              "      border: none;\n",
              "      border-radius: 50%;\n",
              "      cursor: pointer;\n",
              "      display: none;\n",
              "      fill: #1967D2;\n",
              "      height: 32px;\n",
              "      padding: 0 0 0 0;\n",
              "      width: 32px;\n",
              "    }\n",
              "\n",
              "    .colab-df-convert:hover {\n",
              "      background-color: #E2EBFA;\n",
              "      box-shadow: 0px 1px 2px rgba(60, 64, 67, 0.3), 0px 1px 3px 1px rgba(60, 64, 67, 0.15);\n",
              "      fill: #174EA6;\n",
              "    }\n",
              "\n",
              "    [theme=dark] .colab-df-convert {\n",
              "      background-color: #3B4455;\n",
              "      fill: #D2E3FC;\n",
              "    }\n",
              "\n",
              "    [theme=dark] .colab-df-convert:hover {\n",
              "      background-color: #434B5C;\n",
              "      box-shadow: 0px 1px 3px 1px rgba(0, 0, 0, 0.15);\n",
              "      filter: drop-shadow(0px 1px 2px rgba(0, 0, 0, 0.3));\n",
              "      fill: #FFFFFF;\n",
              "    }\n",
              "  </style>\n",
              "\n",
              "      <script>\n",
              "        const buttonEl =\n",
              "          document.querySelector('#df-fcab8b4f-5722-4fba-a149-dd053816f07c button.colab-df-convert');\n",
              "        buttonEl.style.display =\n",
              "          google.colab.kernel.accessAllowed ? 'block' : 'none';\n",
              "\n",
              "        async function convertToInteractive(key) {\n",
              "          const element = document.querySelector('#df-fcab8b4f-5722-4fba-a149-dd053816f07c');\n",
              "          const dataTable =\n",
              "            await google.colab.kernel.invokeFunction('convertToInteractive',\n",
              "                                                     [key], {});\n",
              "          if (!dataTable) return;\n",
              "\n",
              "          const docLinkHtml = 'Like what you see? Visit the ' +\n",
              "            '<a target=\"_blank\" href=https://colab.research.google.com/notebooks/data_table.ipynb>data table notebook</a>'\n",
              "            + ' to learn more about interactive tables.';\n",
              "          element.innerHTML = '';\n",
              "          dataTable['output_type'] = 'display_data';\n",
              "          await google.colab.output.renderOutput(dataTable, element);\n",
              "          const docLink = document.createElement('div');\n",
              "          docLink.innerHTML = docLinkHtml;\n",
              "          element.appendChild(docLink);\n",
              "        }\n",
              "      </script>\n",
              "    </div>\n",
              "  </div>\n",
              "  "
            ]
          },
          "metadata": {},
          "execution_count": 10
        }
      ]
    },
    {
      "cell_type": "code",
      "source": [
        "df_non= df[df['Outcome']==0]   # 0 means non diabetic,all outcome 0 values store in df_non\n",
        "df_non.head()  # check 1st 5 rows"
      ],
      "metadata": {
        "colab": {
          "base_uri": "https://localhost:8080/",
          "height": 206
        },
        "id": "ETVGWjoBPD_J",
        "outputId": "95e537d5-7838-477a-8451-1e05d126c8c5"
      },
      "execution_count": 11,
      "outputs": [
        {
          "output_type": "execute_result",
          "data": {
            "text/plain": [
              "    Pregnancies  Glucose  BloodPressure  SkinThickness  Insulin   BMI  \\\n",
              "1             1     85.0           66.0           29.0      0.0  26.6   \n",
              "3             1     89.0           66.0           23.0     94.0  28.1   \n",
              "5             5    116.0           74.0            0.0      0.0  25.6   \n",
              "7            10    115.0            0.0            0.0      0.0  35.3   \n",
              "10            4    110.0           92.0            0.0      0.0  37.6   \n",
              "\n",
              "    DiabetesPedigreeFunction   Age Outcome  \n",
              "1                      0.351  31.0       0  \n",
              "3                      0.167  21.0       0  \n",
              "5                      0.201  30.0       0  \n",
              "7                      0.134  29.0       0  \n",
              "10                     0.191  30.0       0  "
            ],
            "text/html": [
              "\n",
              "  <div id=\"df-b6cc4643-680c-414d-976b-468ba2858f96\">\n",
              "    <div class=\"colab-df-container\">\n",
              "      <div>\n",
              "<style scoped>\n",
              "    .dataframe tbody tr th:only-of-type {\n",
              "        vertical-align: middle;\n",
              "    }\n",
              "\n",
              "    .dataframe tbody tr th {\n",
              "        vertical-align: top;\n",
              "    }\n",
              "\n",
              "    .dataframe thead th {\n",
              "        text-align: right;\n",
              "    }\n",
              "</style>\n",
              "<table border=\"1\" class=\"dataframe\">\n",
              "  <thead>\n",
              "    <tr style=\"text-align: right;\">\n",
              "      <th></th>\n",
              "      <th>Pregnancies</th>\n",
              "      <th>Glucose</th>\n",
              "      <th>BloodPressure</th>\n",
              "      <th>SkinThickness</th>\n",
              "      <th>Insulin</th>\n",
              "      <th>BMI</th>\n",
              "      <th>DiabetesPedigreeFunction</th>\n",
              "      <th>Age</th>\n",
              "      <th>Outcome</th>\n",
              "    </tr>\n",
              "  </thead>\n",
              "  <tbody>\n",
              "    <tr>\n",
              "      <th>1</th>\n",
              "      <td>1</td>\n",
              "      <td>85.0</td>\n",
              "      <td>66.0</td>\n",
              "      <td>29.0</td>\n",
              "      <td>0.0</td>\n",
              "      <td>26.6</td>\n",
              "      <td>0.351</td>\n",
              "      <td>31.0</td>\n",
              "      <td>0</td>\n",
              "    </tr>\n",
              "    <tr>\n",
              "      <th>3</th>\n",
              "      <td>1</td>\n",
              "      <td>89.0</td>\n",
              "      <td>66.0</td>\n",
              "      <td>23.0</td>\n",
              "      <td>94.0</td>\n",
              "      <td>28.1</td>\n",
              "      <td>0.167</td>\n",
              "      <td>21.0</td>\n",
              "      <td>0</td>\n",
              "    </tr>\n",
              "    <tr>\n",
              "      <th>5</th>\n",
              "      <td>5</td>\n",
              "      <td>116.0</td>\n",
              "      <td>74.0</td>\n",
              "      <td>0.0</td>\n",
              "      <td>0.0</td>\n",
              "      <td>25.6</td>\n",
              "      <td>0.201</td>\n",
              "      <td>30.0</td>\n",
              "      <td>0</td>\n",
              "    </tr>\n",
              "    <tr>\n",
              "      <th>7</th>\n",
              "      <td>10</td>\n",
              "      <td>115.0</td>\n",
              "      <td>0.0</td>\n",
              "      <td>0.0</td>\n",
              "      <td>0.0</td>\n",
              "      <td>35.3</td>\n",
              "      <td>0.134</td>\n",
              "      <td>29.0</td>\n",
              "      <td>0</td>\n",
              "    </tr>\n",
              "    <tr>\n",
              "      <th>10</th>\n",
              "      <td>4</td>\n",
              "      <td>110.0</td>\n",
              "      <td>92.0</td>\n",
              "      <td>0.0</td>\n",
              "      <td>0.0</td>\n",
              "      <td>37.6</td>\n",
              "      <td>0.191</td>\n",
              "      <td>30.0</td>\n",
              "      <td>0</td>\n",
              "    </tr>\n",
              "  </tbody>\n",
              "</table>\n",
              "</div>\n",
              "      <button class=\"colab-df-convert\" onclick=\"convertToInteractive('df-b6cc4643-680c-414d-976b-468ba2858f96')\"\n",
              "              title=\"Convert this dataframe to an interactive table.\"\n",
              "              style=\"display:none;\">\n",
              "        \n",
              "  <svg xmlns=\"http://www.w3.org/2000/svg\" height=\"24px\"viewBox=\"0 0 24 24\"\n",
              "       width=\"24px\">\n",
              "    <path d=\"M0 0h24v24H0V0z\" fill=\"none\"/>\n",
              "    <path d=\"M18.56 5.44l.94 2.06.94-2.06 2.06-.94-2.06-.94-.94-2.06-.94 2.06-2.06.94zm-11 1L8.5 8.5l.94-2.06 2.06-.94-2.06-.94L8.5 2.5l-.94 2.06-2.06.94zm10 10l.94 2.06.94-2.06 2.06-.94-2.06-.94-.94-2.06-.94 2.06-2.06.94z\"/><path d=\"M17.41 7.96l-1.37-1.37c-.4-.4-.92-.59-1.43-.59-.52 0-1.04.2-1.43.59L10.3 9.45l-7.72 7.72c-.78.78-.78 2.05 0 2.83L4 21.41c.39.39.9.59 1.41.59.51 0 1.02-.2 1.41-.59l7.78-7.78 2.81-2.81c.8-.78.8-2.07 0-2.86zM5.41 20L4 18.59l7.72-7.72 1.47 1.35L5.41 20z\"/>\n",
              "  </svg>\n",
              "      </button>\n",
              "      \n",
              "  <style>\n",
              "    .colab-df-container {\n",
              "      display:flex;\n",
              "      flex-wrap:wrap;\n",
              "      gap: 12px;\n",
              "    }\n",
              "\n",
              "    .colab-df-convert {\n",
              "      background-color: #E8F0FE;\n",
              "      border: none;\n",
              "      border-radius: 50%;\n",
              "      cursor: pointer;\n",
              "      display: none;\n",
              "      fill: #1967D2;\n",
              "      height: 32px;\n",
              "      padding: 0 0 0 0;\n",
              "      width: 32px;\n",
              "    }\n",
              "\n",
              "    .colab-df-convert:hover {\n",
              "      background-color: #E2EBFA;\n",
              "      box-shadow: 0px 1px 2px rgba(60, 64, 67, 0.3), 0px 1px 3px 1px rgba(60, 64, 67, 0.15);\n",
              "      fill: #174EA6;\n",
              "    }\n",
              "\n",
              "    [theme=dark] .colab-df-convert {\n",
              "      background-color: #3B4455;\n",
              "      fill: #D2E3FC;\n",
              "    }\n",
              "\n",
              "    [theme=dark] .colab-df-convert:hover {\n",
              "      background-color: #434B5C;\n",
              "      box-shadow: 0px 1px 3px 1px rgba(0, 0, 0, 0.15);\n",
              "      filter: drop-shadow(0px 1px 2px rgba(0, 0, 0, 0.3));\n",
              "      fill: #FFFFFF;\n",
              "    }\n",
              "  </style>\n",
              "\n",
              "      <script>\n",
              "        const buttonEl =\n",
              "          document.querySelector('#df-b6cc4643-680c-414d-976b-468ba2858f96 button.colab-df-convert');\n",
              "        buttonEl.style.display =\n",
              "          google.colab.kernel.accessAllowed ? 'block' : 'none';\n",
              "\n",
              "        async function convertToInteractive(key) {\n",
              "          const element = document.querySelector('#df-b6cc4643-680c-414d-976b-468ba2858f96');\n",
              "          const dataTable =\n",
              "            await google.colab.kernel.invokeFunction('convertToInteractive',\n",
              "                                                     [key], {});\n",
              "          if (!dataTable) return;\n",
              "\n",
              "          const docLinkHtml = 'Like what you see? Visit the ' +\n",
              "            '<a target=\"_blank\" href=https://colab.research.google.com/notebooks/data_table.ipynb>data table notebook</a>'\n",
              "            + ' to learn more about interactive tables.';\n",
              "          element.innerHTML = '';\n",
              "          dataTable['output_type'] = 'display_data';\n",
              "          await google.colab.output.renderOutput(dataTable, element);\n",
              "          const docLink = document.createElement('div');\n",
              "          docLink.innerHTML = docLinkHtml;\n",
              "          element.appendChild(docLink);\n",
              "        }\n",
              "      </script>\n",
              "    </div>\n",
              "  </div>\n",
              "  "
            ]
          },
          "metadata": {},
          "execution_count": 11
        }
      ]
    },
    {
      "cell_type": "markdown",
      "source": [
        "## measures of central tendency for diabetic patients"
      ],
      "metadata": {
        "id": "YE4OulJUQErg"
      }
    },
    {
      "cell_type": "code",
      "source": [
        "df_d['Glucose'].hist()"
      ],
      "metadata": {
        "colab": {
          "base_uri": "https://localhost:8080/",
          "height": 282
        },
        "id": "R7rPYGwUpRW2",
        "outputId": "f15e29cc-65f3-41c5-f6af-fcb69d0982cf"
      },
      "execution_count": 12,
      "outputs": [
        {
          "output_type": "execute_result",
          "data": {
            "text/plain": [
              "<matplotlib.axes._subplots.AxesSubplot at 0x7f312301a250>"
            ]
          },
          "metadata": {},
          "execution_count": 12
        },
        {
          "output_type": "display_data",
          "data": {
            "text/plain": [
              "<Figure size 432x288 with 1 Axes>"
            ],
            "image/png": "[encoded data removed]"
          },
          "metadata": {
            "needs_background": "light"
          }
        }
      ]
    },
    {
      "cell_type": "code",
      "source": [
        "df_d['Glucose'].skew()"
      ],
      "metadata": {
        "colab": {
          "base_uri": "https://localhost:8080/"
        },
        "id": "Cj3hd84ZqNA5",
        "outputId": "b4f3680e-0b2b-4df6-eb17-eb27f9f3e69b"
      },
      "execution_count": 17,
      "outputs": [
        {
          "output_type": "execute_result",
          "data": {
            "text/plain": [
              "-0.49555709300308276"
            ]
          },
          "metadata": {},
          "execution_count": 17
        }
      ]
    },
    {
      "cell_type": "markdown",
      "source": [
        "it looks almost unskewed data,because skew value is less than 0.5.so we have to calculate measure of central tendency is mean.\n"
      ],
      "metadata": {
        "id": "D8Ackl-hpadT"
      }
    },
    {
      "cell_type": "code",
      "source": [
        "\n",
        "print('mean for diabetic:', df_d['Glucose'].mean())\n"
      ],
      "metadata": {
        "colab": {
          "base_uri": "https://localhost:8080/"
        },
        "id": "vfOMf5PhPD8K",
        "outputId": "187bb314-1021-4103-8b80-60c53cf1f70c"
      },
      "execution_count": 18,
      "outputs": [
        {
          "output_type": "stream",
          "name": "stdout",
          "text": [
            "mean for diabetic: 141.25746268656715\n"
          ]
        }
      ]
    },
    {
      "cell_type": "markdown",
      "source": [
        "## measures of central tendency for non diabetic patients"
      ],
      "metadata": {
        "id": "V8r0TYr0QMmL"
      }
    },
    {
      "cell_type": "code",
      "source": [
        "df_non['Glucose'].hist()"
      ],
      "metadata": {
        "colab": {
          "base_uri": "https://localhost:8080/",
          "height": 282
        },
        "id": "Kzci8xhwptJ3",
        "outputId": "78d548b0-261f-49af-c82b-d3b5510f614a"
      },
      "execution_count": 14,
      "outputs": [
        {
          "output_type": "execute_result",
          "data": {
            "text/plain": [
              "<matplotlib.axes._subplots.AxesSubplot at 0x7f31229d2510>"
            ]
          },
          "metadata": {},
          "execution_count": 14
        },
        {
          "output_type": "display_data",
          "data": {
            "text/plain": [
              "<Figure size 432x288 with 1 Axes>"
            ],
            "image/png": "[encoded data removed]"
          },
          "metadata": {
            "needs_background": "light"
          }
        }
      ]
    },
    {
      "cell_type": "code",
      "source": [
        "df_non['Glucose'].skew()"
      ],
      "metadata": {
        "colab": {
          "base_uri": "https://localhost:8080/"
        },
        "id": "n_l_23x-p7Ag",
        "outputId": "8eb10a86-92a7-4204-e74d-6fddb1478d57"
      },
      "execution_count": 15,
      "outputs": [
        {
          "output_type": "execute_result",
          "data": {
            "text/plain": [
              "0.1731111204325696"
            ]
          },
          "metadata": {},
          "execution_count": 15
        }
      ]
    },
    {
      "cell_type": "markdown",
      "source": [
        "it looks almost symmetrical,so we have to calculate measure of central tendency for mean"
      ],
      "metadata": {
        "id": "EZwWROVYpzmJ"
      }
    },
    {
      "cell_type": "code",
      "source": [
        "print('mean for diabetic:', df_non['Glucose'].mean())\n"
      ],
      "metadata": {
        "colab": {
          "base_uri": "https://localhost:8080/"
        },
        "id": "_LJbstDVPD6W",
        "outputId": "3549d9fa-e938-4989-a72f-1d23ad5fd74f"
      },
      "execution_count": 16,
      "outputs": [
        {
          "output_type": "stream",
          "name": "stdout",
          "text": [
            "mean for diabetic: 109.98\n"
          ]
        }
      ]
    },
    {
      "cell_type": "markdown",
      "source": [
        "as outcome is categorical variable, so mean,median,wont exist for it.so we dont calculate measure of central tendency."
      ],
      "metadata": {
        "id": "Nq0K8AoPqjUQ"
      }
    },
    {
      "cell_type": "markdown",
      "source": [
        "## 3.Please provide 5 points data summaries for required columns?\n",
        "we can get 5 points data summaries by describe function.it will apply on numerical columns "
      ],
      "metadata": {
        "id": "TKff2g4wQ5c8"
      }
    },
    {
      "cell_type": "code",
      "source": [
        "df_d.describe()  # data summary for diabetic population"
      ],
      "metadata": {
        "colab": {
          "base_uri": "https://localhost:8080/",
          "height": 344
        },
        "id": "0K7TMjmASQMS",
        "outputId": "ddfec773-e0d4-40b5-ca87-ce847743abea"
      },
      "execution_count": null,
      "outputs": [
        {
          "output_type": "execute_result",
          "data": {
            "text/plain": [
              "       Pregnancies     Glucose  BloodPressure  SkinThickness     Insulin  \\\n",
              "count   268.000000  268.000000     268.000000     268.000000  268.000000   \n",
              "mean      4.865672  141.257463      70.824627      22.164179  100.335821   \n",
              "std       3.741239   31.939622      21.491812      17.679711  138.689125   \n",
              "min       0.000000    0.000000       0.000000       0.000000    0.000000   \n",
              "25%       1.750000  119.000000      66.000000       0.000000    0.000000   \n",
              "50%       4.000000  140.000000      74.000000      27.000000    0.000000   \n",
              "75%       8.000000  167.000000      82.000000      36.000000  167.250000   \n",
              "max      17.000000  199.000000     114.000000      99.000000  846.000000   \n",
              "\n",
              "              BMI  DiabetesPedigreeFunction         Age  \n",
              "count  268.000000                268.000000  268.000000  \n",
              "mean    35.142537                  0.550500   37.067164  \n",
              "std      7.262967                  0.372354   10.968254  \n",
              "min      0.000000                  0.088000   21.000000  \n",
              "25%     30.800000                  0.262500   28.000000  \n",
              "50%     34.250000                  0.449000   36.000000  \n",
              "75%     38.775000                  0.728000   44.000000  \n",
              "max     67.100000                  2.420000   70.000000  "
            ],
            "text/html": [
              "\n",
              "  <div id=\"df-2eeccbfa-c787-4454-867e-9166a7e88410\">\n",
              "    <div class=\"colab-df-container\">\n",
              "      <div>\n",
              "<style scoped>\n",
              "    .dataframe tbody tr th:only-of-type {\n",
              "        vertical-align: middle;\n",
              "    }\n",
              "\n",
              "    .dataframe tbody tr th {\n",
              "        vertical-align: top;\n",
              "    }\n",
              "\n",
              "    .dataframe thead th {\n",
              "        text-align: right;\n",
              "    }\n",
              "</style>\n",
              "<table border=\"1\" class=\"dataframe\">\n",
              "  <thead>\n",
              "    <tr style=\"text-align: right;\">\n",
              "      <th></th>\n",
              "      <th>Pregnancies</th>\n",
              "      <th>Glucose</th>\n",
              "      <th>BloodPressure</th>\n",
              "      <th>SkinThickness</th>\n",
              "      <th>Insulin</th>\n",
              "      <th>BMI</th>\n",
              "      <th>DiabetesPedigreeFunction</th>\n",
              "      <th>Age</th>\n",
              "    </tr>\n",
              "  </thead>\n",
              "  <tbody>\n",
              "    <tr>\n",
              "      <th>count</th>\n",
              "      <td>268.000000</td>\n",
              "      <td>268.000000</td>\n",
              "      <td>268.000000</td>\n",
              "      <td>268.000000</td>\n",
              "      <td>268.000000</td>\n",
              "      <td>268.000000</td>\n",
              "      <td>268.000000</td>\n",
              "      <td>268.000000</td>\n",
              "    </tr>\n",
              "    <tr>\n",
              "      <th>mean</th>\n",
              "      <td>4.865672</td>\n",
              "      <td>141.257463</td>\n",
              "      <td>70.824627</td>\n",
              "      <td>22.164179</td>\n",
              "      <td>100.335821</td>\n",
              "      <td>35.142537</td>\n",
              "      <td>0.550500</td>\n",
              "      <td>37.067164</td>\n",
              "    </tr>\n",
              "    <tr>\n",
              "      <th>std</th>\n",
              "      <td>3.741239</td>\n",
              "      <td>31.939622</td>\n",
              "      <td>21.491812</td>\n",
              "      <td>17.679711</td>\n",
              "      <td>138.689125</td>\n",
              "      <td>7.262967</td>\n",
              "      <td>0.372354</td>\n",
              "      <td>10.968254</td>\n",
              "    </tr>\n",
              "    <tr>\n",
              "      <th>min</th>\n",
              "      <td>0.000000</td>\n",
              "      <td>0.000000</td>\n",
              "      <td>0.000000</td>\n",
              "      <td>0.000000</td>\n",
              "      <td>0.000000</td>\n",
              "      <td>0.000000</td>\n",
              "      <td>0.088000</td>\n",
              "      <td>21.000000</td>\n",
              "    </tr>\n",
              "    <tr>\n",
              "      <th>25%</th>\n",
              "      <td>1.750000</td>\n",
              "      <td>119.000000</td>\n",
              "      <td>66.000000</td>\n",
              "      <td>0.000000</td>\n",
              "      <td>0.000000</td>\n",
              "      <td>30.800000</td>\n",
              "      <td>0.262500</td>\n",
              "      <td>28.000000</td>\n",
              "    </tr>\n",
              "    <tr>\n",
              "      <th>50%</th>\n",
              "      <td>4.000000</td>\n",
              "      <td>140.000000</td>\n",
              "      <td>74.000000</td>\n",
              "      <td>27.000000</td>\n",
              "      <td>0.000000</td>\n",
              "      <td>34.250000</td>\n",
              "      <td>0.449000</td>\n",
              "      <td>36.000000</td>\n",
              "    </tr>\n",
              "    <tr>\n",
              "      <th>75%</th>\n",
              "      <td>8.000000</td>\n",
              "      <td>167.000000</td>\n",
              "      <td>82.000000</td>\n",
              "      <td>36.000000</td>\n",
              "      <td>167.250000</td>\n",
              "      <td>38.775000</td>\n",
              "      <td>0.728000</td>\n",
              "      <td>44.000000</td>\n",
              "    </tr>\n",
              "    <tr>\n",
              "      <th>max</th>\n",
              "      <td>17.000000</td>\n",
              "      <td>199.000000</td>\n",
              "      <td>114.000000</td>\n",
              "      <td>99.000000</td>\n",
              "      <td>846.000000</td>\n",
              "      <td>67.100000</td>\n",
              "      <td>2.420000</td>\n",
              "      <td>70.000000</td>\n",
              "    </tr>\n",
              "  </tbody>\n",
              "</table>\n",
              "</div>\n",
              "      <button class=\"colab-df-convert\" onclick=\"convertToInteractive('df-2eeccbfa-c787-4454-867e-9166a7e88410')\"\n",
              "              title=\"Convert this dataframe to an interactive table.\"\n",
              "              style=\"display:none;\">\n",
              "        \n",
              "  <svg xmlns=\"http://www.w3.org/2000/svg\" height=\"24px\"viewBox=\"0 0 24 24\"\n",
              "       width=\"24px\">\n",
              "    <path d=\"M0 0h24v24H0V0z\" fill=\"none\"/>\n",
              "    <path d=\"M18.56 5.44l.94 2.06.94-2.06 2.06-.94-2.06-.94-.94-2.06-.94 2.06-2.06.94zm-11 1L8.5 8.5l.94-2.06 2.06-.94-2.06-.94L8.5 2.5l-.94 2.06-2.06.94zm10 10l.94 2.06.94-2.06 2.06-.94-2.06-.94-.94-2.06-.94 2.06-2.06.94z\"/><path d=\"M17.41 7.96l-1.37-1.37c-.4-.4-.92-.59-1.43-.59-.52 0-1.04.2-1.43.59L10.3 9.45l-7.72 7.72c-.78.78-.78 2.05 0 2.83L4 21.41c.39.39.9.59 1.41.59.51 0 1.02-.2 1.41-.59l7.78-7.78 2.81-2.81c.8-.78.8-2.07 0-2.86zM5.41 20L4 18.59l7.72-7.72 1.47 1.35L5.41 20z\"/>\n",
              "  </svg>\n",
              "      </button>\n",
              "      \n",
              "  <style>\n",
              "    .colab-df-container {\n",
              "      display:flex;\n",
              "      flex-wrap:wrap;\n",
              "      gap: 12px;\n",
              "    }\n",
              "\n",
              "    .colab-df-convert {\n",
              "      background-color: #E8F0FE;\n",
              "      border: none;\n",
              "      border-radius: 50%;\n",
              "      cursor: pointer;\n",
              "      display: none;\n",
              "      fill: #1967D2;\n",
              "      height: 32px;\n",
              "      padding: 0 0 0 0;\n",
              "      width: 32px;\n",
              "    }\n",
              "\n",
              "    .colab-df-convert:hover {\n",
              "      background-color: #E2EBFA;\n",
              "      box-shadow: 0px 1px 2px rgba(60, 64, 67, 0.3), 0px 1px 3px 1px rgba(60, 64, 67, 0.15);\n",
              "      fill: #174EA6;\n",
              "    }\n",
              "\n",
              "    [theme=dark] .colab-df-convert {\n",
              "      background-color: #3B4455;\n",
              "      fill: #D2E3FC;\n",
              "    }\n",
              "\n",
              "    [theme=dark] .colab-df-convert:hover {\n",
              "      background-color: #434B5C;\n",
              "      box-shadow: 0px 1px 3px 1px rgba(0, 0, 0, 0.15);\n",
              "      filter: drop-shadow(0px 1px 2px rgba(0, 0, 0, 0.3));\n",
              "      fill: #FFFFFF;\n",
              "    }\n",
              "  </style>\n",
              "\n",
              "      <script>\n",
              "        const buttonEl =\n",
              "          document.querySelector('#df-2eeccbfa-c787-4454-867e-9166a7e88410 button.colab-df-convert');\n",
              "        buttonEl.style.display =\n",
              "          google.colab.kernel.accessAllowed ? 'block' : 'none';\n",
              "\n",
              "        async function convertToInteractive(key) {\n",
              "          const element = document.querySelector('#df-2eeccbfa-c787-4454-867e-9166a7e88410');\n",
              "          const dataTable =\n",
              "            await google.colab.kernel.invokeFunction('convertToInteractive',\n",
              "                                                     [key], {});\n",
              "          if (!dataTable) return;\n",
              "\n",
              "          const docLinkHtml = 'Like what you see? Visit the ' +\n",
              "            '<a target=\"_blank\" href=https://colab.research.google.com/notebooks/data_table.ipynb>data table notebook</a>'\n",
              "            + ' to learn more about interactive tables.';\n",
              "          element.innerHTML = '';\n",
              "          dataTable['output_type'] = 'display_data';\n",
              "          await google.colab.output.renderOutput(dataTable, element);\n",
              "          const docLink = document.createElement('div');\n",
              "          docLink.innerHTML = docLinkHtml;\n",
              "          element.appendChild(docLink);\n",
              "        }\n",
              "      </script>\n",
              "    </div>\n",
              "  </div>\n",
              "  "
            ]
          },
          "metadata": {},
          "execution_count": 15
        }
      ]
    },
    {
      "cell_type": "markdown",
      "source": [
        "A summary consists of five values: the most extreme values in the data set (the maximum and minimum values), the lower and upper quartiles, and the median. These values are presented together and ordered from lowest to highest: minimum value, lower quartile (Q1), median value (Q2), upper quartile (Q3), maximum value.\n",
        "Here, min is minimum value of numerical columns,max is maximim value of numerical columns,Q1 is 25%,Q2 is 50%, Q3 is 75%."
      ],
      "metadata": {
        "id": "9sjRZPh7lCes"
      }
    },
    {
      "cell_type": "code",
      "source": [
        "df_non.describe()  # data summary for non-diabetic population"
      ],
      "metadata": {
        "id": "PpK-QsEiSP_0",
        "colab": {
          "base_uri": "https://localhost:8080/",
          "height": 344
        },
        "outputId": "c68d36b0-e3a3-4ce7-a07e-832a04cfffd7"
      },
      "execution_count": null,
      "outputs": [
        {
          "output_type": "execute_result",
          "data": {
            "text/plain": [
              "       Pregnancies   Glucose  BloodPressure  SkinThickness     Insulin  \\\n",
              "count   500.000000  500.0000     500.000000     500.000000  500.000000   \n",
              "mean      3.298000  109.9800      68.184000      19.664000   68.792000   \n",
              "std       3.017185   26.1412      18.063075      14.889947   98.865289   \n",
              "min       0.000000    0.0000       0.000000       0.000000    0.000000   \n",
              "25%       1.000000   93.0000      62.000000       0.000000    0.000000   \n",
              "50%       2.000000  107.0000      70.000000      21.000000   39.000000   \n",
              "75%       5.000000  125.0000      78.000000      31.000000  105.000000   \n",
              "max      13.000000  197.0000     122.000000      60.000000  744.000000   \n",
              "\n",
              "              BMI  DiabetesPedigreeFunction         Age  \n",
              "count  500.000000                500.000000  500.000000  \n",
              "mean    30.304200                  0.429734   31.190000  \n",
              "std      7.689855                  0.299085   11.667655  \n",
              "min      0.000000                  0.078000   21.000000  \n",
              "25%     25.400000                  0.229750   23.000000  \n",
              "50%     30.050000                  0.336000   27.000000  \n",
              "75%     35.300000                  0.561750   37.000000  \n",
              "max     57.300000                  2.329000   81.000000  "
            ],
            "text/html": [
              "\n",
              "  <div id=\"df-aac0dada-8b45-4a9d-b789-90e29eca4aa0\">\n",
              "    <div class=\"colab-df-container\">\n",
              "      <div>\n",
              "<style scoped>\n",
              "    .dataframe tbody tr th:only-of-type {\n",
              "        vertical-align: middle;\n",
              "    }\n",
              "\n",
              "    .dataframe tbody tr th {\n",
              "        vertical-align: top;\n",
              "    }\n",
              "\n",
              "    .dataframe thead th {\n",
              "        text-align: right;\n",
              "    }\n",
              "</style>\n",
              "<table border=\"1\" class=\"dataframe\">\n",
              "  <thead>\n",
              "    <tr style=\"text-align: right;\">\n",
              "      <th></th>\n",
              "      <th>Pregnancies</th>\n",
              "      <th>Glucose</th>\n",
              "      <th>BloodPressure</th>\n",
              "      <th>SkinThickness</th>\n",
              "      <th>Insulin</th>\n",
              "      <th>BMI</th>\n",
              "      <th>DiabetesPedigreeFunction</th>\n",
              "      <th>Age</th>\n",
              "    </tr>\n",
              "  </thead>\n",
              "  <tbody>\n",
              "    <tr>\n",
              "      <th>count</th>\n",
              "      <td>500.000000</td>\n",
              "      <td>500.0000</td>\n",
              "      <td>500.000000</td>\n",
              "      <td>500.000000</td>\n",
              "      <td>500.000000</td>\n",
              "      <td>500.000000</td>\n",
              "      <td>500.000000</td>\n",
              "      <td>500.000000</td>\n",
              "    </tr>\n",
              "    <tr>\n",
              "      <th>mean</th>\n",
              "      <td>3.298000</td>\n",
              "      <td>109.9800</td>\n",
              "      <td>68.184000</td>\n",
              "      <td>19.664000</td>\n",
              "      <td>68.792000</td>\n",
              "      <td>30.304200</td>\n",
              "      <td>0.429734</td>\n",
              "      <td>31.190000</td>\n",
              "    </tr>\n",
              "    <tr>\n",
              "      <th>std</th>\n",
              "      <td>3.017185</td>\n",
              "      <td>26.1412</td>\n",
              "      <td>18.063075</td>\n",
              "      <td>14.889947</td>\n",
              "      <td>98.865289</td>\n",
              "      <td>7.689855</td>\n",
              "      <td>0.299085</td>\n",
              "      <td>11.667655</td>\n",
              "    </tr>\n",
              "    <tr>\n",
              "      <th>min</th>\n",
              "      <td>0.000000</td>\n",
              "      <td>0.0000</td>\n",
              "      <td>0.000000</td>\n",
              "      <td>0.000000</td>\n",
              "      <td>0.000000</td>\n",
              "      <td>0.000000</td>\n",
              "      <td>0.078000</td>\n",
              "      <td>21.000000</td>\n",
              "    </tr>\n",
              "    <tr>\n",
              "      <th>25%</th>\n",
              "      <td>1.000000</td>\n",
              "      <td>93.0000</td>\n",
              "      <td>62.000000</td>\n",
              "      <td>0.000000</td>\n",
              "      <td>0.000000</td>\n",
              "      <td>25.400000</td>\n",
              "      <td>0.229750</td>\n",
              "      <td>23.000000</td>\n",
              "    </tr>\n",
              "    <tr>\n",
              "      <th>50%</th>\n",
              "      <td>2.000000</td>\n",
              "      <td>107.0000</td>\n",
              "      <td>70.000000</td>\n",
              "      <td>21.000000</td>\n",
              "      <td>39.000000</td>\n",
              "      <td>30.050000</td>\n",
              "      <td>0.336000</td>\n",
              "      <td>27.000000</td>\n",
              "    </tr>\n",
              "    <tr>\n",
              "      <th>75%</th>\n",
              "      <td>5.000000</td>\n",
              "      <td>125.0000</td>\n",
              "      <td>78.000000</td>\n",
              "      <td>31.000000</td>\n",
              "      <td>105.000000</td>\n",
              "      <td>35.300000</td>\n",
              "      <td>0.561750</td>\n",
              "      <td>37.000000</td>\n",
              "    </tr>\n",
              "    <tr>\n",
              "      <th>max</th>\n",
              "      <td>13.000000</td>\n",
              "      <td>197.0000</td>\n",
              "      <td>122.000000</td>\n",
              "      <td>60.000000</td>\n",
              "      <td>744.000000</td>\n",
              "      <td>57.300000</td>\n",
              "      <td>2.329000</td>\n",
              "      <td>81.000000</td>\n",
              "    </tr>\n",
              "  </tbody>\n",
              "</table>\n",
              "</div>\n",
              "      <button class=\"colab-df-convert\" onclick=\"convertToInteractive('df-aac0dada-8b45-4a9d-b789-90e29eca4aa0')\"\n",
              "              title=\"Convert this dataframe to an interactive table.\"\n",
              "              style=\"display:none;\">\n",
              "        \n",
              "  <svg xmlns=\"http://www.w3.org/2000/svg\" height=\"24px\"viewBox=\"0 0 24 24\"\n",
              "       width=\"24px\">\n",
              "    <path d=\"M0 0h24v24H0V0z\" fill=\"none\"/>\n",
              "    <path d=\"M18.56 5.44l.94 2.06.94-2.06 2.06-.94-2.06-.94-.94-2.06-.94 2.06-2.06.94zm-11 1L8.5 8.5l.94-2.06 2.06-.94-2.06-.94L8.5 2.5l-.94 2.06-2.06.94zm10 10l.94 2.06.94-2.06 2.06-.94-2.06-.94-.94-2.06-.94 2.06-2.06.94z\"/><path d=\"M17.41 7.96l-1.37-1.37c-.4-.4-.92-.59-1.43-.59-.52 0-1.04.2-1.43.59L10.3 9.45l-7.72 7.72c-.78.78-.78 2.05 0 2.83L4 21.41c.39.39.9.59 1.41.59.51 0 1.02-.2 1.41-.59l7.78-7.78 2.81-2.81c.8-.78.8-2.07 0-2.86zM5.41 20L4 18.59l7.72-7.72 1.47 1.35L5.41 20z\"/>\n",
              "  </svg>\n",
              "      </button>\n",
              "      \n",
              "  <style>\n",
              "    .colab-df-container {\n",
              "      display:flex;\n",
              "      flex-wrap:wrap;\n",
              "      gap: 12px;\n",
              "    }\n",
              "\n",
              "    .colab-df-convert {\n",
              "      background-color: #E8F0FE;\n",
              "      border: none;\n",
              "      border-radius: 50%;\n",
              "      cursor: pointer;\n",
              "      display: none;\n",
              "      fill: #1967D2;\n",
              "      height: 32px;\n",
              "      padding: 0 0 0 0;\n",
              "      width: 32px;\n",
              "    }\n",
              "\n",
              "    .colab-df-convert:hover {\n",
              "      background-color: #E2EBFA;\n",
              "      box-shadow: 0px 1px 2px rgba(60, 64, 67, 0.3), 0px 1px 3px 1px rgba(60, 64, 67, 0.15);\n",
              "      fill: #174EA6;\n",
              "    }\n",
              "\n",
              "    [theme=dark] .colab-df-convert {\n",
              "      background-color: #3B4455;\n",
              "      fill: #D2E3FC;\n",
              "    }\n",
              "\n",
              "    [theme=dark] .colab-df-convert:hover {\n",
              "      background-color: #434B5C;\n",
              "      box-shadow: 0px 1px 3px 1px rgba(0, 0, 0, 0.15);\n",
              "      filter: drop-shadow(0px 1px 2px rgba(0, 0, 0, 0.3));\n",
              "      fill: #FFFFFF;\n",
              "    }\n",
              "  </style>\n",
              "\n",
              "      <script>\n",
              "        const buttonEl =\n",
              "          document.querySelector('#df-aac0dada-8b45-4a9d-b789-90e29eca4aa0 button.colab-df-convert');\n",
              "        buttonEl.style.display =\n",
              "          google.colab.kernel.accessAllowed ? 'block' : 'none';\n",
              "\n",
              "        async function convertToInteractive(key) {\n",
              "          const element = document.querySelector('#df-aac0dada-8b45-4a9d-b789-90e29eca4aa0');\n",
              "          const dataTable =\n",
              "            await google.colab.kernel.invokeFunction('convertToInteractive',\n",
              "                                                     [key], {});\n",
              "          if (!dataTable) return;\n",
              "\n",
              "          const docLinkHtml = 'Like what you see? Visit the ' +\n",
              "            '<a target=\"_blank\" href=https://colab.research.google.com/notebooks/data_table.ipynb>data table notebook</a>'\n",
              "            + ' to learn more about interactive tables.';\n",
              "          element.innerHTML = '';\n",
              "          dataTable['output_type'] = 'display_data';\n",
              "          await google.colab.output.renderOutput(dataTable, element);\n",
              "          const docLink = document.createElement('div');\n",
              "          docLink.innerHTML = docLinkHtml;\n",
              "          element.appendChild(docLink);\n",
              "        }\n",
              "      </script>\n",
              "    </div>\n",
              "  </div>\n",
              "  "
            ]
          },
          "metadata": {},
          "execution_count": 16
        }
      ]
    },
    {
      "cell_type": "markdown",
      "source": [
        " ## 4. Please create an appropriate plot to see the distribution of Outcome variable?\n",
        " as outcome is categorical columns, we can create box plot for distribution.so plot for outcome for 0 and 1.here it will give median,min value,max value,25%,75%.here we take numerical column as age"
      ],
      "metadata": {
        "id": "BbQJ3jENSSRO"
      }
    },
    {
      "cell_type": "code",
      "source": [
        "\n",
        "sns.boxplot(x= df['Outcome'],y=df['Age']) # for diabetic & non diabetic"
      ],
      "metadata": {
        "colab": {
          "base_uri": "https://localhost:8080/",
          "height": 296
        },
        "id": "RzdEoK1XOXpw",
        "outputId": "48ffd0f7-c64f-477d-e7b5-739de070740a"
      },
      "execution_count": 34,
      "outputs": [
        {
          "output_type": "execute_result",
          "data": {
            "text/plain": [
              "<matplotlib.axes._subplots.AxesSubplot at 0x7f31222bd1d0>"
            ]
          },
          "metadata": {},
          "execution_count": 34
        },
        {
          "output_type": "display_data",
          "data": {
            "text/plain": [
              "<Figure size 432x288 with 1 Axes>"
            ],
            "image/png": "[encoded data removed]"
          },
          "metadata": {
            "needs_background": "light"
          }
        }
      ]
    },
    {
      "cell_type": "markdown",
      "source": [
        "Here outcome distribution for age is in 2 catogeries,0 for non diabetic,1 for diabetic.outliers also present in both diabetic and non diabetic .for diabetic, outcome looks symmetrical. for non-diabetic,outcome looks skewed.for diabetic,median is nearly 40. for non diabetic, median is between 20and 30.For increasing age, diabetics are more."
      ],
      "metadata": {
        "id": "u68-MPQ_vJU5"
      }
    },
    {
      "cell_type": "markdown",
      "source": [
        "## 5.Is there a difference in glucose level between diabetic and non-diabetic? Similarly for insulin and diabetic vs nondiabetic."
      ],
      "metadata": {
        "id": "CZt-6iGWWL9C"
      }
    },
    {
      "cell_type": "code",
      "source": [
        "sns.boxplot(x= df['Outcome'],y=df['Glucose'])"
      ],
      "metadata": {
        "colab": {
          "base_uri": "https://localhost:8080/",
          "height": 296
        },
        "id": "mr4j6WBMwXKl",
        "outputId": "d5c284ce-c61f-40f5-abb1-ed6f9034984f"
      },
      "execution_count": 38,
      "outputs": [
        {
          "output_type": "execute_result",
          "data": {
            "text/plain": [
              "<matplotlib.axes._subplots.AxesSubplot at 0x7f311dec0fd0>"
            ]
          },
          "metadata": {},
          "execution_count": 38
        },
        {
          "output_type": "display_data",
          "data": {
            "text/plain": [
              "<Figure size 432x288 with 1 Axes>"
            ],
            "image/png": "[encoded data removed]"
          },
          "metadata": {
            "needs_background": "light"
          }
        }
      ]
    },
    {
      "cell_type": "markdown",
      "source": [
        "For diabetic, glucose median value at 130,non diabetic, it is at 110.outliers are present in both of them.i looks almost symmetrical.there is difference for diabetic  non-diabetic."
      ],
      "metadata": {
        "id": "Yuu1J84rw4uz"
      }
    },
    {
      "cell_type": "code",
      "source": [
        "sns.boxplot(x= df['Outcome'],y=df['Insulin'])  # insulin distribution for outcome"
      ],
      "metadata": {
        "colab": {
          "base_uri": "https://localhost:8080/",
          "height": 296
        },
        "id": "3RgCl1dERXMG",
        "outputId": "e986ee11-6f12-40b4-ba41-85b8e2593cd3"
      },
      "execution_count": 35,
      "outputs": [
        {
          "output_type": "execute_result",
          "data": {
            "text/plain": [
              "<matplotlib.axes._subplots.AxesSubplot at 0x7f3122241210>"
            ]
          },
          "metadata": {},
          "execution_count": 35
        },
        {
          "output_type": "display_data",
          "data": {
            "text/plain": [
              "<Figure size 432x288 with 1 Axes>"
            ],
            "image/png": "[encoded data removed]"
          },
          "metadata": {
            "needs_background": "light"
          }
        }
      ]
    },
    {
      "cell_type": "markdown",
      "source": [
        "* For Diabetic,Insulin level is between 0-200,for non-diabetic,it is 0-100 approximately.\n",
        "* Non diabetic glucose level lies between 80-125.for diabetes glucose level is fro 120-175.\n",
        "* by comparing 2 values we can say, there is difference glucose and insulin levels for diabetic and non-diabetic..\n",
        "* for diabetic,insulin level is more than for non diabetic.\n",
        "* insulin levels are more than glucose level."
      ],
      "metadata": {
        "id": "PTdSNu74W630"
      }
    },
    {
      "cell_type": "markdown",
      "source": [
        "##6. Please examine the relationship between insulin and glucose level using appropriate plot\n",
        "As both are numerical values, and we have to check relation between them. we can plot scatter plot for them."
      ],
      "metadata": {
        "id": "5pa1-L0rXnl3"
      }
    },
    {
      "cell_type": "code",
      "source": [
        "plt.scatter(x=df['Glucose'],y=df['Insulin'])  # to check relation\n",
        "plt.title('relation between insulin & glucose')\n",
        "plt.xlabel('Glucose')\n",
        "plt.ylabel('Insulin')\n",
        "plt.show()"
      ],
      "metadata": {
        "colab": {
          "base_uri": "https://localhost:8080/",
          "height": 295
        },
        "id": "pNeR_Dm9WnKA",
        "outputId": "f9914c1a-4bfc-41c9-8a2c-a114860b664b"
      },
      "execution_count": null,
      "outputs": [
        {
          "output_type": "display_data",
          "data": {
            "text/plain": [
              "<Figure size 432x288 with 1 Axes>"
            ],
            "image/png": "[encoded data removed]"
          },
          "metadata": {
            "needs_background": "light"
          }
        }
      ]
    },
    {
      "cell_type": "markdown",
      "source": [
        "Here, when glucose increases,insulin also increasing, so it is positively correlated."
      ],
      "metadata": {
        "id": "Kk5BzplSYYKf"
      }
    },
    {
      "cell_type": "markdown",
      "source": [
        "## 7.Please examine the distribution of numerical data and explain which variables normally distributed and which variables are seem to be skewed. Please also tell the direction of skewness.\n",
        "\n"
      ],
      "metadata": {
        "id": "scduyU_SYzZh"
      }
    },
    {
      "cell_type": "code",
      "source": [
        "df1=df_d.select_dtypes(exclude=['category'])  # remove outcomme column\n",
        "for column in df1:                             # use for loop for all columns\n",
        "    plt.figure()\n",
        "    df1.boxplot([column])                     # plotting boxplot"
      ],
      "metadata": {
        "colab": {
          "base_uri": "https://localhost:8080/",
          "height": 1000
        },
        "id": "1EkGsHnUseiW",
        "outputId": "0d1418c0-bfc7-4177-e934-78e1a6ed3ef5"
      },
      "execution_count": null,
      "outputs": [
        {
          "output_type": "display_data",
          "data": {
            "text/plain": [
              "<Figure size 432x288 with 1 Axes>"
            ],
            "image/png": "[encoded data removed]"
          },
          "metadata": {
            "needs_background": "light"
          }
        },
        {
          "output_type": "display_data",
          "data": {
            "text/plain": [
              "<Figure size 432x288 with 1 Axes>"
            ],
            "image/png": "[encoded data removed]"
          },
          "metadata": {
            "needs_background": "light"
          }
        },
        {
          "output_type": "display_data",
          "data": {
            "text/plain": [
              "<Figure size 432x288 with 1 Axes>"
            ],
            "image/png": "[encoded data removed]"
          },
          "metadata": {
            "needs_background": "light"
          }
        },
        {
          "output_type": "display_data",
          "data": {
            "text/plain": [
              "<Figure size 432x288 with 1 Axes>"
            ],
            "image/png": "[encoded data removed]"
          },
          "metadata": {
            "needs_background": "light"
          }
        },
        {
          "output_type": "display_data",
          "data": {
            "text/plain": [
              "<Figure size 432x288 with 1 Axes>"
            ],
            "image/png": "[encoded data removed]"
          },
          "metadata": {
            "needs_background": "light"
          }
        },
        {
          "output_type": "display_data",
          "data": {
            "text/plain": [
              "<Figure size 432x288 with 1 Axes>"
            ],
            "image/png": "[encoded data removed]"
          },
          "metadata": {
            "needs_background": "light"
          }
        },
        {
          "output_type": "display_data",
          "data": {
            "text/plain": [
              "<Figure size 432x288 with 1 Axes>"
            ],
            "image/png": "[encoded data removed]"
          },
          "metadata": {
            "needs_background": "light"
          }
        },
        {
          "output_type": "display_data",
          "data": {
            "text/plain": [
              "<Figure size 432x288 with 1 Axes>"
            ],
            "image/png": "[encoded data removed]"
          },
          "metadata": {
            "needs_background": "light"
          }
        }
      ]
    },
    {
      "cell_type": "markdown",
      "source": [
        "Normal|left|right skewed\n",
        "---|---|---\n",
        "Blood pressure|skin thickness|Pregnency\n",
        "Glucose||Diabetespedigreefunction\n",
        "Age|\n",
        "BMI|"
      ],
      "metadata": {
        "id": "sJ-t3W2E_Je5"
      }
    },
    {
      "cell_type": "markdown",
      "source": [
        "Insulin we cant say by looking plot"
      ],
      "metadata": {
        "id": "g3OtNeo00jFG"
      }
    },
    {
      "cell_type": "code",
      "source": [
        "df2=df_non.select_dtypes(exclude=['category'])   # remove outcome in non diabetic population\n",
        "for column in df2:                             # use for loop for all columns\n",
        "    plt.figure()               \n",
        "    df2.boxplot([column])                       # boxplot for distribution"
      ],
      "metadata": {
        "colab": {
          "base_uri": "https://localhost:8080/",
          "height": 1000
        },
        "id": "h2uEq_95t0nq",
        "outputId": "4d12c62a-b512-4a98-a669-97947e0dca71"
      },
      "execution_count": null,
      "outputs": [
        {
          "output_type": "display_data",
          "data": {
            "text/plain": [
              "<Figure size 432x288 with 1 Axes>"
            ],
            "image/png": "[encoded data removed]"
          },
          "metadata": {
            "needs_background": "light"
          }
        },
        {
          "output_type": "display_data",
          "data": {
            "text/plain": [
              "<Figure size 432x288 with 1 Axes>"
            ],
            "image/png": "[encoded data removed]"
          },
          "metadata": {
            "needs_background": "light"
          }
        },
        {
          "output_type": "display_data",
          "data": {
            "text/plain": [
              "<Figure size 432x288 with 1 Axes>"
            ],
            "image/png": "[encoded data removed]"
          },
          "metadata": {
            "needs_background": "light"
          }
        },
        {
          "output_type": "display_data",
          "data": {
            "text/plain": [
              "<Figure size 432x288 with 1 Axes>"
            ],
            "image/png": "[encoded data removed]"
          },
          "metadata": {
            "needs_background": "light"
          }
        },
        {
          "output_type": "display_data",
          "data": {
            "text/plain": [
              "<Figure size 432x288 with 1 Axes>"
            ],
            "image/png": "[encoded data removed]"
          },
          "metadata": {
            "needs_background": "light"
          }
        },
        {
          "output_type": "display_data",
          "data": {
            "text/plain": [
              "<Figure size 432x288 with 1 Axes>"
            ],
            "image/png": "[encoded data removed]"
          },
          "metadata": {
            "needs_background": "light"
          }
        },
        {
          "output_type": "display_data",
          "data": {
            "text/plain": [
              "<Figure size 432x288 with 1 Axes>"
            ],
            "image/png": "[encoded data removed]"
          },
          "metadata": {
            "needs_background": "light"
          }
        },
        {
          "output_type": "display_data",
          "data": {
            "text/plain": [
              "<Figure size 432x288 with 1 Axes>"
            ],
            "image/png": "[encoded data removed]"
          },
          "metadata": {
            "needs_background": "light"
          }
        }
      ]
    },
    {
      "cell_type": "markdown",
      "source": [
        "normal|left skewed|right skewed\n",
        "---|---|----|\n",
        "BMI||Age\n",
        "BloodPressure|skin thickness|Daibetespedigreefunction\n",
        "glucose||Insulin\n",
        "||pregnancies\n"
      ],
      "metadata": {
        "id": "wljEHccLAqUO"
      }
    },
    {
      "cell_type": "markdown",
      "source": [
        "## 8.Please calculate the skewness value and divide variables into symmetrical, moderately skewed and highly skewed."
      ],
      "metadata": {
        "id": "EebvOVZl2laC"
      }
    },
    {
      "cell_type": "code",
      "source": [
        "df_d.skew()         # this function gives skewness values of all column,near to 0 means symmerical"
      ],
      "metadata": {
        "colab": {
          "base_uri": "https://localhost:8080/"
        },
        "id": "8x7nWzeGxzaZ",
        "outputId": "a57493d6-c930-4acf-f77e-556f762b0ef3"
      },
      "execution_count": null,
      "outputs": [
        {
          "output_type": "stream",
          "name": "stderr",
          "text": [
            "/usr/local/lib/python3.7/dist-packages/ipykernel_launcher.py:1: FutureWarning: Dropping of nuisance columns in DataFrame reductions (with 'numeric_only=None') is deprecated; in a future version this will raise TypeError.  Select only valid columns before calling the reduction.\n",
            "  \"\"\"Entry point for launching an IPython kernel.\n"
          ]
        },
        {
          "output_type": "execute_result",
          "data": {
            "text/plain": [
              "Pregnancies                 0.503749\n",
              "Glucose                    -0.495557\n",
              "BloodPressure              -1.943633\n",
              "SkinThickness               0.115910\n",
              "Insulin                     1.843831\n",
              "BMI                         0.000597\n",
              "DiabetesPedigreeFunction    1.722373\n",
              "Age                         0.581646\n",
              "dtype: float64"
            ]
          },
          "metadata": {},
          "execution_count": 22
        }
      ]
    },
    {
      "cell_type": "markdown",
      "source": [
        "In Diabetic population,-0.5 to 0.5 are fairly symmetrical,\n",
        "+_0.5 to +-1 are moderately skewed,more than 1 are highly skewed\n",
        "\n",
        "  "
      ],
      "metadata": {
        "id": "mHrQUUbM3Rrh"
      }
    },
    {
      "cell_type": "markdown",
      "source": [
        "Symmetrical|Moderately skewed|  Highly Skewed\n",
        "----|----|---\n",
        "BMI  |Pregnencies  |Blood pressure\n",
        "    Skin thickness||Insuin\n",
        " glucose   |Age|DiabetespedigreeFunction\n",
        "   || "
      ],
      "metadata": {
        "id": "flU_xCk66SZU"
      }
    },
    {
      "cell_type": "code",
      "source": [
        "df_non.skew()  # non diabetic skewness value"
      ],
      "metadata": {
        "colab": {
          "base_uri": "https://localhost:8080/"
        },
        "id": "_gDfASqi3PDr",
        "outputId": "78e183f8-f357-4837-8b04-6c6861bebbf8"
      },
      "execution_count": null,
      "outputs": [
        {
          "output_type": "stream",
          "name": "stderr",
          "text": [
            "/usr/local/lib/python3.7/dist-packages/ipykernel_launcher.py:1: FutureWarning: Dropping of nuisance columns in DataFrame reductions (with 'numeric_only=None') is deprecated; in a future version this will raise TypeError.  Select only valid columns before calling the reduction.\n",
            "  \"\"\"Entry point for launching an IPython kernel.\n"
          ]
        },
        {
          "output_type": "execute_result",
          "data": {
            "text/plain": [
              "Pregnancies                 1.114105\n",
              "Glucose                     0.173111\n",
              "BloodPressure              -1.809825\n",
              "SkinThickness               0.031155\n",
              "Insulin                     2.498741\n",
              "BMI                        -0.665902\n",
              "DiabetesPedigreeFunction    2.006242\n",
              "Age                         1.571609\n",
              "dtype: float64"
            ]
          },
          "metadata": {},
          "execution_count": 23
        }
      ]
    },
    {
      "cell_type": "markdown",
      "source": [
        "Symmetrical(-0.5 to 0.5)| Moderately skewed(+-)(0.5-1) | highly skewed(>1)|\n",
        "---|---|--|\n",
        "Skin thickness|  |Insulin\n",
        "  Glucose | BMI   | DiabetesPedigreeFunction\n",
        "     | |Age,Pregnencies\n",
        "     |    | Blood pressure    "
      ],
      "metadata": {
        "id": "c9hWcMB65JSX"
      }
    },
    {
      "cell_type": "markdown",
      "source": [
        "##9.Please create appropriate plot to examine the outliers of these variables. Please name the variables which have outliers.\n",
        "we can create box plot for all variables in one plot for checking outliers."
      ],
      "metadata": {
        "id": "7b8bw2936nSy"
      }
    },
    {
      "cell_type": "code",
      "source": [
        "plt.figure(figsize=(20,7))  # for bigger size\n",
        "sns.boxplot(data=df_d)  # box plot for diabetic population variables"
      ],
      "metadata": {
        "colab": {
          "base_uri": "https://localhost:8080/",
          "height": 370
        },
        "id": "yQJpVWSy4zQ1",
        "outputId": "a928dc37-e2de-48fe-ac7e-034aecf3943e"
      },
      "execution_count": null,
      "outputs": [
        {
          "output_type": "execute_result",
          "data": {
            "text/plain": [
              "<matplotlib.axes._subplots.AxesSubplot at 0x7f2b4111fb90>"
            ]
          },
          "metadata": {},
          "execution_count": 24
        },
        {
          "output_type": "display_data",
          "data": {
            "text/plain": [
              "<Figure size 1440x504 with 1 Axes>"
            ],
            "image/png": "[encoded data removed]"
          },
          "metadata": {
            "needs_background": "light"
          }
        }
      ]
    },
    {
      "cell_type": "markdown",
      "source": [
        "Glucose,Bloodpressure, skin thickness,insulin,BMI,age,diabetespedigreefunction have outliers.\n",
        "Pregnencies dont have outliers"
      ],
      "metadata": {
        "id": "Umj7UOls8ODT"
      }
    },
    {
      "cell_type": "code",
      "source": [
        "plt.figure(figsize=(20,7))  # for bigger size\n",
        "sns.boxplot(data=df_non)  # box plot for non diabetic population variables"
      ],
      "metadata": {
        "colab": {
          "base_uri": "https://localhost:8080/",
          "height": 370
        },
        "id": "l9g8MLGR7Fd4",
        "outputId": "d9e13c86-e99d-4f8a-ec02-4e349aee7242"
      },
      "execution_count": null,
      "outputs": [
        {
          "output_type": "execute_result",
          "data": {
            "text/plain": [
              "<matplotlib.axes._subplots.AxesSubplot at 0x7f2b40d27fd0>"
            ]
          },
          "metadata": {},
          "execution_count": 25
        },
        {
          "output_type": "display_data",
          "data": {
            "text/plain": [
              "<Figure size 1440x504 with 1 Axes>"
            ],
            "image/png": "[encoded data removed]"
          },
          "metadata": {
            "needs_background": "light"
          }
        }
      ]
    },
    {
      "cell_type": "markdown",
      "source": [
        "skin thickness dont have outliers,all other variables have outliers."
      ],
      "metadata": {
        "id": "RGjXQskW9CuJ"
      }
    },
    {
      "cell_type": "markdown",
      "source": [
        "##10.What should be the measures of central tendency and dispersion for skewed data?\n",
        "For skewed data, we can use median & mode.But Median is highly used for measuring central tendency.the median value is the middle value. Advantage of the median: The median is less affected by outliers and skewed data than the mean, and is usually the preferred measure of central tendency when the distribution is not symmetrical.\n",
        "The interquartile range is the best measure of variability for skewed distributions or data sets with outliers. Because it's based on values that come from the middle half of the distribution, it's unlikely to be influenced by outliers."
      ],
      "metadata": {
        "id": "CbRz2R_l9Kfj"
      }
    },
    {
      "cell_type": "code",
      "source": [
        "#diabetic\n",
        "df_d.median()"
      ],
      "metadata": {
        "colab": {
          "base_uri": "https://localhost:8080/"
        },
        "id": "m85rpgxaMyEg",
        "outputId": "4a434385-ca4e-43a4-d6e9-8ac06d7da17a"
      },
      "execution_count": null,
      "outputs": [
        {
          "output_type": "stream",
          "name": "stderr",
          "text": [
            "/usr/local/lib/python3.7/dist-packages/ipykernel_launcher.py:2: FutureWarning: Dropping of nuisance columns in DataFrame reductions (with 'numeric_only=None') is deprecated; in a future version this will raise TypeError.  Select only valid columns before calling the reduction.\n",
            "  \n"
          ]
        },
        {
          "output_type": "execute_result",
          "data": {
            "text/plain": [
              "Pregnancies                   4.000\n",
              "Glucose                     140.000\n",
              "BloodPressure                74.000\n",
              "SkinThickness                27.000\n",
              "Insulin                       0.000\n",
              "BMI                          34.250\n",
              "DiabetesPedigreeFunction      0.449\n",
              "Age                          36.000\n",
              "dtype: float64"
            ]
          },
          "metadata": {},
          "execution_count": 26
        }
      ]
    },
    {
      "cell_type": "code",
      "source": [
        "df_non.median()  # measure of central tendency for non diabetic"
      ],
      "metadata": {
        "colab": {
          "base_uri": "https://localhost:8080/"
        },
        "id": "DpWgF5m8PJpH",
        "outputId": "58974afe-25cd-4037-8d5a-decdffdee96a"
      },
      "execution_count": null,
      "outputs": [
        {
          "output_type": "stream",
          "name": "stderr",
          "text": [
            "/usr/local/lib/python3.7/dist-packages/ipykernel_launcher.py:1: FutureWarning: Dropping of nuisance columns in DataFrame reductions (with 'numeric_only=None') is deprecated; in a future version this will raise TypeError.  Select only valid columns before calling the reduction.\n",
            "  \"\"\"Entry point for launching an IPython kernel.\n"
          ]
        },
        {
          "output_type": "execute_result",
          "data": {
            "text/plain": [
              "Pregnancies                   2.000\n",
              "Glucose                     107.000\n",
              "BloodPressure                70.000\n",
              "SkinThickness                21.000\n",
              "Insulin                      39.000\n",
              "BMI                          30.050\n",
              "DiabetesPedigreeFunction      0.336\n",
              "Age                          27.000\n",
              "dtype: float64"
            ]
          },
          "metadata": {},
          "execution_count": 27
        }
      ]
    },
    {
      "cell_type": "code",
      "source": [
        "q3, q1 = np.percentile(df_d, [75 ,25]) # quartiles for diabetic population\n",
        "iqr = q3 - q1                         # finding iqr\n",
        "iqr"
      ],
      "metadata": {
        "colab": {
          "base_uri": "https://localhost:8080/"
        },
        "id": "xvIMqKtSNmrq",
        "outputId": "18c2275a-b96b-4ea0-cbe0-20f69e63100b"
      },
      "execution_count": null,
      "outputs": [
        {
          "output_type": "execute_result",
          "data": {
            "text/plain": [
              "63.0"
            ]
          },
          "metadata": {},
          "execution_count": 28
        }
      ]
    },
    {
      "cell_type": "code",
      "source": [
        "q3, q1 = np.percentile(df_non, [75 ,25]) # quartiles for  non diabetic population\n",
        "iqr1 = q3 - q1                         # finding iqr\n",
        "iqr1"
      ],
      "metadata": {
        "colab": {
          "base_uri": "https://localhost:8080/"
        },
        "id": "VKpIOe7zOOEm",
        "outputId": "65e4a1e8-2a1b-46fa-ea25-38f3e30a660c"
      },
      "execution_count": null,
      "outputs": [
        {
          "output_type": "execute_result",
          "data": {
            "text/plain": [
              "59.755"
            ]
          },
          "metadata": {},
          "execution_count": 29
        }
      ]
    },
    {
      "cell_type": "markdown",
      "source": [
        "the measures of central tendency and dispersion for skewed data for diabetic & non diabetic population is as follows:"
      ],
      "metadata": {
        "id": "hh7K8jhqQG5b"
      }
    },
    {
      "cell_type": "markdown",
      "source": [
        "measures|Diabetic |non-diabetic|\n",
        "---|--- |----|\n",
        "central Dispersion IQR| 63| 59.75|\n",
        "central tendency median|\n",
        "Pregnancies         |          4.000|2.000\n",
        "Glucose              |       140.000|107.00\n",
        "BloodPressure         |       74.000|70.0\n",
        "SkinThickness          |      27.000|21.0\n",
        "Insulin                 |      0.000|39.00\n",
        "BMI                      |    34.250|30.050\n",
        "DiabetesPedigreeFunction  |    0.449|0.366\n",
        "Age                        |  36.000|27.00"
      ],
      "metadata": {
        "id": "_E5jZwPgLjRC"
      }
    },
    {
      "cell_type": "code",
      "source": [
        ""
      ],
      "metadata": {
        "id": "t6LQebjbO7yi"
      },
      "execution_count": null,
      "outputs": []
    },
    {
      "cell_type": "code",
      "source": [
        ""
      ],
      "metadata": {
        "id": "-__oL_DsO7ws"
      },
      "execution_count": null,
      "outputs": []
    },
    {
      "cell_type": "markdown",
      "source": [
        "##11.If there are missing values, please try to fill those missing values and give appropriate reasons"
      ],
      "metadata": {
        "id": "sgC93BO69hTD"
      }
    },
    {
      "cell_type": "code",
      "source": [
        "df.head()"
      ],
      "metadata": {
        "colab": {
          "base_uri": "https://localhost:8080/",
          "height": 206
        },
        "id": "iccRsoLbyByf",
        "outputId": "a721bee4-f768-4ad0-fc96-3d4d726c4d82"
      },
      "execution_count": 41,
      "outputs": [
        {
          "output_type": "execute_result",
          "data": {
            "text/plain": [
              "   Pregnancies  Glucose  BloodPressure  SkinThickness  Insulin   BMI  \\\n",
              "0            6    148.0           72.0           35.0      0.0  33.6   \n",
              "1            1     85.0           66.0           29.0      0.0  26.6   \n",
              "2            8    183.0           64.0            0.0      0.0  23.3   \n",
              "3            1     89.0           66.0           23.0     94.0  28.1   \n",
              "4            0    137.0           40.0           35.0    168.0  43.1   \n",
              "\n",
              "   DiabetesPedigreeFunction   Age Outcome  \n",
              "0                     0.627  50.0       1  \n",
              "1                     0.351  31.0       0  \n",
              "2                     0.672  32.0       1  \n",
              "3                     0.167  21.0       0  \n",
              "4                     2.288  33.0       1  "
            ],
            "text/html": [
              "\n",
              "  <div id=\"df-f5cf42ba-c256-4a15-80f1-3aea036c538c\">\n",
              "    <div class=\"colab-df-container\">\n",
              "      <div>\n",
              "<style scoped>\n",
              "    .dataframe tbody tr th:only-of-type {\n",
              "        vertical-align: middle;\n",
              "    }\n",
              "\n",
              "    .dataframe tbody tr th {\n",
              "        vertical-align: top;\n",
              "    }\n",
              "\n",
              "    .dataframe thead th {\n",
              "        text-align: right;\n",
              "    }\n",
              "</style>\n",
              "<table border=\"1\" class=\"dataframe\">\n",
              "  <thead>\n",
              "    <tr style=\"text-align: right;\">\n",
              "      <th></th>\n",
              "      <th>Pregnancies</th>\n",
              "      <th>Glucose</th>\n",
              "      <th>BloodPressure</th>\n",
              "      <th>SkinThickness</th>\n",
              "      <th>Insulin</th>\n",
              "      <th>BMI</th>\n",
              "      <th>DiabetesPedigreeFunction</th>\n",
              "      <th>Age</th>\n",
              "      <th>Outcome</th>\n",
              "    </tr>\n",
              "  </thead>\n",
              "  <tbody>\n",
              "    <tr>\n",
              "      <th>0</th>\n",
              "      <td>6</td>\n",
              "      <td>148.0</td>\n",
              "      <td>72.0</td>\n",
              "      <td>35.0</td>\n",
              "      <td>0.0</td>\n",
              "      <td>33.6</td>\n",
              "      <td>0.627</td>\n",
              "      <td>50.0</td>\n",
              "      <td>1</td>\n",
              "    </tr>\n",
              "    <tr>\n",
              "      <th>1</th>\n",
              "      <td>1</td>\n",
              "      <td>85.0</td>\n",
              "      <td>66.0</td>\n",
              "      <td>29.0</td>\n",
              "      <td>0.0</td>\n",
              "      <td>26.6</td>\n",
              "      <td>0.351</td>\n",
              "      <td>31.0</td>\n",
              "      <td>0</td>\n",
              "    </tr>\n",
              "    <tr>\n",
              "      <th>2</th>\n",
              "      <td>8</td>\n",
              "      <td>183.0</td>\n",
              "      <td>64.0</td>\n",
              "      <td>0.0</td>\n",
              "      <td>0.0</td>\n",
              "      <td>23.3</td>\n",
              "      <td>0.672</td>\n",
              "      <td>32.0</td>\n",
              "      <td>1</td>\n",
              "    </tr>\n",
              "    <tr>\n",
              "      <th>3</th>\n",
              "      <td>1</td>\n",
              "      <td>89.0</td>\n",
              "      <td>66.0</td>\n",
              "      <td>23.0</td>\n",
              "      <td>94.0</td>\n",
              "      <td>28.1</td>\n",
              "      <td>0.167</td>\n",
              "      <td>21.0</td>\n",
              "      <td>0</td>\n",
              "    </tr>\n",
              "    <tr>\n",
              "      <th>4</th>\n",
              "      <td>0</td>\n",
              "      <td>137.0</td>\n",
              "      <td>40.0</td>\n",
              "      <td>35.0</td>\n",
              "      <td>168.0</td>\n",
              "      <td>43.1</td>\n",
              "      <td>2.288</td>\n",
              "      <td>33.0</td>\n",
              "      <td>1</td>\n",
              "    </tr>\n",
              "  </tbody>\n",
              "</table>\n",
              "</div>\n",
              "      <button class=\"colab-df-convert\" onclick=\"convertToInteractive('df-f5cf42ba-c256-4a15-80f1-3aea036c538c')\"\n",
              "              title=\"Convert this dataframe to an interactive table.\"\n",
              "              style=\"display:none;\">\n",
              "        \n",
              "  <svg xmlns=\"http://www.w3.org/2000/svg\" height=\"24px\"viewBox=\"0 0 24 24\"\n",
              "       width=\"24px\">\n",
              "    <path d=\"M0 0h24v24H0V0z\" fill=\"none\"/>\n",
              "    <path d=\"M18.56 5.44l.94 2.06.94-2.06 2.06-.94-2.06-.94-.94-2.06-.94 2.06-2.06.94zm-11 1L8.5 8.5l.94-2.06 2.06-.94-2.06-.94L8.5 2.5l-.94 2.06-2.06.94zm10 10l.94 2.06.94-2.06 2.06-.94-2.06-.94-.94-2.06-.94 2.06-2.06.94z\"/><path d=\"M17.41 7.96l-1.37-1.37c-.4-.4-.92-.59-1.43-.59-.52 0-1.04.2-1.43.59L10.3 9.45l-7.72 7.72c-.78.78-.78 2.05 0 2.83L4 21.41c.39.39.9.59 1.41.59.51 0 1.02-.2 1.41-.59l7.78-7.78 2.81-2.81c.8-.78.8-2.07 0-2.86zM5.41 20L4 18.59l7.72-7.72 1.47 1.35L5.41 20z\"/>\n",
              "  </svg>\n",
              "      </button>\n",
              "      \n",
              "  <style>\n",
              "    .colab-df-container {\n",
              "      display:flex;\n",
              "      flex-wrap:wrap;\n",
              "      gap: 12px;\n",
              "    }\n",
              "\n",
              "    .colab-df-convert {\n",
              "      background-color: #E8F0FE;\n",
              "      border: none;\n",
              "      border-radius: 50%;\n",
              "      cursor: pointer;\n",
              "      display: none;\n",
              "      fill: #1967D2;\n",
              "      height: 32px;\n",
              "      padding: 0 0 0 0;\n",
              "      width: 32px;\n",
              "    }\n",
              "\n",
              "    .colab-df-convert:hover {\n",
              "      background-color: #E2EBFA;\n",
              "      box-shadow: 0px 1px 2px rgba(60, 64, 67, 0.3), 0px 1px 3px 1px rgba(60, 64, 67, 0.15);\n",
              "      fill: #174EA6;\n",
              "    }\n",
              "\n",
              "    [theme=dark] .colab-df-convert {\n",
              "      background-color: #3B4455;\n",
              "      fill: #D2E3FC;\n",
              "    }\n",
              "\n",
              "    [theme=dark] .colab-df-convert:hover {\n",
              "      background-color: #434B5C;\n",
              "      box-shadow: 0px 1px 3px 1px rgba(0, 0, 0, 0.15);\n",
              "      filter: drop-shadow(0px 1px 2px rgba(0, 0, 0, 0.3));\n",
              "      fill: #FFFFFF;\n",
              "    }\n",
              "  </style>\n",
              "\n",
              "      <script>\n",
              "        const buttonEl =\n",
              "          document.querySelector('#df-f5cf42ba-c256-4a15-80f1-3aea036c538c button.colab-df-convert');\n",
              "        buttonEl.style.display =\n",
              "          google.colab.kernel.accessAllowed ? 'block' : 'none';\n",
              "\n",
              "        async function convertToInteractive(key) {\n",
              "          const element = document.querySelector('#df-f5cf42ba-c256-4a15-80f1-3aea036c538c');\n",
              "          const dataTable =\n",
              "            await google.colab.kernel.invokeFunction('convertToInteractive',\n",
              "                                                     [key], {});\n",
              "          if (!dataTable) return;\n",
              "\n",
              "          const docLinkHtml = 'Like what you see? Visit the ' +\n",
              "            '<a target=\"_blank\" href=https://colab.research.google.com/notebooks/data_table.ipynb>data table notebook</a>'\n",
              "            + ' to learn more about interactive tables.';\n",
              "          element.innerHTML = '';\n",
              "          dataTable['output_type'] = 'display_data';\n",
              "          await google.colab.output.renderOutput(dataTable, element);\n",
              "          const docLink = document.createElement('div');\n",
              "          docLink.innerHTML = docLinkHtml;\n",
              "          element.appendChild(docLink);\n",
              "        }\n",
              "      </script>\n",
              "    </div>\n",
              "  </div>\n",
              "  "
            ]
          },
          "metadata": {},
          "execution_count": 41
        }
      ]
    },
    {
      "cell_type": "code",
      "source": [
        "df['Pregnancies'].value_counts()"
      ],
      "metadata": {
        "colab": {
          "base_uri": "https://localhost:8080/"
        },
        "id": "Rp5bKlCkyGR2",
        "outputId": "29ced170-54d3-442b-f150-e8c371902caa"
      },
      "execution_count": 42,
      "outputs": [
        {
          "output_type": "execute_result",
          "data": {
            "text/plain": [
              "1     135\n",
              "0     111\n",
              "2     103\n",
              "3      75\n",
              "4      68\n",
              "5      57\n",
              "6      50\n",
              "7      45\n",
              "8      38\n",
              "9      28\n",
              "10     24\n",
              "11     11\n",
              "13     10\n",
              "12      9\n",
              "14      2\n",
              "15      1\n",
              "17      1\n",
              "Name: Pregnancies, dtype: int64"
            ]
          },
          "metadata": {},
          "execution_count": 42
        }
      ]
    },
    {
      "cell_type": "code",
      "source": [
        "df['Pregnancies'].skew()"
      ],
      "metadata": {
        "colab": {
          "base_uri": "https://localhost:8080/"
        },
        "id": "YUX7Hs5Ryi5Y",
        "outputId": "b9cd6956-8993-4e67-ed9e-293f5c0f8fd6"
      },
      "execution_count": 43,
      "outputs": [
        {
          "output_type": "execute_result",
          "data": {
            "text/plain": [
              "0.9016739791518588"
            ]
          },
          "metadata": {},
          "execution_count": 43
        }
      ]
    },
    {
      "cell_type": "markdown",
      "source": [
        "here 111 are 0, which means null. we can replace with median or mode because it is skewed data.as it is more columns mode is best option."
      ],
      "metadata": {
        "id": "LsTFO_veyahj"
      }
    },
    {
      "cell_type": "code",
      "source": [
        "df['Pregnancies'].mode()"
      ],
      "metadata": {
        "colab": {
          "base_uri": "https://localhost:8080/"
        },
        "id": "2GsgA9UKzK7V",
        "outputId": "e0d3570c-b992-4aa1-b911-30b168734bf5"
      },
      "execution_count": 46,
      "outputs": [
        {
          "output_type": "execute_result",
          "data": {
            "text/plain": [
              "0    1\n",
              "dtype: int64"
            ]
          },
          "metadata": {},
          "execution_count": 46
        }
      ]
    },
    {
      "cell_type": "code",
      "source": [
        "df['Pregnancies']=df['Pregnancies'].replace(0,1)\n",
        "df['Pregnancies'].value_counts()"
      ],
      "metadata": {
        "colab": {
          "base_uri": "https://localhost:8080/"
        },
        "id": "p8IUY5qny04V",
        "outputId": "aa2d2360-d875-4b7d-a1d9-67f6c9ba5e27"
      },
      "execution_count": 48,
      "outputs": [
        {
          "output_type": "execute_result",
          "data": {
            "text/plain": [
              "1     246\n",
              "2     103\n",
              "3      75\n",
              "4      68\n",
              "5      57\n",
              "6      50\n",
              "7      45\n",
              "8      38\n",
              "9      28\n",
              "10     24\n",
              "11     11\n",
              "13     10\n",
              "12      9\n",
              "14      2\n",
              "15      1\n",
              "17      1\n",
              "Name: Pregnancies, dtype: int64"
            ]
          },
          "metadata": {},
          "execution_count": 48
        }
      ]
    },
    {
      "cell_type": "code",
      "source": [
        "df['Age'].value_counts()"
      ],
      "metadata": {
        "colab": {
          "base_uri": "https://localhost:8080/"
        },
        "id": "n-HCc5q10UiS",
        "outputId": "358d5772-10bd-4778-d1a8-642f79e5bcef"
      },
      "execution_count": 49,
      "outputs": [
        {
          "output_type": "execute_result",
          "data": {
            "text/plain": [
              "22.0    72\n",
              "21.0    63\n",
              "25.0    48\n",
              "24.0    46\n",
              "23.0    38\n",
              "28.0    35\n",
              "26.0    33\n",
              "27.0    32\n",
              "29.0    29\n",
              "31.0    24\n",
              "41.0    22\n",
              "30.0    21\n",
              "37.0    19\n",
              "42.0    18\n",
              "33.0    17\n",
              "38.0    16\n",
              "36.0    16\n",
              "32.0    16\n",
              "45.0    15\n",
              "34.0    14\n",
              "46.0    13\n",
              "43.0    13\n",
              "40.0    13\n",
              "39.0    12\n",
              "35.0    10\n",
              "50.0     8\n",
              "51.0     8\n",
              "52.0     8\n",
              "44.0     8\n",
              "58.0     7\n",
              "47.0     6\n",
              "54.0     6\n",
              "49.0     5\n",
              "48.0     5\n",
              "57.0     5\n",
              "53.0     5\n",
              "60.0     5\n",
              "66.0     4\n",
              "63.0     4\n",
              "62.0     4\n",
              "55.0     4\n",
              "67.0     3\n",
              "56.0     3\n",
              "59.0     3\n",
              "65.0     3\n",
              "69.0     2\n",
              "61.0     2\n",
              "72.0     1\n",
              "81.0     1\n",
              "64.0     1\n",
              "70.0     1\n",
              "68.0     1\n",
              "Name: Age, dtype: int64"
            ]
          },
          "metadata": {},
          "execution_count": 49
        }
      ]
    },
    {
      "cell_type": "markdown",
      "source": [
        "For age no missing value"
      ],
      "metadata": {
        "id": "jIqENDY90cy-"
      }
    },
    {
      "cell_type": "code",
      "source": [
        "df['BloodPressure'].value_counts()"
      ],
      "metadata": {
        "colab": {
          "base_uri": "https://localhost:8080/"
        },
        "id": "zc3zOTuI0f1g",
        "outputId": "fe267e69-4262-46b5-be88-0d04b69d91d8"
      },
      "execution_count": 50,
      "outputs": [
        {
          "output_type": "execute_result",
          "data": {
            "text/plain": [
              "70.0     57\n",
              "74.0     52\n",
              "78.0     45\n",
              "68.0     45\n",
              "72.0     44\n",
              "64.0     43\n",
              "80.0     40\n",
              "76.0     39\n",
              "60.0     37\n",
              "0.0      35\n",
              "62.0     34\n",
              "66.0     30\n",
              "82.0     30\n",
              "88.0     25\n",
              "84.0     23\n",
              "90.0     22\n",
              "86.0     21\n",
              "58.0     21\n",
              "50.0     13\n",
              "56.0     12\n",
              "52.0     11\n",
              "54.0     11\n",
              "75.0      8\n",
              "92.0      8\n",
              "65.0      7\n",
              "85.0      6\n",
              "94.0      6\n",
              "48.0      5\n",
              "96.0      4\n",
              "44.0      4\n",
              "100.0     3\n",
              "106.0     3\n",
              "98.0      3\n",
              "110.0     3\n",
              "55.0      2\n",
              "108.0     2\n",
              "104.0     2\n",
              "46.0      2\n",
              "30.0      2\n",
              "122.0     1\n",
              "95.0      1\n",
              "102.0     1\n",
              "61.0      1\n",
              "24.0      1\n",
              "38.0      1\n",
              "40.0      1\n",
              "114.0     1\n",
              "Name: BloodPressure, dtype: int64"
            ]
          },
          "metadata": {},
          "execution_count": 50
        }
      ]
    },
    {
      "cell_type": "code",
      "source": [
        "df['BloodPressure'].skew()"
      ],
      "metadata": {
        "colab": {
          "base_uri": "https://localhost:8080/"
        },
        "id": "V5diqyG40wlk",
        "outputId": "8717a798-5265-49ce-ce2c-aa797a3d4d46"
      },
      "execution_count": 51,
      "outputs": [
        {
          "output_type": "execute_result",
          "data": {
            "text/plain": [
              "-1.8436079833551302"
            ]
          },
          "metadata": {},
          "execution_count": 51
        }
      ]
    },
    {
      "cell_type": "markdown",
      "source": [
        "here we have 35 rows having 0, which means missing values.and also it is skewed data. so replace it with median value."
      ],
      "metadata": {
        "id": "qqqH4x610nke"
      }
    },
    {
      "cell_type": "code",
      "source": [
        "df['BloodPressure'].median()"
      ],
      "metadata": {
        "colab": {
          "base_uri": "https://localhost:8080/"
        },
        "id": "28ovOGjY1CwG",
        "outputId": "1113c501-9046-4def-b7bc-f916d7b7af3a"
      },
      "execution_count": 52,
      "outputs": [
        {
          "output_type": "execute_result",
          "data": {
            "text/plain": [
              "72.0"
            ]
          },
          "metadata": {},
          "execution_count": 52
        }
      ]
    },
    {
      "cell_type": "code",
      "source": [
        "df['BloodPressure']=df['BloodPressure'].replace(0,72)\n",
        "df['BloodPressure'].value_counts()"
      ],
      "metadata": {
        "colab": {
          "base_uri": "https://localhost:8080/"
        },
        "id": "WRaPeL5A1IE1",
        "outputId": "16a7b36a-6191-4a6f-fefa-7e37ca2e40ff"
      },
      "execution_count": 53,
      "outputs": [
        {
          "output_type": "execute_result",
          "data": {
            "text/plain": [
              "72.0     79\n",
              "70.0     57\n",
              "74.0     52\n",
              "78.0     45\n",
              "68.0     45\n",
              "64.0     43\n",
              "80.0     40\n",
              "76.0     39\n",
              "60.0     37\n",
              "62.0     34\n",
              "66.0     30\n",
              "82.0     30\n",
              "88.0     25\n",
              "84.0     23\n",
              "90.0     22\n",
              "58.0     21\n",
              "86.0     21\n",
              "50.0     13\n",
              "56.0     12\n",
              "52.0     11\n",
              "54.0     11\n",
              "75.0      8\n",
              "92.0      8\n",
              "65.0      7\n",
              "94.0      6\n",
              "85.0      6\n",
              "48.0      5\n",
              "96.0      4\n",
              "44.0      4\n",
              "98.0      3\n",
              "100.0     3\n",
              "106.0     3\n",
              "110.0     3\n",
              "55.0      2\n",
              "30.0      2\n",
              "104.0     2\n",
              "46.0      2\n",
              "108.0     2\n",
              "61.0      1\n",
              "38.0      1\n",
              "24.0      1\n",
              "122.0     1\n",
              "102.0     1\n",
              "95.0      1\n",
              "40.0      1\n",
              "114.0     1\n",
              "Name: BloodPressure, dtype: int64"
            ]
          },
          "metadata": {},
          "execution_count": 53
        }
      ]
    },
    {
      "cell_type": "code",
      "source": [
        "df['BMI'].value_counts()"
      ],
      "metadata": {
        "colab": {
          "base_uri": "https://localhost:8080/"
        },
        "id": "hRgOLF5d1VbN",
        "outputId": "fafd88cd-1541-463d-9349-d635aa387c27"
      },
      "execution_count": 54,
      "outputs": [
        {
          "output_type": "execute_result",
          "data": {
            "text/plain": [
              "32.0    13\n",
              "31.6    12\n",
              "31.2    12\n",
              "0.0     11\n",
              "32.4    10\n",
              "        ..\n",
              "36.7     1\n",
              "41.8     1\n",
              "42.6     1\n",
              "42.8     1\n",
              "46.3     1\n",
              "Name: BMI, Length: 248, dtype: int64"
            ]
          },
          "metadata": {},
          "execution_count": 54
        }
      ]
    },
    {
      "cell_type": "code",
      "source": [
        "df['BMI'].skew()"
      ],
      "metadata": {
        "colab": {
          "base_uri": "https://localhost:8080/"
        },
        "id": "DVCOs7kr1bHq",
        "outputId": "6cb81280-d3a0-4b45-d34f-7a3a0a38ff0b"
      },
      "execution_count": 57,
      "outputs": [
        {
          "output_type": "execute_result",
          "data": {
            "text/plain": [
              "-0.42898158845356543"
            ]
          },
          "metadata": {},
          "execution_count": 57
        }
      ]
    },
    {
      "cell_type": "markdown",
      "source": [
        "it has 11 rows of null value, which is 0.and it looks like symmetrical data. so replace with mean value"
      ],
      "metadata": {
        "id": "mK38XqZn1fTO"
      }
    },
    {
      "cell_type": "code",
      "source": [
        "df['BMI']=df['BMI'].replace(0,df['BMI'].mean())\n",
        "df['BMI'].value_counts()"
      ],
      "metadata": {
        "colab": {
          "base_uri": "https://localhost:8080/"
        },
        "id": "h7aRzt2L1qGc",
        "outputId": "26b5132c-e37e-4f18-b9e7-665932c148f7"
      },
      "execution_count": 58,
      "outputs": [
        {
          "output_type": "execute_result",
          "data": {
            "text/plain": [
              "32.000000    13\n",
              "31.600000    12\n",
              "31.200000    12\n",
              "31.992578    11\n",
              "32.400000    10\n",
              "             ..\n",
              "36.700000     1\n",
              "41.800000     1\n",
              "42.600000     1\n",
              "42.800000     1\n",
              "46.300000     1\n",
              "Name: BMI, Length: 248, dtype: int64"
            ]
          },
          "metadata": {},
          "execution_count": 58
        }
      ]
    },
    {
      "cell_type": "code",
      "source": [
        "df['DiabetesPedigreeFunction'].value_counts()\n"
      ],
      "metadata": {
        "colab": {
          "base_uri": "https://localhost:8080/"
        },
        "id": "b4VQoa7s2ORP",
        "outputId": "95a68a6f-93cd-4cf5-9a1c-59a1da2e6c1b"
      },
      "execution_count": 59,
      "outputs": [
        {
          "output_type": "execute_result",
          "data": {
            "text/plain": [
              "0.258    6\n",
              "0.254    6\n",
              "0.268    5\n",
              "0.207    5\n",
              "0.261    5\n",
              "        ..\n",
              "1.353    1\n",
              "0.655    1\n",
              "0.092    1\n",
              "0.926    1\n",
              "0.171    1\n",
              "Name: DiabetesPedigreeFunction, Length: 517, dtype: int64"
            ]
          },
          "metadata": {},
          "execution_count": 59
        }
      ]
    },
    {
      "cell_type": "markdown",
      "source": [
        "no missing value"
      ],
      "metadata": {
        "id": "NgflVESC2aMH"
      }
    },
    {
      "cell_type": "code",
      "source": [
        "df['Insulin'].value_counts()"
      ],
      "metadata": {
        "colab": {
          "base_uri": "https://localhost:8080/"
        },
        "id": "M0D9MUgK2cHi",
        "outputId": "59421ca2-da16-484b-b10a-7cdaba89efcc"
      },
      "execution_count": 60,
      "outputs": [
        {
          "output_type": "execute_result",
          "data": {
            "text/plain": [
              "0.0      374\n",
              "105.0     11\n",
              "130.0      9\n",
              "140.0      9\n",
              "120.0      8\n",
              "        ... \n",
              "73.0       1\n",
              "171.0      1\n",
              "255.0      1\n",
              "52.0       1\n",
              "112.0      1\n",
              "Name: Insulin, Length: 186, dtype: int64"
            ]
          },
          "metadata": {},
          "execution_count": 60
        }
      ]
    },
    {
      "cell_type": "code",
      "source": [
        "df['Insulin'].skew()"
      ],
      "metadata": {
        "colab": {
          "base_uri": "https://localhost:8080/"
        },
        "id": "-V7c9QZ52jB2",
        "outputId": "2193300d-9581-4d20-b03f-d52dcdf14ba6"
      },
      "execution_count": 61,
      "outputs": [
        {
          "output_type": "execute_result",
          "data": {
            "text/plain": [
              "2.272250858431574"
            ]
          },
          "metadata": {},
          "execution_count": 61
        }
      ]
    },
    {
      "cell_type": "markdown",
      "source": [
        "it has 374 rows with 0,and it is skewed data. so replace with mode, because more rows having 0."
      ],
      "metadata": {
        "id": "OogQY2OK2mvw"
      }
    },
    {
      "cell_type": "code",
      "source": [
        "df['Insulin'].mode()"
      ],
      "metadata": {
        "colab": {
          "base_uri": "https://localhost:8080/"
        },
        "id": "rti6ld6k2_R5",
        "outputId": "e57cf49a-df68-41e9-8ea1-7c8664132291"
      },
      "execution_count": 63,
      "outputs": [
        {
          "output_type": "execute_result",
          "data": {
            "text/plain": [
              "0    0.0\n",
              "dtype: float64"
            ]
          },
          "metadata": {},
          "execution_count": 63
        }
      ]
    },
    {
      "cell_type": "markdown",
      "source": [
        "as mode is 0, here we replace with median"
      ],
      "metadata": {
        "id": "65vnvGWz3QHE"
      }
    },
    {
      "cell_type": "code",
      "source": [
        "df['Insulin']=df['Insulin'].replace(0,df['Insulin'].median())\n",
        "df['Insulin'].value_counts()\n"
      ],
      "metadata": {
        "colab": {
          "base_uri": "https://localhost:8080/"
        },
        "id": "S2Gonl752xNy",
        "outputId": "e69dee24-88b1-486c-8101-f213192714b8"
      },
      "execution_count": 64,
      "outputs": [
        {
          "output_type": "execute_result",
          "data": {
            "text/plain": [
              "30.5     374\n",
              "105.0     11\n",
              "130.0      9\n",
              "140.0      9\n",
              "120.0      8\n",
              "        ... \n",
              "73.0       1\n",
              "171.0      1\n",
              "255.0      1\n",
              "52.0       1\n",
              "112.0      1\n",
              "Name: Insulin, Length: 186, dtype: int64"
            ]
          },
          "metadata": {},
          "execution_count": 64
        }
      ]
    },
    {
      "cell_type": "code",
      "source": [
        "df['Glucose'].value_counts()"
      ],
      "metadata": {
        "colab": {
          "base_uri": "https://localhost:8080/"
        },
        "id": "wkB-hjxR3cdT",
        "outputId": "9fddc0f9-d9d4-4e90-d0f4-64c6e91d8766"
      },
      "execution_count": 65,
      "outputs": [
        {
          "output_type": "execute_result",
          "data": {
            "text/plain": [
              "99.0     17\n",
              "100.0    17\n",
              "111.0    14\n",
              "129.0    14\n",
              "125.0    14\n",
              "         ..\n",
              "191.0     1\n",
              "177.0     1\n",
              "44.0      1\n",
              "62.0      1\n",
              "190.0     1\n",
              "Name: Glucose, Length: 136, dtype: int64"
            ]
          },
          "metadata": {},
          "execution_count": 65
        }
      ]
    },
    {
      "cell_type": "markdown",
      "source": [
        "Here, no missing values."
      ],
      "metadata": {
        "id": "wcJUHAro3k9a"
      }
    },
    {
      "cell_type": "code",
      "source": [
        "df['SkinThickness'].value_counts()"
      ],
      "metadata": {
        "colab": {
          "base_uri": "https://localhost:8080/"
        },
        "id": "jw_t4Ux03cZk",
        "outputId": "6e10ee9f-05fb-4a0f-addd-edd1d3f0b015"
      },
      "execution_count": 66,
      "outputs": [
        {
          "output_type": "execute_result",
          "data": {
            "text/plain": [
              "0.0     227\n",
              "32.0     31\n",
              "30.0     27\n",
              "27.0     23\n",
              "23.0     22\n",
              "33.0     20\n",
              "28.0     20\n",
              "18.0     20\n",
              "31.0     19\n",
              "19.0     18\n",
              "39.0     18\n",
              "29.0     17\n",
              "40.0     16\n",
              "25.0     16\n",
              "26.0     16\n",
              "22.0     16\n",
              "37.0     16\n",
              "41.0     15\n",
              "35.0     15\n",
              "36.0     14\n",
              "15.0     14\n",
              "17.0     14\n",
              "20.0     13\n",
              "24.0     12\n",
              "42.0     11\n",
              "13.0     11\n",
              "21.0     10\n",
              "46.0      8\n",
              "34.0      8\n",
              "12.0      7\n",
              "38.0      7\n",
              "11.0      6\n",
              "43.0      6\n",
              "16.0      6\n",
              "45.0      6\n",
              "14.0      6\n",
              "44.0      5\n",
              "10.0      5\n",
              "48.0      4\n",
              "47.0      4\n",
              "49.0      3\n",
              "50.0      3\n",
              "8.0       2\n",
              "7.0       2\n",
              "52.0      2\n",
              "54.0      2\n",
              "63.0      1\n",
              "60.0      1\n",
              "56.0      1\n",
              "51.0      1\n",
              "99.0      1\n",
              "Name: SkinThickness, dtype: int64"
            ]
          },
          "metadata": {},
          "execution_count": 66
        }
      ]
    },
    {
      "cell_type": "code",
      "source": [
        "df['SkinThickness'].skew()"
      ],
      "metadata": {
        "colab": {
          "base_uri": "https://localhost:8080/"
        },
        "id": "iM5k5_Xh3cVm",
        "outputId": "457c7ec7-4610-4832-e2fb-fa8fb66bcf7f"
      },
      "execution_count": 67,
      "outputs": [
        {
          "output_type": "execute_result",
          "data": {
            "text/plain": [
              "0.10937249648187608"
            ]
          },
          "metadata": {},
          "execution_count": 67
        }
      ]
    },
    {
      "cell_type": "markdown",
      "source": [
        "here 227 rows having null values which is 0,it looks like symmetric data, so we replace it with mean"
      ],
      "metadata": {
        "id": "v7tCW1mI3xO1"
      }
    },
    {
      "cell_type": "code",
      "source": [
        "df['SkinThickness']=df['SkinThickness'].replace(0,df['SkinThickness'].mean())\n",
        "df['SkinThickness'].value_counts()"
      ],
      "metadata": {
        "colab": {
          "base_uri": "https://localhost:8080/"
        },
        "id": "2qytYoku3cSd",
        "outputId": "de0fd0be-c9d3-457f-f4ec-f269a39176c4"
      },
      "execution_count": 68,
      "outputs": [
        {
          "output_type": "execute_result",
          "data": {
            "text/plain": [
              "20.536458    227\n",
              "32.000000     31\n",
              "30.000000     27\n",
              "27.000000     23\n",
              "23.000000     22\n",
              "33.000000     20\n",
              "28.000000     20\n",
              "18.000000     20\n",
              "31.000000     19\n",
              "19.000000     18\n",
              "39.000000     18\n",
              "29.000000     17\n",
              "40.000000     16\n",
              "25.000000     16\n",
              "26.000000     16\n",
              "22.000000     16\n",
              "37.000000     16\n",
              "41.000000     15\n",
              "35.000000     15\n",
              "36.000000     14\n",
              "15.000000     14\n",
              "17.000000     14\n",
              "20.000000     13\n",
              "24.000000     12\n",
              "42.000000     11\n",
              "13.000000     11\n",
              "21.000000     10\n",
              "46.000000      8\n",
              "34.000000      8\n",
              "12.000000      7\n",
              "38.000000      7\n",
              "11.000000      6\n",
              "43.000000      6\n",
              "16.000000      6\n",
              "45.000000      6\n",
              "14.000000      6\n",
              "44.000000      5\n",
              "10.000000      5\n",
              "48.000000      4\n",
              "47.000000      4\n",
              "49.000000      3\n",
              "50.000000      3\n",
              "8.000000       2\n",
              "7.000000       2\n",
              "52.000000      2\n",
              "54.000000      2\n",
              "63.000000      1\n",
              "60.000000      1\n",
              "56.000000      1\n",
              "51.000000      1\n",
              "99.000000      1\n",
              "Name: SkinThickness, dtype: int64"
            ]
          },
          "metadata": {},
          "execution_count": 68
        }
      ]
    },
    {
      "cell_type": "markdown",
      "source": [
        "## 12.If skewness is present, try to perform transformation and explain the results."
      ],
      "metadata": {
        "id": "mvTfC1Lf-gb6"
      }
    },
    {
      "cell_type": "markdown",
      "source": [
        "here,skeweness is present for some variables.we calculated skewness with skew() function.and we will transform it by using z-score"
      ],
      "metadata": {
        "id": "XWek0qVbRDqj"
      }
    },
    {
      "cell_type": "code",
      "source": [
        "df_non.skew()"
      ],
      "metadata": {
        "colab": {
          "base_uri": "https://localhost:8080/"
        },
        "id": "KHGRVIc64SWX",
        "outputId": "e1f37f87-75ca-469e-b1dc-0454036e2dfe"
      },
      "execution_count": 69,
      "outputs": [
        {
          "output_type": "stream",
          "name": "stderr",
          "text": [
            "/usr/local/lib/python3.7/dist-packages/ipykernel_launcher.py:1: FutureWarning: Dropping of nuisance columns in DataFrame reductions (with 'numeric_only=None') is deprecated; in a future version this will raise TypeError.  Select only valid columns before calling the reduction.\n",
            "  \"\"\"Entry point for launching an IPython kernel.\n"
          ]
        },
        {
          "output_type": "execute_result",
          "data": {
            "text/plain": [
              "Pregnancies                 1.114105\n",
              "Glucose                     0.173111\n",
              "BloodPressure              -1.809825\n",
              "SkinThickness               0.031155\n",
              "Insulin                     2.498741\n",
              "BMI                        -0.665902\n",
              "DiabetesPedigreeFunction    2.006242\n",
              "Age                         1.571609\n",
              "dtype: float64"
            ]
          },
          "metadata": {},
          "execution_count": 69
        }
      ]
    },
    {
      "cell_type": "markdown",
      "source": [
        "pregnency,boodpressure, Insulin,BMI,Diabeticpedigree function,Age having skewed data. we have to transform them."
      ],
      "metadata": {
        "id": "XmFeFP0N4aal"
      }
    },
    {
      "cell_type": "code",
      "source": [
        "df_d.skew()"
      ],
      "metadata": {
        "colab": {
          "base_uri": "https://localhost:8080/"
        },
        "id": "732Xxqdw4q2U",
        "outputId": "3e947af8-f656-4a54-9e8b-3892bc2841f1"
      },
      "execution_count": 70,
      "outputs": [
        {
          "output_type": "stream",
          "name": "stderr",
          "text": [
            "/usr/local/lib/python3.7/dist-packages/ipykernel_launcher.py:1: FutureWarning: Dropping of nuisance columns in DataFrame reductions (with 'numeric_only=None') is deprecated; in a future version this will raise TypeError.  Select only valid columns before calling the reduction.\n",
            "  \"\"\"Entry point for launching an IPython kernel.\n"
          ]
        },
        {
          "output_type": "execute_result",
          "data": {
            "text/plain": [
              "Pregnancies                 0.503749\n",
              "Glucose                    -0.495557\n",
              "BloodPressure              -1.943633\n",
              "SkinThickness               0.115910\n",
              "Insulin                     1.843831\n",
              "BMI                         0.000597\n",
              "DiabetesPedigreeFunction    1.722373\n",
              "Age                         0.581646\n",
              "dtype: float64"
            ]
          },
          "metadata": {},
          "execution_count": 70
        }
      ]
    },
    {
      "cell_type": "markdown",
      "source": [
        "blood pressure,insulin,diabetic pedigree function,age,pregnency having skewed data. we have to transform it"
      ],
      "metadata": {
        "id": "_zV6Duiy4u96"
      }
    },
    {
      "cell_type": "code",
      "source": [
        ""
      ],
      "metadata": {
        "id": "E2AXYCps4STe"
      },
      "execution_count": null,
      "outputs": []
    },
    {
      "cell_type": "code",
      "source": [
        ""
      ],
      "metadata": {
        "id": "iBCVC1nM4SQo"
      },
      "execution_count": null,
      "outputs": []
    },
    {
      "cell_type": "code",
      "source": [
        ""
      ],
      "metadata": {
        "id": "vUGopr2X4SNw"
      },
      "execution_count": null,
      "outputs": []
    },
    {
      "cell_type": "code",
      "source": [
        "df_non_skewed=df_non[['Pregnancies','BloodPressure','BMI','Insulin','DiabetesPedigreeFunction','Age']] # besd on skew( values,near to 0 are non skewed data)"
      ],
      "metadata": {
        "id": "p2VASfJH2HGY"
      },
      "execution_count": 72,
      "outputs": []
    },
    {
      "cell_type": "code",
      "source": [
        "df_d_skewed=df_d[['Pregnancies','BloodPressure','Insulin','DiabetesPedigreeFunction','Age']]"
      ],
      "metadata": {
        "id": "g4Y5WPVl2HJZ"
      },
      "execution_count": 73,
      "outputs": []
    },
    {
      "cell_type": "code",
      "source": [
        "for col in df_non_skewed:  # use for loop for all columns in non diabetic population\n",
        "    df_non[col]=np.log(df_non_skewed[col]) # log transformation\n",
        "df_non.head()# transformed daat"
      ],
      "metadata": {
        "id": "AzzacrxH2HUC",
        "colab": {
          "base_uri": "https://localhost:8080/",
          "height": 409
        },
        "outputId": "f93659d5-bf65-4283-e0b0-96153e77e104"
      },
      "execution_count": 75,
      "outputs": [
        {
          "output_type": "stream",
          "name": "stderr",
          "text": [
            "/usr/local/lib/python3.7/dist-packages/pandas/core/arraylike.py:364: RuntimeWarning: divide by zero encountered in log\n",
            "  result = getattr(ufunc, method)(*inputs, **kwargs)\n",
            "/usr/local/lib/python3.7/dist-packages/ipykernel_launcher.py:2: SettingWithCopyWarning: \n",
            "A value is trying to be set on a copy of a slice from a DataFrame.\n",
            "Try using .loc[row_indexer,col_indexer] = value instead\n",
            "\n",
            "See the caveats in the documentation: https://pandas.pydata.org/pandas-docs/stable/user_guide/indexing.html#returning-a-view-versus-a-copy\n",
            "  \n"
          ]
        },
        {
          "output_type": "execute_result",
          "data": {
            "text/plain": [
              "    Pregnancies  Glucose  BloodPressure  SkinThickness   Insulin       BMI  \\\n",
              "1      0.000000     85.0       4.189655           29.0      -inf  3.280911   \n",
              "3      0.000000     89.0       4.189655           23.0  4.543295  3.335770   \n",
              "5      1.609438    116.0       4.304065            0.0      -inf  3.242592   \n",
              "7      2.302585    115.0           -inf            0.0      -inf  3.563883   \n",
              "10     1.386294    110.0       4.521789            0.0      -inf  3.627004   \n",
              "\n",
              "    DiabetesPedigreeFunction       Age Outcome  \n",
              "1                  -1.046969  3.433987       0  \n",
              "3                  -1.789761  3.044522       0  \n",
              "5                  -1.604450  3.401197       0  \n",
              "7                  -2.009915  3.367296       0  \n",
              "10                 -1.655482  3.401197       0  "
            ],
            "text/html": [
              "\n",
              "  <div id=\"df-8444e8de-73a7-46c2-83d7-415e72c8a851\">\n",
              "    <div class=\"colab-df-container\">\n",
              "      <div>\n",
              "<style scoped>\n",
              "    .dataframe tbody tr th:only-of-type {\n",
              "        vertical-align: middle;\n",
              "    }\n",
              "\n",
              "    .dataframe tbody tr th {\n",
              "        vertical-align: top;\n",
              "    }\n",
              "\n",
              "    .dataframe thead th {\n",
              "        text-align: right;\n",
              "    }\n",
              "</style>\n",
              "<table border=\"1\" class=\"dataframe\">\n",
              "  <thead>\n",
              "    <tr style=\"text-align: right;\">\n",
              "      <th></th>\n",
              "      <th>Pregnancies</th>\n",
              "      <th>Glucose</th>\n",
              "      <th>BloodPressure</th>\n",
              "      <th>SkinThickness</th>\n",
              "      <th>Insulin</th>\n",
              "      <th>BMI</th>\n",
              "      <th>DiabetesPedigreeFunction</th>\n",
              "      <th>Age</th>\n",
              "      <th>Outcome</th>\n",
              "    </tr>\n",
              "  </thead>\n",
              "  <tbody>\n",
              "    <tr>\n",
              "      <th>1</th>\n",
              "      <td>0.000000</td>\n",
              "      <td>85.0</td>\n",
              "      <td>4.189655</td>\n",
              "      <td>29.0</td>\n",
              "      <td>-inf</td>\n",
              "      <td>3.280911</td>\n",
              "      <td>-1.046969</td>\n",
              "      <td>3.433987</td>\n",
              "      <td>0</td>\n",
              "    </tr>\n",
              "    <tr>\n",
              "      <th>3</th>\n",
              "      <td>0.000000</td>\n",
              "      <td>89.0</td>\n",
              "      <td>4.189655</td>\n",
              "      <td>23.0</td>\n",
              "      <td>4.543295</td>\n",
              "      <td>3.335770</td>\n",
              "      <td>-1.789761</td>\n",
              "      <td>3.044522</td>\n",
              "      <td>0</td>\n",
              "    </tr>\n",
              "    <tr>\n",
              "      <th>5</th>\n",
              "      <td>1.609438</td>\n",
              "      <td>116.0</td>\n",
              "      <td>4.304065</td>\n",
              "      <td>0.0</td>\n",
              "      <td>-inf</td>\n",
              "      <td>3.242592</td>\n",
              "      <td>-1.604450</td>\n",
              "      <td>3.401197</td>\n",
              "      <td>0</td>\n",
              "    </tr>\n",
              "    <tr>\n",
              "      <th>7</th>\n",
              "      <td>2.302585</td>\n",
              "      <td>115.0</td>\n",
              "      <td>-inf</td>\n",
              "      <td>0.0</td>\n",
              "      <td>-inf</td>\n",
              "      <td>3.563883</td>\n",
              "      <td>-2.009915</td>\n",
              "      <td>3.367296</td>\n",
              "      <td>0</td>\n",
              "    </tr>\n",
              "    <tr>\n",
              "      <th>10</th>\n",
              "      <td>1.386294</td>\n",
              "      <td>110.0</td>\n",
              "      <td>4.521789</td>\n",
              "      <td>0.0</td>\n",
              "      <td>-inf</td>\n",
              "      <td>3.627004</td>\n",
              "      <td>-1.655482</td>\n",
              "      <td>3.401197</td>\n",
              "      <td>0</td>\n",
              "    </tr>\n",
              "  </tbody>\n",
              "</table>\n",
              "</div>\n",
              "      <button class=\"colab-df-convert\" onclick=\"convertToInteractive('df-8444e8de-73a7-46c2-83d7-415e72c8a851')\"\n",
              "              title=\"Convert this dataframe to an interactive table.\"\n",
              "              style=\"display:none;\">\n",
              "        \n",
              "  <svg xmlns=\"http://www.w3.org/2000/svg\" height=\"24px\"viewBox=\"0 0 24 24\"\n",
              "       width=\"24px\">\n",
              "    <path d=\"M0 0h24v24H0V0z\" fill=\"none\"/>\n",
              "    <path d=\"M18.56 5.44l.94 2.06.94-2.06 2.06-.94-2.06-.94-.94-2.06-.94 2.06-2.06.94zm-11 1L8.5 8.5l.94-2.06 2.06-.94-2.06-.94L8.5 2.5l-.94 2.06-2.06.94zm10 10l.94 2.06.94-2.06 2.06-.94-2.06-.94-.94-2.06-.94 2.06-2.06.94z\"/><path d=\"M17.41 7.96l-1.37-1.37c-.4-.4-.92-.59-1.43-.59-.52 0-1.04.2-1.43.59L10.3 9.45l-7.72 7.72c-.78.78-.78 2.05 0 2.83L4 21.41c.39.39.9.59 1.41.59.51 0 1.02-.2 1.41-.59l7.78-7.78 2.81-2.81c.8-.78.8-2.07 0-2.86zM5.41 20L4 18.59l7.72-7.72 1.47 1.35L5.41 20z\"/>\n",
              "  </svg>\n",
              "      </button>\n",
              "      \n",
              "  <style>\n",
              "    .colab-df-container {\n",
              "      display:flex;\n",
              "      flex-wrap:wrap;\n",
              "      gap: 12px;\n",
              "    }\n",
              "\n",
              "    .colab-df-convert {\n",
              "      background-color: #E8F0FE;\n",
              "      border: none;\n",
              "      border-radius: 50%;\n",
              "      cursor: pointer;\n",
              "      display: none;\n",
              "      fill: #1967D2;\n",
              "      height: 32px;\n",
              "      padding: 0 0 0 0;\n",
              "      width: 32px;\n",
              "    }\n",
              "\n",
              "    .colab-df-convert:hover {\n",
              "      background-color: #E2EBFA;\n",
              "      box-shadow: 0px 1px 2px rgba(60, 64, 67, 0.3), 0px 1px 3px 1px rgba(60, 64, 67, 0.15);\n",
              "      fill: #174EA6;\n",
              "    }\n",
              "\n",
              "    [theme=dark] .colab-df-convert {\n",
              "      background-color: #3B4455;\n",
              "      fill: #D2E3FC;\n",
              "    }\n",
              "\n",
              "    [theme=dark] .colab-df-convert:hover {\n",
              "      background-color: #434B5C;\n",
              "      box-shadow: 0px 1px 3px 1px rgba(0, 0, 0, 0.15);\n",
              "      filter: drop-shadow(0px 1px 2px rgba(0, 0, 0, 0.3));\n",
              "      fill: #FFFFFF;\n",
              "    }\n",
              "  </style>\n",
              "\n",
              "      <script>\n",
              "        const buttonEl =\n",
              "          document.querySelector('#df-8444e8de-73a7-46c2-83d7-415e72c8a851 button.colab-df-convert');\n",
              "        buttonEl.style.display =\n",
              "          google.colab.kernel.accessAllowed ? 'block' : 'none';\n",
              "\n",
              "        async function convertToInteractive(key) {\n",
              "          const element = document.querySelector('#df-8444e8de-73a7-46c2-83d7-415e72c8a851');\n",
              "          const dataTable =\n",
              "            await google.colab.kernel.invokeFunction('convertToInteractive',\n",
              "                                                     [key], {});\n",
              "          if (!dataTable) return;\n",
              "\n",
              "          const docLinkHtml = 'Like what you see? Visit the ' +\n",
              "            '<a target=\"_blank\" href=https://colab.research.google.com/notebooks/data_table.ipynb>data table notebook</a>'\n",
              "            + ' to learn more about interactive tables.';\n",
              "          element.innerHTML = '';\n",
              "          dataTable['output_type'] = 'display_data';\n",
              "          await google.colab.output.renderOutput(dataTable, element);\n",
              "          const docLink = document.createElement('div');\n",
              "          docLink.innerHTML = docLinkHtml;\n",
              "          element.appendChild(docLink);\n",
              "        }\n",
              "      </script>\n",
              "    </div>\n",
              "  </div>\n",
              "  "
            ]
          },
          "metadata": {},
          "execution_count": 75
        }
      ]
    },
    {
      "cell_type": "code",
      "source": [
        "df_non_skewed.skew()"
      ],
      "metadata": {
        "colab": {
          "base_uri": "https://localhost:8080/"
        },
        "id": "k9WHwcS27eT_",
        "outputId": "c385be56-9cd1-46f2-af06-d89b7e55813a"
      },
      "execution_count": 80,
      "outputs": [
        {
          "output_type": "execute_result",
          "data": {
            "text/plain": [
              "Pregnancies                 1.114105\n",
              "BloodPressure              -1.809825\n",
              "BMI                        -0.665902\n",
              "Insulin                     2.498741\n",
              "DiabetesPedigreeFunction    2.006242\n",
              "Age                         1.571609\n",
              "dtype: float64"
            ]
          },
          "metadata": {},
          "execution_count": 80
        }
      ]
    },
    {
      "cell_type": "markdown",
      "source": [
        "skew values are not changing after transformation"
      ],
      "metadata": {
        "id": "SGY--08_8D5A"
      }
    },
    {
      "cell_type": "markdown",
      "source": [
        "we transformed non diabetic data using log transform"
      ],
      "metadata": {
        "id": "h4VTsKR_dvBA"
      }
    },
    {
      "cell_type": "code",
      "source": [
        "for col in df_d_skewed: # use for loop for all columns in diabetic population\n",
        "    df_d[col]=np.log(df_d_skewed[col]) # log transform\n",
        "df_d.head()# transformes data"
      ],
      "metadata": {
        "id": "KG0wbDZvyhI1",
        "colab": {
          "base_uri": "https://localhost:8080/",
          "height": 365
        },
        "outputId": "67d37ac3-d9ab-4f51-bd85-ad18a5a8ef59"
      },
      "execution_count": 76,
      "outputs": [
        {
          "output_type": "stream",
          "name": "stderr",
          "text": [
            "/usr/local/lib/python3.7/dist-packages/pandas/core/arraylike.py:364: RuntimeWarning: divide by zero encountered in log\n",
            "  result = getattr(ufunc, method)(*inputs, **kwargs)\n",
            "/usr/local/lib/python3.7/dist-packages/ipykernel_launcher.py:2: SettingWithCopyWarning: \n",
            "A value is trying to be set on a copy of a slice from a DataFrame.\n",
            "Try using .loc[row_indexer,col_indexer] = value instead\n",
            "\n",
            "See the caveats in the documentation: https://pandas.pydata.org/pandas-docs/stable/user_guide/indexing.html#returning-a-view-versus-a-copy\n",
            "  \n"
          ]
        },
        {
          "output_type": "execute_result",
          "data": {
            "text/plain": [
              "   Pregnancies  Glucose  BloodPressure  SkinThickness   Insulin   BMI  \\\n",
              "0     1.791759    148.0       4.276666           35.0      -inf  33.6   \n",
              "2     2.079442    183.0       4.158883            0.0      -inf  23.3   \n",
              "4         -inf    137.0       3.688879           35.0  5.123964  43.1   \n",
              "6     1.098612     78.0       3.912023           32.0  4.477337  31.0   \n",
              "8     0.693147    197.0       4.248495           45.0  6.297109  30.5   \n",
              "\n",
              "   DiabetesPedigreeFunction       Age Outcome  \n",
              "0                 -0.466809  3.912023       1  \n",
              "2                 -0.397497  3.465736       1  \n",
              "4                  0.827678  3.496508       1  \n",
              "6                 -1.394327  3.258097       1  \n",
              "8                 -1.845160  3.970292       1  "
            ],
            "text/html": [
              "\n",
              "  <div id=\"df-578e3c15-666e-4def-97fb-512c6f09cc30\">\n",
              "    <div class=\"colab-df-container\">\n",
              "      <div>\n",
              "<style scoped>\n",
              "    .dataframe tbody tr th:only-of-type {\n",
              "        vertical-align: middle;\n",
              "    }\n",
              "\n",
              "    .dataframe tbody tr th {\n",
              "        vertical-align: top;\n",
              "    }\n",
              "\n",
              "    .dataframe thead th {\n",
              "        text-align: right;\n",
              "    }\n",
              "</style>\n",
              "<table border=\"1\" class=\"dataframe\">\n",
              "  <thead>\n",
              "    <tr style=\"text-align: right;\">\n",
              "      <th></th>\n",
              "      <th>Pregnancies</th>\n",
              "      <th>Glucose</th>\n",
              "      <th>BloodPressure</th>\n",
              "      <th>SkinThickness</th>\n",
              "      <th>Insulin</th>\n",
              "      <th>BMI</th>\n",
              "      <th>DiabetesPedigreeFunction</th>\n",
              "      <th>Age</th>\n",
              "      <th>Outcome</th>\n",
              "    </tr>\n",
              "  </thead>\n",
              "  <tbody>\n",
              "    <tr>\n",
              "      <th>0</th>\n",
              "      <td>1.791759</td>\n",
              "      <td>148.0</td>\n",
              "      <td>4.276666</td>\n",
              "      <td>35.0</td>\n",
              "      <td>-inf</td>\n",
              "      <td>33.6</td>\n",
              "      <td>-0.466809</td>\n",
              "      <td>3.912023</td>\n",
              "      <td>1</td>\n",
              "    </tr>\n",
              "    <tr>\n",
              "      <th>2</th>\n",
              "      <td>2.079442</td>\n",
              "      <td>183.0</td>\n",
              "      <td>4.158883</td>\n",
              "      <td>0.0</td>\n",
              "      <td>-inf</td>\n",
              "      <td>23.3</td>\n",
              "      <td>-0.397497</td>\n",
              "      <td>3.465736</td>\n",
              "      <td>1</td>\n",
              "    </tr>\n",
              "    <tr>\n",
              "      <th>4</th>\n",
              "      <td>-inf</td>\n",
              "      <td>137.0</td>\n",
              "      <td>3.688879</td>\n",
              "      <td>35.0</td>\n",
              "      <td>5.123964</td>\n",
              "      <td>43.1</td>\n",
              "      <td>0.827678</td>\n",
              "      <td>3.496508</td>\n",
              "      <td>1</td>\n",
              "    </tr>\n",
              "    <tr>\n",
              "      <th>6</th>\n",
              "      <td>1.098612</td>\n",
              "      <td>78.0</td>\n",
              "      <td>3.912023</td>\n",
              "      <td>32.0</td>\n",
              "      <td>4.477337</td>\n",
              "      <td>31.0</td>\n",
              "      <td>-1.394327</td>\n",
              "      <td>3.258097</td>\n",
              "      <td>1</td>\n",
              "    </tr>\n",
              "    <tr>\n",
              "      <th>8</th>\n",
              "      <td>0.693147</td>\n",
              "      <td>197.0</td>\n",
              "      <td>4.248495</td>\n",
              "      <td>45.0</td>\n",
              "      <td>6.297109</td>\n",
              "      <td>30.5</td>\n",
              "      <td>-1.845160</td>\n",
              "      <td>3.970292</td>\n",
              "      <td>1</td>\n",
              "    </tr>\n",
              "  </tbody>\n",
              "</table>\n",
              "</div>\n",
              "      <button class=\"colab-df-convert\" onclick=\"convertToInteractive('df-578e3c15-666e-4def-97fb-512c6f09cc30')\"\n",
              "              title=\"Convert this dataframe to an interactive table.\"\n",
              "              style=\"display:none;\">\n",
              "        \n",
              "  <svg xmlns=\"http://www.w3.org/2000/svg\" height=\"24px\"viewBox=\"0 0 24 24\"\n",
              "       width=\"24px\">\n",
              "    <path d=\"M0 0h24v24H0V0z\" fill=\"none\"/>\n",
              "    <path d=\"M18.56 5.44l.94 2.06.94-2.06 2.06-.94-2.06-.94-.94-2.06-.94 2.06-2.06.94zm-11 1L8.5 8.5l.94-2.06 2.06-.94-2.06-.94L8.5 2.5l-.94 2.06-2.06.94zm10 10l.94 2.06.94-2.06 2.06-.94-2.06-.94-.94-2.06-.94 2.06-2.06.94z\"/><path d=\"M17.41 7.96l-1.37-1.37c-.4-.4-.92-.59-1.43-.59-.52 0-1.04.2-1.43.59L10.3 9.45l-7.72 7.72c-.78.78-.78 2.05 0 2.83L4 21.41c.39.39.9.59 1.41.59.51 0 1.02-.2 1.41-.59l7.78-7.78 2.81-2.81c.8-.78.8-2.07 0-2.86zM5.41 20L4 18.59l7.72-7.72 1.47 1.35L5.41 20z\"/>\n",
              "  </svg>\n",
              "      </button>\n",
              "      \n",
              "  <style>\n",
              "    .colab-df-container {\n",
              "      display:flex;\n",
              "      flex-wrap:wrap;\n",
              "      gap: 12px;\n",
              "    }\n",
              "\n",
              "    .colab-df-convert {\n",
              "      background-color: #E8F0FE;\n",
              "      border: none;\n",
              "      border-radius: 50%;\n",
              "      cursor: pointer;\n",
              "      display: none;\n",
              "      fill: #1967D2;\n",
              "      height: 32px;\n",
              "      padding: 0 0 0 0;\n",
              "      width: 32px;\n",
              "    }\n",
              "\n",
              "    .colab-df-convert:hover {\n",
              "      background-color: #E2EBFA;\n",
              "      box-shadow: 0px 1px 2px rgba(60, 64, 67, 0.3), 0px 1px 3px 1px rgba(60, 64, 67, 0.15);\n",
              "      fill: #174EA6;\n",
              "    }\n",
              "\n",
              "    [theme=dark] .colab-df-convert {\n",
              "      background-color: #3B4455;\n",
              "      fill: #D2E3FC;\n",
              "    }\n",
              "\n",
              "    [theme=dark] .colab-df-convert:hover {\n",
              "      background-color: #434B5C;\n",
              "      box-shadow: 0px 1px 3px 1px rgba(0, 0, 0, 0.15);\n",
              "      filter: drop-shadow(0px 1px 2px rgba(0, 0, 0, 0.3));\n",
              "      fill: #FFFFFF;\n",
              "    }\n",
              "  </style>\n",
              "\n",
              "      <script>\n",
              "        const buttonEl =\n",
              "          document.querySelector('#df-578e3c15-666e-4def-97fb-512c6f09cc30 button.colab-df-convert');\n",
              "        buttonEl.style.display =\n",
              "          google.colab.kernel.accessAllowed ? 'block' : 'none';\n",
              "\n",
              "        async function convertToInteractive(key) {\n",
              "          const element = document.querySelector('#df-578e3c15-666e-4def-97fb-512c6f09cc30');\n",
              "          const dataTable =\n",
              "            await google.colab.kernel.invokeFunction('convertToInteractive',\n",
              "                                                     [key], {});\n",
              "          if (!dataTable) return;\n",
              "\n",
              "          const docLinkHtml = 'Like what you see? Visit the ' +\n",
              "            '<a target=\"_blank\" href=https://colab.research.google.com/notebooks/data_table.ipynb>data table notebook</a>'\n",
              "            + ' to learn more about interactive tables.';\n",
              "          element.innerHTML = '';\n",
              "          dataTable['output_type'] = 'display_data';\n",
              "          await google.colab.output.renderOutput(dataTable, element);\n",
              "          const docLink = document.createElement('div');\n",
              "          docLink.innerHTML = docLinkHtml;\n",
              "          element.appendChild(docLink);\n",
              "        }\n",
              "      </script>\n",
              "    </div>\n",
              "  </div>\n",
              "  "
            ]
          },
          "metadata": {},
          "execution_count": 76
        }
      ]
    },
    {
      "cell_type": "code",
      "source": [
        "df_d_skewed.skew()"
      ],
      "metadata": {
        "colab": {
          "base_uri": "https://localhost:8080/"
        },
        "id": "QVxc6Pkg7z-h",
        "outputId": "93a0d9d2-d5d9-435e-d1f6-ba2d0936f401"
      },
      "execution_count": 81,
      "outputs": [
        {
          "output_type": "execute_result",
          "data": {
            "text/plain": [
              "Pregnancies                 0.503749\n",
              "BloodPressure              -1.943633\n",
              "Insulin                     1.843831\n",
              "DiabetesPedigreeFunction    1.722373\n",
              "Age                         0.581646\n",
              "dtype: float64"
            ]
          },
          "metadata": {},
          "execution_count": 81
        }
      ]
    },
    {
      "cell_type": "markdown",
      "source": [
        "we transformed diabetic data using log transform"
      ],
      "metadata": {
        "id": "p3TxGZ8EeXCo"
      }
    },
    {
      "cell_type": "code",
      "source": [
        "df1=df_d.select_dtypes(exclude=['category'])  # remove outcomme column\n",
        "for column in df1:                             # use for loop for all columns\n",
        "    plt.figure()\n",
        "    df1.boxplot([column]) "
      ],
      "metadata": {
        "colab": {
          "base_uri": "https://localhost:8080/",
          "height": 1000
        },
        "id": "3CONNvgJ6OR0",
        "outputId": "f207d4f5-9bbc-40cb-a12f-43810cfe2b38"
      },
      "execution_count": 77,
      "outputs": [
        {
          "output_type": "stream",
          "name": "stderr",
          "text": [
            "/usr/local/lib/python3.7/dist-packages/numpy/lib/function_base.py:4009: RuntimeWarning: invalid value encountered in subtract\n",
            "  diff_b_a = subtract(b, a)\n"
          ]
        },
        {
          "output_type": "display_data",
          "data": {
            "text/plain": [
              "<Figure size 432x288 with 1 Axes>"
            ],
            "image/png": "[encoded data removed]"
          },
          "metadata": {
            "needs_background": "light"
          }
        },
        {
          "output_type": "display_data",
          "data": {
            "text/plain": [
              "<Figure size 432x288 with 1 Axes>"
            ],
            "image/png": "[encoded data removed]"
          },
          "metadata": {
            "needs_background": "light"
          }
        },
        {
          "output_type": "display_data",
          "data": {
            "text/plain": [
              "<Figure size 432x288 with 1 Axes>"
            ],
            "image/png": "[encoded data removed]"
          },
          "metadata": {
            "needs_background": "light"
          }
        },
        {
          "output_type": "display_data",
          "data": {
            "text/plain": [
              "<Figure size 432x288 with 1 Axes>"
            ],
            "image/png": "[encoded data removed]"
          },
          "metadata": {
            "needs_background": "light"
          }
        },
        {
          "output_type": "display_data",
          "data": {
            "text/plain": [
              "<Figure size 432x288 with 1 Axes>"
            ],
            "image/png": "[encoded data removed]"
          },
          "metadata": {
            "needs_background": "light"
          }
        },
        {
          "output_type": "display_data",
          "data": {
            "text/plain": [
              "<Figure size 432x288 with 1 Axes>"
            ],
            "image/png": "[encoded data removed]"
          },
          "metadata": {
            "needs_background": "light"
          }
        },
        {
          "output_type": "display_data",
          "data": {
            "text/plain": [
              "<Figure size 432x288 with 1 Axes>"
            ],
            "image/png": "[encoded data removed]"
          },
          "metadata": {
            "needs_background": "light"
          }
        },
        {
          "output_type": "display_data",
          "data": {
            "text/plain": [
              "<Figure size 432x288 with 1 Axes>"
            ],
            "image/png": "[encoded data removed]"
          },
          "metadata": {
            "needs_background": "light"
          }
        }
      ]
    },
    {
      "cell_type": "markdown",
      "source": [
        "After log transform,insulin has infinite values,all others lokks symmetrical now"
      ],
      "metadata": {
        "id": "dzkt8jCl6wIB"
      }
    },
    {
      "cell_type": "code",
      "source": [
        "df2=df_non.select_dtypes(exclude=['category'])   # remove outcome in non diabetic population\n",
        "for column in df2:                             # use for loop for all columns\n",
        "    plt.figure()               \n",
        "    df2.boxplot([column]) "
      ],
      "metadata": {
        "colab": {
          "base_uri": "https://localhost:8080/",
          "height": 1000
        },
        "id": "5XysARs06OHp",
        "outputId": "97160a91-b699-42f4-8d1e-e5704ed7a8fa"
      },
      "execution_count": 79,
      "outputs": [
        {
          "output_type": "stream",
          "name": "stderr",
          "text": [
            "/usr/local/lib/python3.7/dist-packages/numpy/lib/function_base.py:4009: RuntimeWarning: invalid value encountered in subtract\n",
            "  diff_b_a = subtract(b, a)\n"
          ]
        },
        {
          "output_type": "display_data",
          "data": {
            "text/plain": [
              "<Figure size 432x288 with 1 Axes>"
            ],
            "image/png": "[encoded data removed]"
          },
          "metadata": {
            "needs_background": "light"
          }
        },
        {
          "output_type": "display_data",
          "data": {
            "text/plain": [
              "<Figure size 432x288 with 1 Axes>"
            ],
            "image/png": "[encoded data removed]"
          },
          "metadata": {
            "needs_background": "light"
          }
        },
        {
          "output_type": "display_data",
          "data": {
            "text/plain": [
              "<Figure size 432x288 with 1 Axes>"
            ],
            "image/png": "[encoded data removed]"
          },
          "metadata": {
            "needs_background": "light"
          }
        },
        {
          "output_type": "display_data",
          "data": {
            "text/plain": [
              "<Figure size 432x288 with 1 Axes>"
            ],
            "image/png": "[encoded data removed]"
          },
          "metadata": {
            "needs_background": "light"
          }
        },
        {
          "output_type": "display_data",
          "data": {
            "text/plain": [
              "<Figure size 432x288 with 1 Axes>"
            ],
            "image/png": "[encoded data removed]"
          },
          "metadata": {
            "needs_background": "light"
          }
        },
        {
          "output_type": "display_data",
          "data": {
            "text/plain": [
              "<Figure size 432x288 with 1 Axes>"
            ],
            "image/png": "[encoded data removed]"
          },
          "metadata": {
            "needs_background": "light"
          }
        },
        {
          "output_type": "display_data",
          "data": {
            "text/plain": [
              "<Figure size 432x288 with 1 Axes>"
            ],
            "image/png": "[encoded data removed]"
          },
          "metadata": {
            "needs_background": "light"
          }
        },
        {
          "output_type": "display_data",
          "data": {
            "text/plain": [
              "<Figure size 432x288 with 1 Axes>"
            ],
            "image/png": "[encoded data removed]"
          },
          "metadata": {
            "needs_background": "light"
          }
        }
      ]
    },
    {
      "cell_type": "markdown",
      "source": [
        "## Summary\n",
        "we read data into pandas dataframe, we done basic exploration, we split data into diabetic and non diabetic population. converted daat type. handle missing values. plotted boxplot for outlier and distribution of data. calculated measure of central tendency and measure of central dispersion for normal and skewed data. we transformed data for skewed by z-score."
      ],
      "metadata": {
        "id": "QgbW0cBM5-X9"
      }
    },
    {
      "cell_type": "markdown",
      "source": [
        "Author:| Harsha veena\n",
        "---|---|\n",
        "created on:| 26/04/2022\n",
        "edited on:| 28/04/2022\n",
        "IDE: |Google colab"
      ],
      "metadata": {
        "id": "PlTBhtpI6vwL"
      }
    },
    {
      "cell_type": "code",
      "source": [
        ""
      ],
      "metadata": {
        "id": "xva7nVRU8vca"
      },
      "execution_count": null,
      "outputs": []
    }
  ]
}